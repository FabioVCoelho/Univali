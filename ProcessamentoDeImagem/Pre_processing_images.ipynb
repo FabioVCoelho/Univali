{
  "nbformat": 4,
  "nbformat_minor": 0,
  "metadata": {
    "colab": {
      "name": "Pre-processing-images.ipynb",
      "provenance": [],
      "collapsed_sections": [],
      "mount_file_id": "1N6lv58CsTN7vRJcJqqxMFSF08OUPRTXU",
      "authorship_tag": "ABX9TyPAyoMJa+Pu7dtxZRdJn8Ht",
      "include_colab_link": true
    },
    "kernelspec": {
      "name": "python3",
      "display_name": "Python 3"
    }
  },
  "cells": [
    {
      "cell_type": "markdown",
      "metadata": {
        "id": "view-in-github",
        "colab_type": "text"
      },
      "source": [
        "<a href=\"https://colab.research.google.com/github/FabioVCoelho/Univali/blob/master/ProcessamentoDeImagem/Pre_processing_images.ipynb\" target=\"_parent\"><img src=\"https://colab.research.google.com/assets/colab-badge.svg\" alt=\"Open In Colab\"/></a>"
      ]
    },
    {
      "cell_type": "code",
      "metadata": {
        "id": "8QrAlWCiwlNp"
      },
      "source": [
        "import numpy as np\n",
        "import cv2\n",
        "from google.colab.patches import cv2_imshow\n",
        "import matplotlib.pyplot as plt\n",
        "import os\n",
        "import PIL\n",
        "import tensorflow as tf\n",
        "\n",
        "from tensorflow import keras\n",
        "from tensorflow.keras import layers\n",
        "from tensorflow.keras.models import Sequential\n",
        "\n",
        "def print_img(img):\n",
        "  #Display the image\n",
        "  cv2_imshow(img)\n",
        "  #key binding function\n",
        "  cv2.waitKey(0)\n",
        "  #Destroyed all window we created earlier.\n",
        "  cv2.destroyAllWindows()"
      ],
      "execution_count": 1,
      "outputs": []
    },
    {
      "cell_type": "code",
      "metadata": {
        "id": "YQK6GpxHwWaT",
        "outputId": "5c0f5bfa-6bd8-498f-eae4-b0fa7d6bb3d1",
        "colab": {
          "base_uri": "https://localhost:8080/",
          "height": 181
        }
      },
      "source": [
        "image = cv2.imread(\"/content/drive/My Drive/Colab Notebooks/ProcessamentoDeImagem/musicChords/Dó/15.png\")\n",
        "gray = cv2.cvtColor(image,cv2.COLOR_RGB2GRAY)\n",
        "thresh = cv2.threshold(gray, 0, 255, cv2.THRESH_BINARY_INV + cv2.THRESH_OTSU)[1]\n",
        "# Remove vertical\n",
        "vertical_kernel = cv2.getStructuringElement(cv2.MORPH_RECT, (1,30))\n",
        "detected_lines = cv2.morphologyEx(thresh, cv2.MORPH_OPEN, vertical_kernel, iterations=2)\n",
        "cnts = cv2.findContours(detected_lines, cv2.RETR_EXTERNAL, cv2.CHAIN_APPROX_SIMPLE)\n",
        "cnts = cnts[0] if len(cnts) == 2 else cnts[1]\n",
        "for c in cnts:\n",
        "    cv2.drawContours(image, [c], -1, (255,255,255), 2)\n",
        "\n",
        "print_img(image)\n",
        "print_img(thresh)"
      ],
      "execution_count": null,
      "outputs": [
        {
          "output_type": "display_data",
          "data": {
            "image/png": "[encoded data removed]",
            "text/plain": [
              "<PIL.Image.Image image mode=RGB size=50x82 at 0x7F1C742A7080>"
            ]
          },
          "metadata": {
            "tags": []
          }
        },
        {
          "output_type": "display_data",
          "data": {
            "image/png": "[encoded data removed]",
            "text/plain": [
              "<PIL.Image.Image image mode=L size=50x82 at 0x7F1C742A70B8>"
            ]
          },
          "metadata": {
            "tags": []
          }
        }
      ]
    },
    {
      "cell_type": "code",
      "metadata": {
        "id": "C4uf5Kqj0dRb",
        "outputId": "440117af-1a45-4d90-ab45-db23f4fc08f9",
        "colab": {
          "base_uri": "https://localhost:8080/",
          "height": 99
        }
      },
      "source": [
        "vertical = np.copy(thresh)\n",
        "# Specify size on vertical axis\n",
        "rows = vertical.shape[0]\n",
        "verticalsize = rows // 30\n",
        "# Create structure element for extracting vertical lines through morphology operations\n",
        "verticalStructure = cv2.getStructuringElement(cv2.MORPH_RECT, (1, verticalsize))\n",
        "# Apply morphology operations\n",
        "vertical = cv2.erode(vertical, verticalStructure)\n",
        "vertical = cv2.dilate(vertical, verticalStructure)\n",
        "# Show extracted vertical lines\n",
        "print_img(vertical)"
      ],
      "execution_count": null,
      "outputs": [
        {
          "output_type": "display_data",
          "data": {
            "image/png": "[encoded data removed]",
            "text/plain": [
              "<PIL.Image.Image image mode=L size=50x82 at 0x7F1C40D6AAC8>"
            ]
          },
          "metadata": {
            "tags": []
          }
        }
      ]
    },
    {
      "cell_type": "code",
      "metadata": {
        "id": "m3xmUrBh1iMx"
      },
      "source": [
        "# image = cv2.imread(\"/content/drive/My Drive/Colab Notebooks/ProcessamentoDeImagem/musicChords/Dó/13.png\")\n",
        "path = \"/content/drive/My Drive/Colab Notebooks/ProcessamentoDeImagem/musicChords/NotesToModel/Fa/\"\n",
        "for image in os.listdir(path):\n",
        "  gray = cv2.cvtColor(cv2.imread(path + image),cv2.COLOR_RGB2GRAY)\n",
        "  thresh = cv2.threshold(gray, 0, 255, cv2.THRESH_BINARY_INV + cv2.THRESH_OTSU)[1]\n",
        "  horizontal = np.copy(thresh)\n",
        "  # Specify size on horizontal axis\n",
        "  cols = horizontal.shape[1]\n",
        "  horizontal_size = cols // 9\n",
        "  # Create structure element for extracting horizontal lines through morphology operations\n",
        "  horizontalStructure = cv2.getStructuringElement(cv2.MORPH_RECT, (horizontal_size, 1))\n",
        "  # Apply morphology operations\n",
        "  horizontal = cv2.erode(horizontal, horizontalStructure)\n",
        "  horizontal = cv2.dilate(horizontal, horizontalStructure)\n",
        "  # Show extracted horizontal lines\n",
        "  print_img(cv2.bitwise_not(horizontal))\n",
        "  cv2.imwrite(\"/content/drive/My Drive/Colab Notebooks/ProcessamentoDeImagem/musicChords/NotasSóComBolinhas/Fa/\" + image,cv2.bitwise_not(horizontal))"
      ],
      "execution_count": null,
      "outputs": []
    },
    {
      "cell_type": "code",
      "metadata": {
        "id": "IjaiJt5I5EHb"
      },
      "source": [
        "for image in os.listdir(\"/content/drive/My Drive/Colab Notebooks/ProcessamentoDeImagem/musicChords/NotesToModel/Fa\"):\n",
        "  print(image)"
      ],
      "execution_count": null,
      "outputs": []
    },
    {
      "cell_type": "code",
      "metadata": {
        "id": "BiZeEBwU6gpg"
      },
      "source": [
        "# image = cv2.imread(\"/content/drive/My Drive/Colab Notebooks/ProcessamentoDeImagem/musicChords/Dó/13.png\")\n",
        "path = \"/content/drive/My Drive/Colab Notebooks/ProcessamentoDeImagem/musicChords/NotesToModel/Mi/\"\n",
        "for image in os.listdir(path):\n",
        "  gray = cv2.cvtColor(cv2.imread(path + image),cv2.COLOR_RGB2GRAY)\n",
        "  thresh = cv2.threshold(gray, 0, 255, cv2.THRESH_BINARY_INV + cv2.THRESH_OTSU)[1]\n",
        "  horizontal = np.copy(thresh)\n",
        "  # Specify size on horizontal axis\n",
        "  cols = horizontal.shape[1]\n",
        "  horizontal_size = cols // 9\n",
        "  # Create structure element for extracting horizontal lines through morphology operations\n",
        "  horizontalStructure = cv2.getStructuringElement(cv2.MORPH_RECT, (horizontal_size, 1))\n",
        "  # Apply morphology operations\n",
        "  horizontal = cv2.erode(horizontal, horizontalStructure)\n",
        "  horizontal = cv2.dilate(horizontal, horizontalStructure)\n",
        "  # Show extracted horizontal lines\n",
        "  print_img(cv2.bitwise_not(horizontal))\n",
        "  cv2.imwrite(\"/content/drive/My Drive/Colab Notebooks/ProcessamentoDeImagem/musicChords/NotasSóComBolinhas/Mi/\" + image,cv2.bitwise_not(horizontal))"
      ],
      "execution_count": null,
      "outputs": []
    },
    {
      "cell_type": "code",
      "metadata": {
        "id": "JgkGyr9U8UeD",
        "outputId": "dc7a8b63-cb5a-49a0-bef1-c79fcb941d2f",
        "colab": {
          "base_uri": "https://localhost:8080/",
          "height": 337
        }
      },
      "source": [
        "# image = cv2.imread(\"/content/drive/My Drive/Colab Notebooks/ProcessamentoDeImagem/musicChords/Dó/13.png\")\n",
        "path = \"/content/drive/My Drive/Colab Notebooks/ProcessamentoDeImagem/musicChords/Ré/\"\n",
        "for image in os.listdir(path):\n",
        "  gray = cv2.cvtColor(cv2.imread(path + image),cv2.COLOR_RGB2GRAY)\n",
        "  thresh = cv2.threshold(gray, 0, 255, cv2.THRESH_BINARY_INV + cv2.THRESH_OTSU)[1]\n",
        "  horizontal = np.copy(thresh)\n",
        "  # Specify size on horizontal axis\n",
        "  cols = horizontal.shape[1]\n",
        "  horizontal_size = cols // 9\n",
        "  # Create structure element for extracting horizontal lines through morphology operations\n",
        "  horizontalStructure = cv2.getStructuringElement(cv2.MORPH_RECT, (horizontal_size, 1))\n",
        "  # Apply morphology operations\n",
        "  horizontal = cv2.erode(horizontal, horizontalStructure)\n",
        "  horizontal = cv2.dilate(horizontal, horizontalStructure)\n",
        "  # Show extracted horizontal lines\n",
        "  print_img(cv2.bitwise_not(horizontal))\n",
        "  cv2.imwrite(\"/content/drive/My Drive/Colab Notebooks/ProcessamentoDeImagem/musicChords/NotasSóComBolinhas/Re/\" + image,cv2.bitwise_not(horizontal))"
      ],
      "execution_count": null,
      "outputs": [
        {
          "output_type": "display_data",
          "data": {
            "image/png": "[encoded data removed]",
            "text/plain": [
              "<PIL.Image.Image image mode=L size=58x140 at 0x7F1C401C6B00>"
            ]
          },
          "metadata": {
            "tags": []
          }
        },
        {
          "output_type": "error",
          "ename": "KeyboardInterrupt",
          "evalue": "ignored",
          "traceback": [
            "\u001b[0;31m---------------------------------------------------------------------------\u001b[0m",
            "\u001b[0;31mKeyboardInterrupt\u001b[0m                         Traceback (most recent call last)",
            "\u001b[0;32m<ipython-input-64-12ead7574dd3>\u001b[0m in \u001b[0;36m<module>\u001b[0;34m()\u001b[0m\n\u001b[1;32m     15\u001b[0m   \u001b[0;31m# Show extracted horizontal lines\u001b[0m\u001b[0;34m\u001b[0m\u001b[0;34m\u001b[0m\u001b[0;34m\u001b[0m\u001b[0m\n\u001b[1;32m     16\u001b[0m   \u001b[0mprint_img\u001b[0m\u001b[0;34m(\u001b[0m\u001b[0mcv2\u001b[0m\u001b[0;34m.\u001b[0m\u001b[0mbitwise_not\u001b[0m\u001b[0;34m(\u001b[0m\u001b[0mhorizontal\u001b[0m\u001b[0;34m)\u001b[0m\u001b[0;34m)\u001b[0m\u001b[0;34m\u001b[0m\u001b[0;34m\u001b[0m\u001b[0m\n\u001b[0;32m---> 17\u001b[0;31m   \u001b[0mcv2\u001b[0m\u001b[0;34m.\u001b[0m\u001b[0mimwrite\u001b[0m\u001b[0;34m(\u001b[0m\u001b[0;34m\"/content/drive/My Drive/Colab Notebooks/ProcessamentoDeImagem/musicChords/NotasSóComBolinhas/Re/\"\u001b[0m \u001b[0;34m+\u001b[0m \u001b[0mimage\u001b[0m\u001b[0;34m,\u001b[0m\u001b[0mcv2\u001b[0m\u001b[0;34m.\u001b[0m\u001b[0mbitwise_not\u001b[0m\u001b[0;34m(\u001b[0m\u001b[0mhorizontal\u001b[0m\u001b[0;34m)\u001b[0m\u001b[0;34m)\u001b[0m\u001b[0;34m\u001b[0m\u001b[0;34m\u001b[0m\u001b[0m\n\u001b[0m",
            "\u001b[0;31mKeyboardInterrupt\u001b[0m: "
          ]
        }
      ]
    },
    {
      "cell_type": "code",
      "metadata": {
        "id": "w6J74RrWAFyF"
      },
      "source": [
        "def note_and_bars(image):\n",
        "  gray = cv2.cvtColor(image,cv2.COLOR_RGB2GRAY)\n",
        "  thresh = cv2.threshold(gray, 0, 255, cv2.THRESH_BINARY_INV + cv2.THRESH_OTSU)[1]\n",
        "  horizontal = np.copy(thresh)\n",
        "  # Specify size on horizontal axis\n",
        "  cols = horizontal.shape[1]\n",
        "  horizontal_size = cols // 10\n",
        "  # Create structure element for extracting horizontal lines through morphology operations\n",
        "  horizontalStructure = cv2.getStructuringElement(cv2.MORPH_RECT, (horizontal_size, 1))\n",
        "  # Apply morphology operations\n",
        "  horizontal = cv2.erode(horizontal, horizontalStructure)\n",
        "  horizontal = cv2.dilate(horizontal, horizontalStructure)\n",
        "  return horizontal"
      ],
      "execution_count": 2,
      "outputs": []
    },
    {
      "cell_type": "code",
      "metadata": {
        "id": "aKR2_NopUPE7"
      },
      "source": [
        "def thick_rectangle(image):\n",
        "  gray = cv2.cvtColor(image,cv2.COLOR_RGB2GRAY)\n",
        "  thresh = cv2.threshold(gray, 0, 255, cv2.THRESH_BINARY_INV + cv2.THRESH_OTSU)[1]\n",
        "  horizontal_thick_bar = np.copy(thresh)\n",
        "  # Specify size on horizontal axis\n",
        "  cols = horizontal_thick_bar.shape[1]\n",
        "  horizontal_size = cols // 2\n",
        "  # Create structure element for extracting horizontal lines through morphology operations\n",
        "  horizontalStructure = cv2.getStructuringElement(cv2.MORPH_RECT, (horizontal_size, 7))\n",
        "  # Apply morphology operations\n",
        "  horizontal_thick_bar = cv2.erode(horizontal_thick_bar, horizontalStructure)\n",
        "  horizontal_thick_bar = cv2.dilate(horizontal_thick_bar, horizontalStructure)\n",
        "  return horizontal_thick_bar"
      ],
      "execution_count": 3,
      "outputs": []
    },
    {
      "cell_type": "code",
      "metadata": {
        "id": "wPWQiIQ9Un4r"
      },
      "source": [
        "img_without_thick_bar = cv2.subtract(horizontal,horizontal_thick_bar)"
      ],
      "execution_count": null,
      "outputs": []
    },
    {
      "cell_type": "code",
      "metadata": {
        "id": "eZsOa7VUVPs7"
      },
      "source": [
        "def get_horizontal_line(image):\n",
        "  gray = cv2.cvtColor(image,cv2.COLOR_RGB2GRAY)\n",
        "  thresh = cv2.threshold(gray, 0, 255, cv2.THRESH_BINARY_INV + cv2.THRESH_OTSU)[1]\n",
        "  horizontal_lines = np.copy(thresh)\n",
        "  # Specify size on horizontal axis\n",
        "  cols = horizontal_lines.shape[1]\n",
        "  horizontal_size = cols + 200\n",
        "  # Create structure element for extracting horizontal lines through morphology operations\n",
        "  horizontalStructure = cv2.getStructuringElement(cv2.MORPH_RECT, (horizontal_size, 1))\n",
        "  # Apply morphology operations\n",
        "  horizontal_lines = cv2.erode(horizontal_lines, horizontalStructure)\n",
        "  horizontal_lines = cv2.dilate(horizontal_lines, horizontalStructure)\n",
        "  return horizontal_lines\n"
      ],
      "execution_count": 4,
      "outputs": []
    },
    {
      "cell_type": "code",
      "metadata": {
        "id": "hFDtl80eVl4Q",
        "outputId": "91453595-285a-4051-c653-1b3147b56257",
        "colab": {
          "base_uri": "https://localhost:8080/",
          "height": 99
        }
      },
      "source": [
        "print_img(cv2.bitwise_not(cv2.add(img_without_thick_bar, horizontal_lines)))"
      ],
      "execution_count": null,
      "outputs": [
        {
          "output_type": "display_data",
          "data": {
            "image/png": "[encoded data removed]",
            "text/plain": [
              "<PIL.Image.Image image mode=L size=50x82 at 0x7F1C40197F60>"
            ]
          },
          "metadata": {
            "tags": []
          }
        }
      ]
    },
    {
      "cell_type": "code",
      "metadata": {
        "id": "zr094pvPWZeZ",
        "outputId": "7b7ae175-6e73-47f0-ed48-866f0d1442b5",
        "colab": {
          "base_uri": "https://localhost:8080/",
          "height": 802
        }
      },
      "source": [
        "imagem_path = \"/content/drive/My Drive/Colab Notebooks/ProcessamentoDeImagem/musicChords/Ré/Screenshot from 2020-10-21 20-25-47.png\"\n",
        "note_and_bars_img = note_and_bars(cv2.imread(imagem_path))\n",
        "thick_bar = thick_rectangle(cv2.imread(imagem_path))\n",
        "lines = get_horizontal_line(cv2.imread(imagem_path))\n",
        "img_without_thick_bar = cv2.subtract(cv2.bitwise_not(thick_bar),cv2.bitwise_not(note_and_bars_img))\n",
        "only_note_img = cv2.add(lines, img_without_thick_bar)\n",
        "\n",
        "print(\"-------------Lines-----------------\")\n",
        "print_img(lines)\n",
        "print(\"-------------Thick lines-----------------\")\n",
        "print_img(thick_bar)\n",
        "print(\"------------Note and lines------------------\")\n",
        "print_img(note_and_bars_img)\n",
        "print(\"------------Remove thick lines------------------\")\n",
        "print_img(img_without_thick_bar)\n",
        "print(\"-------------Only note and lines-----------------\")\n",
        "print_img(cv2.bitwise_not(only_note_img))"
      ],
      "execution_count": 23,
      "outputs": [
        {
          "output_type": "stream",
          "text": [
            "-------------Lines-----------------\n"
          ],
          "name": "stdout"
        },
        {
          "output_type": "display_data",
          "data": {
            "image/png": "[encoded data removed]",
            "text/plain": [
              "<PIL.Image.Image image mode=L size=58x140 at 0x7F38ED2B3080>"
            ]
          },
          "metadata": {
            "tags": []
          }
        },
        {
          "output_type": "stream",
          "text": [
            "-------------Thick lines-----------------\n"
          ],
          "name": "stdout"
        },
        {
          "output_type": "display_data",
          "data": {
            "image/png": "[encoded data removed]",
            "text/plain": [
              "<PIL.Image.Image image mode=L size=58x140 at 0x7F38ED2B30B8>"
            ]
          },
          "metadata": {
            "tags": []
          }
        },
        {
          "output_type": "stream",
          "text": [
            "------------Note and lines------------------\n"
          ],
          "name": "stdout"
        },
        {
          "output_type": "display_data",
          "data": {
            "image/png": "[encoded data removed]",
            "text/plain": [
              "<PIL.Image.Image image mode=L size=58x140 at 0x7F38ED2B3080>"
            ]
          },
          "metadata": {
            "tags": []
          }
        },
        {
          "output_type": "stream",
          "text": [
            "------------Remove thick lines------------------\n"
          ],
          "name": "stdout"
        },
        {
          "output_type": "display_data",
          "data": {
            "image/png": "[encoded data removed]",
            "text/plain": [
              "<PIL.Image.Image image mode=L size=58x140 at 0x7F38ED2B30B8>"
            ]
          },
          "metadata": {
            "tags": []
          }
        },
        {
          "output_type": "stream",
          "text": [
            "-------------Only note and lines-----------------\n"
          ],
          "name": "stdout"
        },
        {
          "output_type": "display_data",
          "data": {
            "image/png": "[encoded data removed]",
            "text/plain": [
              "<PIL.Image.Image image mode=L size=58x140 at 0x7F38ED2B3198>"
            ]
          },
          "metadata": {
            "tags": []
          }
        }
      ]
    },
    {
      "cell_type": "code",
      "metadata": {
        "id": "2_VXMorsadrh"
      },
      "source": [
        "# image = cv2.imread(\"/content/drive/My Drive/Colab Notebooks/ProcessamentoDeImagem/musicChords/Dó/13.png\")\n",
        "path = \"/content/drive/My Drive/Colab Notebooks/ProcessamentoDeImagem/musicChords/Nossa base/out/re/\"\n",
        "for image in os.listdir(path):\n",
        "  note_and_bars_img = note_and_bars(cv2.imread(path + image))\n",
        "  thick_bar = thick_rectangle(cv2.imread(path + image))\n",
        "  lines = get_horizontal_line(cv2.imread(path + image))\n",
        "  img_without_thick_bar = cv2.subtract(cv2.bitwise_not(thick_bar),cv2.bitwise_not(note_and_bars_img))\n",
        "  only_note_img = cv2.bitwise_not(cv2.add(lines, img_without_thick_bar))\n",
        "  #print_img(only_note_img)\n",
        "  cv2.imwrite(\"/content/drive/My Drive/Colab Notebooks/ProcessamentoDeImagem/musicChords/NotasSóComBolinhas/Re/\" + image,only_note_img)"
      ],
      "execution_count": 8,
      "outputs": []
    },
    {
      "cell_type": "code",
      "metadata": {
        "id": "g4baI3QK1Hz7",
        "outputId": "d3bf6f9e-6863-415f-da4e-8810ffc6302d",
        "colab": {
          "base_uri": "https://localhost:8080/",
          "height": 1000
        }
      },
      "source": [
        "# image = cv2.imread(\"/content/drive/My Drive/Colab Notebooks/ProcessamentoDeImagem/musicChords/Dó/13.png\")\n",
        "path = \"/content/drive/My Drive/Colab Notebooks/ProcessamentoDeImagem/musicChords/NotesToModel/Fa/\"\n",
        "for image in os.listdir(path):\n",
        "  note_and_bars_img = note_and_bars(cv2.imread(path + image))\n",
        "  thick_bar = thick_rectangle(cv2.imread(path + image))\n",
        "  lines = get_horizontal_line(cv2.imread(path + image))\n",
        "  img_without_thick_bar = cv2.subtract(cv2.bitwise_not(thick_bar),cv2.bitwise_not(note_and_bars_img))\n",
        "  only_note_img = cv2.bitwise_not(cv2.add(lines, img_without_thick_bar))\n",
        "  print_img(only_note_img)\n",
        "  cv2.imwrite(\"/content/drive/My Drive/Colab Notebooks/ProcessamentoDeImagem/musicChords/NotasSóComBolinhas/Fa/\" + image,only_note_img)"
      ],
      "execution_count": null,
      "outputs": [
        {
          "output_type": "display_data",
          "data": {
            "image/png": "[encoded data removed]",
            "text/plain": [
              "<PIL.Image.Image image mode=L size=106x134 at 0x7F1C38DDBB00>"
            ]
          },
          "metadata": {
            "tags": []
          }
        },
        {
          "output_type": "display_data",
          "data": {
            "image/png": "[encoded data removed]",
            "text/plain": [
              "<PIL.Image.Image image mode=L size=96x118 at 0x7F1C38DDBAC8>"
            ]
          },
          "metadata": {
            "tags": []
          }
        },
        {
          "output_type": "display_data",
          "data": {
            "image/png": "[encoded data removed]",
            "text/plain": [
              "<PIL.Image.Image image mode=L size=55x104 at 0x7F1C38DDBB00>"
            ]
          },
          "metadata": {
            "tags": []
          }
        },
        {
          "output_type": "display_data",
          "data": {
            "image/png": "[encoded data removed]",
            "text/plain": [
              "<PIL.Image.Image image mode=L size=59x110 at 0x7F1C38DDBAC8>"
            ]
          },
          "metadata": {
            "tags": []
          }
        },
        {
          "output_type": "display_data",
          "data": {
            "image/png": "[encoded data removed]",
            "text/plain": [
              "<PIL.Image.Image image mode=L size=49x112 at 0x7F1C38DDBB00>"
            ]
          },
          "metadata": {
            "tags": []
          }
        },
        {
          "output_type": "display_data",
          "data": {
            "image/png": "[encoded data removed]",
            "text/plain": [
              "<PIL.Image.Image image mode=L size=60x120 at 0x7F1C38DDBAC8>"
            ]
          },
          "metadata": {
            "tags": []
          }
        },
        {
          "output_type": "display_data",
          "data": {
            "image/png": "[encoded data removed]",
            "text/plain": [
              "<PIL.Image.Image image mode=L size=63x129 at 0x7F1C38DDBB00>"
            ]
          },
          "metadata": {
            "tags": []
          }
        },
        {
          "output_type": "display_data",
          "data": {
            "image/png": "[encoded data removed]",
            "text/plain": [
              "<PIL.Image.Image image mode=L size=44x117 at 0x7F1C38DDBAC8>"
            ]
          },
          "metadata": {
            "tags": []
          }
        },
        {
          "output_type": "display_data",
          "data": {
            "image/png": "[encoded data removed]",
            "text/plain": [
              "<PIL.Image.Image image mode=L size=49x123 at 0x7F1C38DDBB00>"
            ]
          },
          "metadata": {
            "tags": []
          }
        },
        {
          "output_type": "display_data",
          "data": {
            "image/png": "[encoded data removed]",
            "text/plain": [
              "<PIL.Image.Image image mode=L size=48x120 at 0x7F1C38DDBAC8>"
            ]
          },
          "metadata": {
            "tags": []
          }
        },
        {
          "output_type": "display_data",
          "data": {
            "image/png": "[encoded data removed]",
            "text/plain": [
              "<PIL.Image.Image image mode=L size=56x120 at 0x7F1C38DDBB00>"
            ]
          },
          "metadata": {
            "tags": []
          }
        },
        {
          "output_type": "display_data",
          "data": {
            "image/png": "[encoded data removed]",
            "text/plain": [
              "<PIL.Image.Image image mode=L size=52x117 at 0x7F1C38DDBAC8>"
            ]
          },
          "metadata": {
            "tags": []
          }
        },
        {
          "output_type": "display_data",
          "data": {
            "image/png": "[encoded data removed]",
            "text/plain": [
              "<PIL.Image.Image image mode=L size=62x122 at 0x7F1C38DDBB00>"
            ]
          },
          "metadata": {
            "tags": []
          }
        },
        {
          "output_type": "display_data",
          "data": {
            "image/png": "[encoded data removed]",
            "text/plain": [
              "<PIL.Image.Image image mode=L size=52x120 at 0x7F1C38DDBAC8>"
            ]
          },
          "metadata": {
            "tags": []
          }
        },
        {
          "output_type": "display_data",
          "data": {
            "image/png": "[encoded data removed]",
            "text/plain": [
              "<PIL.Image.Image image mode=L size=69x103 at 0x7F1C38DDBB00>"
            ]
          },
          "metadata": {
            "tags": []
          }
        },
        {
          "output_type": "display_data",
          "data": {
            "image/png": "[encoded data removed]",
            "text/plain": [
              "<PIL.Image.Image image mode=L size=61x123 at 0x7F1C38DDBAC8>"
            ]
          },
          "metadata": {
            "tags": []
          }
        },
        {
          "output_type": "display_data",
          "data": {
            "image/png": "[encoded data removed]",
            "text/plain": [
              "<PIL.Image.Image image mode=L size=52x116 at 0x7F1C38DDBB00>"
            ]
          },
          "metadata": {
            "tags": []
          }
        },
        {
          "output_type": "display_data",
          "data": {
            "image/png": "[encoded data removed]",
            "text/plain": [
              "<PIL.Image.Image image mode=L size=53x125 at 0x7F1C38DDBAC8>"
            ]
          },
          "metadata": {
            "tags": []
          }
        },
        {
          "output_type": "display_data",
          "data": {
            "image/png": "[encoded data removed]",
            "text/plain": [
              "<PIL.Image.Image image mode=L size=51x127 at 0x7F1C38DDBB00>"
            ]
          },
          "metadata": {
            "tags": []
          }
        },
        {
          "output_type": "display_data",
          "data": {
            "image/png": "[encoded data removed]",
            "text/plain": [
              "<PIL.Image.Image image mode=L size=48x114 at 0x7F1C38DDBAC8>"
            ]
          },
          "metadata": {
            "tags": []
          }
        },
        {
          "output_type": "display_data",
          "data": {
            "image/png": "[encoded data removed]",
            "text/plain": [
              "<PIL.Image.Image image mode=L size=60x112 at 0x7F1C38DDBB00>"
            ]
          },
          "metadata": {
            "tags": []
          }
        },
        {
          "output_type": "display_data",
          "data": {
            "image/png": "[encoded data removed]",
            "text/plain": [
              "<PIL.Image.Image image mode=L size=59x119 at 0x7F1C38DDBAC8>"
            ]
          },
          "metadata": {
            "tags": []
          }
        },
        {
          "output_type": "display_data",
          "data": {
            "image/png": "[encoded data removed]",
            "text/plain": [
              "<PIL.Image.Image image mode=L size=52x113 at 0x7F1C38DDBB00>"
            ]
          },
          "metadata": {
            "tags": []
          }
        },
        {
          "output_type": "display_data",
          "data": {
            "image/png": "[encoded data removed]",
            "text/plain": [
              "<PIL.Image.Image image mode=L size=59x124 at 0x7F1C38DDBAC8>"
            ]
          },
          "metadata": {
            "tags": []
          }
        },
        {
          "output_type": "display_data",
          "data": {
            "image/png": "[encoded data removed]",
            "text/plain": [
              "<PIL.Image.Image image mode=L size=64x130 at 0x7F1C38DDBB00>"
            ]
          },
          "metadata": {
            "tags": []
          }
        },
        {
          "output_type": "display_data",
          "data": {
            "image/png": "[encoded data removed]",
            "text/plain": [
              "<PIL.Image.Image image mode=L size=61x130 at 0x7F1C38DDBAC8>"
            ]
          },
          "metadata": {
            "tags": []
          }
        },
        {
          "output_type": "display_data",
          "data": {
            "image/png": "[encoded data removed]",
            "text/plain": [
              "<PIL.Image.Image image mode=L size=68x124 at 0x7F1C38DDBB00>"
            ]
          },
          "metadata": {
            "tags": []
          }
        },
        {
          "output_type": "display_data",
          "data": {
            "image/png": "[encoded data removed]",
            "text/plain": [
              "<PIL.Image.Image image mode=L size=56x128 at 0x7F1C38DDBAC8>"
            ]
          },
          "metadata": {
            "tags": []
          }
        },
        {
          "output_type": "display_data",
          "data": {
            "image/png": "[encoded data removed]",
            "text/plain": [
              "<PIL.Image.Image image mode=L size=50x122 at 0x7F1C38DDBB00>"
            ]
          },
          "metadata": {
            "tags": []
          }
        },
        {
          "output_type": "display_data",
          "data": {
            "image/png": "[encoded data removed]",
            "text/plain": [
              "<PIL.Image.Image image mode=L size=67x126 at 0x7F1C38DDBAC8>"
            ]
          },
          "metadata": {
            "tags": []
          }
        },
        {
          "output_type": "display_data",
          "data": {
            "image/png": "[encoded data removed]",
            "text/plain": [
              "<PIL.Image.Image image mode=L size=57x135 at 0x7F1C38DDBB00>"
            ]
          },
          "metadata": {
            "tags": []
          }
        },
        {
          "output_type": "display_data",
          "data": {
            "image/png": "[encoded data removed]",
            "text/plain": [
              "<PIL.Image.Image image mode=L size=63x112 at 0x7F1C38DDBAC8>"
            ]
          },
          "metadata": {
            "tags": []
          }
        },
        {
          "output_type": "display_data",
          "data": {
            "image/png": "[encoded data removed]",
            "text/plain": [
              "<PIL.Image.Image image mode=L size=60x124 at 0x7F1C38DDBB00>"
            ]
          },
          "metadata": {
            "tags": []
          }
        },
        {
          "output_type": "display_data",
          "data": {
            "image/png": "[encoded data removed]",
            "text/plain": [
              "<PIL.Image.Image image mode=L size=60x121 at 0x7F1C38DDBAC8>"
            ]
          },
          "metadata": {
            "tags": []
          }
        },
        {
          "output_type": "display_data",
          "data": {
            "image/png": "[encoded data removed]",
            "text/plain": [
              "<PIL.Image.Image image mode=L size=65x121 at 0x7F1C38DDBB00>"
            ]
          },
          "metadata": {
            "tags": []
          }
        },
        {
          "output_type": "display_data",
          "data": {
            "image/png": "[encoded data removed]",
            "text/plain": [
              "<PIL.Image.Image image mode=L size=61x130 at 0x7F1C38DDBAC8>"
            ]
          },
          "metadata": {
            "tags": []
          }
        },
        {
          "output_type": "display_data",
          "data": {
            "image/png": "[encoded data removed]",
            "text/plain": [
              "<PIL.Image.Image image mode=L size=54x125 at 0x7F1C38DDBB00>"
            ]
          },
          "metadata": {
            "tags": []
          }
        },
        {
          "output_type": "display_data",
          "data": {
            "image/png": "[encoded data removed]",
            "text/plain": [
              "<PIL.Image.Image image mode=L size=57x123 at 0x7F1C38DDBAC8>"
            ]
          },
          "metadata": {
            "tags": []
          }
        },
        {
          "output_type": "display_data",
          "data": {
            "image/png": "[encoded data removed]",
            "text/plain": [
              "<PIL.Image.Image image mode=L size=57x118 at 0x7F1C38DDBB00>"
            ]
          },
          "metadata": {
            "tags": []
          }
        },
        {
          "output_type": "display_data",
          "data": {
            "image/png": "[encoded data removed]",
            "text/plain": [
              "<PIL.Image.Image image mode=L size=60x128 at 0x7F1C38DDBAC8>"
            ]
          },
          "metadata": {
            "tags": []
          }
        },
        {
          "output_type": "display_data",
          "data": {
            "image/png": "[encoded data removed]",
            "text/plain": [
              "<PIL.Image.Image image mode=L size=61x116 at 0x7F1C38DDBB00>"
            ]
          },
          "metadata": {
            "tags": []
          }
        },
        {
          "output_type": "display_data",
          "data": {
            "image/png": "[encoded data removed]",
            "text/plain": [
              "<PIL.Image.Image image mode=L size=72x128 at 0x7F1C38DDBAC8>"
            ]
          },
          "metadata": {
            "tags": []
          }
        },
        {
          "output_type": "display_data",
          "data": {
            "image/png": "[encoded data removed]",
            "text/plain": [
              "<PIL.Image.Image image mode=L size=74x122 at 0x7F1C38DDBB00>"
            ]
          },
          "metadata": {
            "tags": []
          }
        },
        {
          "output_type": "display_data",
          "data": {
            "image/png": "[encoded data removed]",
            "text/plain": [
              "<PIL.Image.Image image mode=L size=60x128 at 0x7F1C38DDBAC8>"
            ]
          },
          "metadata": {
            "tags": []
          }
        },
        {
          "output_type": "display_data",
          "data": {
            "image/png": "[encoded data removed]",
            "text/plain": [
              "<PIL.Image.Image image mode=L size=67x134 at 0x7F1C38DDBB00>"
            ]
          },
          "metadata": {
            "tags": []
          }
        },
        {
          "output_type": "display_data",
          "data": {
            "image/png": "[encoded data removed]",
            "text/plain": [
              "<PIL.Image.Image image mode=L size=67x130 at 0x7F1C38DDBAC8>"
            ]
          },
          "metadata": {
            "tags": []
          }
        },
        {
          "output_type": "display_data",
          "data": {
            "image/png": "[encoded data removed]",
            "text/plain": [
              "<PIL.Image.Image image mode=L size=70x125 at 0x7F1C38DDBB00>"
            ]
          },
          "metadata": {
            "tags": []
          }
        },
        {
          "output_type": "display_data",
          "data": {
            "image/png": "[encoded data removed]",
            "text/plain": [
              "<PIL.Image.Image image mode=L size=65x128 at 0x7F1C38DDBAC8>"
            ]
          },
          "metadata": {
            "tags": []
          }
        },
        {
          "output_type": "display_data",
          "data": {
            "image/png": "[encoded data removed]",
            "text/plain": [
              "<PIL.Image.Image image mode=L size=62x124 at 0x7F1C38DDBB00>"
            ]
          },
          "metadata": {
            "tags": []
          }
        },
        {
          "output_type": "display_data",
          "data": {
            "image/png": "[encoded data removed]",
            "text/plain": [
              "<PIL.Image.Image image mode=L size=63x125 at 0x7F1C38DDBAC8>"
            ]
          },
          "metadata": {
            "tags": []
          }
        },
        {
          "output_type": "display_data",
          "data": {
            "image/png": "[encoded data removed]",
            "text/plain": [
              "<PIL.Image.Image image mode=L size=59x117 at 0x7F1C38DDBB00>"
            ]
          },
          "metadata": {
            "tags": []
          }
        },
        {
          "output_type": "display_data",
          "data": {
            "image/png": "[encoded data removed]",
            "text/plain": [
              "<PIL.Image.Image image mode=L size=62x117 at 0x7F1C38DDBAC8>"
            ]
          },
          "metadata": {
            "tags": []
          }
        },
        {
          "output_type": "display_data",
          "data": {
            "image/png": "[encoded data removed]",
            "text/plain": [
              "<PIL.Image.Image image mode=L size=82x133 at 0x7F1C38DDBB00>"
            ]
          },
          "metadata": {
            "tags": []
          }
        },
        {
          "output_type": "display_data",
          "data": {
            "image/png": "[encoded data removed]",
            "text/plain": [
              "<PIL.Image.Image image mode=L size=65x124 at 0x7F1C38DDBAC8>"
            ]
          },
          "metadata": {
            "tags": []
          }
        },
        {
          "output_type": "display_data",
          "data": {
            "image/png": "[encoded data removed]",
            "text/plain": [
              "<PIL.Image.Image image mode=L size=77x118 at 0x7F1C38DDBB00>"
            ]
          },
          "metadata": {
            "tags": []
          }
        },
        {
          "output_type": "display_data",
          "data": {
            "image/png": "[encoded data removed]",
            "text/plain": [
              "<PIL.Image.Image image mode=L size=72x119 at 0x7F1C38DDBAC8>"
            ]
          },
          "metadata": {
            "tags": []
          }
        },
        {
          "output_type": "display_data",
          "data": {
            "image/png": "[encoded data removed]",
            "text/plain": [
              "<PIL.Image.Image image mode=L size=82x119 at 0x7F1C38DDBB00>"
            ]
          },
          "metadata": {
            "tags": []
          }
        },
        {
          "output_type": "display_data",
          "data": {
            "image/png": "[encoded data removed]",
            "text/plain": [
              "<PIL.Image.Image image mode=L size=51x124 at 0x7F1C38DDBAC8>"
            ]
          },
          "metadata": {
            "tags": []
          }
        },
        {
          "output_type": "display_data",
          "data": {
            "image/png": "[encoded data removed]",
            "text/plain": [
              "<PIL.Image.Image image mode=L size=50x122 at 0x7F1C38DDBB00>"
            ]
          },
          "metadata": {
            "tags": []
          }
        },
        {
          "output_type": "display_data",
          "data": {
            "image/png": "[encoded data removed]",
            "text/plain": [
              "<PIL.Image.Image image mode=L size=62x121 at 0x7F1C38DDBAC8>"
            ]
          },
          "metadata": {
            "tags": []
          }
        },
        {
          "output_type": "display_data",
          "data": {
            "image/png": "[encoded data removed]",
            "text/plain": [
              "<PIL.Image.Image image mode=L size=67x119 at 0x7F1C38DDBB00>"
            ]
          },
          "metadata": {
            "tags": []
          }
        },
        {
          "output_type": "display_data",
          "data": {
            "image/png": "[encoded data removed]",
            "text/plain": [
              "<PIL.Image.Image image mode=L size=49x128 at 0x7F1C38DDBAC8>"
            ]
          },
          "metadata": {
            "tags": []
          }
        },
        {
          "output_type": "display_data",
          "data": {
            "image/png": "[encoded data removed]",
            "text/plain": [
              "<PIL.Image.Image image mode=L size=53x113 at 0x7F1C38DDBB00>"
            ]
          },
          "metadata": {
            "tags": []
          }
        },
        {
          "output_type": "display_data",
          "data": {
            "image/png": "[encoded data removed]",
            "text/plain": [
              "<PIL.Image.Image image mode=L size=50x114 at 0x7F1C38DDBAC8>"
            ]
          },
          "metadata": {
            "tags": []
          }
        },
        {
          "output_type": "display_data",
          "data": {
            "image/png": "[encoded data removed]",
            "text/plain": [
              "<PIL.Image.Image image mode=L size=62x119 at 0x7F1C38DDBB00>"
            ]
          },
          "metadata": {
            "tags": []
          }
        },
        {
          "output_type": "display_data",
          "data": {
            "image/png": "[encoded data removed]",
            "text/plain": [
              "<PIL.Image.Image image mode=L size=56x120 at 0x7F1C38DDBAC8>"
            ]
          },
          "metadata": {
            "tags": []
          }
        },
        {
          "output_type": "display_data",
          "data": {
            "image/png": "[encoded data removed]",
            "text/plain": [
              "<PIL.Image.Image image mode=L size=55x118 at 0x7F1C38DDBB00>"
            ]
          },
          "metadata": {
            "tags": []
          }
        },
        {
          "output_type": "display_data",
          "data": {
            "image/png": "[encoded data removed]",
            "text/plain": [
              "<PIL.Image.Image image mode=L size=65x117 at 0x7F1C38DDBAC8>"
            ]
          },
          "metadata": {
            "tags": []
          }
        },
        {
          "output_type": "display_data",
          "data": {
            "image/png": "[encoded data removed]",
            "text/plain": [
              "<PIL.Image.Image image mode=L size=58x125 at 0x7F1C38DDBB00>"
            ]
          },
          "metadata": {
            "tags": []
          }
        },
        {
          "output_type": "display_data",
          "data": {
            "image/png": "[encoded data removed]",
            "text/plain": [
              "<PIL.Image.Image image mode=L size=38x118 at 0x7F1C38DDBAC8>"
            ]
          },
          "metadata": {
            "tags": []
          }
        },
        {
          "output_type": "display_data",
          "data": {
            "image/png": "[encoded data removed]",
            "text/plain": [
              "<PIL.Image.Image image mode=L size=48x129 at 0x7F1C38DDBB00>"
            ]
          },
          "metadata": {
            "tags": []
          }
        },
        {
          "output_type": "display_data",
          "data": {
            "image/png": "[encoded data removed]",
            "text/plain": [
              "<PIL.Image.Image image mode=L size=49x123 at 0x7F1C38DDBAC8>"
            ]
          },
          "metadata": {
            "tags": []
          }
        },
        {
          "output_type": "display_data",
          "data": {
            "image/png": "[encoded data removed]",
            "text/plain": [
              "<PIL.Image.Image image mode=L size=51x119 at 0x7F1C38DDBB00>"
            ]
          },
          "metadata": {
            "tags": []
          }
        },
        {
          "output_type": "display_data",
          "data": {
            "image/png": "[encoded data removed]",
            "text/plain": [
              "<PIL.Image.Image image mode=L size=54x126 at 0x7F1C38DDBAC8>"
            ]
          },
          "metadata": {
            "tags": []
          }
        },
        {
          "output_type": "display_data",
          "data": {
            "image/png": "[encoded data removed]",
            "text/plain": [
              "<PIL.Image.Image image mode=L size=53x121 at 0x7F1C38DDBB00>"
            ]
          },
          "metadata": {
            "tags": []
          }
        },
        {
          "output_type": "display_data",
          "data": {
            "image/png": "[encoded data removed]",
            "text/plain": [
              "<PIL.Image.Image image mode=L size=55x115 at 0x7F1C38DDBAC8>"
            ]
          },
          "metadata": {
            "tags": []
          }
        },
        {
          "output_type": "display_data",
          "data": {
            "image/png": "[encoded data removed]",
            "text/plain": [
              "<PIL.Image.Image image mode=L size=63x116 at 0x7F1C38DDBB00>"
            ]
          },
          "metadata": {
            "tags": []
          }
        }
      ]
    },
    {
      "cell_type": "code",
      "metadata": {
        "id": "XkaK0nx9dEJr"
      },
      "source": [
        "def get_circles_from_image(image):\n",
        "  # Read image. \n",
        "  img = cv2.imread(image, cv2.IMREAD_COLOR) \n",
        "\n",
        "  # Convert to grayscale. \n",
        "  gray = cv2.cvtColor(img, cv2.COLOR_RGB2GRAY) \n",
        "\n",
        "  # Blur using 3 * 3 kernel. \n",
        "  gray_blurred = cv2.blur(gray, (3, 3)) \n",
        "\n",
        "  # Apply Hough transform on the blurred image. \n",
        "  detected_circles = cv2.HoughCircles(gray_blurred,  \n",
        "            cv2.HOUGH_GRADIENT, 1, 20, param1 = 40, \n",
        "        param2 = 10, minRadius = 10, maxRadius = 30) \n",
        "\n",
        "  # Draw circles that are detected. \n",
        "  if detected_circles is not None: \n",
        "\n",
        "    # Convert the circle parameters a, b and r to integers. \n",
        "    detected_circles = np.uint16(np.around(detected_circles))\n",
        "\n",
        "    for pt in detected_circles[0, :]:\n",
        "      print(pt)\n",
        "      a, b, r = pt[0], pt[1], pt[2] \n",
        "\n",
        "      # Draw the circumference of the circle. \n",
        "      # cv2.circle(img, (a, b), r, (0, 255, 0), 2)\n",
        "\n",
        "      print(len(img[:]))\n",
        "\n",
        "      if (a+r > len(img)):\n",
        "        param1 = len(img)\n",
        "      else:\n",
        "        param1 = a + r\n",
        "\n",
        "      if (a-r > len(img)):\n",
        "        param2 = 0\n",
        "      else:\n",
        "       param2 = a - r\n",
        "\n",
        "      if (b+r > len(img)):\n",
        "        param3 = len(img)\n",
        "      else:\n",
        "        param3 = b + r\n",
        "\n",
        "      if (b-r > len(img)):\n",
        "        param4 = 0\n",
        "      else:\n",
        "        param4 = b - r\n",
        "      return img[param4:param3]"
      ],
      "execution_count": null,
      "outputs": []
    },
    {
      "cell_type": "code",
      "metadata": {
        "id": "1qcbg1DhlQya",
        "outputId": "fa76304d-149f-4ecc-9abf-e61230537a32",
        "colab": {
          "base_uri": "https://localhost:8080/",
          "height": 45
        }
      },
      "source": [
        "import numpy as np\n",
        "import cv2\n",
        "\n",
        "img = cv2.imread('/content/drive/My Drive/Colab Notebooks/ProcessamentoDeImagem/musicChords/Dó/15.png',cv2.IMREAD_COLOR)\n",
        "a1=14\n",
        "b1=62\n",
        "r=14\n",
        "cv2.circle(img,(a1,b1), r, (0,0,0),2)\n",
        "result = img[a1-r:a1+r,b1-r:b1+r]\n",
        "print_img(result)\n",
        "# cv2.imshow('image',img)\n",
        "# cv2.imshow('result',result)\n",
        "# cv2.waitKey(0)\n",
        "# cv2.destroyAllWindows()"
      ],
      "execution_count": null,
      "outputs": [
        {
          "output_type": "display_data",
          "data": {
            "image/png": "[encoded data removed]",
            "text/plain": [
              "<PIL.Image.Image image mode=RGB size=50x28 at 0x7F1C38E3EE10>"
            ]
          },
          "metadata": {
            "tags": []
          }
        }
      ]
    }
  ]
}