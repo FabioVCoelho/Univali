{
  "nbformat": 4,
  "nbformat_minor": 0,
  "metadata": {
    "colab": {
      "name": "AtividadeM1.1.ipynb",
      "provenance": [],
      "collapsed_sections": [],
      "include_colab_link": true
    },
    "kernelspec": {
      "name": "python3",
      "display_name": "Python 3"
    }
  },
  "cells": [
    {
      "cell_type": "markdown",
      "metadata": {
        "id": "view-in-github",
        "colab_type": "text"
      },
      "source": [
        "<a href=\"https://colab.research.google.com/github/FabioVCoelho/Univali/blob/master/Univali/PythonIntro/AtividadeM1_1.ipynb\" target=\"_parent\"><img src=\"https://colab.research.google.com/assets/colab-badge.svg\" alt=\"Open In Colab\"/></a>"
      ]
    },
    {
      "cell_type": "markdown",
      "metadata": {
        "id": "rODnJ8k6G2ej",
        "colab_type": "text"
      },
      "source": [
        "# Atividade M1.1\n",
        "\n",
        "Resolver os problemas abaixo.\n",
        "Entrega: 01/09 18:59"
      ]
    },
    {
      "cell_type": "markdown",
      "metadata": {
        "id": "CnpnunOJGhYG",
        "colab_type": "text"
      },
      "source": [
        "1.\tFaça um código que leia 5 números e informe o maior deles.\n",
        "\n",
        "---\n",
        "\n"
      ]
    },
    {
      "cell_type": "code",
      "metadata": {
        "id": "xU9bXWtsGgCC",
        "colab_type": "code",
        "colab": {
          "base_uri": "https://localhost:8080/",
          "height": 136
        },
        "outputId": "1150d419-4bf9-471b-d3d7-d42b427783af"
      },
      "source": [
        "numeros = []\n",
        "for i in range(5):\n",
        " numeros.append(int(input(\"Digite um número: \")))\n",
        "maior_numero = numeros[0]\n",
        "for numero in numeros:\n",
        "  if (numero > maior_numero):\n",
        "    maior_numero = numero\n",
        "\n",
        "print(maior_numero)"
      ],
      "execution_count": null,
      "outputs": [
        {
          "output_type": "stream",
          "text": [
            "Digite um número: 4\n",
            "Digite um número: 5\n",
            "Digite um número: 1\n",
            "Digite um número: 10\n",
            "Digite um número: 9\n",
            "[4, 5, 1, 10, 9]\n",
            "10\n"
          ],
          "name": "stdout"
        }
      ]
    },
    {
      "cell_type": "markdown",
      "metadata": {
        "id": "uqmOaXPtGjUZ",
        "colab_type": "text"
      },
      "source": [
        "2.\tFaça um código que peça os 3 lados de um triângulo. O programa deverá informar se os valores podem ser um triângulo. Indique, caso os lados formem um triângulo, se o mesmo é: equilátero, isósceles ou escaleno.\n",
        "\n",
        "  \t    Dicas:\n",
        "\n",
        "          *   Três lados formam um triângulo quando a soma de quaisquer dois lados for maior que o terceiro;\n",
        "          *   Triângulo Equilátero: três lados iguais;\n",
        "          *   Triângulo Isósceles: quaisquer dois lados iguais;\n",
        "          *   Triângulo Escaleno: três lados diferentes.\n",
        "\n",
        "---\n",
        "\n",
        "\n",
        "\n",
        "\n"
      ]
    },
    {
      "cell_type": "code",
      "metadata": {
        "id": "EKHTxo1fGj2K",
        "colab_type": "code",
        "colab": {
          "base_uri": "https://localhost:8080/",
          "height": 52
        },
        "outputId": "835d6313-6f74-42a7-bf61-61470bf19fb1"
      },
      "source": [
        "def eh_triangulo(lados_triangulo):\n",
        "  lado_0 = lados_triangulo[0]\n",
        "  lado_1 = lados_triangulo[1]\n",
        "  lado_2 = lados_triangulo[2]\n",
        "  if (lado_0 + lado_1 > lado_2 or lado_0 + lado_2 > lado_1 or lado_1 + lado_2 > lado_0):\n",
        "    if eh_equilatero(lado_0,lado_1,lado_2):\n",
        "      return \"É um triângulo Equilátero\"\n",
        "    if eh_isosceles(lado_0,lado_1,lado_2):\n",
        "      return \"É um triângulo Isósceles\"\n",
        "    if eh_escaleno(lado_0,lado_1,lado_2):\n",
        "      return \"É um triângulo Escaleno\"\n",
        "    return \"É um triângulo\"\n",
        "  else:\n",
        "    return \"Não é um triângulo\"\n",
        "\n",
        "def eh_equilatero(lado_0,lado_1,lado_2):\n",
        "  if (lado_0 == lado_1 == lado_2):\n",
        "    return True\n",
        "  return False\n",
        "\n",
        "def eh_isosceles(lado_0,lado_1,lado_2):\n",
        "  if (lado_0 == lado_1 or lado_0 == lado_2 or lado_1 == lado_2):\n",
        "    return True\n",
        "  return False\n",
        "\n",
        "def eh_escaleno(lado_0,lado_1,lado_2):\n",
        "  if (lado_0 != lado_1 and lado_0 != lado_2 and lado_1 != lado_2):\n",
        "    return True\n",
        "  return False\n",
        "\n",
        "lados_triangulo_str = input(\"Digite o valor dos 3 lados de um triângulo, separados por virgula(,): \")\n",
        "lados_triangulo = list(map(int, lados_triangulo_str.split(\",\")))\n",
        "eh_triangulo(lados_triangulo)"
      ],
      "execution_count": null,
      "outputs": [
        {
          "output_type": "stream",
          "text": [
            "Digite o valor dos 3 lados de um triângulo, separados por virgula(,): 3,3,2\n"
          ],
          "name": "stdout"
        },
        {
          "output_type": "execute_result",
          "data": {
            "application/vnd.google.colaboratory.intrinsic+json": {
              "type": "string"
            },
            "text/plain": [
              "'É um triângulo Isósceles'"
            ]
          },
          "metadata": {
            "tags": []
          },
          "execution_count": 26
        }
      ]
    },
    {
      "cell_type": "markdown",
      "metadata": {
        "id": "aNlirnJuGkRW",
        "colab_type": "text"
      },
      "source": [
        "3.\tFaça um código que peça um valor e mostre se ele é primo."
      ]
    },
    {
      "cell_type": "code",
      "metadata": {
        "id": "Eoi8EFkRGkse",
        "colab_type": "code",
        "colab": {
          "base_uri": "https://localhost:8080/",
          "height": 51
        },
        "outputId": "a04e8f99-e05a-457c-e338-7372407f28d7"
      },
      "source": [
        "def eh_primo(numero):\n",
        "  for num in range(2,numero):\n",
        "    if (numero % num == 0):\n",
        "      print(\"Número não é primo\")\n",
        "      return\n",
        "  print(\"Número é primo\")\n",
        "\n",
        "\n",
        "numero_str = input(\"Digite um número: \")\n",
        "numero = int(numero_str)\n",
        "eh_primo(numero)"
      ],
      "execution_count": null,
      "outputs": [
        {
          "output_type": "stream",
          "text": [
            "Digite um número: 407\n",
            "Número não é primo\n"
          ],
          "name": "stdout"
        }
      ]
    },
    {
      "cell_type": "markdown",
      "metadata": {
        "id": "0scpIGYgGk_c",
        "colab_type": "text"
      },
      "source": [
        "4.\tSendo `H = 1 + 1/2 + 1/3 + 1/4 + ... + 1/N`, Faça um código que calcule o valor de H com N termos."
      ]
    },
    {
      "cell_type": "code",
      "metadata": {
        "id": "lXcr28bwGlUt",
        "colab_type": "code",
        "colab": {
          "base_uri": "https://localhost:8080/",
          "height": 34
        },
        "outputId": "7a9a9caf-a03e-471b-dd33-24aaff6455cf"
      },
      "source": [
        "n = 10\n",
        "h = 0\n",
        "for i in range(1,n + 1):\n",
        "  h = h + 1/i\n",
        "print(h)"
      ],
      "execution_count": null,
      "outputs": [
        {
          "output_type": "stream",
          "text": [
            "2.9289682539682538\n"
          ],
          "name": "stdout"
        }
      ]
    },
    {
      "cell_type": "markdown",
      "metadata": {
        "id": "qf09XgR8GnX4",
        "colab_type": "text"
      },
      "source": [
        "5.\tFaça um código que leia um vetor de 10 caracteres e diga quantas consoantes foram lidas. Imprima as consoantes."
      ]
    },
    {
      "cell_type": "code",
      "metadata": {
        "id": "ROIrFJUxGoAk",
        "colab_type": "code",
        "colab": {
          "base_uri": "https://localhost:8080/",
          "height": 51
        },
        "outputId": "dbeb2b29-2abb-4807-99a3-3cb326bc968a"
      },
      "source": [
        "def eh_vogal(letra):\n",
        "  vogais = ['a','e','i','o','u']\n",
        "  if letra in vogais:\n",
        "    return True\n",
        "  return False\n",
        "\n",
        "string_input = input(\"Escreva um palavra com 10 ou mais caracteres: \")\n",
        "numero_de_vogais = 0\n",
        "for letra in list(string_input):\n",
        "  if (eh_vogal(letra)):\n",
        "    numero_de_vogais = numero_de_vogais + 1\n",
        "\n",
        "print(\"Quantidade de consoantes na palavras {}\".format(len(string_input) - numero_de_vogais))"
      ],
      "execution_count": null,
      "outputs": [
        {
          "output_type": "stream",
          "text": [
            "Escreva um palavra com 10 caracteres: asdfghjkloooo\n",
            "Quantidade de consoantes na palavras 8\n"
          ],
          "name": "stdout"
        }
      ]
    },
    {
      "cell_type": "markdown",
      "metadata": {
        "id": "bE1QC-JpGoig",
        "colab_type": "text"
      },
      "source": [
        "6.\tFaça um código que leia um número indeterminado de valores, correspondentes a notas, encerrando a entrada de dados quando for informado um valor igual a -1 (que não deve ser armazenado). Após esta entrada de dados, faça:\n",
        "\n",
        "  *   Mostre a quantidade de valores que foram lidos;\n",
        "  *   Exiba todos os valores na ordem em que foram informados, um ao lado do outro;\n",
        "  *   Calcule e mostre a soma dos valores;\n",
        "  *   Calcule e mostre a média dos valores;\n",
        "  *   Calcule e mostre a quantidade de valores acima da média calculada;\n",
        "  *   Calcule e mostre a quantidade de valores abaixo de sete;"
      ]
    },
    {
      "cell_type": "code",
      "metadata": {
        "id": "2YEHX1Q6GpIX",
        "colab_type": "code",
        "colab": {
          "base_uri": "https://localhost:8080/",
          "height": 187
        },
        "outputId": "b2a83ad7-e12a-4a8c-a4cb-5526ea6cd57d"
      },
      "source": [
        "def soma_array(valores):\n",
        "  valor_total = 0\n",
        "  for i in valores:\n",
        "    valor_total = valor_total + int(i)\n",
        "  return valor_total\n",
        "\n",
        "def valores_acima_da_media(valores, media):\n",
        "  valor_acima = 0\n",
        "  for i in valores:\n",
        "    if int(i) > int(media):\n",
        "      valor_acima = valor_acima + 1\n",
        "  return valor_acima\n",
        "\n",
        "valor = input(\"Digite um número: \")\n",
        "valores = [valor]\n",
        "while(valor != \"-1\"):\n",
        "  valor = input(\"Digite um número: \")\n",
        "  valores.append(valor)\n",
        "\n",
        "valores.pop()\n",
        "print(\"Quantidade de valores {}:\".format(len(valores)))\n",
        "print(\"Valores por ordem: {}\".format(valores))\n",
        "print(\"Soma dos valores: {}\".format(soma_array(valores)))\n",
        "print(\"Média dos valores: {}\".format(soma_array(valores)/len(valores)))\n",
        "print(\"Valores acima da média: {}\".format(valores_acima_da_media(valores,soma_array(valores)/len(valores))))\n",
        "print(\"Valores abaixo de 7: {}\".format(len([i for i in valores if int(i) < 7])))\n"
      ],
      "execution_count": null,
      "outputs": [
        {
          "output_type": "stream",
          "text": [
            "Digite um número: 10\n",
            "Digite um número: 5\n",
            "Digite um número: 12\n",
            "Digite um número: -1\n",
            "Quantidade de valores 3\n",
            "['10', '5', '12']\n",
            "Soma dos valores 27\n",
            "Média dos valores 9.0\n",
            "Valores acima da média 2\n",
            "Valores abaixo de 7 1\n"
          ],
          "name": "stdout"
        }
      ]
    }
  ]
}