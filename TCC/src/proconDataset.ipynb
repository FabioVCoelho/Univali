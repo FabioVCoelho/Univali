{
 "cells": [
  {
   "cell_type": "code",
   "execution_count": 2,
   "metadata": {},
   "outputs": [],
   "source": [
    "import re\n",
    "\n",
    "import pandas as pd\n",
    "from numpy import mean\n",
    "from sklearn.model_selection import cross_val_score\n",
    "from sklearn.model_selection import RepeatedStratifiedKFold\n",
    "from sklearn.tree import DecisionTreeClassifier\n",
    "from imblearn.pipeline import Pipeline\n",
    "from imblearn.over_sampling import SMOTE\n",
    "from collections import Counter\n",
    "\n",
    "\n",
    "chars_to_remove = ['.', '-', '(',    ')', '@', '/']\n",
    "regular_expression = '[' + re.escape (''. join (chars_to_remove)) + ']'\n",
    "pd.set_option('display.max_columns', None)\n",
    "pd.set_option(\"max_colwidth\", 100)"
   ]
  },
  {
   "cell_type": "markdown",
   "metadata": {},
   "source": [
    "Necessário excluir as 2 últimas linhas do arquivo para evitar 2 linhas nulas. das bases de 2009 até 2011.\n",
    "A base de 2018 possui algumas colunas 'nome fantasia' que possuem ';' como separador de empresas e que\n",
    "consequentemente atrapalham na leitura dos dados pois alteram a quantidade de colunas finais.\n",
    "Sendo necessário a modificação por linha manual (18 linhas no total)"
   ]
  },
  {
   "cell_type": "code",
   "execution_count": 3,
   "metadata": {
    "pycharm": {
     "name": "#%%\n"
    }
   },
   "outputs": [],
   "source": [
    "rec2009 = pd.read_csv(\"../data/reclamacoes-fundamentadas-sindec-2009.csv\",header=0,encoding=\"ISO-8859-9\",delimiter=\";\", dtype=\"str\")\n",
    "rec2010 = pd.read_csv(\"../data/reclamacoes-fundamentadas-sindec-2010.csv\",header=0,encoding=\"ISO-8859-9\",delimiter=\";\", dtype=\"str\")\n",
    "rec2011 = pd.read_csv(\"../data/reclamacoes-fundamentadas-sindec-2011.csv\",header=0,encoding=\"ISO-8859-9\",delimiter=\";\", dtype=\"str\")\n",
    "rec2012 = pd.read_csv(\"../data/reclamacoes-fundamentadas-sindec-2012.csv\",header=0,encoding=\"UTF-8\",delimiter=\";\", dtype=\"str\")\n",
    "rec2013 = pd.read_csv(\"../data/reclamacoes-fundamentadas-sindec-2013.csv\",header=0,encoding=\"UTF-8\",delimiter=\";\", dtype=\"str\")\n",
    "rec2014 = pd.read_csv(\"../data/reclamacoes-fundamentadas-sindec-2014.csv\",header=0,encoding=\"UTF-8\",delimiter=\";\", dtype=\"str\")\n",
    "rec2015 = pd.read_csv(\"../data/reclamacoes-fundamentadas-sindec-2015.csv\",header=0,encoding=\"UTF-8\",delimiter=\";\", dtype=\"str\")\n",
    "rec2016 = pd.read_csv(\"../data/reclamacoes-fundamentadas-sindec-2016_v2.csv\",header=0,encoding=\"UTF-8\",delimiter=\";\", dtype=\"str\")\n",
    "rec2017 = pd.read_csv(\"../data/CNRF_2017.csv\",header=0,encoding=\"UTF-8\",delimiter=\";\", dtype=\"str\")\n",
    "rec2018 = pd.read_csv(\"../data/CNRF2018.csv\",header=0,encoding=\"UTF-8\",delimiter=\";\", dtype=\"str\")"
   ]
  },
  {
   "cell_type": "code",
   "execution_count": 4,
   "metadata": {
    "pycharm": {
     "name": "#%%\n"
    }
   },
   "outputs": [],
   "source": [
    "rec2009 = rec2009.rename(columns={\n",
    "    \"anocalendario\": \"AnoCalendario\",\n",
    "    \"codigoregiao\": \"CodigoRegiao\",\n",
    "    \"regiao\": \"Regiao\",\n",
    "    \"radical\": \"RadicalCNPJ\"})\n"
   ]
  },
  {
   "cell_type": "code",
   "execution_count": 5,
   "metadata": {
    "pycharm": {
     "name": "#%%\n"
    }
   },
   "outputs": [],
   "source": [
    "rec2010 = rec2010.rename(columns={\n",
    "    \"anocalendario\": \"AnoCalendario\",\n",
    "    \"codigoregiao\": \"CodigoRegiao\",\n",
    "    \"regiao\": \"Regiao\",\n",
    "    \"radicalCNPJ\": \"RadicalCNPJ\"})"
   ]
  },
  {
   "cell_type": "code",
   "execution_count": 6,
   "metadata": {
    "pycharm": {
     "name": "#%%\n"
    }
   },
   "outputs": [],
   "source": [
    "rec2011 = rec2011.rename(columns={\n",
    "    \"anocalendario\": \"AnoCalendario\",\n",
    "    \"codigoregiao\": \"CodigoRegiao\",\n",
    "    \"regiao\": \"Regiao\",\n",
    "    \"radicalCNPJ\": \"RadicalCNPJ\"})"
   ]
  },
  {
   "cell_type": "code",
   "execution_count": 7,
   "metadata": {
    "pycharm": {
     "name": "#%%\n"
    }
   },
   "outputs": [
    {
     "data": {
      "text/plain": "Index(['AnoCalendario', 'DataArquivamento', 'DataAbertura', 'CodigoRegiao',\n       'Regiao', 'UF', 'strRazaoSocial', 'strNomeFantasia', 'Tipo',\n       'NumeroCNPJ', 'RadicalCNPJ', 'RazaoSocialRFB', 'NomeFantasiaRFB',\n       'CNAEPrincipal', 'DescCNAEPrincipal', 'Atendida', 'CodigoAssunto',\n       'DescricaoAssunto', 'CodigoProblema', 'DescricaoProblema',\n       'SexoConsumidor', 'FaixaEtariaConsumidor', 'CEPConsumidor'],\n      dtype='object')"
     },
     "execution_count": 7,
     "metadata": {},
     "output_type": "execute_result"
    }
   ],
   "source": [
    "rec2012.columns"
   ]
  },
  {
   "cell_type": "code",
   "execution_count": 8,
   "metadata": {
    "pycharm": {
     "name": "#%%\n"
    }
   },
   "outputs": [
    {
     "data": {
      "text/plain": "Index(['AnoCalendario', 'DataArquivamento', 'DataAbertura', 'CodigoRegiao',\n       'Regiao', 'UF', 'strRazaoSocial', 'strNomeFantasia', 'Tipo',\n       'NumeroCNPJ', 'RadicalCNPJ', 'RazaoSocialRFB', 'NomeFantasiaRFB',\n       'CNAEPrincipal', 'DescCNAEPrincipal', 'Atendida', 'CodigoAssunto',\n       'DescricaoAssunto', 'CodigoProblema', 'DescricaoProblema',\n       'SexoConsumidor', 'FaixaEtariaConsumidor', 'CEPConsumidor'],\n      dtype='object')"
     },
     "execution_count": 8,
     "metadata": {},
     "output_type": "execute_result"
    }
   ],
   "source": [
    "rec2013.columns"
   ]
  },
  {
   "cell_type": "code",
   "execution_count": 9,
   "metadata": {
    "pycharm": {
     "name": "#%%\n"
    }
   },
   "outputs": [
    {
     "data": {
      "text/plain": "Index(['AnoCalendario', 'DataArquivamento', 'DataAbertura', 'CodigoRegiao',\n       'Regiao', 'UF', 'strRazaoSocial', 'strNomeFantasia', 'Tipo',\n       'NumeroCNPJ', 'RadicalCNPJ', 'RazaoSocialRFB', 'NomeFantasiaRFB',\n       'CNAEPrincipal', 'DescCNAEPrincipal', 'Atendida', 'CodigoAssunto',\n       'DescricaoAssunto', 'CodigoProblema', 'DescricaoProblema',\n       'SexoConsumidor', 'FaixaEtariaConsumidor', 'CEPConsumidor'],\n      dtype='object')"
     },
     "execution_count": 9,
     "metadata": {},
     "output_type": "execute_result"
    }
   ],
   "source": [
    "rec2014.columns"
   ]
  },
  {
   "cell_type": "code",
   "execution_count": 10,
   "metadata": {
    "pycharm": {
     "name": "#%%\n"
    }
   },
   "outputs": [
    {
     "data": {
      "text/plain": "Index(['AnoCalendario', 'DataArquivamento', 'DataAbertura', 'CodigoRegiao',\n       'Regiao', 'UF', 'strRazaoSocial', 'strNomeFantasia', 'Tipo',\n       'NumeroCNPJ', 'RadicalCNPJ', 'RazaoSocialRFB', 'NomeFantasiaRFB',\n       'CNAEPrincipal', 'DescCNAEPrincipal', 'Atendida', 'CodigoAssunto',\n       'DescricaoAssunto', 'CodigoProblema', 'DescricaoProblema',\n       'SexoConsumidor', 'FaixaEtariaConsumidor', 'CEPConsumidor'],\n      dtype='object')"
     },
     "execution_count": 10,
     "metadata": {},
     "output_type": "execute_result"
    }
   ],
   "source": [
    "rec2015.columns"
   ]
  },
  {
   "cell_type": "code",
   "execution_count": 11,
   "metadata": {
    "pycharm": {
     "name": "#%%\n"
    }
   },
   "outputs": [
    {
     "data": {
      "text/plain": "Index(['AnoCalendario', 'DataArquivamento', 'DataAbertura', 'CodigoRegiao',\n       'Regiao', 'UF', 'strRazaoSocial', 'strNomeFantasia', 'Tipo',\n       'NumeroCNPJ', 'RadicalCNPJ', 'RazaoSocialRFB', 'NomeFantasiaRFB',\n       'CNAEPrincipal', 'DescCNAEPrincipal', 'Atendida', 'CodigoAssunto',\n       'DescricaoAssunto', 'CodigoProblema', 'DescricaoProblema',\n       'SexoConsumidor', 'FaixaEtariaConsumidor', 'CEPConsumidor'],\n      dtype='object')"
     },
     "execution_count": 11,
     "metadata": {},
     "output_type": "execute_result"
    }
   ],
   "source": [
    "rec2016.columns"
   ]
  },
  {
   "cell_type": "code",
   "execution_count": 12,
   "metadata": {
    "pycharm": {
     "name": "#%%\n"
    }
   },
   "outputs": [
    {
     "data": {
      "text/plain": "Index(['AnoCalendario', 'DataArquivamento', 'DataAbertura', 'CodigoRegiao',\n       'Regiao', 'UF', 'strRazaoSocial', 'strNomeFantasia', 'Tipo',\n       'NumeroCNPJ', 'RadicalCNPJ', 'RazaoSocialRFB', 'NomeFantasiaRFB',\n       'CNAEPrincipal', 'DescCNAEPrincipal', 'Atendida', 'CodigoAssunto',\n       'DescricaoAssunto', 'CodigoProblema', 'DescricaoProblema',\n       'SexoConsumidor', 'FaixaEtariaConsumidor', 'CEPConsumidor'],\n      dtype='object')"
     },
     "execution_count": 12,
     "metadata": {},
     "output_type": "execute_result"
    }
   ],
   "source": [
    "rec2017.columns"
   ]
  },
  {
   "cell_type": "code",
   "execution_count": 13,
   "metadata": {
    "pycharm": {
     "name": "#%%\n"
    }
   },
   "outputs": [
    {
     "data": {
      "text/plain": "Index(['AnoCalendario', 'DataArquivamento', 'DataAbertura', 'CodigoRegiao',\n       'Regiao', 'UF', 'strRazaoSocial', 'strNomeFantasia', 'Tipo',\n       'NumeroCNPJ', 'RadicalCNPJ', 'RazaoSocialRFB', 'NomeFantasiaRFB',\n       'CNAEPrincipal', 'DescCNAEPrincipal', 'Atendida', 'CodigoAssunto',\n       'DescricaoAssunto', 'CodigoProblema', 'DescricaoProblema',\n       'SexoConsumidor', 'FaixaEtariaConsumidor', 'CEPConsumidor'],\n      dtype='object')"
     },
     "execution_count": 13,
     "metadata": {},
     "output_type": "execute_result"
    }
   ],
   "source": [
    "rec2018.columns"
   ]
  },
  {
   "cell_type": "code",
   "execution_count": 14,
   "metadata": {
    "pycharm": {
     "name": "#%%\n"
    }
   },
   "outputs": [],
   "source": [
    "frames = [rec2009,rec2010,rec2011,rec2012,rec2013,rec2014,rec2015,rec2016,rec2017,rec2018]"
   ]
  },
  {
   "cell_type": "code",
   "execution_count": 15,
   "metadata": {
    "pycharm": {
     "name": "#%%\n"
    }
   },
   "outputs": [],
   "source": [
    "df = pd.concat(frames)\n"
   ]
  },
  {
   "cell_type": "markdown",
   "metadata": {
    "pycharm": {
     "name": "#%% md\n"
    }
   },
   "source": [
    "A união de todas as tabelas deu 1.668.061 linhas com 23 colunas.\n"
   ]
  },
  {
   "cell_type": "code",
   "execution_count": 16,
   "metadata": {
    "pycharm": {
     "name": "#%%\n"
    }
   },
   "outputs": [
    {
     "data": {
      "text/plain": "      AnoCalendario         DataArquivamento             DataAbertura  \\\n0              2009  2009-01-21 15:29:29.000  2005-07-06 08:32:23.000   \n1              2009  2009-05-12 12:05:08.000  2006-01-17 12:10:53.000   \n2              2009  2009-04-23 08:52:31.000  2005-07-06 11:28:47.000   \n3              2009  2009-04-23 08:52:31.000  2005-07-06 11:28:47.000   \n4              2009  2009-07-23 11:57:40.000  2006-01-18 15:35:29.000   \n...             ...                      ...                      ...   \n39055          2018  2018-05-29 14:19:32.000  2017-01-30 14:46:11.000   \n39056          2018  2018-06-06 13:38:04.000  2018-04-09 08:39:46.000   \n39057          2018  2018-03-23 14:45:20.000  2018-02-23 16:37:15.000   \n39058          2018  2018-04-09 11:41:30.000  2018-02-27 11:40:27.000   \n39059          2018  2018-05-24 14:24:46.000  2018-03-07 13:17:07.000   \n\n      CodigoRegiao        Regiao  UF  \\\n0                5  Centro-oeste  GO   \n1                3       Sudeste  RJ   \n2                5  Centro-oeste  GO   \n3                5  Centro-oeste  GO   \n4                3       Sudeste  RJ   \n...            ...           ...  ..   \n39055            3       Sudeste  MG   \n39056            3       Sudeste  MG   \n39057            2      Nordeste  RN   \n39058            2      Nordeste  RN   \n39059            2      Nordeste  RN   \n\n                                           strRazaoSocial  \\\n0           CBP SUL - COLCHÕES E ESPUMAS INDUSTRIAIS LTDA   \n1                                               GRADIENTE   \n2                                      IGL INDÚSTRIA LTDA   \n3                          UNILEVER BESTFOODS BRASIL LTDA   \n4              EMPRESA BRASILEIRA DE TELECOMUNICAÇÕES S.A   \n...                                                   ...   \n39055                  BANCO LOSANGO S.A - BANCO MULTIPLO   \n39056        MERCADOLIVRE.COM ATIVIDADES DE INTERNET LTDA   \n39057                    ACBZ IMPORTACAO E COMERCIO LTDA.   \n39058                     NET SERVIÇOS DE COMUNICAÇÃO S/A   \n39059  CREFISA S.A. CREDITO FINANCIAMENTO E INVESTIMENTOS   \n\n                   strNomeFantasia Tipo      NumeroCNPJ radicalCNPJ  \\\n0                         LIMANSKY    1   1350934000116     1350934   \n1                              NaN    1  43185362001936    43185362   \n2      ELIDA PONDS INDUSTRIAL LTDA    1   3085759000102     3085759   \n3                         UNILEVER    1   1615814002066     1615814   \n4                 EMBRATEL - LIVRE    1  33530486000129    33530486   \n...                            ...  ...             ...         ...   \n39055                          NaN    1  33254319000100         NaN   \n39056                MERCADO LIVRE    1   3361252000134         NaN   \n39057               ASUS NO BRASIL    1   9509531000189         NaN   \n39058                          NET    1    108786018889         NaN   \n39059                  CREFISA S/A    1             NaN         NaN   \n\n                                            RazaoSocialRFB  \\\n0            CBP SUL - COLCHOES E ESPUMAS INDUSTRIAIS LTDA   \n1                                       IGB ELETRONICA S.A   \n2           UNILEVER BRASIL HIGIENE PESSOAL E LIMPEZA LTDA   \n3                          UNILEVER BRASIL INDUSTRIAL LTDA   \n4      EMPRESA BRASILEIRA DE TELECOMUNICACOES S A EMBRATEL   \n...                                                    ...   \n39055          HSBC FINANCE (BRASIL) S.A. - BANCO MULTIPLO   \n39056         MERCADOLIVRE.COM ATIVIDADES DE INTERNET LTDA   \n39057                     ACBZ IMPORTACAO E COMERCIO LTDA.   \n39058                      NET SERVICOS DE COMUNICACAO S/A   \n39059                                                  NaN   \n\n                    NomeFantasiaRFB CNAEPrincipal  \\\n0                               NaN       3104700   \n1                               NaN       2640000   \n2      ELIDA PONDS INDUSTRIAL LTDA.       2063100   \n3                               NaN       1031700   \n4                               NaN       6110899   \n...                             ...           ...   \n39055                           NaN       6431000   \n39056                           NaN       7490104   \n39057                           NaN       4651601   \n39058                           NaN       8299799   \n39059                           NaN           NaN   \n\n                                                                                        DescCNAEPrincipal  \\\n0                                                                                  FABRICAÇÃO DE COLCHÕES   \n1               FABRICAÇÃO DE APARELHOS DE RECEPÇÃO, REPRODUÇÃO, GRAVAÇÃO E AMPLIFICAÇÃO DE ÁUDIO E VÍDEO   \n2                                   FABRICAÇÃO DE COSMÉTICOS, PRODUTOS DE PERFUMARIA E DE HIGIENE PESSOAL   \n3                                                                       FABRICAÇÃO DE CONSERVAS DE FRUTAS   \n4                                    SERVIÇOS DE TELECOMUNICAÇÕES POR FIO NÃO ESPECIFICADOS ANTERIORMENTE   \n...                                                                                                   ...   \n39055                                                            BANCOS MÚLTIPLOS, SEM CARTEIRA COMERCIAL   \n39056     ATIVIDADES DE INTERMEDIAÇÃO E AGENCIAMENTO DE SERVIÇOS E NEGÓCIOS EM GERAL, EXCETO IMOBILIÁRIOS   \n39057                                                  COMÉRCIO ATACADISTA DE EQUIPAMENTOS DE INFORMÁTICA   \n39058  OUTRAS ATIVIDADES DE SERVIÇOS PRESTADOS PRINCIPALMENTE ÀS EMPRESAS NÃO ESPECIFICADAS ANTERIORMENTE   \n39059                                                                                                 NaN   \n\n      Atendida CodigoAssunto  \\\n0            S           100   \n1            N           146   \n2            N           224   \n3            N           224   \n4            S           186   \n...        ...           ...   \n39055        S            54   \n39056        S           106   \n39057        N           101   \n39058        S           186   \n39059        N            63   \n\n                                                           DescricaoAssunto  \\\n0                                                                   Colchão   \n1                                                              Aparelho DVD   \n2         Produto Para Uso Veterinário ( Medicamento / Sabonete / Shampoo )   \n3         Produto Para Uso Veterinário ( Medicamento / Sabonete / Shampoo )   \n4           Telefonia Fixa ( Plano de Expansão / Compra e Venda / Locação )   \n...                                                                     ...   \n39055                                                     Cartão de Crédito   \n39056  Artigo de Leitura ( Formal, Jornal, Revista, Folheto, Livros, Etc. )   \n39057                   Telefone ( Convencional, Celular, Interfone, Etc. )   \n39058       Telefonia Fixa ( Plano de Expansão / Compra e Venda / Locação )   \n39059                                                            Financeira   \n\n      CodigoProblema                         DescricaoProblema SexoConsumidor  \\\n0                105       Produto entregue com danos/defeitos              M   \n1                107  Não entrega/demora na entrega do produto              F   \n2                177    Presença de sujidades/corpos estranhos              F   \n3                177    Presença de sujidades/corpos estranhos              F   \n4                143  Contrato - Rescisão/alteração unilateral              F   \n...              ...                                       ...            ...   \n39055            NaN                                       NaN              F   \n39056            NaN                                       NaN              F   \n39057            NaN                                       NaN              F   \n39058            NaN                                       NaN              F   \n39059            NaN                                       NaN              F   \n\n      FaixaEtariaConsumidor CEPConsumidor RadicalCNPJ  \n0        entre 61 a 70 anos      74680330         NaN  \n1        entre 51 a 60 anos      23510240         NaN  \n2        entre 21 a 30 anos      74775010         NaN  \n3        entre 21 a 30 anos      74775010         NaN  \n4        entre 41 a 50 anos      20710270         NaN  \n...                     ...           ...         ...  \n39055    entre 61 a 70 anos      35180144    33254319  \n39056           até 20 anos      90035030     3361252  \n39057    entre 21 a 30 anos      59115110     9509531  \n39058    entre 61 a 70 anos      59073101      108786  \n39059    entre 61 a 70 anos      59092390         NaN  \n\n[1668061 rows x 24 columns]",
      "text/html": "<div>\n<style scoped>\n    .dataframe tbody tr th:only-of-type {\n        vertical-align: middle;\n    }\n\n    .dataframe tbody tr th {\n        vertical-align: top;\n    }\n\n    .dataframe thead th {\n        text-align: right;\n    }\n</style>\n<table border=\"1\" class=\"dataframe\">\n  <thead>\n    <tr style=\"text-align: right;\">\n      <th></th>\n      <th>AnoCalendario</th>\n      <th>DataArquivamento</th>\n      <th>DataAbertura</th>\n      <th>CodigoRegiao</th>\n      <th>Regiao</th>\n      <th>UF</th>\n      <th>strRazaoSocial</th>\n      <th>strNomeFantasia</th>\n      <th>Tipo</th>\n      <th>NumeroCNPJ</th>\n      <th>radicalCNPJ</th>\n      <th>RazaoSocialRFB</th>\n      <th>NomeFantasiaRFB</th>\n      <th>CNAEPrincipal</th>\n      <th>DescCNAEPrincipal</th>\n      <th>Atendida</th>\n      <th>CodigoAssunto</th>\n      <th>DescricaoAssunto</th>\n      <th>CodigoProblema</th>\n      <th>DescricaoProblema</th>\n      <th>SexoConsumidor</th>\n      <th>FaixaEtariaConsumidor</th>\n      <th>CEPConsumidor</th>\n      <th>RadicalCNPJ</th>\n    </tr>\n  </thead>\n  <tbody>\n    <tr>\n      <th>0</th>\n      <td>2009</td>\n      <td>2009-01-21 15:29:29.000</td>\n      <td>2005-07-06 08:32:23.000</td>\n      <td>5</td>\n      <td>Centro-oeste</td>\n      <td>GO</td>\n      <td>CBP SUL - COLCHÕES E ESPUMAS INDUSTRIAIS LTDA</td>\n      <td>LIMANSKY</td>\n      <td>1</td>\n      <td>1350934000116</td>\n      <td>1350934</td>\n      <td>CBP SUL - COLCHOES E ESPUMAS INDUSTRIAIS LTDA</td>\n      <td>NaN</td>\n      <td>3104700</td>\n      <td>FABRICAÇÃO DE COLCHÕES</td>\n      <td>S</td>\n      <td>100</td>\n      <td>Colchão</td>\n      <td>105</td>\n      <td>Produto entregue com danos/defeitos</td>\n      <td>M</td>\n      <td>entre 61 a 70 anos</td>\n      <td>74680330</td>\n      <td>NaN</td>\n    </tr>\n    <tr>\n      <th>1</th>\n      <td>2009</td>\n      <td>2009-05-12 12:05:08.000</td>\n      <td>2006-01-17 12:10:53.000</td>\n      <td>3</td>\n      <td>Sudeste</td>\n      <td>RJ</td>\n      <td>GRADIENTE</td>\n      <td>NaN</td>\n      <td>1</td>\n      <td>43185362001936</td>\n      <td>43185362</td>\n      <td>IGB ELETRONICA S.A</td>\n      <td>NaN</td>\n      <td>2640000</td>\n      <td>FABRICAÇÃO DE APARELHOS DE RECEPÇÃO, REPRODUÇÃO, GRAVAÇÃO E AMPLIFICAÇÃO DE ÁUDIO E VÍDEO</td>\n      <td>N</td>\n      <td>146</td>\n      <td>Aparelho DVD</td>\n      <td>107</td>\n      <td>Não entrega/demora na entrega do produto</td>\n      <td>F</td>\n      <td>entre 51 a 60 anos</td>\n      <td>23510240</td>\n      <td>NaN</td>\n    </tr>\n    <tr>\n      <th>2</th>\n      <td>2009</td>\n      <td>2009-04-23 08:52:31.000</td>\n      <td>2005-07-06 11:28:47.000</td>\n      <td>5</td>\n      <td>Centro-oeste</td>\n      <td>GO</td>\n      <td>IGL INDÚSTRIA LTDA</td>\n      <td>ELIDA PONDS INDUSTRIAL LTDA</td>\n      <td>1</td>\n      <td>3085759000102</td>\n      <td>3085759</td>\n      <td>UNILEVER BRASIL HIGIENE PESSOAL E LIMPEZA LTDA</td>\n      <td>ELIDA PONDS INDUSTRIAL LTDA.</td>\n      <td>2063100</td>\n      <td>FABRICAÇÃO DE COSMÉTICOS, PRODUTOS DE PERFUMARIA E DE HIGIENE PESSOAL</td>\n      <td>N</td>\n      <td>224</td>\n      <td>Produto Para Uso Veterinário ( Medicamento / Sabonete / Shampoo )</td>\n      <td>177</td>\n      <td>Presença de sujidades/corpos estranhos</td>\n      <td>F</td>\n      <td>entre 21 a 30 anos</td>\n      <td>74775010</td>\n      <td>NaN</td>\n    </tr>\n    <tr>\n      <th>3</th>\n      <td>2009</td>\n      <td>2009-04-23 08:52:31.000</td>\n      <td>2005-07-06 11:28:47.000</td>\n      <td>5</td>\n      <td>Centro-oeste</td>\n      <td>GO</td>\n      <td>UNILEVER BESTFOODS BRASIL LTDA</td>\n      <td>UNILEVER</td>\n      <td>1</td>\n      <td>1615814002066</td>\n      <td>1615814</td>\n      <td>UNILEVER BRASIL INDUSTRIAL LTDA</td>\n      <td>NaN</td>\n      <td>1031700</td>\n      <td>FABRICAÇÃO DE CONSERVAS DE FRUTAS</td>\n      <td>N</td>\n      <td>224</td>\n      <td>Produto Para Uso Veterinário ( Medicamento / Sabonete / Shampoo )</td>\n      <td>177</td>\n      <td>Presença de sujidades/corpos estranhos</td>\n      <td>F</td>\n      <td>entre 21 a 30 anos</td>\n      <td>74775010</td>\n      <td>NaN</td>\n    </tr>\n    <tr>\n      <th>4</th>\n      <td>2009</td>\n      <td>2009-07-23 11:57:40.000</td>\n      <td>2006-01-18 15:35:29.000</td>\n      <td>3</td>\n      <td>Sudeste</td>\n      <td>RJ</td>\n      <td>EMPRESA BRASILEIRA DE TELECOMUNICAÇÕES S.A</td>\n      <td>EMBRATEL - LIVRE</td>\n      <td>1</td>\n      <td>33530486000129</td>\n      <td>33530486</td>\n      <td>EMPRESA BRASILEIRA DE TELECOMUNICACOES S A EMBRATEL</td>\n      <td>NaN</td>\n      <td>6110899</td>\n      <td>SERVIÇOS DE TELECOMUNICAÇÕES POR FIO NÃO ESPECIFICADOS ANTERIORMENTE</td>\n      <td>S</td>\n      <td>186</td>\n      <td>Telefonia Fixa ( Plano de Expansão / Compra e Venda / Locação )</td>\n      <td>143</td>\n      <td>Contrato - Rescisão/alteração unilateral</td>\n      <td>F</td>\n      <td>entre 41 a 50 anos</td>\n      <td>20710270</td>\n      <td>NaN</td>\n    </tr>\n    <tr>\n      <th>...</th>\n      <td>...</td>\n      <td>...</td>\n      <td>...</td>\n      <td>...</td>\n      <td>...</td>\n      <td>...</td>\n      <td>...</td>\n      <td>...</td>\n      <td>...</td>\n      <td>...</td>\n      <td>...</td>\n      <td>...</td>\n      <td>...</td>\n      <td>...</td>\n      <td>...</td>\n      <td>...</td>\n      <td>...</td>\n      <td>...</td>\n      <td>...</td>\n      <td>...</td>\n      <td>...</td>\n      <td>...</td>\n      <td>...</td>\n      <td>...</td>\n    </tr>\n    <tr>\n      <th>39055</th>\n      <td>2018</td>\n      <td>2018-05-29 14:19:32.000</td>\n      <td>2017-01-30 14:46:11.000</td>\n      <td>3</td>\n      <td>Sudeste</td>\n      <td>MG</td>\n      <td>BANCO LOSANGO S.A - BANCO MULTIPLO</td>\n      <td>NaN</td>\n      <td>1</td>\n      <td>33254319000100</td>\n      <td>NaN</td>\n      <td>HSBC FINANCE (BRASIL) S.A. - BANCO MULTIPLO</td>\n      <td>NaN</td>\n      <td>6431000</td>\n      <td>BANCOS MÚLTIPLOS, SEM CARTEIRA COMERCIAL</td>\n      <td>S</td>\n      <td>54</td>\n      <td>Cartão de Crédito</td>\n      <td>NaN</td>\n      <td>NaN</td>\n      <td>F</td>\n      <td>entre 61 a 70 anos</td>\n      <td>35180144</td>\n      <td>33254319</td>\n    </tr>\n    <tr>\n      <th>39056</th>\n      <td>2018</td>\n      <td>2018-06-06 13:38:04.000</td>\n      <td>2018-04-09 08:39:46.000</td>\n      <td>3</td>\n      <td>Sudeste</td>\n      <td>MG</td>\n      <td>MERCADOLIVRE.COM ATIVIDADES DE INTERNET LTDA</td>\n      <td>MERCADO LIVRE</td>\n      <td>1</td>\n      <td>3361252000134</td>\n      <td>NaN</td>\n      <td>MERCADOLIVRE.COM ATIVIDADES DE INTERNET LTDA</td>\n      <td>NaN</td>\n      <td>7490104</td>\n      <td>ATIVIDADES DE INTERMEDIAÇÃO E AGENCIAMENTO DE SERVIÇOS E NEGÓCIOS EM GERAL, EXCETO IMOBILIÁRIOS</td>\n      <td>S</td>\n      <td>106</td>\n      <td>Artigo de Leitura ( Formal, Jornal, Revista, Folheto, Livros, Etc. )</td>\n      <td>NaN</td>\n      <td>NaN</td>\n      <td>F</td>\n      <td>até 20 anos</td>\n      <td>90035030</td>\n      <td>3361252</td>\n    </tr>\n    <tr>\n      <th>39057</th>\n      <td>2018</td>\n      <td>2018-03-23 14:45:20.000</td>\n      <td>2018-02-23 16:37:15.000</td>\n      <td>2</td>\n      <td>Nordeste</td>\n      <td>RN</td>\n      <td>ACBZ IMPORTACAO E COMERCIO LTDA.</td>\n      <td>ASUS NO BRASIL</td>\n      <td>1</td>\n      <td>9509531000189</td>\n      <td>NaN</td>\n      <td>ACBZ IMPORTACAO E COMERCIO LTDA.</td>\n      <td>NaN</td>\n      <td>4651601</td>\n      <td>COMÉRCIO ATACADISTA DE EQUIPAMENTOS DE INFORMÁTICA</td>\n      <td>N</td>\n      <td>101</td>\n      <td>Telefone ( Convencional, Celular, Interfone, Etc. )</td>\n      <td>NaN</td>\n      <td>NaN</td>\n      <td>F</td>\n      <td>entre 21 a 30 anos</td>\n      <td>59115110</td>\n      <td>9509531</td>\n    </tr>\n    <tr>\n      <th>39058</th>\n      <td>2018</td>\n      <td>2018-04-09 11:41:30.000</td>\n      <td>2018-02-27 11:40:27.000</td>\n      <td>2</td>\n      <td>Nordeste</td>\n      <td>RN</td>\n      <td>NET SERVIÇOS DE COMUNICAÇÃO S/A</td>\n      <td>NET</td>\n      <td>1</td>\n      <td>108786018889</td>\n      <td>NaN</td>\n      <td>NET SERVICOS DE COMUNICACAO S/A</td>\n      <td>NaN</td>\n      <td>8299799</td>\n      <td>OUTRAS ATIVIDADES DE SERVIÇOS PRESTADOS PRINCIPALMENTE ÀS EMPRESAS NÃO ESPECIFICADAS ANTERIORMENTE</td>\n      <td>S</td>\n      <td>186</td>\n      <td>Telefonia Fixa ( Plano de Expansão / Compra e Venda / Locação )</td>\n      <td>NaN</td>\n      <td>NaN</td>\n      <td>F</td>\n      <td>entre 61 a 70 anos</td>\n      <td>59073101</td>\n      <td>108786</td>\n    </tr>\n    <tr>\n      <th>39059</th>\n      <td>2018</td>\n      <td>2018-05-24 14:24:46.000</td>\n      <td>2018-03-07 13:17:07.000</td>\n      <td>2</td>\n      <td>Nordeste</td>\n      <td>RN</td>\n      <td>CREFISA S.A. CREDITO FINANCIAMENTO E INVESTIMENTOS</td>\n      <td>CREFISA S/A</td>\n      <td>1</td>\n      <td>NaN</td>\n      <td>NaN</td>\n      <td>NaN</td>\n      <td>NaN</td>\n      <td>NaN</td>\n      <td>NaN</td>\n      <td>N</td>\n      <td>63</td>\n      <td>Financeira</td>\n      <td>NaN</td>\n      <td>NaN</td>\n      <td>F</td>\n      <td>entre 61 a 70 anos</td>\n      <td>59092390</td>\n      <td>NaN</td>\n    </tr>\n  </tbody>\n</table>\n<p>1668061 rows × 24 columns</p>\n</div>"
     },
     "execution_count": 16,
     "metadata": {},
     "output_type": "execute_result"
    }
   ],
   "source": [
    "df"
   ]
  },
  {
   "cell_type": "code",
   "execution_count": 17,
   "metadata": {
    "pycharm": {
     "name": "#%%\n"
    }
   },
   "outputs": [],
   "source": [
    "def view_df_stats(df):\n",
    "    print(\"Shape of df={}\".format(df.shape))\n",
    "    print(\"Number of index levels:{}\".format(df.index.nlevels))\n",
    "    for i in range(df.index.nlevels):\n",
    "        print(\"For index level {},unique values count={}\".format(i,df.index.get_level_values(i).unique().shape[0]))\n",
    "    print(\"Columns of df={}\".format(df.columns))\n",
    "    print(\"Null count= \\n {}\".format(df.isnull().sum()))\n",
    "    print(df.describe())\n"
   ]
  },
  {
   "cell_type": "code",
   "execution_count": 18,
   "metadata": {
    "pycharm": {
     "name": "#%%\n"
    }
   },
   "outputs": [
    {
     "name": "stdout",
     "output_type": "stream",
     "text": [
      "Shape of df=(1668061, 24)\n",
      "Number of index levels:1\n",
      "For index level 0,unique values count=268096\n",
      "Columns of df=Index(['AnoCalendario', 'DataArquivamento', 'DataAbertura', 'CodigoRegiao',\n",
      "       'Regiao', 'UF', 'strRazaoSocial', 'strNomeFantasia', 'Tipo',\n",
      "       'NumeroCNPJ', 'radicalCNPJ', 'RazaoSocialRFB', 'NomeFantasiaRFB',\n",
      "       'CNAEPrincipal', 'DescCNAEPrincipal', 'Atendida', 'CodigoAssunto',\n",
      "       'DescricaoAssunto', 'CodigoProblema', 'DescricaoProblema',\n",
      "       'SexoConsumidor', 'FaixaEtariaConsumidor', 'CEPConsumidor',\n",
      "       'RadicalCNPJ'],\n",
      "      dtype='object')\n",
      "Null count= \n",
      " AnoCalendario                  0\n",
      "DataArquivamento              20\n",
      "DataAbertura                   7\n",
      "CodigoRegiao                   0\n",
      "Regiao                         0\n",
      "UF                             0\n",
      "strRazaoSocial                11\n",
      "strNomeFantasia           267963\n",
      "Tipo                           0\n",
      "NumeroCNPJ                 71583\n",
      "radicalCNPJ              1569114\n",
      "RazaoSocialRFB             93932\n",
      "NomeFantasiaRFB           912164\n",
      "CNAEPrincipal              97994\n",
      "DescCNAEPrincipal         115687\n",
      "Atendida                       0\n",
      "CodigoAssunto                  0\n",
      "DescricaoAssunto               0\n",
      "CodigoProblema             47929\n",
      "DescricaoProblema          47929\n",
      "SexoConsumidor               986\n",
      "FaixaEtariaConsumidor          0\n",
      "CEPConsumidor             120078\n",
      "RadicalCNPJ               172113\n",
      "dtype: int64\n",
      "       AnoCalendario         DataArquivamento             DataAbertura  \\\n",
      "count        1668061                  1668041                  1668054   \n",
      "unique            10                  1015632                  1323660   \n",
      "top             2013  2015-12-31 00:00:00.000  2015-11-19 00:56:46.000   \n",
      "freq          268096                     1507                      201   \n",
      "\n",
      "       CodigoRegiao   Regiao       UF           strRazaoSocial  \\\n",
      "count       1668061  1668061  1668061                  1668050   \n",
      "unique           10        5       26                   151098   \n",
      "top              02  Sudeste       SP  TELEMAR NORTE LESTE S/A   \n",
      "freq         525088   572020   272245                    23914   \n",
      "\n",
      "       strNomeFantasia     Tipo      NumeroCNPJ radicalCNPJ  \\\n",
      "count          1400098  1668061         1596478       98947   \n",
      "unique          105412        2          116153        7693   \n",
      "top                 OI        1  33000118000179     4667337   \n",
      "freq             24673  1663980           22027        3354   \n",
      "\n",
      "                 RazaoSocialRFB NomeFantasiaRFB CNAEPrincipal  \\\n",
      "count                   1574129          755897       1570067   \n",
      "unique                    85103           52969          1016   \n",
      "top     TELEMAR NORTE LESTE S/A              OI       6422100   \n",
      "freq                      37984           75705        157701   \n",
      "\n",
      "                               DescCNAEPrincipal Atendida CodigoAssunto  \\\n",
      "count                                    1552374  1668061       1668061   \n",
      "unique                                       992        2           242   \n",
      "top     BANCOS MÚLTIPLOS, COM CARTEIRA COMERCIAL        S           101   \n",
      "freq                                      157701  1050668        199336   \n",
      "\n",
      "                                           DescricaoAssunto CodigoProblema  \\\n",
      "count                                               1668061        1620132   \n",
      "unique                                                  224           2201   \n",
      "top     Telefone ( Convencional, Celular, Interfone, Etc. )            105   \n",
      "freq                                                 199336         301664   \n",
      "\n",
      "        DescricaoProblema SexoConsumidor FaixaEtariaConsumidor CEPConsumidor  \\\n",
      "count             1620132        1667075               1668061       1547983   \n",
      "unique                225              3                     9        289599   \n",
      "top     Produto com vício              F    entre 31 a 40 anos      65000000   \n",
      "freq               259909         879662                385119          7734   \n",
      "\n",
      "       RadicalCNPJ  \n",
      "count      1495948  \n",
      "unique       86632  \n",
      "top       33000118  \n",
      "freq         35983  \n"
     ]
    }
   ],
   "source": [
    "view_df_stats(df)\n"
   ]
  },
  {
   "cell_type": "code",
   "execution_count": 19,
   "metadata": {
    "pycharm": {
     "name": "#%%\n"
    }
   },
   "outputs": [
    {
     "data": {
      "text/plain": "               DataArquivamento  DataAbertura  CodigoRegiao  Regiao     UF  \\\nAnoCalendario                                                                \n2009                       9824          9824          9824    9824   9824   \n2010                      11725         11725         11725   11725  11725   \n2011                       9162          9162          9162    9162   9162   \n2012                      13906         13906         13906   13906  13906   \n2013                      18667         18667         18667   18667  18667   \n2014                      17936         17936         17936   17936  17936   \n2015                      18211         18211         18211   18211  18211   \n2016                      14086         14086         14086   14086  14086   \n2017                       4696          4696          4702    4702   4702   \n2018                       1858          1858          1859    1859   1859   \n\n               strRazaoSocial  strNomeFantasia   Tipo  NumeroCNPJ  \\\nAnoCalendario                                                       \n2009                     9824             8025   9824        9304   \n2010                    11725             9809  11725       11175   \n2011                     9162             7964   9162        8824   \n2012                    13906            11661  13906       13240   \n2013                    18667            15131  18667       17996   \n2014                    17936            15002  17936       17176   \n2015                    18211            15148  18211       17153   \n2016                    14086            11988  14086       13289   \n2017                     4702             4057   4702        4364   \n2018                     1859             1560   1859        1806   \n\n               radicalCNPJ  RazaoSocialRFB  NomeFantasiaRFB  CNAEPrincipal  \\\nAnoCalendario                                                                \n2009                  9297            9285             4643           9285   \n2010                     0           11138             5696          11138   \n2011                     0            8798             4461           8798   \n2012                     0           13151             6323          13151   \n2013                     0           17897             8798          17552   \n2014                     0           17045             8851          17045   \n2015                     0           16809             8856          16809   \n2016                     0           12761             6688          12761   \n2017                     0            4093             2245           4093   \n2018                     0            1660              861           1660   \n\n               DescCNAEPrincipal  Atendida  CodigoAssunto  DescricaoAssunto  \\\nAnoCalendario                                                                 \n2009                        9269      9824           9824              9824   \n2010                       10920     11725          11725             11725   \n2011                        8614      9162           9162              9162   \n2012                       12851     13906          13906             13906   \n2013                       17552     18667          18667             18667   \n2014                       16769     17936          17936             17936   \n2015                       16614     18211          18211             18211   \n2016                       12657     14086          14086             14086   \n2017                        4062      4702           4702              4702   \n2018                        1646      1859           1859              1859   \n\n               CodigoProblema  DescricaoProblema  SexoConsumidor  \\\nAnoCalendario                                                      \n2009                     9824               9824            9824   \n2010                    11725              11725           11725   \n2011                     9162               9162            9162   \n2012                    13906              13906           13906   \n2013                    18667              18667           18667   \n2014                    17936              17936           17936   \n2015                    18210              18210           18211   \n2016                    14086              14086           14086   \n2017                     3582               3582            4693   \n2018                        4                  4            1855   \n\n               FaixaEtariaConsumidor  CEPConsumidor  RadicalCNPJ  \nAnoCalendario                                                     \n2009                            9824              0            0  \n2010                           11725              0        11157  \n2011                            9162              0         8810  \n2012                           13906              0        13162  \n2013                           18667              0        17996  \n2014                           17936              0        17137  \n2015                           18211              0        17153  \n2016                           14086              0        13289  \n2017                            4702              0         4364  \n2018                            1859              0         1797  ",
      "text/html": "<div>\n<style scoped>\n    .dataframe tbody tr th:only-of-type {\n        vertical-align: middle;\n    }\n\n    .dataframe tbody tr th {\n        vertical-align: top;\n    }\n\n    .dataframe thead th {\n        text-align: right;\n    }\n</style>\n<table border=\"1\" class=\"dataframe\">\n  <thead>\n    <tr style=\"text-align: right;\">\n      <th></th>\n      <th>DataArquivamento</th>\n      <th>DataAbertura</th>\n      <th>CodigoRegiao</th>\n      <th>Regiao</th>\n      <th>UF</th>\n      <th>strRazaoSocial</th>\n      <th>strNomeFantasia</th>\n      <th>Tipo</th>\n      <th>NumeroCNPJ</th>\n      <th>radicalCNPJ</th>\n      <th>RazaoSocialRFB</th>\n      <th>NomeFantasiaRFB</th>\n      <th>CNAEPrincipal</th>\n      <th>DescCNAEPrincipal</th>\n      <th>Atendida</th>\n      <th>CodigoAssunto</th>\n      <th>DescricaoAssunto</th>\n      <th>CodigoProblema</th>\n      <th>DescricaoProblema</th>\n      <th>SexoConsumidor</th>\n      <th>FaixaEtariaConsumidor</th>\n      <th>CEPConsumidor</th>\n      <th>RadicalCNPJ</th>\n    </tr>\n    <tr>\n      <th>AnoCalendario</th>\n      <th></th>\n      <th></th>\n      <th></th>\n      <th></th>\n      <th></th>\n      <th></th>\n      <th></th>\n      <th></th>\n      <th></th>\n      <th></th>\n      <th></th>\n      <th></th>\n      <th></th>\n      <th></th>\n      <th></th>\n      <th></th>\n      <th></th>\n      <th></th>\n      <th></th>\n      <th></th>\n      <th></th>\n      <th></th>\n      <th></th>\n    </tr>\n  </thead>\n  <tbody>\n    <tr>\n      <th>2009</th>\n      <td>9824</td>\n      <td>9824</td>\n      <td>9824</td>\n      <td>9824</td>\n      <td>9824</td>\n      <td>9824</td>\n      <td>8025</td>\n      <td>9824</td>\n      <td>9304</td>\n      <td>9297</td>\n      <td>9285</td>\n      <td>4643</td>\n      <td>9285</td>\n      <td>9269</td>\n      <td>9824</td>\n      <td>9824</td>\n      <td>9824</td>\n      <td>9824</td>\n      <td>9824</td>\n      <td>9824</td>\n      <td>9824</td>\n      <td>0</td>\n      <td>0</td>\n    </tr>\n    <tr>\n      <th>2010</th>\n      <td>11725</td>\n      <td>11725</td>\n      <td>11725</td>\n      <td>11725</td>\n      <td>11725</td>\n      <td>11725</td>\n      <td>9809</td>\n      <td>11725</td>\n      <td>11175</td>\n      <td>0</td>\n      <td>11138</td>\n      <td>5696</td>\n      <td>11138</td>\n      <td>10920</td>\n      <td>11725</td>\n      <td>11725</td>\n      <td>11725</td>\n      <td>11725</td>\n      <td>11725</td>\n      <td>11725</td>\n      <td>11725</td>\n      <td>0</td>\n      <td>11157</td>\n    </tr>\n    <tr>\n      <th>2011</th>\n      <td>9162</td>\n      <td>9162</td>\n      <td>9162</td>\n      <td>9162</td>\n      <td>9162</td>\n      <td>9162</td>\n      <td>7964</td>\n      <td>9162</td>\n      <td>8824</td>\n      <td>0</td>\n      <td>8798</td>\n      <td>4461</td>\n      <td>8798</td>\n      <td>8614</td>\n      <td>9162</td>\n      <td>9162</td>\n      <td>9162</td>\n      <td>9162</td>\n      <td>9162</td>\n      <td>9162</td>\n      <td>9162</td>\n      <td>0</td>\n      <td>8810</td>\n    </tr>\n    <tr>\n      <th>2012</th>\n      <td>13906</td>\n      <td>13906</td>\n      <td>13906</td>\n      <td>13906</td>\n      <td>13906</td>\n      <td>13906</td>\n      <td>11661</td>\n      <td>13906</td>\n      <td>13240</td>\n      <td>0</td>\n      <td>13151</td>\n      <td>6323</td>\n      <td>13151</td>\n      <td>12851</td>\n      <td>13906</td>\n      <td>13906</td>\n      <td>13906</td>\n      <td>13906</td>\n      <td>13906</td>\n      <td>13906</td>\n      <td>13906</td>\n      <td>0</td>\n      <td>13162</td>\n    </tr>\n    <tr>\n      <th>2013</th>\n      <td>18667</td>\n      <td>18667</td>\n      <td>18667</td>\n      <td>18667</td>\n      <td>18667</td>\n      <td>18667</td>\n      <td>15131</td>\n      <td>18667</td>\n      <td>17996</td>\n      <td>0</td>\n      <td>17897</td>\n      <td>8798</td>\n      <td>17552</td>\n      <td>17552</td>\n      <td>18667</td>\n      <td>18667</td>\n      <td>18667</td>\n      <td>18667</td>\n      <td>18667</td>\n      <td>18667</td>\n      <td>18667</td>\n      <td>0</td>\n      <td>17996</td>\n    </tr>\n    <tr>\n      <th>2014</th>\n      <td>17936</td>\n      <td>17936</td>\n      <td>17936</td>\n      <td>17936</td>\n      <td>17936</td>\n      <td>17936</td>\n      <td>15002</td>\n      <td>17936</td>\n      <td>17176</td>\n      <td>0</td>\n      <td>17045</td>\n      <td>8851</td>\n      <td>17045</td>\n      <td>16769</td>\n      <td>17936</td>\n      <td>17936</td>\n      <td>17936</td>\n      <td>17936</td>\n      <td>17936</td>\n      <td>17936</td>\n      <td>17936</td>\n      <td>0</td>\n      <td>17137</td>\n    </tr>\n    <tr>\n      <th>2015</th>\n      <td>18211</td>\n      <td>18211</td>\n      <td>18211</td>\n      <td>18211</td>\n      <td>18211</td>\n      <td>18211</td>\n      <td>15148</td>\n      <td>18211</td>\n      <td>17153</td>\n      <td>0</td>\n      <td>16809</td>\n      <td>8856</td>\n      <td>16809</td>\n      <td>16614</td>\n      <td>18211</td>\n      <td>18211</td>\n      <td>18211</td>\n      <td>18210</td>\n      <td>18210</td>\n      <td>18211</td>\n      <td>18211</td>\n      <td>0</td>\n      <td>17153</td>\n    </tr>\n    <tr>\n      <th>2016</th>\n      <td>14086</td>\n      <td>14086</td>\n      <td>14086</td>\n      <td>14086</td>\n      <td>14086</td>\n      <td>14086</td>\n      <td>11988</td>\n      <td>14086</td>\n      <td>13289</td>\n      <td>0</td>\n      <td>12761</td>\n      <td>6688</td>\n      <td>12761</td>\n      <td>12657</td>\n      <td>14086</td>\n      <td>14086</td>\n      <td>14086</td>\n      <td>14086</td>\n      <td>14086</td>\n      <td>14086</td>\n      <td>14086</td>\n      <td>0</td>\n      <td>13289</td>\n    </tr>\n    <tr>\n      <th>2017</th>\n      <td>4696</td>\n      <td>4696</td>\n      <td>4702</td>\n      <td>4702</td>\n      <td>4702</td>\n      <td>4702</td>\n      <td>4057</td>\n      <td>4702</td>\n      <td>4364</td>\n      <td>0</td>\n      <td>4093</td>\n      <td>2245</td>\n      <td>4093</td>\n      <td>4062</td>\n      <td>4702</td>\n      <td>4702</td>\n      <td>4702</td>\n      <td>3582</td>\n      <td>3582</td>\n      <td>4693</td>\n      <td>4702</td>\n      <td>0</td>\n      <td>4364</td>\n    </tr>\n    <tr>\n      <th>2018</th>\n      <td>1858</td>\n      <td>1858</td>\n      <td>1859</td>\n      <td>1859</td>\n      <td>1859</td>\n      <td>1859</td>\n      <td>1560</td>\n      <td>1859</td>\n      <td>1806</td>\n      <td>0</td>\n      <td>1660</td>\n      <td>861</td>\n      <td>1660</td>\n      <td>1646</td>\n      <td>1859</td>\n      <td>1859</td>\n      <td>1859</td>\n      <td>4</td>\n      <td>4</td>\n      <td>1855</td>\n      <td>1859</td>\n      <td>0</td>\n      <td>1797</td>\n    </tr>\n  </tbody>\n</table>\n</div>"
     },
     "execution_count": 19,
     "metadata": {},
     "output_type": "execute_result"
    }
   ],
   "source": [
    "df[(df['CEPConsumidor'].isnull())].groupby(\"AnoCalendario\").count()"
   ]
  },
  {
   "cell_type": "markdown",
   "metadata": {
    "pycharm": {
     "name": "#%% md\n"
    }
   },
   "source": [
    "Verificando que o número de CEPs que são vazios é de 120.078 e que isso representa\n",
    " 7,20% da base não é uma perda muito significativa que compromenta o estudo de caso.\n",
    " Dos 7,20%\n",
    "\n",
    " | Ano Calendario | Linhas |\n",
    " |----------------|--------|\n",
    " | 2009           | 9824   |\n",
    " | 2010           | 11725  |\n",
    " | 2011           | 9162   |\n",
    " | 2012           | 13906  |\n",
    " | 2013           | 18667  |\n",
    " | 2014           | 17936  |\n",
    " | 2015           | 18211  |\n",
    " | 2016           | 14086  |\n",
    " | 2017           | 4696   |\n",
    " | 2018           | 1858   |\n"
   ]
  },
  {
   "cell_type": "code",
   "execution_count": 20,
   "metadata": {
    "pycharm": {
     "name": "#%%\n"
    }
   },
   "outputs": [],
   "source": [
    "df2 = df.dropna(subset=[\"CEPConsumidor\"])"
   ]
  },
  {
   "cell_type": "code",
   "execution_count": 21,
   "metadata": {
    "pycharm": {
     "name": "#%%\n"
    }
   },
   "outputs": [
    {
     "name": "stdout",
     "output_type": "stream",
     "text": [
      "Shape of df=(1547983, 24)\n",
      "Number of index levels:1\n",
      "For index level 0,unique values count=268029\n",
      "Columns of df=Index(['AnoCalendario', 'DataArquivamento', 'DataAbertura', 'CodigoRegiao',\n",
      "       'Regiao', 'UF', 'strRazaoSocial', 'strNomeFantasia', 'Tipo',\n",
      "       'NumeroCNPJ', 'radicalCNPJ', 'RazaoSocialRFB', 'NomeFantasiaRFB',\n",
      "       'CNAEPrincipal', 'DescCNAEPrincipal', 'Atendida', 'CodigoAssunto',\n",
      "       'DescricaoAssunto', 'CodigoProblema', 'DescricaoProblema',\n",
      "       'SexoConsumidor', 'FaixaEtariaConsumidor', 'CEPConsumidor',\n",
      "       'RadicalCNPJ'],\n",
      "      dtype='object')\n",
      "Null count= \n",
      " AnoCalendario                  0\n",
      "DataArquivamento              13\n",
      "DataAbertura                   0\n",
      "CodigoRegiao                   0\n",
      "Regiao                         0\n",
      "UF                             0\n",
      "strRazaoSocial                11\n",
      "strNomeFantasia           248230\n",
      "Tipo                           0\n",
      "NumeroCNPJ                 65832\n",
      "radicalCNPJ              1458333\n",
      "RazaoSocialRFB             86491\n",
      "NomeFantasiaRFB           849508\n",
      "CNAEPrincipal              90208\n",
      "DescCNAEPrincipal         106563\n",
      "Atendida                       0\n",
      "CodigoAssunto                  0\n",
      "DescricaoAssunto               0\n",
      "CodigoProblema             44953\n",
      "DescricaoProblema          44953\n",
      "SexoConsumidor               973\n",
      "FaixaEtariaConsumidor          0\n",
      "CEPConsumidor                  0\n",
      "RadicalCNPJ               156900\n",
      "dtype: int64\n",
      "       AnoCalendario         DataArquivamento             DataAbertura  \\\n",
      "count        1547983                  1547970                  1547983   \n",
      "unique            10                   941064                  1232417   \n",
      "top             2014  2015-12-31 00:00:00.000  2015-11-19 00:56:46.000   \n",
      "freq          249828                     1496                      185   \n",
      "\n",
      "       CodigoRegiao   Regiao       UF           strRazaoSocial  \\\n",
      "count       1547983  1547983  1547983                  1547972   \n",
      "unique           10        5       26                   143505   \n",
      "top              03  Sudeste       SP  TELEMAR NORTE LESTE S/A   \n",
      "freq         504076   549039   268530                    22323   \n",
      "\n",
      "       strNomeFantasia     Tipo      NumeroCNPJ radicalCNPJ  \\\n",
      "count          1299753  1547983         1482151       89650   \n",
      "unique          100474        2          110707        7206   \n",
      "top                 OI        1  33000118000179     4667337   \n",
      "freq             23094  1544264           20683        3076   \n",
      "\n",
      "                 RazaoSocialRFB NomeFantasiaRFB CNAEPrincipal  \\\n",
      "count                   1461492          698475       1457775   \n",
      "unique                    80995           50377          1007   \n",
      "top     TELEMAR NORTE LESTE S/A              OI       6422100   \n",
      "freq                      35584           70973        146177   \n",
      "\n",
      "                               DescCNAEPrincipal Atendida CodigoAssunto  \\\n",
      "count                                    1441420  1547983       1547983   \n",
      "unique                                       983        2           242   \n",
      "top     BANCOS MÚLTIPLOS, COM CARTEIRA COMERCIAL        S           101   \n",
      "freq                                      146177   969357        183492   \n",
      "\n",
      "                                           DescricaoAssunto CodigoProblema  \\\n",
      "count                                               1547983        1503030   \n",
      "unique                                                  223           2126   \n",
      "top     Telefone ( Convencional, Celular, Interfone, Etc. )            105   \n",
      "freq                                                 183492         280870   \n",
      "\n",
      "        DescricaoProblema SexoConsumidor FaixaEtariaConsumidor CEPConsumidor  \\\n",
      "count             1503030        1547010               1547983       1547983   \n",
      "unique                225              3                     9        289599   \n",
      "top     Produto com vício              F    entre 31 a 40 anos      65000000   \n",
      "freq               241913         817951                359060          7734   \n",
      "\n",
      "       RadicalCNPJ  \n",
      "count      1391083  \n",
      "unique       82461  \n",
      "top       33000118  \n",
      "freq         33760  \n"
     ]
    }
   ],
   "source": [
    "view_df_stats(df2)"
   ]
  },
  {
   "cell_type": "markdown",
   "metadata": {},
   "source": [
    "Antes da remoção dos CEPs nulos, o ano que possuia mais reclamações\n",
    "era o de 2013 com 268.096 registros,após a remoção passou a ser o\n",
    "de 2014 o que possui mais reclamações com 249.828 registros.\n",
    "Assim como passou a ter somente 65.832 empresas sem o CNPJ\n",
    "que antes era de 71.583"
   ]
  },
  {
   "cell_type": "markdown",
   "metadata": {
    "pycharm": {
     "name": "#%% md\n"
    }
   },
   "source": [
    "Próxima etapa será de buscar o radical do CNPJ das empresas que não possuem o CNPJ.\n",
    "Como não se pode inferir o número do CNPJ pelo nome, pois pode ser uma outra filial\n",
    "da empresa"
   ]
  },
  {
   "cell_type": "code",
   "execution_count": 22,
   "metadata": {
    "pycharm": {
     "name": "#%%\n"
    }
   },
   "outputs": [
    {
     "data": {
      "text/plain": "               AnoCalendario\nAnoCalendario               \n2009                    5325\n2010                    4346\n2011                    4176\n2012                    9535\n2013                   10369\n2014                   10011\n2015                   11290\n2016                    7397\n2017                    2117\n2018                    1266",
      "text/html": "<div>\n<style scoped>\n    .dataframe tbody tr th:only-of-type {\n        vertical-align: middle;\n    }\n\n    .dataframe tbody tr th {\n        vertical-align: top;\n    }\n\n    .dataframe thead th {\n        text-align: right;\n    }\n</style>\n<table border=\"1\" class=\"dataframe\">\n  <thead>\n    <tr style=\"text-align: right;\">\n      <th></th>\n      <th>AnoCalendario</th>\n    </tr>\n    <tr>\n      <th>AnoCalendario</th>\n      <th></th>\n    </tr>\n  </thead>\n  <tbody>\n    <tr>\n      <th>2009</th>\n      <td>5325</td>\n    </tr>\n    <tr>\n      <th>2010</th>\n      <td>4346</td>\n    </tr>\n    <tr>\n      <th>2011</th>\n      <td>4176</td>\n    </tr>\n    <tr>\n      <th>2012</th>\n      <td>9535</td>\n    </tr>\n    <tr>\n      <th>2013</th>\n      <td>10369</td>\n    </tr>\n    <tr>\n      <th>2014</th>\n      <td>10011</td>\n    </tr>\n    <tr>\n      <th>2015</th>\n      <td>11290</td>\n    </tr>\n    <tr>\n      <th>2016</th>\n      <td>7397</td>\n    </tr>\n    <tr>\n      <th>2017</th>\n      <td>2117</td>\n    </tr>\n    <tr>\n      <th>2018</th>\n      <td>1266</td>\n    </tr>\n  </tbody>\n</table>\n</div>"
     },
     "execution_count": 22,
     "metadata": {},
     "output_type": "execute_result"
    }
   ],
   "source": [
    "df2[df2['NumeroCNPJ'].isnull()].groupby(['AnoCalendario']).agg({'AnoCalendario':'count'})"
   ]
  },
  {
   "cell_type": "markdown",
   "metadata": {
    "pycharm": {
     "name": "#%% md\n"
    }
   },
   "source": [
    "O ano em que mais possui CNPJ nulos é em 2015 com 11.290 registros\n"
   ]
  },
  {
   "cell_type": "code",
   "execution_count": 23,
   "metadata": {
    "pycharm": {
     "name": "#%%\n"
    }
   },
   "outputs": [
    {
     "data": {
      "text/plain": "array(['OI MÓVEL', 'OI FIXO', 'TELEMAR NORTE LESTE S/A',\n       'TELEMAR NORTE E LESTE S/A', 'TELEMAR NORTE LESTE S/A (OI FIXA)',\n       'TELEMAR NORTE LESTE S.A.', 'TELEMAR NORTE LESTE S/A - OI FIXO',\n       'TELEMAR NORTE LESTE S/A.', 'TELEMAR NORTE LESTE S/A OI',\n       'TELEMAR NORTE LESTE SA', 'TELEMAR NORTE LESTE',\n       'OI FIXO - TELEMAR NORTE LESTE S/A',\n       'TELEMAR NORTE LESTE S/A (OI FIXO)', 'OI CELULAR S/A - OI MÓVEL',\n       'OI - TELEMAR NORTE LESTE S/A', 'TELEMAR NORTE LESTE S.A',\n       'TELEMAR NORTE LEST S/A', 'TELEMAR NORTE LESTE S/A / OI FIXO',\n       'OI', 'OI S/A KENNEDY NORONHA TERENCE',\n       'OI - TELEMAR NORTE LESTE S/A, OI S/A, ÓI MÓVEL S/A',\n       'TELEMAR NORTE LESTE S/A  OI DESATIVADO VIDE OI S/A',\n       'TELEMAR N LESTE S/A - OI - DESATIVADO VIDE OI S/A',\n       'TELEMAR EMPRESA DE TELEFONIA  FIXA',\n       'TELEMAR NORTE LESTE S/A - OI',\n       'OPERADORA OI FIXO - TELEMAR NORTE LESTE',\n       'OI TELEMAR NORTE LESTE S.A', 'TELEMAR NORTE LESTE S/A-OI FIXO',\n       'TELEMAR S.A', 'TELEMAR NORTE LESTE S/A - EM RECUPERAÇÃO JUDICIAL',\n       'GRUPO OI', 'TELEMAR NORTE LESTE S/A @',\n       'OI/TELEMAR/TELECOMUNICAÇÕES DO RIO DE JANEIRO S.A'], dtype=object)"
     },
     "execution_count": 23,
     "metadata": {},
     "output_type": "execute_result"
    }
   ],
   "source": [
    "df[(df['RadicalCNPJ'] == \"33000118\")]['strRazaoSocial'].unique()"
   ]
  },
  {
   "cell_type": "markdown",
   "metadata": {},
   "source": [
    "Diversas empresas possuem razões sociais com o mesmo radical de CNPJ porém com nomes diferentes, enquanto que na base da RFB estes\n",
    "possuem o mesmo valor. Para aqueles que possuem valor na base da RFB como únicos será utilizado o mesmo como razão social.\n",
    "\n",
    "Para aprimorar a limpeza dos dados será removidos os caracteres que estão incluidos no SA tais como [.,/,-,@]"
   ]
  },
  {
   "cell_type": "code",
   "execution_count": 24,
   "metadata": {
    "pycharm": {
     "name": "#%%\n"
    }
   },
   "outputs": [
    {
     "name": "stderr",
     "output_type": "stream",
     "text": [
      "<ipython-input-24-7c798e4dd206>:1: SettingWithCopyWarning: \n",
      "A value is trying to be set on a copy of a slice from a DataFrame.\n",
      "Try using .loc[row_indexer,col_indexer] = value instead\n",
      "\n",
      "See the caveats in the documentation: https://pandas.pydata.org/pandas-docs/stable/user_guide/indexing.html#returning-a-view-versus-a-copy\n",
      "  df2['strRazaoSocial'] = df2['strRazaoSocial'].str.strip().replace(regular_expression, '', regex=True)\n"
     ]
    }
   ],
   "source": [
    "df2['strRazaoSocial'] = df2['strRazaoSocial'].str.strip().replace(regular_expression, '', regex=True)"
   ]
  },
  {
   "cell_type": "code",
   "execution_count": 25,
   "metadata": {
    "pycharm": {
     "name": "#%%\n"
    }
   },
   "outputs": [
    {
     "data": {
      "text/plain": "             AnoCalendario\nRadicalCNPJ               \n40432544              2300\n07170938               533\n06123835               187\n19304719               184\n33041260               178\n...                    ...\n13110836                 1\n20944438                 1\n13180502                 1\n20940220                 1\n20932411                 1\n\n[6873 rows x 1 columns]",
      "text/html": "<div>\n<style scoped>\n    .dataframe tbody tr th:only-of-type {\n        vertical-align: middle;\n    }\n\n    .dataframe tbody tr th {\n        vertical-align: top;\n    }\n\n    .dataframe thead th {\n        text-align: right;\n    }\n</style>\n<table border=\"1\" class=\"dataframe\">\n  <thead>\n    <tr style=\"text-align: right;\">\n      <th></th>\n      <th>AnoCalendario</th>\n    </tr>\n    <tr>\n      <th>RadicalCNPJ</th>\n      <th></th>\n    </tr>\n  </thead>\n  <tbody>\n    <tr>\n      <th>40432544</th>\n      <td>2300</td>\n    </tr>\n    <tr>\n      <th>07170938</th>\n      <td>533</td>\n    </tr>\n    <tr>\n      <th>06123835</th>\n      <td>187</td>\n    </tr>\n    <tr>\n      <th>19304719</th>\n      <td>184</td>\n    </tr>\n    <tr>\n      <th>33041260</th>\n      <td>178</td>\n    </tr>\n    <tr>\n      <th>...</th>\n      <td>...</td>\n    </tr>\n    <tr>\n      <th>13110836</th>\n      <td>1</td>\n    </tr>\n    <tr>\n      <th>20944438</th>\n      <td>1</td>\n    </tr>\n    <tr>\n      <th>13180502</th>\n      <td>1</td>\n    </tr>\n    <tr>\n      <th>20940220</th>\n      <td>1</td>\n    </tr>\n    <tr>\n      <th>20932411</th>\n      <td>1</td>\n    </tr>\n  </tbody>\n</table>\n<p>6873 rows × 1 columns</p>\n</div>"
     },
     "execution_count": 25,
     "metadata": {},
     "output_type": "execute_result"
    }
   ],
   "source": [
    "df2[df2['RazaoSocialRFB'].isnull()].groupby(\"RadicalCNPJ\").agg({'AnoCalendario':'count'}).sort_values(\"AnoCalendario\", ascending=False)"
   ]
  },
  {
   "cell_type": "code",
   "execution_count": 26,
   "metadata": {
    "pycharm": {
     "name": "#%%\n"
    }
   },
   "outputs": [
    {
     "data": {
      "text/plain": "array(['TELEMAR NORTE LESTE S/A'], dtype=object)"
     },
     "execution_count": 26,
     "metadata": {},
     "output_type": "execute_result"
    }
   ],
   "source": [
    "df2[(df2['RadicalCNPJ'] == \"33000118\")]['RazaoSocialRFB'].unique()"
   ]
  },
  {
   "cell_type": "code",
   "execution_count": 27,
   "metadata": {
    "pycharm": {
     "name": "#%%\n"
    }
   },
   "outputs": [
    {
     "data": {
      "text/plain": "array(['OI MÓVEL', 'OI FIXO', 'TELEMAR NORTE LESTE SA',\n       'TELEMAR NORTE E LESTE SA', 'TELEMAR NORTE LESTE SA OI FIXA',\n       'TELEMAR NORTE LESTE SA  OI FIXO', 'TELEMAR NORTE LESTE SA OI',\n       'TELEMAR NORTE LESTE', 'OI FIXO  TELEMAR NORTE LESTE SA',\n       'TELEMAR NORTE LESTE SA OI FIXO', 'OI CELULAR SA  OI MÓVEL',\n       'OI  TELEMAR NORTE LESTE SA', 'TELEMAR NORTE LEST SA', 'OI',\n       'OI SA KENNEDY NORONHA TERENCE',\n       'OI  TELEMAR NORTE LESTE SA, OI SA, ÓI MÓVEL SA',\n       'TELEMAR NORTE LESTE SA  OI DESATIVADO VIDE OI SA',\n       'TELEMAR N LESTE SA  OI  DESATIVADO VIDE OI SA',\n       'TELEMAR EMPRESA DE TELEFONIA  FIXA', 'TELEMAR NORTE LESTE SA  OI',\n       'OPERADORA OI FIXO  TELEMAR NORTE LESTE',\n       'OI TELEMAR NORTE LESTE SA', 'TELEMAR NORTE LESTE SAOI FIXO',\n       'TELEMAR SA', 'TELEMAR NORTE LESTE SA  EM RECUPERAÇÃO JUDICIAL',\n       'GRUPO OI', 'TELEMAR NORTE LESTE SA ',\n       'OITELEMARTELECOMUNICAÇÕES DO RIO DE JANEIRO SA'], dtype=object)"
     },
     "execution_count": 27,
     "metadata": {},
     "output_type": "execute_result"
    }
   ],
   "source": [
    "df2[(df2['RadicalCNPJ'] == \"33000118\")]['strRazaoSocial'].unique()"
   ]
  },
  {
   "cell_type": "code",
   "execution_count": 28,
   "metadata": {
    "pycharm": {
     "name": "#%%\n"
    }
   },
   "outputs": [
    {
     "data": {
      "text/plain": "      AnoCalendario         DataArquivamento             DataAbertura  \\\n4              2010  2009-11-09 13:49:15.000  2008-09-15 04:50:11.000   \n98             2010  2010-08-10 17:03:22.000  2009-03-03 13:29:18.000   \n99             2010  2010-07-26 15:14:29.000  2009-12-03 14:49:18.000   \n129            2010  2010-03-30 10:57:49.000  2010-01-05 12:43:33.000   \n235            2010  2010-07-26 12:17:43.000  2010-06-16 17:02:01.000   \n...             ...                      ...                      ...   \n38975          2018  2018-09-04 14:54:12.000  2018-02-15 09:56:20.000   \n38980          2018  2018-12-10 16:40:43.000  2018-11-07 11:00:49.000   \n38981          2018  2018-12-10 16:44:47.000  2018-10-31 14:30:52.000   \n39030          2018  2018-10-04 09:01:09.000  2018-09-13 08:57:39.000   \n39040          2018  2018-10-03 10:03:40.000  2018-08-30 14:59:27.000   \n\n      CodigoRegiao    Regiao  UF            strRazaoSocial  \\\n4               02  Nordeste  SE                  OI MÓVEL   \n98              02  Nordeste  PE                   OI FIXO   \n99              02  Nordeste  SE                  OI MÓVEL   \n129             03   Sudeste  MG    TELEMAR NORTE LESTE SA   \n235             03   Sudeste  ES    TELEMAR NORTE LESTE SA   \n...            ...       ...  ..                       ...   \n38975            3   Sudeste  MG  TELEMAR NORTE E LESTE SA   \n38980            3   Sudeste  MG  TELEMAR NORTE E LESTE SA   \n38981            3   Sudeste  MG  TELEMAR NORTE E LESTE SA   \n39030            3   Sudeste  MG  TELEMAR NORTE E LESTE SA   \n39040            3   Sudeste  MG  TELEMAR NORTE E LESTE SA   \n\n                                          strNomeFantasia Tipo  \\\n4                                                     NaN    1   \n98                                TELEMAR NORTE LESTE S/A    1   \n99                                                    NaN    1   \n129                                                    OI    1   \n235                                                    OI    1   \n...                                                   ...  ...   \n38975  TELEMAR (OI FIXO E MÓVEL, OI PAGGO, VELOX, OI NET)    1   \n38980  TELEMAR (OI FIXO E MÓVEL, OI PAGGO, VELOX, OI NET)    1   \n38981  TELEMAR (OI FIXO E MÓVEL, OI PAGGO, VELOX, OI NET)    1   \n39030  TELEMAR (OI FIXO E MÓVEL, OI PAGGO, VELOX, OI NET)    1   \n39040  TELEMAR (OI FIXO E MÓVEL, OI PAGGO, VELOX, OI NET)    1   \n\n           NumeroCNPJ radicalCNPJ           RazaoSocialRFB NomeFantasiaRFB  \\\n4      33000118000411         NaN  TELEMAR NORTE LESTE S/A              OI   \n98     33000118001493         NaN  TELEMAR NORTE LESTE S/A              OI   \n99     33000118000411         NaN  TELEMAR NORTE LESTE S/A              OI   \n129    33000118000179         NaN  TELEMAR NORTE LESTE S/A              OI   \n235    33000118000250         NaN  TELEMAR NORTE LESTE S/A              OI   \n...               ...         ...                      ...             ...   \n38975  33000118000330         NaN  TELEMAR NORTE LESTE S/A              OI   \n38980  33000118000330         NaN  TELEMAR NORTE LESTE S/A              OI   \n38981  33000118000330         NaN  TELEMAR NORTE LESTE S/A              OI   \n39030  33000118000330         NaN  TELEMAR NORTE LESTE S/A              OI   \n39040  33000118000330         NaN  TELEMAR NORTE LESTE S/A              OI   \n\n      CNAEPrincipal                           DescCNAEPrincipal Atendida  \\\n4           6110801  SERVIÇOS DE TELEFONIA FIXA COMUTADA - STFC        S   \n98          6110801  SERVIÇOS DE TELEFONIA FIXA COMUTADA - STFC        N   \n99          6110801  SERVIÇOS DE TELEFONIA FIXA COMUTADA - STFC        N   \n129         6110801  SERVIÇOS DE TELEFONIA FIXA COMUTADA - STFC        S   \n235         6110801  SERVIÇOS DE TELEFONIA FIXA COMUTADA - STFC        S   \n...             ...                                         ...      ...   \n38975       6110801  SERVIÇOS DE TELEFONIA FIXA COMUTADA - STFC        S   \n38980       6110801  SERVIÇOS DE TELEFONIA FIXA COMUTADA - STFC        S   \n38981       6110801  SERVIÇOS DE TELEFONIA FIXA COMUTADA - STFC        S   \n39030       6110801  SERVIÇOS DE TELEFONIA FIXA COMUTADA - STFC        S   \n39040       6110801  SERVIÇOS DE TELEFONIA FIXA COMUTADA - STFC        S   \n\n      CodigoAssunto  \\\n4               187   \n98              186   \n99              187   \n129             186   \n235             279   \n...             ...   \n38975           101   \n38980           187   \n38981           186   \n39030           186   \n39040           186   \n\n                                                      DescricaoAssunto  \\\n4                                                    Telefonia Celular   \n98     Telefonia Fixa ( Plano de Expansão / Compra e Venda / Locação )   \n99                                                   Telefonia Celular   \n129    Telefonia Fixa ( Plano de Expansão / Compra e Venda / Locação )   \n235                    Informática (Ex.:Provedor de Acesso a Internet)   \n...                                                                ...   \n38975              Telefone ( Convencional, Celular, Interfone, Etc. )   \n38980                                                Telefonia Celular   \n38981  Telefonia Fixa ( Plano de Expansão / Compra e Venda / Locação )   \n39030  Telefonia Fixa ( Plano de Expansão / Compra e Venda / Locação )   \n39040  Telefonia Fixa ( Plano de Expansão / Compra e Venda / Locação )   \n\n      CodigoProblema  \\\n4                134   \n98               134   \n99               138   \n129              134   \n235              196   \n...              ...   \n38975            NaN   \n38980            NaN   \n38981            NaN   \n39030            NaN   \n39040            NaN   \n\n                                              DescricaoProblema  \\\n4                                     Cobrança indevida/abusiva   \n98                                    Cobrança indevida/abusiva   \n99                                         Publicidade abusiva.   \n129                                   Cobrança indevida/abusiva   \n235    Duvida sobre cobrança/valor/reajuste/contrato/orçamento.   \n...                                                         ...   \n38975                                                       NaN   \n38980                                                       NaN   \n38981                                                       NaN   \n39030                                                       NaN   \n39040                                                       NaN   \n\n      SexoConsumidor FaixaEtariaConsumidor CEPConsumidor RadicalCNPJ  \n4                  M    entre 21 a 30 anos      49035170    33000118  \n98                 F       mais de 70 anos      54150170    33000118  \n99                 M    entre 21 a 30 anos      49060630    33000118  \n129                M    entre 51 a 60 anos      31110050    33000118  \n235                F    entre 21 a 30 anos      29017050    33000118  \n...              ...                   ...           ...         ...  \n38975              M    entre 41 a 50 anos      35051350    33000118  \n38980              F    entre 61 a 70 anos      35057710    33000118  \n38981              F    entre 61 a 70 anos      35010210    33000118  \n39030              F    entre 21 a 30 anos      35053210    33000118  \n39040              F    entre 61 a 70 anos      35060020    33000118  \n\n[33760 rows x 24 columns]",
      "text/html": "<div>\n<style scoped>\n    .dataframe tbody tr th:only-of-type {\n        vertical-align: middle;\n    }\n\n    .dataframe tbody tr th {\n        vertical-align: top;\n    }\n\n    .dataframe thead th {\n        text-align: right;\n    }\n</style>\n<table border=\"1\" class=\"dataframe\">\n  <thead>\n    <tr style=\"text-align: right;\">\n      <th></th>\n      <th>AnoCalendario</th>\n      <th>DataArquivamento</th>\n      <th>DataAbertura</th>\n      <th>CodigoRegiao</th>\n      <th>Regiao</th>\n      <th>UF</th>\n      <th>strRazaoSocial</th>\n      <th>strNomeFantasia</th>\n      <th>Tipo</th>\n      <th>NumeroCNPJ</th>\n      <th>radicalCNPJ</th>\n      <th>RazaoSocialRFB</th>\n      <th>NomeFantasiaRFB</th>\n      <th>CNAEPrincipal</th>\n      <th>DescCNAEPrincipal</th>\n      <th>Atendida</th>\n      <th>CodigoAssunto</th>\n      <th>DescricaoAssunto</th>\n      <th>CodigoProblema</th>\n      <th>DescricaoProblema</th>\n      <th>SexoConsumidor</th>\n      <th>FaixaEtariaConsumidor</th>\n      <th>CEPConsumidor</th>\n      <th>RadicalCNPJ</th>\n    </tr>\n  </thead>\n  <tbody>\n    <tr>\n      <th>4</th>\n      <td>2010</td>\n      <td>2009-11-09 13:49:15.000</td>\n      <td>2008-09-15 04:50:11.000</td>\n      <td>02</td>\n      <td>Nordeste</td>\n      <td>SE</td>\n      <td>OI MÓVEL</td>\n      <td>NaN</td>\n      <td>1</td>\n      <td>33000118000411</td>\n      <td>NaN</td>\n      <td>TELEMAR NORTE LESTE S/A</td>\n      <td>OI</td>\n      <td>6110801</td>\n      <td>SERVIÇOS DE TELEFONIA FIXA COMUTADA - STFC</td>\n      <td>S</td>\n      <td>187</td>\n      <td>Telefonia Celular</td>\n      <td>134</td>\n      <td>Cobrança indevida/abusiva</td>\n      <td>M</td>\n      <td>entre 21 a 30 anos</td>\n      <td>49035170</td>\n      <td>33000118</td>\n    </tr>\n    <tr>\n      <th>98</th>\n      <td>2010</td>\n      <td>2010-08-10 17:03:22.000</td>\n      <td>2009-03-03 13:29:18.000</td>\n      <td>02</td>\n      <td>Nordeste</td>\n      <td>PE</td>\n      <td>OI FIXO</td>\n      <td>TELEMAR NORTE LESTE S/A</td>\n      <td>1</td>\n      <td>33000118001493</td>\n      <td>NaN</td>\n      <td>TELEMAR NORTE LESTE S/A</td>\n      <td>OI</td>\n      <td>6110801</td>\n      <td>SERVIÇOS DE TELEFONIA FIXA COMUTADA - STFC</td>\n      <td>N</td>\n      <td>186</td>\n      <td>Telefonia Fixa ( Plano de Expansão / Compra e Venda / Locação )</td>\n      <td>134</td>\n      <td>Cobrança indevida/abusiva</td>\n      <td>F</td>\n      <td>mais de 70 anos</td>\n      <td>54150170</td>\n      <td>33000118</td>\n    </tr>\n    <tr>\n      <th>99</th>\n      <td>2010</td>\n      <td>2010-07-26 15:14:29.000</td>\n      <td>2009-12-03 14:49:18.000</td>\n      <td>02</td>\n      <td>Nordeste</td>\n      <td>SE</td>\n      <td>OI MÓVEL</td>\n      <td>NaN</td>\n      <td>1</td>\n      <td>33000118000411</td>\n      <td>NaN</td>\n      <td>TELEMAR NORTE LESTE S/A</td>\n      <td>OI</td>\n      <td>6110801</td>\n      <td>SERVIÇOS DE TELEFONIA FIXA COMUTADA - STFC</td>\n      <td>N</td>\n      <td>187</td>\n      <td>Telefonia Celular</td>\n      <td>138</td>\n      <td>Publicidade abusiva.</td>\n      <td>M</td>\n      <td>entre 21 a 30 anos</td>\n      <td>49060630</td>\n      <td>33000118</td>\n    </tr>\n    <tr>\n      <th>129</th>\n      <td>2010</td>\n      <td>2010-03-30 10:57:49.000</td>\n      <td>2010-01-05 12:43:33.000</td>\n      <td>03</td>\n      <td>Sudeste</td>\n      <td>MG</td>\n      <td>TELEMAR NORTE LESTE SA</td>\n      <td>OI</td>\n      <td>1</td>\n      <td>33000118000179</td>\n      <td>NaN</td>\n      <td>TELEMAR NORTE LESTE S/A</td>\n      <td>OI</td>\n      <td>6110801</td>\n      <td>SERVIÇOS DE TELEFONIA FIXA COMUTADA - STFC</td>\n      <td>S</td>\n      <td>186</td>\n      <td>Telefonia Fixa ( Plano de Expansão / Compra e Venda / Locação )</td>\n      <td>134</td>\n      <td>Cobrança indevida/abusiva</td>\n      <td>M</td>\n      <td>entre 51 a 60 anos</td>\n      <td>31110050</td>\n      <td>33000118</td>\n    </tr>\n    <tr>\n      <th>235</th>\n      <td>2010</td>\n      <td>2010-07-26 12:17:43.000</td>\n      <td>2010-06-16 17:02:01.000</td>\n      <td>03</td>\n      <td>Sudeste</td>\n      <td>ES</td>\n      <td>TELEMAR NORTE LESTE SA</td>\n      <td>OI</td>\n      <td>1</td>\n      <td>33000118000250</td>\n      <td>NaN</td>\n      <td>TELEMAR NORTE LESTE S/A</td>\n      <td>OI</td>\n      <td>6110801</td>\n      <td>SERVIÇOS DE TELEFONIA FIXA COMUTADA - STFC</td>\n      <td>S</td>\n      <td>279</td>\n      <td>Informática (Ex.:Provedor de Acesso a Internet)</td>\n      <td>196</td>\n      <td>Duvida sobre cobrança/valor/reajuste/contrato/orçamento.</td>\n      <td>F</td>\n      <td>entre 21 a 30 anos</td>\n      <td>29017050</td>\n      <td>33000118</td>\n    </tr>\n    <tr>\n      <th>...</th>\n      <td>...</td>\n      <td>...</td>\n      <td>...</td>\n      <td>...</td>\n      <td>...</td>\n      <td>...</td>\n      <td>...</td>\n      <td>...</td>\n      <td>...</td>\n      <td>...</td>\n      <td>...</td>\n      <td>...</td>\n      <td>...</td>\n      <td>...</td>\n      <td>...</td>\n      <td>...</td>\n      <td>...</td>\n      <td>...</td>\n      <td>...</td>\n      <td>...</td>\n      <td>...</td>\n      <td>...</td>\n      <td>...</td>\n      <td>...</td>\n    </tr>\n    <tr>\n      <th>38975</th>\n      <td>2018</td>\n      <td>2018-09-04 14:54:12.000</td>\n      <td>2018-02-15 09:56:20.000</td>\n      <td>3</td>\n      <td>Sudeste</td>\n      <td>MG</td>\n      <td>TELEMAR NORTE E LESTE SA</td>\n      <td>TELEMAR (OI FIXO E MÓVEL, OI PAGGO, VELOX, OI NET)</td>\n      <td>1</td>\n      <td>33000118000330</td>\n      <td>NaN</td>\n      <td>TELEMAR NORTE LESTE S/A</td>\n      <td>OI</td>\n      <td>6110801</td>\n      <td>SERVIÇOS DE TELEFONIA FIXA COMUTADA - STFC</td>\n      <td>S</td>\n      <td>101</td>\n      <td>Telefone ( Convencional, Celular, Interfone, Etc. )</td>\n      <td>NaN</td>\n      <td>NaN</td>\n      <td>M</td>\n      <td>entre 41 a 50 anos</td>\n      <td>35051350</td>\n      <td>33000118</td>\n    </tr>\n    <tr>\n      <th>38980</th>\n      <td>2018</td>\n      <td>2018-12-10 16:40:43.000</td>\n      <td>2018-11-07 11:00:49.000</td>\n      <td>3</td>\n      <td>Sudeste</td>\n      <td>MG</td>\n      <td>TELEMAR NORTE E LESTE SA</td>\n      <td>TELEMAR (OI FIXO E MÓVEL, OI PAGGO, VELOX, OI NET)</td>\n      <td>1</td>\n      <td>33000118000330</td>\n      <td>NaN</td>\n      <td>TELEMAR NORTE LESTE S/A</td>\n      <td>OI</td>\n      <td>6110801</td>\n      <td>SERVIÇOS DE TELEFONIA FIXA COMUTADA - STFC</td>\n      <td>S</td>\n      <td>187</td>\n      <td>Telefonia Celular</td>\n      <td>NaN</td>\n      <td>NaN</td>\n      <td>F</td>\n      <td>entre 61 a 70 anos</td>\n      <td>35057710</td>\n      <td>33000118</td>\n    </tr>\n    <tr>\n      <th>38981</th>\n      <td>2018</td>\n      <td>2018-12-10 16:44:47.000</td>\n      <td>2018-10-31 14:30:52.000</td>\n      <td>3</td>\n      <td>Sudeste</td>\n      <td>MG</td>\n      <td>TELEMAR NORTE E LESTE SA</td>\n      <td>TELEMAR (OI FIXO E MÓVEL, OI PAGGO, VELOX, OI NET)</td>\n      <td>1</td>\n      <td>33000118000330</td>\n      <td>NaN</td>\n      <td>TELEMAR NORTE LESTE S/A</td>\n      <td>OI</td>\n      <td>6110801</td>\n      <td>SERVIÇOS DE TELEFONIA FIXA COMUTADA - STFC</td>\n      <td>S</td>\n      <td>186</td>\n      <td>Telefonia Fixa ( Plano de Expansão / Compra e Venda / Locação )</td>\n      <td>NaN</td>\n      <td>NaN</td>\n      <td>F</td>\n      <td>entre 61 a 70 anos</td>\n      <td>35010210</td>\n      <td>33000118</td>\n    </tr>\n    <tr>\n      <th>39030</th>\n      <td>2018</td>\n      <td>2018-10-04 09:01:09.000</td>\n      <td>2018-09-13 08:57:39.000</td>\n      <td>3</td>\n      <td>Sudeste</td>\n      <td>MG</td>\n      <td>TELEMAR NORTE E LESTE SA</td>\n      <td>TELEMAR (OI FIXO E MÓVEL, OI PAGGO, VELOX, OI NET)</td>\n      <td>1</td>\n      <td>33000118000330</td>\n      <td>NaN</td>\n      <td>TELEMAR NORTE LESTE S/A</td>\n      <td>OI</td>\n      <td>6110801</td>\n      <td>SERVIÇOS DE TELEFONIA FIXA COMUTADA - STFC</td>\n      <td>S</td>\n      <td>186</td>\n      <td>Telefonia Fixa ( Plano de Expansão / Compra e Venda / Locação )</td>\n      <td>NaN</td>\n      <td>NaN</td>\n      <td>F</td>\n      <td>entre 21 a 30 anos</td>\n      <td>35053210</td>\n      <td>33000118</td>\n    </tr>\n    <tr>\n      <th>39040</th>\n      <td>2018</td>\n      <td>2018-10-03 10:03:40.000</td>\n      <td>2018-08-30 14:59:27.000</td>\n      <td>3</td>\n      <td>Sudeste</td>\n      <td>MG</td>\n      <td>TELEMAR NORTE E LESTE SA</td>\n      <td>TELEMAR (OI FIXO E MÓVEL, OI PAGGO, VELOX, OI NET)</td>\n      <td>1</td>\n      <td>33000118000330</td>\n      <td>NaN</td>\n      <td>TELEMAR NORTE LESTE S/A</td>\n      <td>OI</td>\n      <td>6110801</td>\n      <td>SERVIÇOS DE TELEFONIA FIXA COMUTADA - STFC</td>\n      <td>S</td>\n      <td>186</td>\n      <td>Telefonia Fixa ( Plano de Expansão / Compra e Venda / Locação )</td>\n      <td>NaN</td>\n      <td>NaN</td>\n      <td>F</td>\n      <td>entre 61 a 70 anos</td>\n      <td>35060020</td>\n      <td>33000118</td>\n    </tr>\n  </tbody>\n</table>\n<p>33760 rows × 24 columns</p>\n</div>"
     },
     "execution_count": 28,
     "metadata": {},
     "output_type": "execute_result"
    }
   ],
   "source": [
    "df2[(df2['RadicalCNPJ'] == \"33000118\")]"
   ]
  },
  {
   "cell_type": "code",
   "execution_count": 29,
   "metadata": {
    "pycharm": {
     "name": "#%%\n"
    }
   },
   "outputs": [
    {
     "data": {
      "text/plain": "array([nan, '00000000', '28196889', '00655522', '68181221', '06043050',\n       '0'], dtype=object)"
     },
     "execution_count": 29,
     "metadata": {},
     "output_type": "execute_result"
    }
   ],
   "source": [
    "df2[(df2['strRazaoSocial'] == \"BANCO DO BRASIL\")]['RadicalCNPJ'].unique()"
   ]
  },
  {
   "cell_type": "markdown",
   "metadata": {
    "pycharm": {
     "name": "#%% md\n"
    }
   },
   "source": [
    "Analisando a consulta pelos radicais de CNPJ, pode-se notar que Razão Social das empresas muitas vezes vem com diferentes escritas.\n"
   ]
  },
  {
   "cell_type": "markdown",
   "metadata": {
    "pycharm": {
     "name": "#%% md\n"
    }
   },
   "source": [
    "Algumas empresas possuem a mesma razão social porém com radicais de CNPJ distintos, tais como a\n",
    "\"TELEMAR NORTE LESTE S/A\", \"BANCO DO BRASIL\", \"CAIXA ECONÔMICA FEDERAL\"\n"
   ]
  },
  {
   "cell_type": "code",
   "execution_count": 30,
   "metadata": {
    "pycharm": {
     "name": "#%%\n"
    }
   },
   "outputs": [
    {
     "data": {
      "text/plain": "array(['BANCO DO BRASIL SA'], dtype=object)"
     },
     "execution_count": 30,
     "metadata": {},
     "output_type": "execute_result"
    }
   ],
   "source": [
    "df2[(df2['RadicalCNPJ'] == \"0\")]['RazaoSocialRFB'].unique()"
   ]
  },
  {
   "cell_type": "markdown",
   "metadata": {
    "pycharm": {
     "name": "#%% md\n"
    }
   },
   "source": [
    "Foi considerado utilizar a RazaoSocialRFB como strRazaoSocial, porém todos os campos que estão nulos na strRazaoSocial também estão vazios na\n",
    "RazaoSocialRFB/NumeroCNPJ/RadicalCNPJ, portanto nenhum deles é possível constatar qual a empresa que está sendo reclamada. Consequentemente estes\n",
    "serão removidos da base, pois não agregam valor aos dados. Que no total são 11 linhas"
   ]
  },
  {
   "cell_type": "code",
   "execution_count": 31,
   "metadata": {
    "pycharm": {
     "name": "#%%\n"
    }
   },
   "outputs": [],
   "source": [
    "df3 = df2.dropna(subset=[\"strRazaoSocial\"])"
   ]
  },
  {
   "cell_type": "code",
   "execution_count": 32,
   "metadata": {
    "pycharm": {
     "name": "#%%\n"
    }
   },
   "outputs": [
    {
     "name": "stdout",
     "output_type": "stream",
     "text": [
      "Shape of df=(1547972, 24)\n",
      "Number of index levels:1\n",
      "For index level 0,unique values count=268029\n",
      "Columns of df=Index(['AnoCalendario', 'DataArquivamento', 'DataAbertura', 'CodigoRegiao',\n",
      "       'Regiao', 'UF', 'strRazaoSocial', 'strNomeFantasia', 'Tipo',\n",
      "       'NumeroCNPJ', 'radicalCNPJ', 'RazaoSocialRFB', 'NomeFantasiaRFB',\n",
      "       'CNAEPrincipal', 'DescCNAEPrincipal', 'Atendida', 'CodigoAssunto',\n",
      "       'DescricaoAssunto', 'CodigoProblema', 'DescricaoProblema',\n",
      "       'SexoConsumidor', 'FaixaEtariaConsumidor', 'CEPConsumidor',\n",
      "       'RadicalCNPJ'],\n",
      "      dtype='object')\n",
      "Null count= \n",
      " AnoCalendario                  0\n",
      "DataArquivamento              13\n",
      "DataAbertura                   0\n",
      "CodigoRegiao                   0\n",
      "Regiao                         0\n",
      "UF                             0\n",
      "strRazaoSocial                 0\n",
      "strNomeFantasia           248219\n",
      "Tipo                           0\n",
      "NumeroCNPJ                 65821\n",
      "radicalCNPJ              1458322\n",
      "RazaoSocialRFB             86480\n",
      "NomeFantasiaRFB           849497\n",
      "CNAEPrincipal              90197\n",
      "DescCNAEPrincipal         106552\n",
      "Atendida                       0\n",
      "CodigoAssunto                  0\n",
      "DescricaoAssunto               0\n",
      "CodigoProblema             44950\n",
      "DescricaoProblema          44950\n",
      "SexoConsumidor               973\n",
      "FaixaEtariaConsumidor          0\n",
      "CEPConsumidor                  0\n",
      "RadicalCNPJ               156889\n",
      "dtype: int64\n",
      "       AnoCalendario         DataArquivamento             DataAbertura  \\\n",
      "count        1547972                  1547959                  1547972   \n",
      "unique            10                   941064                  1232417   \n",
      "top             2014  2015-12-31 00:00:00.000  2015-11-19 00:56:46.000   \n",
      "freq          249828                     1496                      185   \n",
      "\n",
      "       CodigoRegiao   Regiao       UF strRazaoSocial strNomeFantasia     Tipo  \\\n",
      "count       1547972  1547972  1547972        1547972         1299753  1547972   \n",
      "unique           10        5       26         139024          100474        2   \n",
      "top              03  Sudeste       SP       CLARO SA              OI        1   \n",
      "freq         504075   549038   268530          24925           23094  1544253   \n",
      "\n",
      "            NumeroCNPJ radicalCNPJ           RazaoSocialRFB NomeFantasiaRFB  \\\n",
      "count          1482151       89650                  1461492          698475   \n",
      "unique          110707        7206                    80995           50377   \n",
      "top     33000118000179     4667337  TELEMAR NORTE LESTE S/A              OI   \n",
      "freq             20683        3076                    35584           70973   \n",
      "\n",
      "       CNAEPrincipal                         DescCNAEPrincipal Atendida  \\\n",
      "count        1457775                                   1441420  1547972   \n",
      "unique          1007                                       983        2   \n",
      "top          6422100  BANCOS MÚLTIPLOS, COM CARTEIRA COMERCIAL        S   \n",
      "freq          146177                                    146177   969350   \n",
      "\n",
      "       CodigoAssunto                                     DescricaoAssunto  \\\n",
      "count        1547972                                              1547972   \n",
      "unique           242                                                  223   \n",
      "top              101  Telefone ( Convencional, Celular, Interfone, Etc. )   \n",
      "freq          183492                                               183492   \n",
      "\n",
      "       CodigoProblema  DescricaoProblema SexoConsumidor FaixaEtariaConsumidor  \\\n",
      "count         1503022            1503022        1546999               1547972   \n",
      "unique           2126                225              3                     9   \n",
      "top               105  Produto com vício              F    entre 31 a 40 anos   \n",
      "freq           280866             241909         817948                359060   \n",
      "\n",
      "       CEPConsumidor RadicalCNPJ  \n",
      "count        1547972     1391083  \n",
      "unique        289599       82461  \n",
      "top         65000000    33000118  \n",
      "freq            7734       33760  \n"
     ]
    }
   ],
   "source": [
    "view_df_stats(df3)"
   ]
  },
  {
   "cell_type": "code",
   "execution_count": 33,
   "metadata": {
    "pycharm": {
     "name": "#%%\n"
    }
   },
   "outputs": [
    {
     "data": {
      "text/plain": "array(['BOA FORMA MOVEIS', 'ELETRÔNICA AMAPÁ', 'SONOREM', ..., 'MASTER',\n       'ALEXANDRE PEDREIRO', 'JEAN CARLOS'], dtype=object)"
     },
     "execution_count": 33,
     "metadata": {},
     "output_type": "execute_result"
    }
   ],
   "source": [
    "df3[df3['NumeroCNPJ'].isnull()]['strRazaoSocial'].unique()"
   ]
  },
  {
   "cell_type": "markdown",
   "metadata": {
    "pycharm": {
     "name": "#%% md\n"
    }
   },
   "source": [
    "Plot Faixa etária por quantidade de reclamações.\n",
    "https://pandas.pydata.org/docs/reference/api/pandas.DataFrame.plot.bar.html"
   ]
  },
  {
   "cell_type": "code",
   "execution_count": 34,
   "metadata": {
    "pycharm": {
     "name": "#%%\n"
    }
   },
   "outputs": [
    {
     "data": {
      "text/plain": "<matplotlib.axes._subplots.AxesSubplot at 0x7f208a8ff760>"
     },
     "execution_count": 34,
     "metadata": {},
     "output_type": "execute_result"
    },
    {
     "data": {
      "text/plain": "<Figure size 432x288 with 1 Axes>",
      "image/png": "[encoded data removed]"
     },
     "metadata": {
      "needs_background": "light"
     },
     "output_type": "display_data"
    }
   ],
   "source": [
    "from collections import Counter\n",
    "age_counter = Counter(df['FaixaEtariaConsumidor'])\n",
    "df = pd.DataFrame.from_dict(age_counter, orient='index')\n",
    "df.plot(kind='bar')"
   ]
  },
  {
   "cell_type": "code",
   "execution_count": 35,
   "metadata": {
    "pycharm": {
     "name": "#%%\n"
    }
   },
   "outputs": [],
   "source": [
    "dfceps = pd.read_csv(\"../data/ceps.csv\", header=0, encoding=\"UTF-8\", delimiter=\"\\t\", dtype=\"str\")"
   ]
  },
  {
   "cell_type": "code",
   "execution_count": 36,
   "metadata": {
    "pycharm": {
     "name": "#%%\n"
    }
   },
   "outputs": [
    {
     "name": "stdout",
     "output_type": "stream",
     "text": [
      "Shape of df=(732763, 5)\n",
      "Number of index levels:1\n",
      "For index level 0,unique values count=732763\n",
      "Columns of df=Index(['CEP', 'cidadeEstado', 'bairro', 'rua', 'complemento'], dtype='object')\n",
      "Null count= \n",
      " CEP                  0\n",
      "cidadeEstado         0\n",
      "bairro           12018\n",
      "rua              10040\n",
      "complemento     706454\n",
      "dtype: int64\n",
      "             CEP  cidadeEstado  bairro                  rua  \\\n",
      "count     732763        732763  720745               722723   \n",
      "unique    732763         10443   18931               507668   \n",
      "top     06618010  São Paulo/SP  Centro  Rua Principal, s/n    \n",
      "freq           1         57175   31391                 1087   \n",
      "\n",
      "                     complemento  \n",
      "count                      26309  \n",
      "unique                     24193  \n",
      "top      Caixa Econômica Federal  \n",
      "freq                          35  \n"
     ]
    }
   ],
   "source": [
    "view_df_stats(dfceps)"
   ]
  },
  {
   "cell_type": "markdown",
   "metadata": {
    "pycharm": {
     "name": "#%% md\n"
    }
   },
   "source": [
    "A tabela unificada que foi criada através da base dos CEPs foi gerada com as cidades e UFs na mesma colunas\n",
    "separadas por '/' foi necessário separar ambos e inserir em 2 colunas separadas para simplificar as análises"
   ]
  },
  {
   "cell_type": "code",
   "execution_count": 37,
   "metadata": {
    "pycharm": {
     "name": "#%%\n"
    }
   },
   "outputs": [
    {
     "data": {
      "text/plain": "                               0               1\n0                      São Paulo              SP\n1                      São Paulo              SP\n2                      São Paulo              SP\n3                      São Paulo              SP\n4                      São Paulo              SP\n...                          ...             ...\n732758  São João Bosco (Ciríaco)  RS  - Distrito\n732759     Cruzaltinha (Ciríaco)  RS  - Distrito\n732760           David Canabarro              RS\n732761           David Canabarro              RS\n732762           David Canabarro              RS\n\n[732763 rows x 2 columns]",
      "text/html": "<div>\n<style scoped>\n    .dataframe tbody tr th:only-of-type {\n        vertical-align: middle;\n    }\n\n    .dataframe tbody tr th {\n        vertical-align: top;\n    }\n\n    .dataframe thead th {\n        text-align: right;\n    }\n</style>\n<table border=\"1\" class=\"dataframe\">\n  <thead>\n    <tr style=\"text-align: right;\">\n      <th></th>\n      <th>0</th>\n      <th>1</th>\n    </tr>\n  </thead>\n  <tbody>\n    <tr>\n      <th>0</th>\n      <td>São Paulo</td>\n      <td>SP</td>\n    </tr>\n    <tr>\n      <th>1</th>\n      <td>São Paulo</td>\n      <td>SP</td>\n    </tr>\n    <tr>\n      <th>2</th>\n      <td>São Paulo</td>\n      <td>SP</td>\n    </tr>\n    <tr>\n      <th>3</th>\n      <td>São Paulo</td>\n      <td>SP</td>\n    </tr>\n    <tr>\n      <th>4</th>\n      <td>São Paulo</td>\n      <td>SP</td>\n    </tr>\n    <tr>\n      <th>...</th>\n      <td>...</td>\n      <td>...</td>\n    </tr>\n    <tr>\n      <th>732758</th>\n      <td>São João Bosco (Ciríaco)</td>\n      <td>RS  - Distrito</td>\n    </tr>\n    <tr>\n      <th>732759</th>\n      <td>Cruzaltinha (Ciríaco)</td>\n      <td>RS  - Distrito</td>\n    </tr>\n    <tr>\n      <th>732760</th>\n      <td>David Canabarro</td>\n      <td>RS</td>\n    </tr>\n    <tr>\n      <th>732761</th>\n      <td>David Canabarro</td>\n      <td>RS</td>\n    </tr>\n    <tr>\n      <th>732762</th>\n      <td>David Canabarro</td>\n      <td>RS</td>\n    </tr>\n  </tbody>\n</table>\n<p>732763 rows × 2 columns</p>\n</div>"
     },
     "execution_count": 37,
     "metadata": {},
     "output_type": "execute_result"
    }
   ],
   "source": [
    "dfceps.cidadeEstado.str.split(\"/\", expand=True)"
   ]
  },
  {
   "cell_type": "code",
   "execution_count": 38,
   "metadata": {
    "pycharm": {
     "name": "#%%\n"
    }
   },
   "outputs": [],
   "source": [
    "dfceps[['cidade','estado']] = dfceps.cidadeEstado.str.split(\"/\", expand=True)"
   ]
  },
  {
   "cell_type": "code",
   "execution_count": 39,
   "metadata": {
    "pycharm": {
     "name": "#%%\n"
    }
   },
   "outputs": [
    {
     "data": {
      "text/plain": "array(['SP', 'SP  - Distrito', 'SP  - Povoado', 'RJ', 'RJ  - Distrito',\n       'RJ  - Povoado', 'ES', 'ES  - Distrito', 'ES  - Povoado', 'MG',\n       'MG  - Distrito', 'MG  - Povoado', 'BA', 'BA  - Distrito',\n       'BA  - Povoado', 'SE', 'SE  - Distrito', 'PE', 'PE  - Povoado',\n       'PE  - Distrito', 'AL', 'AL  - Povoado', 'AL  - Distrito', 'PB',\n       'PB  - Distrito', 'PB  - Povoado', 'RN', 'RN  - Distrito',\n       'RN  - Povoado', 'CE', 'CE  - Distrito', 'CE  - Povoado', 'PI',\n       'PI  - Povoado', 'MA', 'MA  - Distrito', 'MA  - Povoado', 'PA',\n       'PA  - Distrito', 'PA  - Povoado', 'AP', 'AP  - Povoado',\n       'AP  - Distrito', 'AM', 'AM  - Distrito', 'AM  - Povoado', 'RR',\n       'RR  - Distrito', 'AC', 'AC  - Distrito', 'DF', 'GO',\n       'GO  - Distrito', 'GO  - Povoado', 'RO', 'RO  - Distrito',\n       'RO  - Povoado', 'TO', 'TO  - Distrito', 'TO  - Povoado', 'MT',\n       'MT  - Povoado', 'MT  - Distrito', 'MS', 'MS  - Distrito', 'PR',\n       'PR  - Povoado', 'PR  - Distrito', 'SC', 'SC  - Distrito', 'RS',\n       'RS  - Distrito', 'RS  - Povoado'], dtype=object)"
     },
     "execution_count": 39,
     "metadata": {},
     "output_type": "execute_result"
    }
   ],
   "source": [
    "dfceps['estado'].unique()"
   ]
  },
  {
   "cell_type": "markdown",
   "metadata": {
    "pycharm": {
     "name": "#%% md\n"
    }
   },
   "source": [
    "Algumas UFs estão constatando como \"- Povoado\" e \"- Distrito\",\n",
    "sendo necessária a remoção desses dados para a unificação das UFs"
   ]
  },
  {
   "cell_type": "code",
   "execution_count": 40,
   "metadata": {
    "pycharm": {
     "name": "#%%\n"
    }
   },
   "outputs": [
    {
     "data": {
      "text/plain": "array(['SP', 'RJ', 'ES', 'MG', 'BA', 'SE', 'PE', 'AL', 'PB', 'RN', 'CE',\n       'PI', 'MA', 'PA', 'AP', 'AM', 'RR', 'AC', 'DF', 'GO', 'RO', 'TO',\n       'MT', 'MS', 'PR', 'SC', 'RS'], dtype=object)"
     },
     "execution_count": 40,
     "metadata": {},
     "output_type": "execute_result"
    }
   ],
   "source": [
    "dfceps['estado'] = dfceps['estado'].str.replace(\"  - Povoado\",\"\")\n",
    "dfceps['estado'] = dfceps['estado'].str.replace(\"  - Distrito\",\"\")\n",
    "dfceps['estado'].unique()"
   ]
  },
  {
   "cell_type": "code",
   "execution_count": 41,
   "metadata": {
    "pycharm": {
     "name": "#%%\n"
    }
   },
   "outputs": [
    {
     "data": {
      "text/plain": "        CEP  cidadeEstado bairro                       rua  \\\n0  01001000  São Paulo/SP     Sé  Praça da Sé - lado ímpar   \n1  01001001  São Paulo/SP     Sé    Praça da Sé - lado par   \n2  01001010  São Paulo/SP     Sé    Rua Filipe de Oliveira   \n3  01001900  São Paulo/SP     Sé         Praça da Sé, 108    \n4  01001901  São Paulo/SP     Sé         Praça da Sé, 371    \n\n                                              complemento     cidade estado  \n0                                                     NaN  São Paulo     SP  \n1                                                     NaN  São Paulo     SP  \n2                                                     NaN  São Paulo     SP  \n3   UNESP - Universidade Estadual Júlio de Mesquita Filho  São Paulo     SP  \n4                                    Edifício Santa Lídia  São Paulo     SP  ",
      "text/html": "<div>\n<style scoped>\n    .dataframe tbody tr th:only-of-type {\n        vertical-align: middle;\n    }\n\n    .dataframe tbody tr th {\n        vertical-align: top;\n    }\n\n    .dataframe thead th {\n        text-align: right;\n    }\n</style>\n<table border=\"1\" class=\"dataframe\">\n  <thead>\n    <tr style=\"text-align: right;\">\n      <th></th>\n      <th>CEP</th>\n      <th>cidadeEstado</th>\n      <th>bairro</th>\n      <th>rua</th>\n      <th>complemento</th>\n      <th>cidade</th>\n      <th>estado</th>\n    </tr>\n  </thead>\n  <tbody>\n    <tr>\n      <th>0</th>\n      <td>01001000</td>\n      <td>São Paulo/SP</td>\n      <td>Sé</td>\n      <td>Praça da Sé - lado ímpar</td>\n      <td>NaN</td>\n      <td>São Paulo</td>\n      <td>SP</td>\n    </tr>\n    <tr>\n      <th>1</th>\n      <td>01001001</td>\n      <td>São Paulo/SP</td>\n      <td>Sé</td>\n      <td>Praça da Sé - lado par</td>\n      <td>NaN</td>\n      <td>São Paulo</td>\n      <td>SP</td>\n    </tr>\n    <tr>\n      <th>2</th>\n      <td>01001010</td>\n      <td>São Paulo/SP</td>\n      <td>Sé</td>\n      <td>Rua Filipe de Oliveira</td>\n      <td>NaN</td>\n      <td>São Paulo</td>\n      <td>SP</td>\n    </tr>\n    <tr>\n      <th>3</th>\n      <td>01001900</td>\n      <td>São Paulo/SP</td>\n      <td>Sé</td>\n      <td>Praça da Sé, 108</td>\n      <td>UNESP - Universidade Estadual Júlio de Mesquita Filho</td>\n      <td>São Paulo</td>\n      <td>SP</td>\n    </tr>\n    <tr>\n      <th>4</th>\n      <td>01001901</td>\n      <td>São Paulo/SP</td>\n      <td>Sé</td>\n      <td>Praça da Sé, 371</td>\n      <td>Edifício Santa Lídia</td>\n      <td>São Paulo</td>\n      <td>SP</td>\n    </tr>\n  </tbody>\n</table>\n</div>"
     },
     "execution_count": 41,
     "metadata": {},
     "output_type": "execute_result"
    }
   ],
   "source": [
    "dfceps.head()"
   ]
  },
  {
   "cell_type": "code",
   "execution_count": 42,
   "metadata": {
    "pycharm": {
     "name": "#%%\n"
    }
   },
   "outputs": [],
   "source": [
    "# merged = pd.merge(df3,dfceps,left_on=\"CEPConsumidor\", right_on=\"CEP\", indicator=True, how='outer')\n",
    "# pd.Series(merged[merged['_merge'] == 'left_only']['CEPConsumidor'].replace(\"-\",\"\").unique()).to_csv('ceps_not_founded_on_public_ceps.csv', index=False)\n",
    "# dfMerged = pd.read_csv(\"uniqueCEPs.csv\")\n",
    "# dfMerged\n",
    "\n",
    "# import requests\n",
    "#\n",
    "# row_list = []\n",
    "# for row in dfMerged['CEPConsumidor'][:100]:\n",
    "#     try:\n",
    "#         r = requests.get(\"https://viacep.com.br/ws/\" + row + \"/json/\")\n",
    "#         rjson = r.json()\n",
    "#         if 'erro' not in rjson:\n",
    "#             row_list.append(\n",
    "#                 {\"CEP\": rjson['cep'].replace(\"-\",\"\"),\n",
    "#                 \"cidadeEstado\": rjson['localidade'] + '/' + rjson['uf'],\n",
    "#                  \"bairro\": rjson['bairro'],\n",
    "#                  \"rua\": rjson['logradouro'],\n",
    "#                  \"complemento\": rjson['complemento'],\n",
    "#                  \"cidade\": rjson['localidade'],\n",
    "#                  \"estado\": rjson['uf']\n",
    "#                  }\n",
    "#             )\n",
    "#     except requests.exceptions.HTTPError as e:\n",
    "#         print(\"Http error\")\n",
    "#         print(e)\n",
    "#     except requests.exceptions.ConnectionError as e:\n",
    "#         print(\"connection problem\")\n",
    "#         print(e)\n",
    "#         break\n",
    "#     except Exception as e:\n",
    "#         print(\"Other Exception\")\n",
    "#         print(e)\n",
    "\n",
    "# df4 = pd.DataFrame(row_list, columns=['CEP','cidadeEstado','bairro','rua','complemento','cidade','estado'])\n",
    "# df4.to_csv('cepsFaltante.csv')\n",
    "# df4.drop_duplicates()\n",
    "# df5 = pd.concat([df4, dfceps])\n",
    "# df5.show()\n",
    "# df5.to_csv(\"cepsJuntados.csv\")\n"
   ]
  },
  {
   "cell_type": "markdown",
   "metadata": {
    "pycharm": {
     "name": "#%% md\n"
    }
   },
   "source": [
    "https://www.kaggle.com/wfoliveira/ceps-brasil-201805"
   ]
  },
  {
   "cell_type": "code",
   "metadata": {
    "pycharm": {
     "name": "#%%\n"
    }
   },
   "source": [
    "df6 = pd.read_csv(\"../data/tbl_cep_201805_csv.csv\",header=0,encoding=\"ISO-8859-9\",delimiter=\",\", dtype=\"str\")\n",
    "df6"
   ],
   "execution_count": 43,
   "outputs": [
    {
     "data": {
      "text/plain": "              cep      tipo                   nome_logradouro  \\\n0        01001000     Praça                             da Sé   \n1        01001001     Praça                             da Sé   \n2        01001010       Rua                Filipe de Oliveira   \n3        01001900     Praça                        da Sé, 108   \n4        01001901     Praça                        da Sé, 371   \n...           ...       ...                               ...   \n1108500  99980000       NaN                               NaN   \n1108501  99980970       Rua              Adelino Gazzoni, 160   \n1108502  99980974  Distrito  Capela São José do Capingui, s/n   \n1108503  99990000       NaN                               NaN   \n1108504  99990971       Rua               Vinte de Março, 107   \n\n                                        logradouro  \\\n0                                      Praça da Sé   \n1                                      Praça da Sé   \n2                           Rua Filipe de Oliveira   \n3                                 Praça da Sé, 108   \n4                                 Praça da Sé, 371   \n...                                            ...   \n1108500                                        NaN   \n1108501                   Rua Adelino Gazzoni, 160   \n1108502  Distrito Capela São José do Capingui, s/n   \n1108503                                        NaN   \n1108504                    Rua Vinte de Março, 107   \n\n                                         bairro           cidade estado  \\\n0                                            Sé        São Paulo     SP   \n1                                            Sé        São Paulo     SP   \n2                                            Sé        São Paulo     SP   \n3                                            Sé        São Paulo     SP   \n4                                            Sé        São Paulo     SP   \n...                                         ...              ...    ...   \n1108500                                     NaN  David Canabarro     RS   \n1108501                                  Centro  David Canabarro     RS   \n1108502  Capela São José do Capingui (Distrito)  David Canabarro     RS   \n1108503                                     NaN        Muliterno     RS   \n1108504                                  Centro        Muliterno     RS   \n\n        complemento                                       grandes_usuarios  \\\n0        lado ímpar                                                    NaN   \n1          lado par                                                    NaN   \n2               NaN                                                    NaN   \n3               NaN  UNESP - Universidade Estadual Júlio de Mesquita Filho   \n4               NaN                                   Edifício Santa Lídia   \n...             ...                                                    ...   \n1108500         NaN                                                    NaN   \n1108501         NaN                                                    NaN   \n1108502         NaN                                                    NaN   \n1108503         NaN                                                    NaN   \n1108504         NaN                                                    NaN   \n\n        tipo_sem_acento        nome_logradouro_sem_acento  \\\n0                 Praca                             da Se   \n1                 Praca                             da Se   \n2                   Rua                Filipe de Oliveira   \n3                 Praca                        da Se, 108   \n4                 Praca                        da Se, 371   \n...                 ...                               ...   \n1108500             NaN                               NaN   \n1108501             Rua              Adelino Gazzoni, 160   \n1108502        Distrito  Capela Sao Jose do Capingui, s/n   \n1108503             NaN                               NaN   \n1108504             Rua               Vinte de Marco, 107   \n\n                             logradouro_sem_acento  \\\n0                                      Praca da Se   \n1                                      Praca da Se   \n2                           Rua Filipe de Oliveira   \n3                                 Praca da Se, 108   \n4                                 Praca da Se, 371   \n...                                            ...   \n1108500                                        NaN   \n1108501                   Rua Adelino Gazzoni, 160   \n1108502  Distrito Capela Sao Jose do Capingui, s/n   \n1108503                                        NaN   \n1108504                    Rua Vinte de Marco, 107   \n\n                              bairro_sem_acento cidade_sem_acento  \\\n0                                            Se         Sao Paulo   \n1                                            Se         Sao Paulo   \n2                                            Se         Sao Paulo   \n3                                            Se         Sao Paulo   \n4                                            Se         Sao Paulo   \n...                                         ...               ...   \n1108500                                     NaN   David Canabarro   \n1108501                                  Centro   David Canabarro   \n1108502  Capela Sao Jose do Capingui (Distrito)   David Canabarro   \n1108503                                     NaN         Muliterno   \n1108504                                  Centro         Muliterno   \n\n        complemento_sem_acento  \\\n0                   lado impar   \n1                     lado par   \n2                          NaN   \n3                          NaN   \n4                          NaN   \n...                        ...   \n1108500                    NaN   \n1108501                    NaN   \n1108502                    NaN   \n1108503                    NaN   \n1108504                    NaN   \n\n                                   grandes_usuarios_sem_acento     latitude  \\\n0                                                          NaN  -23.5502784   \n1                                                          NaN   -23.549865   \n2                                                          NaN  -23.5514794   \n3        UNESP - Universidade Estadual Julio de Mesquita Filho  -23.5498956   \n4                                         Edificio Santa Lidia  -23.5518286   \n...                                                        ...          ...   \n1108500                                                    NaN  -28.4114183   \n1108501                                                    NaN  -28.3876712   \n1108502                                                    NaN  -28.4513555   \n1108503                                                    NaN  -28.3439126   \n1108504                                                    NaN  -29.2710646   \n\n           longitude cidade_ibge cidade_area ddd cep_ativo  \n0        -46.6342179     3550308    1521.110  11         S  \n1        -46.6340205     3550308    1521.110  11         S  \n2        -46.6332722     3550308    1521.110  11         S  \n3        -46.6343784     3550308    1521.110  11         S  \n4         -46.634234     3550308    1521.110  11         S  \n...              ...         ...         ...  ..       ...  \n1108500  -51.8311441     4306304     174.939  54         S  \n1108501  -51.8467877     4306304     174.939  54         S  \n1108502  -51.8807142     4306304     174.939  54         S  \n1108503  -51.7466948     4312625     111.132  54         S  \n1108504  -51.9871586     4312625     111.132  54         S  \n\n[1108505 rows x 22 columns]",
      "text/html": "<div>\n<style scoped>\n    .dataframe tbody tr th:only-of-type {\n        vertical-align: middle;\n    }\n\n    .dataframe tbody tr th {\n        vertical-align: top;\n    }\n\n    .dataframe thead th {\n        text-align: right;\n    }\n</style>\n<table border=\"1\" class=\"dataframe\">\n  <thead>\n    <tr style=\"text-align: right;\">\n      <th></th>\n      <th>cep</th>\n      <th>tipo</th>\n      <th>nome_logradouro</th>\n      <th>logradouro</th>\n      <th>bairro</th>\n      <th>cidade</th>\n      <th>estado</th>\n      <th>complemento</th>\n      <th>grandes_usuarios</th>\n      <th>tipo_sem_acento</th>\n      <th>nome_logradouro_sem_acento</th>\n      <th>logradouro_sem_acento</th>\n      <th>bairro_sem_acento</th>\n      <th>cidade_sem_acento</th>\n      <th>complemento_sem_acento</th>\n      <th>grandes_usuarios_sem_acento</th>\n      <th>latitude</th>\n      <th>longitude</th>\n      <th>cidade_ibge</th>\n      <th>cidade_area</th>\n      <th>ddd</th>\n      <th>cep_ativo</th>\n    </tr>\n  </thead>\n  <tbody>\n    <tr>\n      <th>0</th>\n      <td>01001000</td>\n      <td>Praça</td>\n      <td>da Sé</td>\n      <td>Praça da Sé</td>\n      <td>Sé</td>\n      <td>São Paulo</td>\n      <td>SP</td>\n      <td>lado ímpar</td>\n      <td>NaN</td>\n      <td>Praca</td>\n      <td>da Se</td>\n      <td>Praca da Se</td>\n      <td>Se</td>\n      <td>Sao Paulo</td>\n      <td>lado impar</td>\n      <td>NaN</td>\n      <td>-23.5502784</td>\n      <td>-46.6342179</td>\n      <td>3550308</td>\n      <td>1521.110</td>\n      <td>11</td>\n      <td>S</td>\n    </tr>\n    <tr>\n      <th>1</th>\n      <td>01001001</td>\n      <td>Praça</td>\n      <td>da Sé</td>\n      <td>Praça da Sé</td>\n      <td>Sé</td>\n      <td>São Paulo</td>\n      <td>SP</td>\n      <td>lado par</td>\n      <td>NaN</td>\n      <td>Praca</td>\n      <td>da Se</td>\n      <td>Praca da Se</td>\n      <td>Se</td>\n      <td>Sao Paulo</td>\n      <td>lado par</td>\n      <td>NaN</td>\n      <td>-23.549865</td>\n      <td>-46.6340205</td>\n      <td>3550308</td>\n      <td>1521.110</td>\n      <td>11</td>\n      <td>S</td>\n    </tr>\n    <tr>\n      <th>2</th>\n      <td>01001010</td>\n      <td>Rua</td>\n      <td>Filipe de Oliveira</td>\n      <td>Rua Filipe de Oliveira</td>\n      <td>Sé</td>\n      <td>São Paulo</td>\n      <td>SP</td>\n      <td>NaN</td>\n      <td>NaN</td>\n      <td>Rua</td>\n      <td>Filipe de Oliveira</td>\n      <td>Rua Filipe de Oliveira</td>\n      <td>Se</td>\n      <td>Sao Paulo</td>\n      <td>NaN</td>\n      <td>NaN</td>\n      <td>-23.5514794</td>\n      <td>-46.6332722</td>\n      <td>3550308</td>\n      <td>1521.110</td>\n      <td>11</td>\n      <td>S</td>\n    </tr>\n    <tr>\n      <th>3</th>\n      <td>01001900</td>\n      <td>Praça</td>\n      <td>da Sé, 108</td>\n      <td>Praça da Sé, 108</td>\n      <td>Sé</td>\n      <td>São Paulo</td>\n      <td>SP</td>\n      <td>NaN</td>\n      <td>UNESP - Universidade Estadual Júlio de Mesquita Filho</td>\n      <td>Praca</td>\n      <td>da Se, 108</td>\n      <td>Praca da Se, 108</td>\n      <td>Se</td>\n      <td>Sao Paulo</td>\n      <td>NaN</td>\n      <td>UNESP - Universidade Estadual Julio de Mesquita Filho</td>\n      <td>-23.5498956</td>\n      <td>-46.6343784</td>\n      <td>3550308</td>\n      <td>1521.110</td>\n      <td>11</td>\n      <td>S</td>\n    </tr>\n    <tr>\n      <th>4</th>\n      <td>01001901</td>\n      <td>Praça</td>\n      <td>da Sé, 371</td>\n      <td>Praça da Sé, 371</td>\n      <td>Sé</td>\n      <td>São Paulo</td>\n      <td>SP</td>\n      <td>NaN</td>\n      <td>Edifício Santa Lídia</td>\n      <td>Praca</td>\n      <td>da Se, 371</td>\n      <td>Praca da Se, 371</td>\n      <td>Se</td>\n      <td>Sao Paulo</td>\n      <td>NaN</td>\n      <td>Edificio Santa Lidia</td>\n      <td>-23.5518286</td>\n      <td>-46.634234</td>\n      <td>3550308</td>\n      <td>1521.110</td>\n      <td>11</td>\n      <td>S</td>\n    </tr>\n    <tr>\n      <th>...</th>\n      <td>...</td>\n      <td>...</td>\n      <td>...</td>\n      <td>...</td>\n      <td>...</td>\n      <td>...</td>\n      <td>...</td>\n      <td>...</td>\n      <td>...</td>\n      <td>...</td>\n      <td>...</td>\n      <td>...</td>\n      <td>...</td>\n      <td>...</td>\n      <td>...</td>\n      <td>...</td>\n      <td>...</td>\n      <td>...</td>\n      <td>...</td>\n      <td>...</td>\n      <td>...</td>\n      <td>...</td>\n    </tr>\n    <tr>\n      <th>1108500</th>\n      <td>99980000</td>\n      <td>NaN</td>\n      <td>NaN</td>\n      <td>NaN</td>\n      <td>NaN</td>\n      <td>David Canabarro</td>\n      <td>RS</td>\n      <td>NaN</td>\n      <td>NaN</td>\n      <td>NaN</td>\n      <td>NaN</td>\n      <td>NaN</td>\n      <td>NaN</td>\n      <td>David Canabarro</td>\n      <td>NaN</td>\n      <td>NaN</td>\n      <td>-28.4114183</td>\n      <td>-51.8311441</td>\n      <td>4306304</td>\n      <td>174.939</td>\n      <td>54</td>\n      <td>S</td>\n    </tr>\n    <tr>\n      <th>1108501</th>\n      <td>99980970</td>\n      <td>Rua</td>\n      <td>Adelino Gazzoni, 160</td>\n      <td>Rua Adelino Gazzoni, 160</td>\n      <td>Centro</td>\n      <td>David Canabarro</td>\n      <td>RS</td>\n      <td>NaN</td>\n      <td>NaN</td>\n      <td>Rua</td>\n      <td>Adelino Gazzoni, 160</td>\n      <td>Rua Adelino Gazzoni, 160</td>\n      <td>Centro</td>\n      <td>David Canabarro</td>\n      <td>NaN</td>\n      <td>NaN</td>\n      <td>-28.3876712</td>\n      <td>-51.8467877</td>\n      <td>4306304</td>\n      <td>174.939</td>\n      <td>54</td>\n      <td>S</td>\n    </tr>\n    <tr>\n      <th>1108502</th>\n      <td>99980974</td>\n      <td>Distrito</td>\n      <td>Capela São José do Capingui, s/n</td>\n      <td>Distrito Capela São José do Capingui, s/n</td>\n      <td>Capela São José do Capingui (Distrito)</td>\n      <td>David Canabarro</td>\n      <td>RS</td>\n      <td>NaN</td>\n      <td>NaN</td>\n      <td>Distrito</td>\n      <td>Capela Sao Jose do Capingui, s/n</td>\n      <td>Distrito Capela Sao Jose do Capingui, s/n</td>\n      <td>Capela Sao Jose do Capingui (Distrito)</td>\n      <td>David Canabarro</td>\n      <td>NaN</td>\n      <td>NaN</td>\n      <td>-28.4513555</td>\n      <td>-51.8807142</td>\n      <td>4306304</td>\n      <td>174.939</td>\n      <td>54</td>\n      <td>S</td>\n    </tr>\n    <tr>\n      <th>1108503</th>\n      <td>99990000</td>\n      <td>NaN</td>\n      <td>NaN</td>\n      <td>NaN</td>\n      <td>NaN</td>\n      <td>Muliterno</td>\n      <td>RS</td>\n      <td>NaN</td>\n      <td>NaN</td>\n      <td>NaN</td>\n      <td>NaN</td>\n      <td>NaN</td>\n      <td>NaN</td>\n      <td>Muliterno</td>\n      <td>NaN</td>\n      <td>NaN</td>\n      <td>-28.3439126</td>\n      <td>-51.7466948</td>\n      <td>4312625</td>\n      <td>111.132</td>\n      <td>54</td>\n      <td>S</td>\n    </tr>\n    <tr>\n      <th>1108504</th>\n      <td>99990971</td>\n      <td>Rua</td>\n      <td>Vinte de Março, 107</td>\n      <td>Rua Vinte de Março, 107</td>\n      <td>Centro</td>\n      <td>Muliterno</td>\n      <td>RS</td>\n      <td>NaN</td>\n      <td>NaN</td>\n      <td>Rua</td>\n      <td>Vinte de Marco, 107</td>\n      <td>Rua Vinte de Marco, 107</td>\n      <td>Centro</td>\n      <td>Muliterno</td>\n      <td>NaN</td>\n      <td>NaN</td>\n      <td>-29.2710646</td>\n      <td>-51.9871586</td>\n      <td>4312625</td>\n      <td>111.132</td>\n      <td>54</td>\n      <td>S</td>\n    </tr>\n  </tbody>\n</table>\n<p>1108505 rows × 22 columns</p>\n</div>"
     },
     "execution_count": 43,
     "metadata": {},
     "output_type": "execute_result"
    }
   ]
  },
  {
   "cell_type": "code",
   "execution_count": 44,
   "outputs": [],
   "source": [
    "joinDF = pd.merge(df3,df6,left_on=\"CEPConsumidor\", right_on=\"cep\")"
   ],
   "metadata": {
    "collapsed": false,
    "pycharm": {
     "name": "#%%\n"
    }
   }
  },
  {
   "cell_type": "code",
   "execution_count": 45,
   "outputs": [
    {
     "name": "stdout",
     "output_type": "stream",
     "text": [
      "Shape of df=(1349072, 46)\n",
      "Number of index levels:1\n",
      "For index level 0,unique values count=1349072\n",
      "Columns of df=Index(['AnoCalendario', 'DataArquivamento', 'DataAbertura', 'CodigoRegiao',\n",
      "       'Regiao', 'UF', 'strRazaoSocial', 'strNomeFantasia', 'Tipo',\n",
      "       'NumeroCNPJ', 'radicalCNPJ', 'RazaoSocialRFB', 'NomeFantasiaRFB',\n",
      "       'CNAEPrincipal', 'DescCNAEPrincipal', 'Atendida', 'CodigoAssunto',\n",
      "       'DescricaoAssunto', 'CodigoProblema', 'DescricaoProblema',\n",
      "       'SexoConsumidor', 'FaixaEtariaConsumidor', 'CEPConsumidor',\n",
      "       'RadicalCNPJ', 'cep', 'tipo', 'nome_logradouro', 'logradouro', 'bairro',\n",
      "       'cidade', 'estado', 'complemento', 'grandes_usuarios',\n",
      "       'tipo_sem_acento', 'nome_logradouro_sem_acento',\n",
      "       'logradouro_sem_acento', 'bairro_sem_acento', 'cidade_sem_acento',\n",
      "       'complemento_sem_acento', 'grandes_usuarios_sem_acento', 'latitude',\n",
      "       'longitude', 'cidade_ibge', 'cidade_area', 'ddd', 'cep_ativo'],\n",
      "      dtype='object')\n",
      "Null count= \n",
      " AnoCalendario                        0\n",
      "DataArquivamento                     5\n",
      "DataAbertura                         0\n",
      "CodigoRegiao                         0\n",
      "Regiao                               0\n",
      "UF                                   0\n",
      "strRazaoSocial                       0\n",
      "strNomeFantasia                 219838\n",
      "Tipo                                 0\n",
      "NumeroCNPJ                       56924\n",
      "radicalCNPJ                    1276810\n",
      "RazaoSocialRFB                   73690\n",
      "NomeFantasiaRFB                 744374\n",
      "CNAEPrincipal                    76903\n",
      "DescCNAEPrincipal                91058\n",
      "Atendida                             0\n",
      "CodigoAssunto                        0\n",
      "DescricaoAssunto                     0\n",
      "CodigoProblema                   19864\n",
      "DescricaoProblema                19864\n",
      "SexoConsumidor                     969\n",
      "FaixaEtariaConsumidor                0\n",
      "CEPConsumidor                        0\n",
      "RadicalCNPJ                     130358\n",
      "cep                                  0\n",
      "tipo                            153925\n",
      "nome_logradouro                 154868\n",
      "logradouro                      153925\n",
      "bairro                          155841\n",
      "cidade                               0\n",
      "estado                               0\n",
      "complemento                    1136037\n",
      "grandes_usuarios               1343997\n",
      "tipo_sem_acento                 153925\n",
      "nome_logradouro_sem_acento      154868\n",
      "logradouro_sem_acento           153925\n",
      "bairro_sem_acento               155841\n",
      "cidade_sem_acento                    0\n",
      "complemento_sem_acento         1136037\n",
      "grandes_usuarios_sem_acento    1343997\n",
      "latitude                             0\n",
      "longitude                            0\n",
      "cidade_ibge                          0\n",
      "cidade_area                          0\n",
      "ddd                                  0\n",
      "cep_ativo                            0\n",
      "dtype: int64\n",
      "       AnoCalendario         DataArquivamento             DataAbertura  \\\n",
      "count        1349072                  1349067                  1349072   \n",
      "unique            10                   834339                  1077184   \n",
      "top             2013  2015-12-31 00:00:00.000  2015-11-19 00:56:46.000   \n",
      "freq          223914                     1486                      184   \n",
      "\n",
      "       CodigoRegiao   Regiao       UF strRazaoSocial strNomeFantasia     Tipo  \\\n",
      "count       1349072  1349072  1349072        1349072         1129234  1349072   \n",
      "unique           10        5       26         126312           91991        2   \n",
      "top              03  Sudeste       SP       CLARO SA              OI        1   \n",
      "freq         473098   494208   233404          22022           20815  1345916   \n",
      "\n",
      "            NumeroCNPJ radicalCNPJ           RazaoSocialRFB NomeFantasiaRFB  \\\n",
      "count          1292148       72262                  1275382          604698   \n",
      "unique          100578        6346                    74409           46241   \n",
      "top     33000118000179     4667337  TELEMAR NORTE LESTE S/A              OI   \n",
      "freq             19159        2471                    33284           64256   \n",
      "\n",
      "       CNAEPrincipal                         DescCNAEPrincipal Atendida  \\\n",
      "count        1272169                                   1258014  1349072   \n",
      "unique           996                                       973        2   \n",
      "top          6422100  BANCOS MÚLTIPLOS, COM CARTEIRA COMERCIAL        S   \n",
      "freq          127809                                    127809   843197   \n",
      "\n",
      "       CodigoAssunto                                     DescricaoAssunto  \\\n",
      "count        1349072                                              1349072   \n",
      "unique           239                                                  223   \n",
      "top              101  Telefone ( Convencional, Celular, Interfone, Etc. )   \n",
      "freq          155617                                               155617   \n",
      "\n",
      "       CodigoProblema  DescricaoProblema SexoConsumidor FaixaEtariaConsumidor  \\\n",
      "count         1329208            1329208        1348103               1349072   \n",
      "unique           1882                225              3                     8   \n",
      "top               105  Produto com vício              F    entre 31 a 40 anos   \n",
      "freq           252041             217841         713684                308834   \n",
      "\n",
      "       CEPConsumidor RadicalCNPJ       cep     tipo  \\\n",
      "count        1349072     1218714   1349072  1195147   \n",
      "unique        257097       74755    257097      365   \n",
      "top         75690000    33000118  75690000      Rua   \n",
      "freq            6205       31588      6205   912939   \n",
      "\n",
      "                     nome_logradouro                        logradouro  \\\n",
      "count                        1194204                           1195147   \n",
      "unique                        144237                            160458   \n",
      "top     Quadra 8 Bloco B Lotes 50/60  SCS Quadra 8 Bloco B Lotes 50/60   \n",
      "freq                            2677                              2677   \n",
      "\n",
      "         bairro     cidade   estado complemento            grandes_usuarios  \\\n",
      "count   1193231    1349072  1349072      213035                        5075   \n",
      "unique    13337       3852       27       16438                         746   \n",
      "top      Centro  São Paulo       SP    lado par  Super Center Venâncio 2000   \n",
      "freq      40056     151812   233523        7613                        2677   \n",
      "\n",
      "       tipo_sem_acento    nome_logradouro_sem_acento  \\\n",
      "count          1195147                       1194204   \n",
      "unique             363                        142753   \n",
      "top                Rua  Quadra 8 Bloco B Lotes 50/60   \n",
      "freq            912939                          2677   \n",
      "\n",
      "                   logradouro_sem_acento bairro_sem_acento cidade_sem_acento  \\\n",
      "count                            1195147           1193231           1349072   \n",
      "unique                            159125             13258              3846   \n",
      "top     SCS Quadra 8 Bloco B Lotes 50/60            Centro         Sao Paulo   \n",
      "freq                                2677             40056            151812   \n",
      "\n",
      "       complemento_sem_acento grandes_usuarios_sem_acento     latitude  \\\n",
      "count                  213035                        5075      1349072   \n",
      "unique                  16424                         746       231689   \n",
      "top                  lado par  Super Center Venancio 2000  -17.7006127   \n",
      "freq                     7613                        2677         6205   \n",
      "\n",
      "         longitude cidade_ibge cidade_area      ddd cep_ativo  \n",
      "count      1349072     1349072     1349072  1349072   1349072  \n",
      "unique      230729        3419        3412       67         2  \n",
      "top     -48.598804     3550308    1521.110       11         S  \n",
      "freq          6323      151848      151848   184874   1287189  \n"
     ]
    }
   ],
   "source": [
    "view_df_stats(joinDF)\n"
   ],
   "metadata": {
    "collapsed": false,
    "pycharm": {
     "name": "#%%\n"
    }
   }
  },
  {
   "cell_type": "code",
   "execution_count": 46,
   "outputs": [
    {
     "data": {
      "text/plain": "        AnoCalendario         DataArquivamento             DataAbertura  \\\n0                2009  2009-01-21 15:29:29.000  2005-07-06 08:32:23.000   \n1                2009  2009-01-21 15:29:29.000  2005-07-06 08:32:23.000   \n2                2010  2009-12-01 16:49:51.000  2009-10-07 15:19:55.000   \n3                2010  2009-10-15 17:32:18.000  2009-07-29 15:46:10.000   \n4                2010  2009-12-01 16:49:51.000  2009-10-07 15:19:55.000   \n...               ...                      ...                      ...   \n1349067          2018  2018-12-18 14:40:04.000  2018-11-23 08:42:47.000   \n1349068          2018  2018-12-18 14:40:04.000  2018-11-23 08:42:47.000   \n1349069          2018  2018-09-26 11:50:24.000  2018-05-09 16:41:29.000   \n1349070          2018  2018-08-13 08:50:10.000  2011-12-13 11:09:20.000   \n1349071          2018  2018-08-13 08:50:10.000  2011-12-13 11:09:20.000   \n\n        CodigoRegiao        Regiao  UF  \\\n0                  5  Centro-oeste  GO   \n1                  5  Centro-oeste  GO   \n2                 05  Centro-oeste  GO   \n3                 05  Centro-oeste  GO   \n4                 05  Centro-oeste  GO   \n...              ...           ...  ..   \n1349067            3       Sudeste  MG   \n1349068            3       Sudeste  MG   \n1349069            2      Nordeste  PB   \n1349070            2      Nordeste  PB   \n1349071            2      Nordeste  PB   \n\n                                                strRazaoSocial  \\\n0                 CBP SUL  COLCHÕES E ESPUMAS INDUSTRIAIS LTDA   \n1                             NETUNO INDÚSTRIA E COMÉRCIO LTDA   \n2                                    COMERCIO DE COLCHÕES LTDA   \n3           SONY ERICSSON MOBILE COMMUNICATIONS DO BRASIL LTDA   \n4        GOIAS INDUSTRIA E COMERCIO DE COLCHOES E ESPUMAS LTDA   \n...                                                        ...   \n1349067                                          VIA VAREJO SA   \n1349068                         ZURICH MINAS BRASIL SEGUROS SA   \n1349069                                  UNIMED NORTE NORDESTE   \n1349070             BANCO ITAU CARD  SA  CREDICARD    CITICARD   \n1349071                BOMPRECO SUPERMERCADOS DO NORDESTE LTDA   \n\n                           strNomeFantasia Tipo      NumeroCNPJ radicalCNPJ  \\\n0                                 LIMANSKY    1   1350934000116     1350934   \n1                                   NETUNO    1   1673680000258     1673680   \n2                                      NaN    1  06537671000172         NaN   \n3                         TELEFONE CELULAR    1  04667337000108         NaN   \n4                        (ORTOBOM FABRICA)    1  02748383000297         NaN   \n...                                    ...  ...             ...         ...   \n1349067  PONTO FRIO, CASAS BAHIA E BARTIRA    1  33041260065290         NaN   \n1349068            MINAS-BRASIL SEGURADORA    1  17197385000121         NaN   \n1349069                             UNIMED    1   9237009000195         NaN   \n1349070             CREDICARD  /  CITICARD    1  17192451000170         NaN   \n1349071                      HIPERBOMPREÇO    1  13004510004338         NaN   \n\n                                                                                         RazaoSocialRFB  \\\n0                                                         CBP SUL - COLCHOES E ESPUMAS INDUSTRIAIS LTDA   \n1                                                                      NETUNO INDUSTRIA E COMERCIO LTDA   \n2                                                                          MX COMERCIO DE COLCHOES LTDA   \n3                                                   SONY ERICSSON MOBILE COMMUNICATIONS DO BRASIL LTDA.   \n4                                                 GOIAS INDUSTRIA E COMERCIO DE COLCHOES E ESPUMAS LTDA   \n...                                                                                                 ...   \n1349067                                                                                  VIA VAREJO S/A   \n1349068                                                                ZURICH MINAS BRASIL SEGUROS S.A.   \n1349069  UNIMED NORTE NORDESTE-FEDERACAO INTERFEDERATIVA DAS SOCIEDADES COOPERATIVAS DE TRABALHO MEDICO   \n1349070                                                                             BANCO ITAUCARD S.A.   \n1349071                                                         BOMPRECO SUPERMERCADOS DO NORDESTE LTDA   \n\n               NomeFantasiaRFB CNAEPrincipal  \\\n0                          NaN       3104700   \n1                          NaN       4754702   \n2                      ORTOBOM       4754702   \n3                          NaN       4652400   \n4                          NaN       3104700   \n...                        ...           ...   \n1349067                    NaN       4753900   \n1349068         ZURICH SEGUROS       6511101   \n1349069  UNIMED NORTE/NORDESTE       6550200   \n1349070    ITAUCARD FINANCEIRA       6422100   \n1349071                    NaN       4711301   \n\n                                                                                           DescCNAEPrincipal  \\\n0                                                                                     FABRICAÇÃO DE COLCHÕES   \n1                                                                COMÉRCIO VAREJISTA DE ARTIGOS DE COLCHOARIA   \n2                                                                COMÉRCIO VAREJISTA DE ARTIGOS DE COLCHOARIA   \n3                   COMÉRCIO ATACADISTA DE COMPONENTES ELETRÔNICOS E EQUIPAMENTOS DE TELEFONIA E COMUNICAÇÃO   \n4                                                                                     FABRICAÇÃO DE COLCHÕES   \n...                                                                                                      ...   \n1349067                 COMÉRCIO VAREJISTA ESPECIALIZADO DE ELETRODOMÉSTICOS E EQUIPAMENTOS DE ÁUDIO E VÍDEO   \n1349068                                                                                      SEGUROS DE VIDA   \n1349069                                                                                      PLANOS DE SAÚDE   \n1349070                                                             BANCOS MÚLTIPLOS, COM CARTEIRA COMERCIAL   \n1349071  COMÉRCIO VAREJISTA DE MERCADORIAS EM GERAL, COM PREDOMINÂNCIA DE PRODUTOS ALIMENTÍCIOS - HIPERME...   \n\n        Atendida CodigoAssunto  \\\n0              S           100   \n1              S           100   \n2              S           100   \n3              S           101   \n4              S           100   \n...          ...           ...   \n1349067        S           124   \n1349068        S           124   \n1349069        N           199   \n1349070        N            95   \n1349071        N            95   \n\n                                            DescricaoAssunto CodigoProblema  \\\n0                                                    Colchão            105   \n1                                                    Colchão            105   \n2                                                    Colchão            102   \n3        Telefone ( Convencional, Celular, Interfone, Etc. )            102   \n4                                                    Colchão            102   \n...                                                      ...            ...   \n1349067                                      Móveis (outros)            NaN   \n1349068                                      Móveis (outros)            NaN   \n1349069        Convênio de Assistência Médica / Odontológica            NaN   \n1349070                Aparelho de Som ( Gravador, 3x1, CD )            NaN   \n1349071                Aparelho de Som ( Gravador, 3x1, CD )            NaN   \n\n                               DescricaoProblema SexoConsumidor  \\\n0            Produto entregue com danos/defeitos              M   \n1            Produto entregue com danos/defeitos              M   \n2        Garantia (Abrangência, cobertura, etc.)              F   \n3        Garantia (Abrangência, cobertura, etc.)              F   \n4        Garantia (Abrangência, cobertura, etc.)              F   \n...                                          ...            ...   \n1349067                                      NaN              F   \n1349068                                      NaN              F   \n1349069                                      NaN              F   \n1349070                                      NaN              M   \n1349071                                      NaN              M   \n\n        FaixaEtariaConsumidor CEPConsumidor RadicalCNPJ       cep     tipo  \\\n0          entre 61 a 70 anos      74680330         NaN  74680330  Alameda   \n1          entre 61 a 70 anos      74680330         NaN  74680330  Alameda   \n2          entre 51 a 60 anos      74680330    06537671  74680330  Alameda   \n3          entre 51 a 60 anos      74680330    04667337  74680330  Alameda   \n4          entre 51 a 60 anos      74680330    02748383  74680330  Alameda   \n...                       ...           ...         ...       ...      ...   \n1349067    entre 41 a 50 anos      35043410    33041260  35043410      Rua   \n1349068    entre 41 a 50 anos      35043410    17197385  35043410      Rua   \n1349069    entre 31 a 40 anos      58410530     9237009  58410530      Rua   \n1349070    entre 21 a 30 anos      58407315    17192451  58407315      Rua   \n1349071    entre 21 a 30 anos      58407315    13004510  58407315      Rua   \n\n                  nome_logradouro                    logradouro  \\\n0                    das Mangubas          Alameda das Mangubas   \n1                    das Mangubas          Alameda das Mangubas   \n2                    das Mangubas          Alameda das Mangubas   \n3                    das Mangubas          Alameda das Mangubas   \n4                    das Mangubas          Alameda das Mangubas   \n...                           ...                           ...   \n1349067               Ouro Branco               Rua Ouro Branco   \n1349068               Ouro Branco               Rua Ouro Branco   \n1349069  Humberto Batista de Lima  Rua Humberto Batista de Lima   \n1349070               Josino Agra               Rua Josino Agra   \n1349071               Josino Agra               Rua Josino Agra   \n\n                             bairro                cidade estado complemento  \\\n0        Residencial Aldeia do Vale               Goiânia     GO         NaN   \n1        Residencial Aldeia do Vale               Goiânia     GO         NaN   \n2        Residencial Aldeia do Vale               Goiânia     GO         NaN   \n3        Residencial Aldeia do Vale               Goiânia     GO         NaN   \n4        Residencial Aldeia do Vale               Goiânia     GO         NaN   \n...                             ...                   ...    ...         ...   \n1349067                    Vila Isa  Governador Valadares     MG         NaN   \n1349068                    Vila Isa  Governador Valadares     MG         NaN   \n1349069                      Catolé        Campina Grande     PB         NaN   \n1349070               José Pinheiro        Campina Grande     PB         NaN   \n1349071               José Pinheiro        Campina Grande     PB         NaN   \n\n        grandes_usuarios tipo_sem_acento nome_logradouro_sem_acento  \\\n0                    NaN         Alameda               das Mangubas   \n1                    NaN         Alameda               das Mangubas   \n2                    NaN         Alameda               das Mangubas   \n3                    NaN         Alameda               das Mangubas   \n4                    NaN         Alameda               das Mangubas   \n...                  ...             ...                        ...   \n1349067              NaN             Rua                Ouro Branco   \n1349068              NaN             Rua                Ouro Branco   \n1349069              NaN             Rua   Humberto Batista de Lima   \n1349070              NaN             Rua                Josino Agra   \n1349071              NaN             Rua                Josino Agra   \n\n                logradouro_sem_acento           bairro_sem_acento  \\\n0                Alameda das Mangubas  Residencial Aldeia do Vale   \n1                Alameda das Mangubas  Residencial Aldeia do Vale   \n2                Alameda das Mangubas  Residencial Aldeia do Vale   \n3                Alameda das Mangubas  Residencial Aldeia do Vale   \n4                Alameda das Mangubas  Residencial Aldeia do Vale   \n...                               ...                         ...   \n1349067               Rua Ouro Branco                    Vila Isa   \n1349068               Rua Ouro Branco                    Vila Isa   \n1349069  Rua Humberto Batista de Lima                      Catole   \n1349070               Rua Josino Agra               Jose Pinheiro   \n1349071               Rua Josino Agra               Jose Pinheiro   \n\n            cidade_sem_acento complemento_sem_acento  \\\n0                     Goiania                    NaN   \n1                     Goiania                    NaN   \n2                     Goiania                    NaN   \n3                     Goiania                    NaN   \n4                     Goiania                    NaN   \n...                       ...                    ...   \n1349067  Governador Valadares                    NaN   \n1349068  Governador Valadares                    NaN   \n1349069        Campina Grande                    NaN   \n1349070        Campina Grande                    NaN   \n1349071        Campina Grande                    NaN   \n\n        grandes_usuarios_sem_acento    latitude    longitude cidade_ibge  \\\n0                               NaN  -16.610696  -49.2000968     5208707   \n1                               NaN  -16.610696  -49.2000968     5208707   \n2                               NaN  -16.610696  -49.2000968     5208707   \n3                               NaN  -16.610696  -49.2000968     5208707   \n4                               NaN  -16.610696  -49.2000968     5208707   \n...                             ...         ...          ...         ...   \n1349067                         NaN  -18.893668  -41.9425904     3127701   \n1349068                         NaN  -18.893668  -41.9425904     3127701   \n1349069                         NaN  -7.2457658  -35.8836392     2504009   \n1349070                         NaN  -7.2201178  -35.8710167     2504009   \n1349071                         NaN  -7.2201178  -35.8710167     2504009   \n\n        cidade_area ddd cep_ativo  \n0           728.841  62         S  \n1           728.841  62         S  \n2           728.841  62         S  \n3           728.841  62         S  \n4           728.841  62         S  \n...             ...  ..       ...  \n1349067    2342.325  33         S  \n1349068    2342.325  33         S  \n1349069     593.026  83         S  \n1349070     593.026  83         S  \n1349071     593.026  83         S  \n\n[1349072 rows x 46 columns]",
      "text/html": "<div>\n<style scoped>\n    .dataframe tbody tr th:only-of-type {\n        vertical-align: middle;\n    }\n\n    .dataframe tbody tr th {\n        vertical-align: top;\n    }\n\n    .dataframe thead th {\n        text-align: right;\n    }\n</style>\n<table border=\"1\" class=\"dataframe\">\n  <thead>\n    <tr style=\"text-align: right;\">\n      <th></th>\n      <th>AnoCalendario</th>\n      <th>DataArquivamento</th>\n      <th>DataAbertura</th>\n      <th>CodigoRegiao</th>\n      <th>Regiao</th>\n      <th>UF</th>\n      <th>strRazaoSocial</th>\n      <th>strNomeFantasia</th>\n      <th>Tipo</th>\n      <th>NumeroCNPJ</th>\n      <th>radicalCNPJ</th>\n      <th>RazaoSocialRFB</th>\n      <th>NomeFantasiaRFB</th>\n      <th>CNAEPrincipal</th>\n      <th>DescCNAEPrincipal</th>\n      <th>Atendida</th>\n      <th>CodigoAssunto</th>\n      <th>DescricaoAssunto</th>\n      <th>CodigoProblema</th>\n      <th>DescricaoProblema</th>\n      <th>SexoConsumidor</th>\n      <th>FaixaEtariaConsumidor</th>\n      <th>CEPConsumidor</th>\n      <th>RadicalCNPJ</th>\n      <th>cep</th>\n      <th>tipo</th>\n      <th>nome_logradouro</th>\n      <th>logradouro</th>\n      <th>bairro</th>\n      <th>cidade</th>\n      <th>estado</th>\n      <th>complemento</th>\n      <th>grandes_usuarios</th>\n      <th>tipo_sem_acento</th>\n      <th>nome_logradouro_sem_acento</th>\n      <th>logradouro_sem_acento</th>\n      <th>bairro_sem_acento</th>\n      <th>cidade_sem_acento</th>\n      <th>complemento_sem_acento</th>\n      <th>grandes_usuarios_sem_acento</th>\n      <th>latitude</th>\n      <th>longitude</th>\n      <th>cidade_ibge</th>\n      <th>cidade_area</th>\n      <th>ddd</th>\n      <th>cep_ativo</th>\n    </tr>\n  </thead>\n  <tbody>\n    <tr>\n      <th>0</th>\n      <td>2009</td>\n      <td>2009-01-21 15:29:29.000</td>\n      <td>2005-07-06 08:32:23.000</td>\n      <td>5</td>\n      <td>Centro-oeste</td>\n      <td>GO</td>\n      <td>CBP SUL  COLCHÕES E ESPUMAS INDUSTRIAIS LTDA</td>\n      <td>LIMANSKY</td>\n      <td>1</td>\n      <td>1350934000116</td>\n      <td>1350934</td>\n      <td>CBP SUL - COLCHOES E ESPUMAS INDUSTRIAIS LTDA</td>\n      <td>NaN</td>\n      <td>3104700</td>\n      <td>FABRICAÇÃO DE COLCHÕES</td>\n      <td>S</td>\n      <td>100</td>\n      <td>Colchão</td>\n      <td>105</td>\n      <td>Produto entregue com danos/defeitos</td>\n      <td>M</td>\n      <td>entre 61 a 70 anos</td>\n      <td>74680330</td>\n      <td>NaN</td>\n      <td>74680330</td>\n      <td>Alameda</td>\n      <td>das Mangubas</td>\n      <td>Alameda das Mangubas</td>\n      <td>Residencial Aldeia do Vale</td>\n      <td>Goiânia</td>\n      <td>GO</td>\n      <td>NaN</td>\n      <td>NaN</td>\n      <td>Alameda</td>\n      <td>das Mangubas</td>\n      <td>Alameda das Mangubas</td>\n      <td>Residencial Aldeia do Vale</td>\n      <td>Goiania</td>\n      <td>NaN</td>\n      <td>NaN</td>\n      <td>-16.610696</td>\n      <td>-49.2000968</td>\n      <td>5208707</td>\n      <td>728.841</td>\n      <td>62</td>\n      <td>S</td>\n    </tr>\n    <tr>\n      <th>1</th>\n      <td>2009</td>\n      <td>2009-01-21 15:29:29.000</td>\n      <td>2005-07-06 08:32:23.000</td>\n      <td>5</td>\n      <td>Centro-oeste</td>\n      <td>GO</td>\n      <td>NETUNO INDÚSTRIA E COMÉRCIO LTDA</td>\n      <td>NETUNO</td>\n      <td>1</td>\n      <td>1673680000258</td>\n      <td>1673680</td>\n      <td>NETUNO INDUSTRIA E COMERCIO LTDA</td>\n      <td>NaN</td>\n      <td>4754702</td>\n      <td>COMÉRCIO VAREJISTA DE ARTIGOS DE COLCHOARIA</td>\n      <td>S</td>\n      <td>100</td>\n      <td>Colchão</td>\n      <td>105</td>\n      <td>Produto entregue com danos/defeitos</td>\n      <td>M</td>\n      <td>entre 61 a 70 anos</td>\n      <td>74680330</td>\n      <td>NaN</td>\n      <td>74680330</td>\n      <td>Alameda</td>\n      <td>das Mangubas</td>\n      <td>Alameda das Mangubas</td>\n      <td>Residencial Aldeia do Vale</td>\n      <td>Goiânia</td>\n      <td>GO</td>\n      <td>NaN</td>\n      <td>NaN</td>\n      <td>Alameda</td>\n      <td>das Mangubas</td>\n      <td>Alameda das Mangubas</td>\n      <td>Residencial Aldeia do Vale</td>\n      <td>Goiania</td>\n      <td>NaN</td>\n      <td>NaN</td>\n      <td>-16.610696</td>\n      <td>-49.2000968</td>\n      <td>5208707</td>\n      <td>728.841</td>\n      <td>62</td>\n      <td>S</td>\n    </tr>\n    <tr>\n      <th>2</th>\n      <td>2010</td>\n      <td>2009-12-01 16:49:51.000</td>\n      <td>2009-10-07 15:19:55.000</td>\n      <td>05</td>\n      <td>Centro-oeste</td>\n      <td>GO</td>\n      <td>COMERCIO DE COLCHÕES LTDA</td>\n      <td>NaN</td>\n      <td>1</td>\n      <td>06537671000172</td>\n      <td>NaN</td>\n      <td>MX COMERCIO DE COLCHOES LTDA</td>\n      <td>ORTOBOM</td>\n      <td>4754702</td>\n      <td>COMÉRCIO VAREJISTA DE ARTIGOS DE COLCHOARIA</td>\n      <td>S</td>\n      <td>100</td>\n      <td>Colchão</td>\n      <td>102</td>\n      <td>Garantia (Abrangência, cobertura, etc.)</td>\n      <td>F</td>\n      <td>entre 51 a 60 anos</td>\n      <td>74680330</td>\n      <td>06537671</td>\n      <td>74680330</td>\n      <td>Alameda</td>\n      <td>das Mangubas</td>\n      <td>Alameda das Mangubas</td>\n      <td>Residencial Aldeia do Vale</td>\n      <td>Goiânia</td>\n      <td>GO</td>\n      <td>NaN</td>\n      <td>NaN</td>\n      <td>Alameda</td>\n      <td>das Mangubas</td>\n      <td>Alameda das Mangubas</td>\n      <td>Residencial Aldeia do Vale</td>\n      <td>Goiania</td>\n      <td>NaN</td>\n      <td>NaN</td>\n      <td>-16.610696</td>\n      <td>-49.2000968</td>\n      <td>5208707</td>\n      <td>728.841</td>\n      <td>62</td>\n      <td>S</td>\n    </tr>\n    <tr>\n      <th>3</th>\n      <td>2010</td>\n      <td>2009-10-15 17:32:18.000</td>\n      <td>2009-07-29 15:46:10.000</td>\n      <td>05</td>\n      <td>Centro-oeste</td>\n      <td>GO</td>\n      <td>SONY ERICSSON MOBILE COMMUNICATIONS DO BRASIL LTDA</td>\n      <td>TELEFONE CELULAR</td>\n      <td>1</td>\n      <td>04667337000108</td>\n      <td>NaN</td>\n      <td>SONY ERICSSON MOBILE COMMUNICATIONS DO BRASIL LTDA.</td>\n      <td>NaN</td>\n      <td>4652400</td>\n      <td>COMÉRCIO ATACADISTA DE COMPONENTES ELETRÔNICOS E EQUIPAMENTOS DE TELEFONIA E COMUNICAÇÃO</td>\n      <td>S</td>\n      <td>101</td>\n      <td>Telefone ( Convencional, Celular, Interfone, Etc. )</td>\n      <td>102</td>\n      <td>Garantia (Abrangência, cobertura, etc.)</td>\n      <td>F</td>\n      <td>entre 51 a 60 anos</td>\n      <td>74680330</td>\n      <td>04667337</td>\n      <td>74680330</td>\n      <td>Alameda</td>\n      <td>das Mangubas</td>\n      <td>Alameda das Mangubas</td>\n      <td>Residencial Aldeia do Vale</td>\n      <td>Goiânia</td>\n      <td>GO</td>\n      <td>NaN</td>\n      <td>NaN</td>\n      <td>Alameda</td>\n      <td>das Mangubas</td>\n      <td>Alameda das Mangubas</td>\n      <td>Residencial Aldeia do Vale</td>\n      <td>Goiania</td>\n      <td>NaN</td>\n      <td>NaN</td>\n      <td>-16.610696</td>\n      <td>-49.2000968</td>\n      <td>5208707</td>\n      <td>728.841</td>\n      <td>62</td>\n      <td>S</td>\n    </tr>\n    <tr>\n      <th>4</th>\n      <td>2010</td>\n      <td>2009-12-01 16:49:51.000</td>\n      <td>2009-10-07 15:19:55.000</td>\n      <td>05</td>\n      <td>Centro-oeste</td>\n      <td>GO</td>\n      <td>GOIAS INDUSTRIA E COMERCIO DE COLCHOES E ESPUMAS LTDA</td>\n      <td>(ORTOBOM FABRICA)</td>\n      <td>1</td>\n      <td>02748383000297</td>\n      <td>NaN</td>\n      <td>GOIAS INDUSTRIA E COMERCIO DE COLCHOES E ESPUMAS LTDA</td>\n      <td>NaN</td>\n      <td>3104700</td>\n      <td>FABRICAÇÃO DE COLCHÕES</td>\n      <td>S</td>\n      <td>100</td>\n      <td>Colchão</td>\n      <td>102</td>\n      <td>Garantia (Abrangência, cobertura, etc.)</td>\n      <td>F</td>\n      <td>entre 51 a 60 anos</td>\n      <td>74680330</td>\n      <td>02748383</td>\n      <td>74680330</td>\n      <td>Alameda</td>\n      <td>das Mangubas</td>\n      <td>Alameda das Mangubas</td>\n      <td>Residencial Aldeia do Vale</td>\n      <td>Goiânia</td>\n      <td>GO</td>\n      <td>NaN</td>\n      <td>NaN</td>\n      <td>Alameda</td>\n      <td>das Mangubas</td>\n      <td>Alameda das Mangubas</td>\n      <td>Residencial Aldeia do Vale</td>\n      <td>Goiania</td>\n      <td>NaN</td>\n      <td>NaN</td>\n      <td>-16.610696</td>\n      <td>-49.2000968</td>\n      <td>5208707</td>\n      <td>728.841</td>\n      <td>62</td>\n      <td>S</td>\n    </tr>\n    <tr>\n      <th>...</th>\n      <td>...</td>\n      <td>...</td>\n      <td>...</td>\n      <td>...</td>\n      <td>...</td>\n      <td>...</td>\n      <td>...</td>\n      <td>...</td>\n      <td>...</td>\n      <td>...</td>\n      <td>...</td>\n      <td>...</td>\n      <td>...</td>\n      <td>...</td>\n      <td>...</td>\n      <td>...</td>\n      <td>...</td>\n      <td>...</td>\n      <td>...</td>\n      <td>...</td>\n      <td>...</td>\n      <td>...</td>\n      <td>...</td>\n      <td>...</td>\n      <td>...</td>\n      <td>...</td>\n      <td>...</td>\n      <td>...</td>\n      <td>...</td>\n      <td>...</td>\n      <td>...</td>\n      <td>...</td>\n      <td>...</td>\n      <td>...</td>\n      <td>...</td>\n      <td>...</td>\n      <td>...</td>\n      <td>...</td>\n      <td>...</td>\n      <td>...</td>\n      <td>...</td>\n      <td>...</td>\n      <td>...</td>\n      <td>...</td>\n      <td>...</td>\n      <td>...</td>\n    </tr>\n    <tr>\n      <th>1349067</th>\n      <td>2018</td>\n      <td>2018-12-18 14:40:04.000</td>\n      <td>2018-11-23 08:42:47.000</td>\n      <td>3</td>\n      <td>Sudeste</td>\n      <td>MG</td>\n      <td>VIA VAREJO SA</td>\n      <td>PONTO FRIO, CASAS BAHIA E BARTIRA</td>\n      <td>1</td>\n      <td>33041260065290</td>\n      <td>NaN</td>\n      <td>VIA VAREJO S/A</td>\n      <td>NaN</td>\n      <td>4753900</td>\n      <td>COMÉRCIO VAREJISTA ESPECIALIZADO DE ELETRODOMÉSTICOS E EQUIPAMENTOS DE ÁUDIO E VÍDEO</td>\n      <td>S</td>\n      <td>124</td>\n      <td>Móveis (outros)</td>\n      <td>NaN</td>\n      <td>NaN</td>\n      <td>F</td>\n      <td>entre 41 a 50 anos</td>\n      <td>35043410</td>\n      <td>33041260</td>\n      <td>35043410</td>\n      <td>Rua</td>\n      <td>Ouro Branco</td>\n      <td>Rua Ouro Branco</td>\n      <td>Vila Isa</td>\n      <td>Governador Valadares</td>\n      <td>MG</td>\n      <td>NaN</td>\n      <td>NaN</td>\n      <td>Rua</td>\n      <td>Ouro Branco</td>\n      <td>Rua Ouro Branco</td>\n      <td>Vila Isa</td>\n      <td>Governador Valadares</td>\n      <td>NaN</td>\n      <td>NaN</td>\n      <td>-18.893668</td>\n      <td>-41.9425904</td>\n      <td>3127701</td>\n      <td>2342.325</td>\n      <td>33</td>\n      <td>S</td>\n    </tr>\n    <tr>\n      <th>1349068</th>\n      <td>2018</td>\n      <td>2018-12-18 14:40:04.000</td>\n      <td>2018-11-23 08:42:47.000</td>\n      <td>3</td>\n      <td>Sudeste</td>\n      <td>MG</td>\n      <td>ZURICH MINAS BRASIL SEGUROS SA</td>\n      <td>MINAS-BRASIL SEGURADORA</td>\n      <td>1</td>\n      <td>17197385000121</td>\n      <td>NaN</td>\n      <td>ZURICH MINAS BRASIL SEGUROS S.A.</td>\n      <td>ZURICH SEGUROS</td>\n      <td>6511101</td>\n      <td>SEGUROS DE VIDA</td>\n      <td>S</td>\n      <td>124</td>\n      <td>Móveis (outros)</td>\n      <td>NaN</td>\n      <td>NaN</td>\n      <td>F</td>\n      <td>entre 41 a 50 anos</td>\n      <td>35043410</td>\n      <td>17197385</td>\n      <td>35043410</td>\n      <td>Rua</td>\n      <td>Ouro Branco</td>\n      <td>Rua Ouro Branco</td>\n      <td>Vila Isa</td>\n      <td>Governador Valadares</td>\n      <td>MG</td>\n      <td>NaN</td>\n      <td>NaN</td>\n      <td>Rua</td>\n      <td>Ouro Branco</td>\n      <td>Rua Ouro Branco</td>\n      <td>Vila Isa</td>\n      <td>Governador Valadares</td>\n      <td>NaN</td>\n      <td>NaN</td>\n      <td>-18.893668</td>\n      <td>-41.9425904</td>\n      <td>3127701</td>\n      <td>2342.325</td>\n      <td>33</td>\n      <td>S</td>\n    </tr>\n    <tr>\n      <th>1349069</th>\n      <td>2018</td>\n      <td>2018-09-26 11:50:24.000</td>\n      <td>2018-05-09 16:41:29.000</td>\n      <td>2</td>\n      <td>Nordeste</td>\n      <td>PB</td>\n      <td>UNIMED NORTE NORDESTE</td>\n      <td>UNIMED</td>\n      <td>1</td>\n      <td>9237009000195</td>\n      <td>NaN</td>\n      <td>UNIMED NORTE NORDESTE-FEDERACAO INTERFEDERATIVA DAS SOCIEDADES COOPERATIVAS DE TRABALHO MEDICO</td>\n      <td>UNIMED NORTE/NORDESTE</td>\n      <td>6550200</td>\n      <td>PLANOS DE SAÚDE</td>\n      <td>N</td>\n      <td>199</td>\n      <td>Convênio de Assistência Médica / Odontológica</td>\n      <td>NaN</td>\n      <td>NaN</td>\n      <td>F</td>\n      <td>entre 31 a 40 anos</td>\n      <td>58410530</td>\n      <td>9237009</td>\n      <td>58410530</td>\n      <td>Rua</td>\n      <td>Humberto Batista de Lima</td>\n      <td>Rua Humberto Batista de Lima</td>\n      <td>Catolé</td>\n      <td>Campina Grande</td>\n      <td>PB</td>\n      <td>NaN</td>\n      <td>NaN</td>\n      <td>Rua</td>\n      <td>Humberto Batista de Lima</td>\n      <td>Rua Humberto Batista de Lima</td>\n      <td>Catole</td>\n      <td>Campina Grande</td>\n      <td>NaN</td>\n      <td>NaN</td>\n      <td>-7.2457658</td>\n      <td>-35.8836392</td>\n      <td>2504009</td>\n      <td>593.026</td>\n      <td>83</td>\n      <td>S</td>\n    </tr>\n    <tr>\n      <th>1349070</th>\n      <td>2018</td>\n      <td>2018-08-13 08:50:10.000</td>\n      <td>2011-12-13 11:09:20.000</td>\n      <td>2</td>\n      <td>Nordeste</td>\n      <td>PB</td>\n      <td>BANCO ITAU CARD  SA  CREDICARD    CITICARD</td>\n      <td>CREDICARD  /  CITICARD</td>\n      <td>1</td>\n      <td>17192451000170</td>\n      <td>NaN</td>\n      <td>BANCO ITAUCARD S.A.</td>\n      <td>ITAUCARD FINANCEIRA</td>\n      <td>6422100</td>\n      <td>BANCOS MÚLTIPLOS, COM CARTEIRA COMERCIAL</td>\n      <td>N</td>\n      <td>95</td>\n      <td>Aparelho de Som ( Gravador, 3x1, CD )</td>\n      <td>NaN</td>\n      <td>NaN</td>\n      <td>M</td>\n      <td>entre 21 a 30 anos</td>\n      <td>58407315</td>\n      <td>17192451</td>\n      <td>58407315</td>\n      <td>Rua</td>\n      <td>Josino Agra</td>\n      <td>Rua Josino Agra</td>\n      <td>José Pinheiro</td>\n      <td>Campina Grande</td>\n      <td>PB</td>\n      <td>NaN</td>\n      <td>NaN</td>\n      <td>Rua</td>\n      <td>Josino Agra</td>\n      <td>Rua Josino Agra</td>\n      <td>Jose Pinheiro</td>\n      <td>Campina Grande</td>\n      <td>NaN</td>\n      <td>NaN</td>\n      <td>-7.2201178</td>\n      <td>-35.8710167</td>\n      <td>2504009</td>\n      <td>593.026</td>\n      <td>83</td>\n      <td>S</td>\n    </tr>\n    <tr>\n      <th>1349071</th>\n      <td>2018</td>\n      <td>2018-08-13 08:50:10.000</td>\n      <td>2011-12-13 11:09:20.000</td>\n      <td>2</td>\n      <td>Nordeste</td>\n      <td>PB</td>\n      <td>BOMPRECO SUPERMERCADOS DO NORDESTE LTDA</td>\n      <td>HIPERBOMPREÇO</td>\n      <td>1</td>\n      <td>13004510004338</td>\n      <td>NaN</td>\n      <td>BOMPRECO SUPERMERCADOS DO NORDESTE LTDA</td>\n      <td>NaN</td>\n      <td>4711301</td>\n      <td>COMÉRCIO VAREJISTA DE MERCADORIAS EM GERAL, COM PREDOMINÂNCIA DE PRODUTOS ALIMENTÍCIOS - HIPERME...</td>\n      <td>N</td>\n      <td>95</td>\n      <td>Aparelho de Som ( Gravador, 3x1, CD )</td>\n      <td>NaN</td>\n      <td>NaN</td>\n      <td>M</td>\n      <td>entre 21 a 30 anos</td>\n      <td>58407315</td>\n      <td>13004510</td>\n      <td>58407315</td>\n      <td>Rua</td>\n      <td>Josino Agra</td>\n      <td>Rua Josino Agra</td>\n      <td>José Pinheiro</td>\n      <td>Campina Grande</td>\n      <td>PB</td>\n      <td>NaN</td>\n      <td>NaN</td>\n      <td>Rua</td>\n      <td>Josino Agra</td>\n      <td>Rua Josino Agra</td>\n      <td>Jose Pinheiro</td>\n      <td>Campina Grande</td>\n      <td>NaN</td>\n      <td>NaN</td>\n      <td>-7.2201178</td>\n      <td>-35.8710167</td>\n      <td>2504009</td>\n      <td>593.026</td>\n      <td>83</td>\n      <td>S</td>\n    </tr>\n  </tbody>\n</table>\n<p>1349072 rows × 46 columns</p>\n</div>"
     },
     "execution_count": 46,
     "metadata": {},
     "output_type": "execute_result"
    }
   ],
   "source": [
    "joinDF"
   ],
   "metadata": {
    "collapsed": false,
    "pycharm": {
     "name": "#%%\n"
    }
   }
  },
  {
   "cell_type": "markdown",
   "source": [
    "Após a união da base de CEPs com a base do PROCON utilizando um inner join, foi constatado que alguns CEPs não constam na base coletada,\n",
    "gerando uma base final com 1.349.072 linhas e 41 colunas.\n",
    "\n",
    "\n",
    "Será necessário avaliar outras bases de CEPs para que não haja a perda de 198.900 registros, sendo 12,85% da base."
   ],
   "metadata": {
    "collapsed": false
   }
  },
  {
   "cell_type": "markdown",
   "metadata": {
    "pycharm": {
     "name": "#%% md\n"
    }
   },
   "source": [
    "## Árvores de Decisão\n",
    "\n",
    "Todo o planejamento e passo a passo\n",
    "\n",
    "Calcular a entropia.\n",
    "Calcular o ganho.\n",
    "\n",
    "Quais a variaveis usadas.\n",
    "Como foi feito o calculo.\n",
    "Como foi feita a árvore de decisão.\n",
    "Como foi aplicado (código).\n",
    "Mostrar a árvore gerada.\n"
   ]
  },
  {
   "cell_type": "markdown",
   "metadata": {
    "pycharm": {
     "name": "#%% md\n"
    }
   },
   "source": [
    "Cálculo da entropia:\n",
    "\n",
    "![alt text](https://miro.medium.com/max/391/1*nNY_7_aWRwp8E2DyGduEPg.png)"
   ]
  },
  {
   "cell_type": "code",
   "execution_count": 47,
   "metadata": {
    "pycharm": {
     "name": "#%%\n"
    }
   },
   "outputs": [],
   "source": [
    "import numpy as np\n",
    "from math import e\n",
    "import pandas as pd\n",
    "\n",
    "\"\"\" Usage: pandas_entropy(df['column1']) \"\"\"\n",
    "\n",
    "def pandas_entropy(column, base=None):\n",
    "    vc = pd.Series(column).value_counts(normalize=True, sort=False)\n",
    "    base = e if base is None else base\n",
    "    return -(vc * np.log(vc)/np.log(base)).sum()"
   ]
  },
  {
   "cell_type": "markdown",
   "metadata": {
    "pycharm": {
     "name": "#%% md\n"
    }
   },
   "source": [
    "Pegar uma coluna, e verificar o valor se é positivo ou negativo da segunda coluna, separando os valores da primeira coluna"
   ]
  },
  {
   "cell_type": "code",
   "execution_count": 48,
   "metadata": {
    "pycharm": {
     "name": "#%%\n"
    }
   },
   "outputs": [
    {
     "data": {
      "text/plain": "        CodigoAssunto Atendida\n0                 100        S\n1                 100        S\n2                 100        S\n3                 101        S\n4                 100        S\n...               ...      ...\n1349067           124        S\n1349068           124        S\n1349069           199        N\n1349070            95        N\n1349071            95        N\n\n[1349072 rows x 2 columns]",
      "text/html": "<div>\n<style scoped>\n    .dataframe tbody tr th:only-of-type {\n        vertical-align: middle;\n    }\n\n    .dataframe tbody tr th {\n        vertical-align: top;\n    }\n\n    .dataframe thead th {\n        text-align: right;\n    }\n</style>\n<table border=\"1\" class=\"dataframe\">\n  <thead>\n    <tr style=\"text-align: right;\">\n      <th></th>\n      <th>CodigoAssunto</th>\n      <th>Atendida</th>\n    </tr>\n  </thead>\n  <tbody>\n    <tr>\n      <th>0</th>\n      <td>100</td>\n      <td>S</td>\n    </tr>\n    <tr>\n      <th>1</th>\n      <td>100</td>\n      <td>S</td>\n    </tr>\n    <tr>\n      <th>2</th>\n      <td>100</td>\n      <td>S</td>\n    </tr>\n    <tr>\n      <th>3</th>\n      <td>101</td>\n      <td>S</td>\n    </tr>\n    <tr>\n      <th>4</th>\n      <td>100</td>\n      <td>S</td>\n    </tr>\n    <tr>\n      <th>...</th>\n      <td>...</td>\n      <td>...</td>\n    </tr>\n    <tr>\n      <th>1349067</th>\n      <td>124</td>\n      <td>S</td>\n    </tr>\n    <tr>\n      <th>1349068</th>\n      <td>124</td>\n      <td>S</td>\n    </tr>\n    <tr>\n      <th>1349069</th>\n      <td>199</td>\n      <td>N</td>\n    </tr>\n    <tr>\n      <th>1349070</th>\n      <td>95</td>\n      <td>N</td>\n    </tr>\n    <tr>\n      <th>1349071</th>\n      <td>95</td>\n      <td>N</td>\n    </tr>\n  </tbody>\n</table>\n<p>1349072 rows × 2 columns</p>\n</div>"
     },
     "execution_count": 48,
     "metadata": {},
     "output_type": "execute_result"
    }
   ],
   "source": [
    "joinDF[['CodigoAssunto','Atendida']]"
   ]
  },
  {
   "cell_type": "code",
   "execution_count": 49,
   "metadata": {
    "pycharm": {
     "name": "#%%\n"
    }
   },
   "outputs": [
    {
     "data": {
      "text/plain": "1349072"
     },
     "execution_count": 49,
     "metadata": {},
     "output_type": "execute_result"
    }
   ],
   "source": [
    "sizeDF = len(joinDF)\n",
    "sizeDF"
   ]
  },
  {
   "cell_type": "code",
   "execution_count": 50,
   "metadata": {
    "pycharm": {
     "name": "#%%\n"
    }
   },
   "outputs": [],
   "source": [
    "map = {}\n",
    "\n",
    "for index, row in joinDF[['CodigoAssunto','Atendida']].iterrows():\n",
    "    if row[\"CodigoAssunto\"] in map:\n",
    "        map[str(row[\"CodigoAssunto\"])][row[\"Atendida\"]] = map.get(row[\"CodigoAssunto\"])[row[\"Atendida\"]] + 1\n",
    "    else:\n",
    "        map[row[\"CodigoAssunto\"]] = {\"S\": 0, \"N\": 0}"
   ]
  },
  {
   "cell_type": "markdown",
   "metadata": {
    "pycharm": {
     "name": "#%% md\n"
    }
   },
   "source": [
    "Entropy calculation by CodigoAssunto and Atendida."
   ]
  },
  {
   "cell_type": "code",
   "execution_count": 51,
   "metadata": {
    "pycharm": {
     "name": "#%%\n"
    }
   },
   "outputs": [
    {
     "data": {
      "text/plain": "{'100': {'S': 6051, 'N': 3283, 'entropy': 0.9355990900995794},\n '101': {'S': 103338, 'N': 52278, 'entropy': 0.9208827535947319},\n '92': {'S': 20166, 'N': 6554, 'entropy': 0.8037182137547063},\n '132': {'S': 5503, 'N': 3692, 'entropy': 0.9718342741182591},\n '90': {'S': 5268, 'N': 2443, 'entropy': 0.9008898848087006},\n '224': {'S': 8, 'N': 13, 'entropy': 0.9587118829771318},\n '53': {'S': 39434, 'N': 33649, 'entropy': 0.9954754752248973},\n '186': {'S': 55175, 'N': 20486, 'entropy': 0.8425535978870041},\n '54': {'S': 44794, 'N': 30914, 'entropy': 0.97561632350432},\n '98': {'S': 1085, 'N': 612, 'entropy': 0.9432101955161749},\n '74': {'S': 2657, 'N': 1378, 'entropy': 0.9262580254083175},\n '187': {'S': 61652, 'N': 27799, 'entropy': 0.8940643099549981},\n '183': {'S': 13140, 'N': 5232, 'entropy': 0.8618840020081571},\n '185': {'S': 16119, 'N': 11243, 'entropy': 0.976969765857385},\n '102': {'S': 60280, 'N': 27348, 'entropy': 0.8955736009931463},\n '145': {'S': 2406, 'N': 3078, 'entropy': 0.9891412390680897},\n '58': {'S': 1663, 'N': 1681, 'entropy': 0.9999790993826994},\n '63': {'S': 25644, 'N': 21804, 'entropy': 0.9952701622270823},\n '146': {'S': 6189, 'N': 2172, 'entropy': 0.826410489582439},\n '94': {'S': 30490, 'N': 11954, 'entropy': 0.8576780996626604},\n '255': {'S': 400, 'N': 866, 'entropy': 0.8999291618902421},\n '96': {'S': 34912, 'N': 15481, 'entropy': 0.8899211515788725},\n '129': {'S': 3927, 'N': 5733, 'entropy': 0.9746379564441409},\n '125': {'S': 9103, 'N': 4077, 'entropy': 0.8924012345493013},\n '81': {'S': 1400, 'N': 1091, 'entropy': 0.9888715852274621},\n '134': {'S': 5811, 'N': 2438, 'entropy': 0.875784260377976},\n '252': {'S': 388, 'N': 472, 'entropy': 0.9931071495110946},\n '95': {'S': 9000, 'N': 2992, 'entropy': 0.810484151026295},\n '105': {'S': 4089, 'N': 2558, 'entropy': 0.9613855514395127},\n '120': {'S': 6970, 'N': 3623, 'entropy': 0.926737010447519},\n '284': {'S': 5384, 'N': 7936, 'entropy': 0.9733568323030547},\n '99': {'S': 572, 'N': 526, 'entropy': 0.9987335657766105},\n '89': {'S': 2459, 'N': 1630, 'entropy': 0.970143832424917},\n '116': {'S': 56, 'N': 44, 'entropy': 0.9895875212220556},\n '57': {'S': 1336, 'N': 2049, 'entropy': 0.9677548948436359},\n '97': {'S': 6441, 'N': 1783, 'entropy': 0.7542894921551269},\n '141': {'S': 4232, 'N': 2608, 'entropy': 0.9589456065128499},\n '123': {'S': 7971, 'N': 4901, 'entropy': 0.9585692388582054},\n '276': {'S': 6143, 'N': 8022, 'entropy': 0.9872694910899327},\n '117': {'S': 971, 'N': 306, 'entropy': 0.7944146435273228},\n '93': {'S': 11851, 'N': 4444, 'entropy': 0.845343042077044},\n '126': {'S': 1406, 'N': 572, 'entropy': 0.867660926829271},\n '254': {'S': 722, 'N': 1844, 'entropy': 0.8573132370210009},\n '156': {'S': 560, 'N': 364, 'entropy': 0.9672947789468944},\n '222': {'S': 56, 'N': 33, 'entropy': 0.9512740874376923},\n '253': {'S': 944, 'N': 1850, 'entropy': 0.9227627921330223},\n '82': {'S': 3968, 'N': 10939, 'entropy': 0.8359349835526388},\n '283': {'S': 2738, 'N': 3431, 'entropy': 0.99087782154368},\n '103': {'S': 6118, 'N': 2613, 'entropy': 0.8804070721280748},\n '147': {'S': 526, 'N': 364, 'entropy': 0.9759664276514268},\n '76': {'S': 20858, 'N': 14546, 'entropy': 0.9769485578204181},\n '236': {'S': 5594, 'N': 5198, 'entropy': 0.9990285319054288},\n '259': {'S': 22525, 'N': 7769, 'entropy': 0.82134724104533},\n '72': {'S': 710, 'N': 1145, 'entropy': 0.9599606638341052},\n '70': {'S': 473, 'N': 311, 'entropy': 0.9689775812323621},\n '108': {'S': 1128, 'N': 649, 'entropy': 0.9469328703408448},\n '279': {'S': 14991, 'N': 5564, 'entropy': 0.842450709130815},\n '118': {'S': 1969, 'N': 2121, 'entropy': 0.9990034820686059},\n '233': {'S': 7784, 'N': 8060, 'entropy': 0.9997810953401329},\n '112': {'S': 1329, 'N': 914, 'entropy': 0.9751636746488619},\n '71': {'S': 902, 'N': 345, 'entropy': 0.8508653500694761},\n '106': {'S': 8074, 'N': 3616, 'entropy': 0.8923918327357888},\n '157': {'S': 2286, 'N': 1940, 'entropy': 0.9951591235906888},\n '56': {'S': 508, 'N': 1061, 'entropy': 0.90843747177318},\n '122': {'S': 12383, 'N': 6616, 'entropy': 0.9324763176352806},\n '282': {'S': 2609, 'N': 2436, 'entropy': 0.9991516021593176},\n '124': {'S': 3239, 'N': 2476, 'entropy': 0.9871038915956063},\n '139': {'S': 3730, 'N': 1265, 'entropy': 0.8163938084249831},\n '88': {'S': 2950, 'N': 1392, 'entropy': 0.9050214630162731},\n '79': {'S': 2382, 'N': 2131, 'entropy': 0.997767531001705},\n '61': {'S': 142, 'N': 127, 'entropy': 0.9977558711449888},\n '288': {'S': 5432, 'N': 2446, 'entropy': 0.8937323932216376},\n '66': {'S': 832, 'N': 1198, 'entropy': 0.9764228039669456},\n '250': {'S': 858, 'N': 850, 'entropy': 0.9999841747575426},\n '263': {'S': 319, 'N': 366, 'entropy': 0.9966013974056223},\n '251': {'S': 56, 'N': 129, 'entropy': 0.8845696141118493},\n '55': {'S': 9676, 'N': 6782, 'entropy': 0.9775793696279931},\n '275': {'S': 126, 'N': 117, 'entropy': 0.9990102708804813},\n '140': {'S': 9061, 'N': 4363, 'entropy': 0.9097518316908001},\n '286': {'S': 1802, 'N': 1391, 'entropy': 0.9880150570895889},\n '258': {'S': 1307, 'N': 3062, 'entropy': 0.880253219879104},\n '199': {'S': 1328, 'N': 1487, 'entropy': 0.997697428356344},\n '87': {'S': 1155, 'N': 915, 'entropy': 0.9902814044242308},\n '246': {'S': 1098, 'N': 1376, 'entropy': 0.9908724888171963},\n '256': {'S': 410, 'N': 761, 'entropy': 0.9341824036238189},\n '249': {'S': 3311, 'N': 2456, 'entropy': 0.9840860111860217},\n '203': {'S': 329, 'N': 408, 'entropy': 0.9916957872724581},\n '182': {'S': 739, 'N': 867, 'entropy': 0.9954129431665446},\n '73': {'S': 2510, 'N': 1818, 'entropy': 0.9814797083072673},\n '214': {'S': 156, 'N': 104, 'entropy': 0.9709505944546686},\n '248': {'S': 1441, 'N': 1484, 'entropy': 0.9998441002719469},\n '64': {'S': 569, 'N': 462, 'entropy': 0.9922164617845355},\n '137': {'S': 4071, 'N': 1788, 'entropy': 0.8875209699088944},\n '277': {'S': 147, 'N': 320, 'entropy': 0.8986088787783952},\n '83': {'S': 826, 'N': 1431, 'entropy': 0.9475294225235493},\n '208': {'S': 156, 'N': 139, 'entropy': 0.9976031603472433},\n '60': {'S': 176, 'N': 383, 'entropy': 0.8986905412556714},\n '62': {'S': 1503, 'N': 1290, 'entropy': 0.995800634987078},\n '135': {'S': 294, 'N': 173, 'entropy': 0.951016742358389},\n '264': {'S': 1815, 'N': 2537, 'entropy': 0.9800542232372274},\n '80': {'S': 489, 'N': 633, 'entropy': 0.988085320965493},\n '235': {'S': 2006, 'N': 1650, 'entropy': 0.9931495272030976},\n '131': {'S': 2970, 'N': 4032, 'entropy': 0.9833418516919428},\n '281': {'S': 27, 'N': 68, 'entropy': 0.8611247055579296},\n '245': {'S': 1176, 'N': 705, 'entropy': 0.9542869576251066},\n '127': {'S': 306, 'N': 253, 'entropy': 0.9935058069011294},\n '238': {'S': 38, 'N': 52, 'entropy': 0.9824740868386409},\n '234': {'S': 2607, 'N': 2003, 'entropy': 0.9875815924949978},\n '181': {'S': 146, 'N': 345, 'entropy': 0.8780303020517789},\n '67': {'S': 730, 'N': 769, 'entropy': 0.9995116631494395},\n '244': {'S': 770, 'N': 797, 'entropy': 0.9997858315123065},\n '247': {'S': 686, 'N': 833, 'entropy': 0.9932338197397066},\n '26': {'S': 13, 'N': 19, 'entropy': 0.9744894033980523},\n '78': {'S': 220, 'N': 243, 'entropy': 0.9982191924359818},\n '240': {'S': 125, 'N': 206, 'entropy': 0.9563606872226139},\n '287': {'S': 873, 'N': 465, 'entropy': 0.931846071212194},\n '91': {'S': 1048, 'N': 595, 'entropy': 0.9444472024196697},\n '69': {'S': 2327, 'N': 2171, 'entropy': 0.9991321554590697},\n '204': {'S': 357, 'N': 396, 'entropy': 0.9980641213254289},\n '237': {'S': 469, 'N': 589, 'entropy': 0.9907002627701194},\n '184': {'S': 614, 'N': 439, 'entropy': 0.9799838379076615},\n '136': {'S': 370, 'N': 434, 'entropy': 0.9954243587511432},\n '15': {'S': 19, 'N': 29, 'entropy': 0.9684610087601622},\n '133': {'S': 128, 'N': 133, 'entropy': 0.9997352535750255},\n '30': {'S': 32, 'N': 33, 'entropy': 0.9998292601233936},\n '1': {'S': 30, 'N': 58, 'entropy': 0.9256859869821299},\n '200': {'S': 160, 'N': 222, 'entropy': 0.9809135989475248},\n '130': {'S': 605, 'N': 1093, 'entropy': 0.9395702922000493},\n '188': {'S': 865, 'N': 385, 'entropy': 0.890851296603444},\n '215': {'S': 262, 'N': 292, 'entropy': 0.9978836866344283},\n '31': {'S': 20, 'N': 18, 'entropy': 0.9980008838722996},\n '207': {'S': 716, 'N': 479, 'entropy': 0.9714379985761963},\n '113': {'S': 179, 'N': 125, 'entropy': 0.977118106492721},\n '107': {'S': 322, 'N': 147, 'entropy': 0.8970964164730477},\n '38': {'S': 47, 'N': 58, 'entropy': 0.9920686248447118},\n '285': {'S': 729, 'N': 1070, 'entropy': 0.9739251548907029},\n '121': {'S': 1245, 'N': 205, 'entropy': 0.5878397338966806},\n '212': {'S': 589, 'N': 645, 'entropy': 0.9985139294034787},\n '262': {'S': 425, 'N': 503, 'entropy': 0.9948978842893907},\n '68': {'S': 216, 'N': 255, 'entropy': 0.9950485853530848},\n '109': {'S': 111, 'N': 97, 'entropy': 0.9967295890208365},\n '111': {'S': 2331, 'N': 921, 'entropy': 0.8597883216846504},\n '213': {'S': 46, 'N': 53, 'entropy': 0.9963906193677698},\n '239': {'S': 103, 'N': 136, 'entropy': 0.9862036250940638},\n '266': {'S': 376, 'N': 2133, 'entropy': 0.6094911012811414},\n '65': {'S': 210, 'N': 159, 'entropy': 0.9861763323473927},\n '274': {'S': 1026, 'N': 348, 'entropy': 0.8164279026694867},\n '257': {'S': 116, 'N': 232, 'entropy': 0.9182958340544896},\n '223': {'S': 38, 'N': 50, 'entropy': 0.9865446300055644},\n '19': {'S': 66, 'N': 93, 'entropy': 0.9790981671667149},\n '84': {'S': 44, 'N': 39, 'entropy': 0.9973806632063371},\n '3': {'S': 86, 'N': 206, 'entropy': 0.8744893619480877},\n '8': {'S': 49, 'N': 66, 'entropy': 0.9841787966895654},\n '119': {'S': 310, 'N': 209, 'entropy': 0.9725066739457071},\n '4': {'S': 24, 'N': 24, 'entropy': 1.0},\n '201': {'S': 47, 'N': 40, 'entropy': 0.9953251070631713},\n '115': {'S': 159, 'N': 154, 'entropy': 0.9998159167178347},\n '219': {'S': 56, 'N': 48, 'entropy': 0.9957274520849255},\n '280': {'S': 355, 'N': 369, 'entropy': 0.9997302567717938},\n '142': {'S': 218, 'N': 169, 'entropy': 0.9884047237592446},\n '180': {'S': 77, 'N': 46, 'entropy': 0.9536818743463131},\n '12': {'S': 43, 'N': 57, 'entropy': 0.9858150371789198},\n '261': {'S': 194, 'N': 234, 'entropy': 0.9936902673197932},\n '144': {'S': 84, 'N': 54, 'entropy': 0.9656361333706098},\n '218': {'S': 234, 'N': 278, 'entropy': 0.9946660886725552},\n '33': {'S': 10, 'N': 29, 'entropy': 0.8212809417449863},\n '20': {'S': 14, 'N': 20, 'entropy': 0.9774178175281716},\n '75': {'S': 22, 'N': 7, 'entropy': 0.7973265101474423},\n '243': {'S': 43, 'N': 64, 'entropy': 0.9720334868479674},\n '128': {'S': 21, 'N': 28, 'entropy': 0.9852281360342515},\n '29': {'S': 19, 'N': 6, 'entropy': 0.7950402793845223},\n '217': {'S': 149, 'N': 125, 'entropy': 0.9944585605823408},\n '10': {'S': 11, 'N': 9, 'entropy': 0.9927744539878083},\n '2': {'S': 175, 'N': 253, 'entropy': 0.9759078299331143},\n '17': {'S': 4, 'N': 72, 'entropy': 0.2974722489192896},\n '51': {'S': 9, 'N': 4, 'entropy': 0.8904916402194913},\n '50': {'S': 31, 'N': 51, 'entropy': 0.9566522721480909},\n '9': {'S': 22, 'N': 59, 'entropy': 0.8437582063121658},\n '45': {'S': 54, 'N': 79, 'entropy': 0.9743605992393969},\n '46': {'S': 0, 'N': 16, 'entropy': 0.0},\n '24': {'S': 9, 'N': 14, 'entropy': 0.9656361333706098},\n '278': {'S': 130, 'N': 224, 'entropy': 0.9485227302112391},\n '16': {'S': 3, 'N': 8, 'entropy': 0.8453509366224364},\n '27': {'S': 5, 'N': 25, 'entropy': 0.6500224216483541},\n '205': {'S': 8, 'N': 41, 'entropy': 0.6420642892306891},\n '21': {'S': 6, 'N': 18, 'entropy': 0.8112781244591328},\n '14': {'S': 1, 'N': 5, 'entropy': 0.6500224216483541},\n '28': {'S': 4, 'N': 5, 'entropy': 0.9910760598382222},\n '36': {'S': 7, 'N': 12, 'entropy': 0.9494520153879484},\n '5': {'S': 30, 'N': 36, 'entropy': 0.9940302114769565},\n '210': {'S': 38, 'N': 21, 'entropy': 0.9392547207311598},\n '18': {'S': 23, 'N': 23, 'entropy': 1.0},\n '7': {'S': 6, 'N': 10, 'entropy': 0.954434002924965},\n '34': {'S': 8, 'N': 5, 'entropy': 0.9612366047228759},\n '22': {'S': 7, 'N': 8, 'entropy': 0.9967916319816366},\n '41': {'S': 0, 'N': 4, 'entropy': 0.0},\n '37': {'S': 2, 'N': 18, 'entropy': 0.4689955935892812},\n '39': {'S': 52, 'N': 52, 'entropy': 1.0},\n '11': {'S': 1, 'N': 3, 'entropy': 0.8112781244591328},\n '35': {'S': 8, 'N': 5, 'entropy': 0.9612366047228759},\n '42': {'S': 2, 'N': 6, 'entropy': 0.8112781244591328},\n '231': {'S': 82, 'N': 127, 'entropy': 0.9662958804122325},\n '49': {'S': 49, 'N': 28, 'entropy': 0.9456603046006401},\n '143': {'S': 159, 'N': 72, 'entropy': 0.8951127210954559},\n '216': {'S': 145, 'N': 91, 'entropy': 0.9618967344879139},\n '138': {'S': 31, 'N': 9, 'entropy': 0.7691928290130138},\n '25': {'S': 12, 'N': 12, 'entropy': 1.0},\n '48': {'S': 17, 'N': 13, 'entropy': 0.9871377743721863},\n '59': {'S': 33, 'N': 69, 'entropy': 0.9081783472997051},\n '229': {'S': 83, 'N': 66, 'entropy': 0.9905894286537543},\n '220': {'S': 4, 'N': 3, 'entropy': 0.9852281360342515},\n '225': {'S': 28, 'N': 12, 'entropy': 0.8812908992306927},\n '6': {'S': 3, 'N': 4, 'entropy': 0.9852281360342515},\n '110': {'S': 38, 'N': 24, 'entropy': 0.9629004147713269},\n '77': {'S': 15, 'N': 23, 'entropy': 0.9677884628267678},\n '86': {'S': 48, 'N': 68, 'entropy': 0.9784493292686189},\n '206': {'S': 22, 'N': 15, 'entropy': 0.9740248644357521},\n '164': {'S': 137, 'N': 18, 'entropy': 0.5181305640384066},\n '114': {'S': 7, 'N': 11, 'entropy': 0.964078764808229},\n '230': {'S': 107, 'N': 68, 'entropy': 0.9638714504040671},\n '221': {'S': 4, 'N': 4, 'entropy': 1.0},\n '202': {'S': 7, 'N': 4, 'entropy': 0.9456603046006401},\n '104': {'S': 26, 'N': 5, 'entropy': 0.6373874992221911},\n '227': {'S': 70, 'N': 99, 'entropy': 0.9786538944240245},\n '191': {'S': 2, 'N': 2, 'entropy': 1.0},\n '23': {'S': 6, 'N': 2, 'entropy': 0.8112781244591328},\n '13': {'S': 2, 'N': 5, 'entropy': 0.863120568566631},\n '260': {'S': 44, 'N': 49, 'entropy': 0.9979139338855982},\n '150': {'S': 0, 'N': 2, 'entropy': 0.0},\n '160': {'S': 0, 'N': 0, 'entropy': 0},\n '211': {'S': 1, 'N': 3, 'entropy': 0.8112781244591328},\n '151': {'S': 0, 'N': 0, 'entropy': 0},\n '226': {'S': 12, 'N': 23, 'entropy': 0.9275265884316759},\n '40': {'S': 1, 'N': 3, 'entropy': 0.8112781244591328},\n '85': {'S': 3, 'N': 7, 'entropy': 0.8812908992306927},\n '32': {'S': 1, 'N': 0, 'entropy': -0.0},\n '52': {'S': 0, 'N': 0, 'entropy': 0},\n '209': {'S': 0, 'N': 0, 'entropy': 0},\n '47': {'S': 0, 'N': 0, 'entropy': 0}}"
     },
     "execution_count": 51,
     "metadata": {},
     "output_type": "execute_result"
    }
   ],
   "source": [
    "import math\n",
    "\n",
    "sum = 0\n",
    "for key in map:\n",
    "    totalValues = map[key][\"S\"] + map[key][\"N\"]\n",
    "    if totalValues == 0:\n",
    "        positive = 0\n",
    "        negative = 0\n",
    "    else:\n",
    "        positive = map[key][\"S\"]/totalValues\n",
    "        negative = map[key][\"N\"]/totalValues\n",
    "\n",
    "    if positive == 0:\n",
    "        positiveSide = 0\n",
    "    else:\n",
    "        positiveSide = (positive * math.log2(positive))\n",
    "\n",
    "    if negative == 0:\n",
    "        negativeSide = 0\n",
    "    else:\n",
    "        negativeSide = (negative * math.log2(negative))\n",
    "\n",
    "    map[key][\"entropy\"] = (- positiveSide - negativeSide)\n",
    "\n",
    "# map"
   ]
  },
  {
   "cell_type": "code",
   "execution_count": 52,
   "metadata": {
    "pycharm": {
     "name": "#%%\n"
    }
   },
   "outputs": [
    {
     "data": {
      "text/plain": "0.9197577474461013"
     },
     "execution_count": 52,
     "metadata": {},
     "output_type": "execute_result"
    }
   ],
   "source": [
    "entropy = 0\n",
    "for key in map:\n",
    "    totalValues = map[key][\"S\"] + map[key][\"N\"]\n",
    "    if totalValues == 0:\n",
    "        positive = 0\n",
    "        negative = 0\n",
    "    entropy += (totalValues/sizeDF)*map[key][\"entropy\"]\n",
    "\n",
    "entropy"
   ]
  },
  {
   "cell_type": "markdown",
   "metadata": {
    "pycharm": {
     "name": "#%% md\n"
    }
   },
   "source": [
    "O calculo da entropia relacionada ao código do erro com o fato de o problema ser ou não resolvida é de\n",
    "0.9241 sendo um ótimo voluntário para definir a raiz da árvore de decisão"
   ]
  },
  {
   "cell_type": "code",
   "execution_count": 53,
   "metadata": {
    "pycharm": {
     "name": "#%%\n"
    }
   },
   "outputs": [],
   "source": [
    "import math\n",
    "\n",
    "def calcEntropyAtendida(column):\n",
    "    entropy = 0\n",
    "    map = {}\n",
    "    newDF = joinDF.dropna(subset=[column])\n",
    "    for index, row in newDF[[column,'Atendida']].iterrows():\n",
    "        if row[column] in map:\n",
    "            map[str(row[column])][row[\"Atendida\"]] = map.get(row[column])[row[\"Atendida\"]] + 1\n",
    "        else:\n",
    "            map[row[column]] = {\"S\": 0, \"N\": 0}\n",
    "    for key in map:\n",
    "        totalValues = map[key][\"S\"] + map[key][\"N\"]\n",
    "        if totalValues == 0:\n",
    "            positive = 0\n",
    "            negative = 0\n",
    "        else:\n",
    "            positive = map[key][\"S\"]/totalValues\n",
    "            negative = map[key][\"N\"]/totalValues\n",
    "\n",
    "        if positive == 0:\n",
    "            positiveSide = 0\n",
    "        else:\n",
    "            positiveSide = (positive * math.log2(positive))\n",
    "\n",
    "        if negative == 0:\n",
    "            negativeSide = 0\n",
    "        else:\n",
    "            negativeSide = (negative * math.log2(negative))\n",
    "\n",
    "        map[key][\"entropy\"] = (- positiveSide - negativeSide)\n",
    "        entropy += (totalValues/sizeDF)*map[key][\"entropy\"]\n",
    "\n",
    "    return entropy"
   ]
  },
  {
   "cell_type": "code",
   "execution_count": 54,
   "metadata": {
    "pycharm": {
     "name": "#%%\n"
    }
   },
   "outputs": [
    {
     "data": {
      "text/plain": "0.9504611039020859"
     },
     "execution_count": 54,
     "metadata": {},
     "output_type": "execute_result"
    }
   ],
   "source": [
    "entropySex = calcEntropyAtendida(\"SexoConsumidor\")\n",
    "entropySex"
   ]
  },
  {
   "cell_type": "code",
   "execution_count": 55,
   "metadata": {
    "pycharm": {
     "name": "#%%\n"
    }
   },
   "outputs": [
    {
     "data": {
      "text/plain": "0.952786488469405"
     },
     "execution_count": 55,
     "metadata": {},
     "output_type": "execute_result"
    }
   ],
   "source": [
    "entropyAge = calcEntropyAtendida(\"FaixaEtariaConsumidor\")\n",
    "entropyAge"
   ]
  },
  {
   "cell_type": "code",
   "execution_count": 56,
   "metadata": {
    "pycharm": {
     "name": "#%%\n"
    }
   },
   "outputs": [
    {
     "data": {
      "text/plain": "0.9063807178318728"
     },
     "execution_count": 56,
     "metadata": {},
     "output_type": "execute_result"
    }
   ],
   "source": [
    "entropyCodigoProblema = calcEntropyAtendida(\"CodigoProblema\")\n",
    "entropyCodigoProblema"
   ]
  },
  {
   "cell_type": "code",
   "execution_count": 57,
   "metadata": {
    "pycharm": {
     "name": "#%%\n"
    }
   },
   "outputs": [
    {
     "data": {
      "text/plain": "0.9197577474461013"
     },
     "execution_count": 57,
     "metadata": {},
     "output_type": "execute_result"
    }
   ],
   "source": [
    "entropyCodigoAssunto = calcEntropyAtendida(\"CodigoAssunto\")\n",
    "entropyCodigoAssunto"
   ]
  },
  {
   "cell_type": "code",
   "execution_count": 58,
   "metadata": {
    "pycharm": {
     "name": "#%%\n"
    }
   },
   "outputs": [
    {
     "data": {
      "text/plain": "0.9457632067157704"
     },
     "execution_count": 58,
     "metadata": {},
     "output_type": "execute_result"
    }
   ],
   "source": [
    "entropyCodigoAssunto = calcEntropyAtendida(\"Regiao\")\n",
    "entropyCodigoAssunto\n"
   ]
  },
  {
   "cell_type": "code",
   "execution_count": 59,
   "outputs": [
    {
     "data": {
      "text/plain": "0.8989560608341732"
     },
     "execution_count": 59,
     "metadata": {},
     "output_type": "execute_result"
    }
   ],
   "source": [
    "entropyCidade = calcEntropyAtendida(\"cidade\")\n",
    "entropyCidade"
   ],
   "metadata": {
    "collapsed": false,
    "pycharm": {
     "name": "#%%\n"
    }
   }
  },
  {
   "cell_type": "markdown",
   "source": [
    "To use the cities as an variable for the neural algorithm it's needed to change his value for a numeric, so a class will be created for every city."
   ],
   "metadata": {
    "collapsed": false,
    "pycharm": {
     "name": "#%% md\n"
    }
   }
  },
  {
   "cell_type": "code",
   "execution_count": 60,
   "outputs": [
    {
     "data": {
      "text/plain": "3852"
     },
     "execution_count": 60,
     "metadata": {},
     "output_type": "execute_result"
    }
   ],
   "source": [
    "len(joinDF['cidade'].unique())"
   ],
   "metadata": {
    "collapsed": false,
    "pycharm": {
     "name": "#%%\n"
    }
   }
  },
  {
   "cell_type": "code",
   "execution_count": 61,
   "outputs": [],
   "source": [
    "cities_numeric = {}\n",
    "unique_cities = joinDF['cidade'].unique()\n",
    "for i in range(len(joinDF['cidade'].unique())):\n",
    "    cities_numeric[unique_cities[i]] = i\n",
    "\n",
    "# cities_numeric"
   ],
   "metadata": {
    "collapsed": false,
    "pycharm": {
     "name": "#%%\n"
    }
   }
  },
  {
   "cell_type": "code",
   "execution_count": 62,
   "metadata": {
    "pycharm": {
     "name": "#%%\n"
    }
   },
   "outputs": [
    {
     "name": "stderr",
     "output_type": "stream",
     "text": [
      "<ipython-input-62-c4d01e3c886f>:7: SettingWithCopyWarning: \n",
      "A value is trying to be set on a copy of a slice from a DataFrame.\n",
      "Try using .loc[row_indexer,col_indexer] = value instead\n",
      "\n",
      "See the caveats in the documentation: https://pandas.pydata.org/pandas-docs/stable/user_guide/indexing.html#returning-a-view-versus-a-copy\n",
      "  decisionTreeDF['Atendida'] = decisionTreeDF['Atendida'].str.replace(\"S\",\"1\")\n",
      "<ipython-input-62-c4d01e3c886f>:8: SettingWithCopyWarning: \n",
      "A value is trying to be set on a copy of a slice from a DataFrame.\n",
      "Try using .loc[row_indexer,col_indexer] = value instead\n",
      "\n",
      "See the caveats in the documentation: https://pandas.pydata.org/pandas-docs/stable/user_guide/indexing.html#returning-a-view-versus-a-copy\n",
      "  decisionTreeDF['Atendida'] = decisionTreeDF['Atendida'].str.replace(\"F\",\"0\")\n",
      "<ipython-input-62-c4d01e3c886f>:9: SettingWithCopyWarning: \n",
      "A value is trying to be set on a copy of a slice from a DataFrame.\n",
      "Try using .loc[row_indexer,col_indexer] = value instead\n",
      "\n",
      "See the caveats in the documentation: https://pandas.pydata.org/pandas-docs/stable/user_guide/indexing.html#returning-a-view-versus-a-copy\n",
      "  decisionTreeDF['Atendida'] = decisionTreeDF['Atendida'].str.replace(\"N\",\"0\")\n",
      "<ipython-input-62-c4d01e3c886f>:10: SettingWithCopyWarning: \n",
      "A value is trying to be set on a copy of a slice from a DataFrame.\n",
      "Try using .loc[row_indexer,col_indexer] = value instead\n",
      "\n",
      "See the caveats in the documentation: https://pandas.pydata.org/pandas-docs/stable/user_guide/indexing.html#returning-a-view-versus-a-copy\n",
      "  decisionTreeDF['SexoConsumidor'] = decisionTreeDF['SexoConsumidor'].str.replace(\"F\",\"0\")\n",
      "<ipython-input-62-c4d01e3c886f>:11: SettingWithCopyWarning: \n",
      "A value is trying to be set on a copy of a slice from a DataFrame.\n",
      "Try using .loc[row_indexer,col_indexer] = value instead\n",
      "\n",
      "See the caveats in the documentation: https://pandas.pydata.org/pandas-docs/stable/user_guide/indexing.html#returning-a-view-versus-a-copy\n",
      "  decisionTreeDF['SexoConsumidor'] = decisionTreeDF['SexoConsumidor'].str.replace(\"M\",\"1\")\n",
      "<ipython-input-62-c4d01e3c886f>:12: SettingWithCopyWarning: \n",
      "A value is trying to be set on a copy of a slice from a DataFrame.\n",
      "Try using .loc[row_indexer,col_indexer] = value instead\n",
      "\n",
      "See the caveats in the documentation: https://pandas.pydata.org/pandas-docs/stable/user_guide/indexing.html#returning-a-view-versus-a-copy\n",
      "  decisionTreeDF['SexoConsumidor'] = decisionTreeDF['SexoConsumidor'].str.replace(\"N\",\"2\")\n",
      "<ipython-input-62-c4d01e3c886f>:13: SettingWithCopyWarning: \n",
      "A value is trying to be set on a copy of a slice from a DataFrame.\n",
      "Try using .loc[row_indexer,col_indexer] = value instead\n",
      "\n",
      "See the caveats in the documentation: https://pandas.pydata.org/pandas-docs/stable/user_guide/indexing.html#returning-a-view-versus-a-copy\n",
      "  decisionTreeDF['FaixaEtariaConsumidor'] = decisionTreeDF['FaixaEtariaConsumidor'].str.replace(\"entre 61 a 70 anos\",\"0\")\n",
      "<ipython-input-62-c4d01e3c886f>:14: SettingWithCopyWarning: \n",
      "A value is trying to be set on a copy of a slice from a DataFrame.\n",
      "Try using .loc[row_indexer,col_indexer] = value instead\n",
      "\n",
      "See the caveats in the documentation: https://pandas.pydata.org/pandas-docs/stable/user_guide/indexing.html#returning-a-view-versus-a-copy\n",
      "  decisionTreeDF['FaixaEtariaConsumidor'] = decisionTreeDF['FaixaEtariaConsumidor'].str.replace(\"entre 21 a 30 anos\",\"1\")\n",
      "<ipython-input-62-c4d01e3c886f>:15: SettingWithCopyWarning: \n",
      "A value is trying to be set on a copy of a slice from a DataFrame.\n",
      "Try using .loc[row_indexer,col_indexer] = value instead\n",
      "\n",
      "See the caveats in the documentation: https://pandas.pydata.org/pandas-docs/stable/user_guide/indexing.html#returning-a-view-versus-a-copy\n",
      "  decisionTreeDF['FaixaEtariaConsumidor'] = decisionTreeDF['FaixaEtariaConsumidor'].str.replace(\"entre 41 a 50 anos\",\"2\")\n",
      "<ipython-input-62-c4d01e3c886f>:16: SettingWithCopyWarning: \n",
      "A value is trying to be set on a copy of a slice from a DataFrame.\n",
      "Try using .loc[row_indexer,col_indexer] = value instead\n",
      "\n",
      "See the caveats in the documentation: https://pandas.pydata.org/pandas-docs/stable/user_guide/indexing.html#returning-a-view-versus-a-copy\n",
      "  decisionTreeDF['FaixaEtariaConsumidor'] = decisionTreeDF['FaixaEtariaConsumidor'].str.replace(\"entre 31 a 40 anos\",\"3\")\n",
      "<ipython-input-62-c4d01e3c886f>:17: SettingWithCopyWarning: \n",
      "A value is trying to be set on a copy of a slice from a DataFrame.\n",
      "Try using .loc[row_indexer,col_indexer] = value instead\n",
      "\n",
      "See the caveats in the documentation: https://pandas.pydata.org/pandas-docs/stable/user_guide/indexing.html#returning-a-view-versus-a-copy\n",
      "  decisionTreeDF['FaixaEtariaConsumidor'] = decisionTreeDF['FaixaEtariaConsumidor'].str.replace(\"Nao Informada\",\"4\")\n",
      "<ipython-input-62-c4d01e3c886f>:18: SettingWithCopyWarning: \n",
      "A value is trying to be set on a copy of a slice from a DataFrame.\n",
      "Try using .loc[row_indexer,col_indexer] = value instead\n",
      "\n",
      "See the caveats in the documentation: https://pandas.pydata.org/pandas-docs/stable/user_guide/indexing.html#returning-a-view-versus-a-copy\n",
      "  decisionTreeDF['FaixaEtariaConsumidor'] = decisionTreeDF['FaixaEtariaConsumidor'].str.replace(\"mais de 70 anos\",\"5\")\n",
      "<ipython-input-62-c4d01e3c886f>:19: SettingWithCopyWarning: \n",
      "A value is trying to be set on a copy of a slice from a DataFrame.\n",
      "Try using .loc[row_indexer,col_indexer] = value instead\n",
      "\n",
      "See the caveats in the documentation: https://pandas.pydata.org/pandas-docs/stable/user_guide/indexing.html#returning-a-view-versus-a-copy\n",
      "  decisionTreeDF['FaixaEtariaConsumidor'] = decisionTreeDF['FaixaEtariaConsumidor'].str.replace(\"até 20 anos\",\"6\")\n",
      "<ipython-input-62-c4d01e3c886f>:20: SettingWithCopyWarning: \n",
      "A value is trying to be set on a copy of a slice from a DataFrame.\n",
      "Try using .loc[row_indexer,col_indexer] = value instead\n",
      "\n",
      "See the caveats in the documentation: https://pandas.pydata.org/pandas-docs/stable/user_guide/indexing.html#returning-a-view-versus-a-copy\n",
      "  decisionTreeDF['FaixaEtariaConsumidor'] = decisionTreeDF['FaixaEtariaConsumidor'].str.replace(\"entre 51 a 60 anos\",\"7\")\n",
      "<ipython-input-62-c4d01e3c886f>:21: SettingWithCopyWarning: \n",
      "A value is trying to be set on a copy of a slice from a DataFrame.\n",
      "Try using .loc[row_indexer,col_indexer] = value instead\n",
      "\n",
      "See the caveats in the documentation: https://pandas.pydata.org/pandas-docs/stable/user_guide/indexing.html#returning-a-view-versus-a-copy\n",
      "  decisionTreeDF['Regiao'] = decisionTreeDF['Regiao'].str.replace(\"Sul\",\"0\")\n",
      "<ipython-input-62-c4d01e3c886f>:22: SettingWithCopyWarning: \n",
      "A value is trying to be set on a copy of a slice from a DataFrame.\n",
      "Try using .loc[row_indexer,col_indexer] = value instead\n",
      "\n",
      "See the caveats in the documentation: https://pandas.pydata.org/pandas-docs/stable/user_guide/indexing.html#returning-a-view-versus-a-copy\n",
      "  decisionTreeDF['Regiao'] = decisionTreeDF['Regiao'].str.replace(\"Sudeste\",\"1\")\n",
      "<ipython-input-62-c4d01e3c886f>:23: SettingWithCopyWarning: \n",
      "A value is trying to be set on a copy of a slice from a DataFrame.\n",
      "Try using .loc[row_indexer,col_indexer] = value instead\n",
      "\n",
      "See the caveats in the documentation: https://pandas.pydata.org/pandas-docs/stable/user_guide/indexing.html#returning-a-view-versus-a-copy\n",
      "  decisionTreeDF['Regiao'] = decisionTreeDF['Regiao'].str.replace(\"Norte\",\"2\")\n",
      "<ipython-input-62-c4d01e3c886f>:24: SettingWithCopyWarning: \n",
      "A value is trying to be set on a copy of a slice from a DataFrame.\n",
      "Try using .loc[row_indexer,col_indexer] = value instead\n",
      "\n",
      "See the caveats in the documentation: https://pandas.pydata.org/pandas-docs/stable/user_guide/indexing.html#returning-a-view-versus-a-copy\n",
      "  decisionTreeDF['Regiao'] = decisionTreeDF['Regiao'].str.replace(\"Nordeste\",\"3\")\n",
      "<ipython-input-62-c4d01e3c886f>:25: SettingWithCopyWarning: \n",
      "A value is trying to be set on a copy of a slice from a DataFrame.\n",
      "Try using .loc[row_indexer,col_indexer] = value instead\n",
      "\n",
      "See the caveats in the documentation: https://pandas.pydata.org/pandas-docs/stable/user_guide/indexing.html#returning-a-view-versus-a-copy\n",
      "  decisionTreeDF['Regiao'] = decisionTreeDF['Regiao'].str.replace(\"Centro-oeste\",\"4\")\n"
     ]
    },
    {
     "name": "stdout",
     "output_type": "stream",
     "text": [
      "['1' '0']\n",
      "['1' '0' '2']\n",
      "['0' '7' '1' '2' '3' '4' '5' '6']\n",
      "['4' '1' '2' '0' '3']\n"
     ]
    }
   ],
   "source": [
    "from sklearn.tree import DecisionTreeClassifier # Import Decision Tree Classifier\n",
    "from sklearn.model_selection import train_test_split # Import train_test_split function\n",
    "from sklearn import metrics #Import scikit-learn metrics module for accuracy calculation\n",
    "\n",
    "decisionTreeDF = joinDF\n",
    "decisionTreeDF = decisionTreeDF.dropna(subset=['SexoConsumidor', 'FaixaEtariaConsumidor', 'Regiao', 'CodigoProblema', 'CodigoAssunto'])\n",
    "decisionTreeDF['Atendida'] = decisionTreeDF['Atendida'].str.replace(\"S\",\"1\")\n",
    "decisionTreeDF['Atendida'] = decisionTreeDF['Atendida'].str.replace(\"F\",\"0\")\n",
    "decisionTreeDF['Atendida'] = decisionTreeDF['Atendida'].str.replace(\"N\",\"0\")\n",
    "decisionTreeDF['SexoConsumidor'] = decisionTreeDF['SexoConsumidor'].str.replace(\"F\",\"0\")\n",
    "decisionTreeDF['SexoConsumidor'] = decisionTreeDF['SexoConsumidor'].str.replace(\"M\",\"1\")\n",
    "decisionTreeDF['SexoConsumidor'] = decisionTreeDF['SexoConsumidor'].str.replace(\"N\",\"2\")\n",
    "decisionTreeDF['FaixaEtariaConsumidor'] = decisionTreeDF['FaixaEtariaConsumidor'].str.replace(\"entre 61 a 70 anos\",\"0\")\n",
    "decisionTreeDF['FaixaEtariaConsumidor'] = decisionTreeDF['FaixaEtariaConsumidor'].str.replace(\"entre 21 a 30 anos\",\"1\")\n",
    "decisionTreeDF['FaixaEtariaConsumidor'] = decisionTreeDF['FaixaEtariaConsumidor'].str.replace(\"entre 41 a 50 anos\",\"2\")\n",
    "decisionTreeDF['FaixaEtariaConsumidor'] = decisionTreeDF['FaixaEtariaConsumidor'].str.replace(\"entre 31 a 40 anos\",\"3\")\n",
    "decisionTreeDF['FaixaEtariaConsumidor'] = decisionTreeDF['FaixaEtariaConsumidor'].str.replace(\"Nao Informada\",\"4\")\n",
    "decisionTreeDF['FaixaEtariaConsumidor'] = decisionTreeDF['FaixaEtariaConsumidor'].str.replace(\"mais de 70 anos\",\"5\")\n",
    "decisionTreeDF['FaixaEtariaConsumidor'] = decisionTreeDF['FaixaEtariaConsumidor'].str.replace(\"até 20 anos\",\"6\")\n",
    "decisionTreeDF['FaixaEtariaConsumidor'] = decisionTreeDF['FaixaEtariaConsumidor'].str.replace(\"entre 51 a 60 anos\",\"7\")\n",
    "decisionTreeDF['Regiao'] = decisionTreeDF['Regiao'].str.replace(\"Sul\",\"0\")\n",
    "decisionTreeDF['Regiao'] = decisionTreeDF['Regiao'].str.replace(\"Sudeste\",\"1\")\n",
    "decisionTreeDF['Regiao'] = decisionTreeDF['Regiao'].str.replace(\"Norte\",\"2\")\n",
    "decisionTreeDF['Regiao'] = decisionTreeDF['Regiao'].str.replace(\"Nordeste\",\"3\")\n",
    "decisionTreeDF['Regiao'] = decisionTreeDF['Regiao'].str.replace(\"Centro-oeste\",\"4\")\n",
    "print(decisionTreeDF['Atendida'].unique())\n",
    "print(decisionTreeDF['SexoConsumidor'].unique())\n",
    "print(decisionTreeDF['FaixaEtariaConsumidor'].unique())\n",
    "print(decisionTreeDF['Regiao'].unique())"
   ]
  },
  {
   "cell_type": "code",
   "execution_count": 63,
   "outputs": [],
   "source": [
    "def class_cities(row):\n",
    "    return cities_numeric[row.cidade]"
   ],
   "metadata": {
    "collapsed": false,
    "pycharm": {
     "name": "#%%\n"
    }
   }
  },
  {
   "cell_type": "code",
   "execution_count": 64,
   "outputs": [
    {
     "name": "stderr",
     "output_type": "stream",
     "text": [
      "<ipython-input-64-e388ab18334d>:1: SettingWithCopyWarning: \n",
      "A value is trying to be set on a copy of a slice from a DataFrame.\n",
      "Try using .loc[row_indexer,col_indexer] = value instead\n",
      "\n",
      "See the caveats in the documentation: https://pandas.pydata.org/pandas-docs/stable/user_guide/indexing.html#returning-a-view-versus-a-copy\n",
      "  decisionTreeDF['codigo_cidade'] = decisionTreeDF.apply(class_cities, axis=1)\n"
     ]
    }
   ],
   "source": [
    "decisionTreeDF['codigo_cidade'] = decisionTreeDF.apply(class_cities, axis=1)\n"
   ],
   "metadata": {
    "collapsed": false,
    "pycharm": {
     "name": "#%%\n"
    }
   }
  },
  {
   "cell_type": "code",
   "execution_count": 65,
   "outputs": [
    {
     "data": {
      "text/plain": "        AnoCalendario         DataArquivamento             DataAbertura  \\\n0                2009  2009-01-21 15:29:29.000  2005-07-06 08:32:23.000   \n1                2009  2009-01-21 15:29:29.000  2005-07-06 08:32:23.000   \n2                2010  2009-12-01 16:49:51.000  2009-10-07 15:19:55.000   \n3                2010  2009-10-15 17:32:18.000  2009-07-29 15:46:10.000   \n4                2010  2009-12-01 16:49:51.000  2009-10-07 15:19:55.000   \n...               ...                      ...                      ...   \n1347422          2017  2017-11-07 11:06:35.000  2017-10-05 14:21:11.000   \n1347423          2017  2017-10-09 16:45:45.000  2017-09-19 10:34:45.000   \n1348196          2018  2018-08-31 09:44:29.000  2018-04-09 11:15:13.000   \n1348263          2018  2018-06-25 09:52:22.000  2018-03-20 14:17:17.000   \n1348939          2018  2018-12-14 14:14:13.000  2018-09-20 08:57:25.000   \n\n        CodigoRegiao Regiao  UF  \\\n0                  5      4  GO   \n1                  5      4  GO   \n2                 05      4  GO   \n3                 05      4  GO   \n4                 05      4  GO   \n...              ...    ...  ..   \n1347422           01      2  RO   \n1347423           01      2  RO   \n1348196            3      1  SP   \n1348263            3      1  SP   \n1348939            3      1  SP   \n\n                                                strRazaoSocial  \\\n0                 CBP SUL  COLCHÕES E ESPUMAS INDUSTRIAIS LTDA   \n1                             NETUNO INDÚSTRIA E COMÉRCIO LTDA   \n2                                    COMERCIO DE COLCHÕES LTDA   \n3           SONY ERICSSON MOBILE COMMUNICATIONS DO BRASIL LTDA   \n4        GOIAS INDUSTRIA E COMERCIO DE COLCHOES E ESPUMAS LTDA   \n...                                                        ...   \n1347422                                           BANCO PAN SA   \n1347423                      CENTRAIS ELETRICAS DE RONDONIA SA   \n1348196                           CNOVA COMERCIO ELETRONICO SA   \n1348263                         B A BARBOSA SUPERMERCADOS LTDA   \n1348939             CERVEJA STORE CERVEJAS ESPECIAIS LTDA  EPP   \n\n                                         strNomeFantasia Tipo      NumeroCNPJ  \\\n0                                               LIMANSKY    1   1350934000116   \n1                                                 NETUNO    1   1673680000258   \n2                                                    NaN    1  06537671000172   \n3                                       TELEFONE CELULAR    1  04667337000108   \n4                                      (ORTOBOM FABRICA)    1  02748383000297   \n...                                                  ...  ...             ...   \n1347422                                              PAN    1  59285411000113   \n1347423                                       ELETROBRAS    1  05914650000166   \n1348196  PONTOFRIO.COM.BR/CASASBAHIA.COM.BR/EXTRA.COM.BR    1   7170938000107   \n1348263                             SUPERMERCADO GUARANI    1  43462720000181   \n1348939                                              NaN    1  14476356000100   \n\n        radicalCNPJ                                         RazaoSocialRFB  \\\n0           1350934          CBP SUL - COLCHOES E ESPUMAS INDUSTRIAIS LTDA   \n1           1673680                       NETUNO INDUSTRIA E COMERCIO LTDA   \n2               NaN                           MX COMERCIO DE COLCHOES LTDA   \n3               NaN    SONY ERICSSON MOBILE COMMUNICATIONS DO BRASIL LTDA.   \n4               NaN  GOIAS INDUSTRIA E COMERCIO DE COLCHOES E ESPUMAS LTDA   \n...             ...                                                    ...   \n1347422         NaN                                  BANCO PANAMERICANO SA   \n1347423         NaN                CENTRAIS ELETRICAS DE RONDONIA SA CERON   \n1348196         NaN           BRUXELAS EMPREENDIMENTOS E PARTICIPACOES S/A   \n1348263         NaN                          B A BARBOSA SUPERMERCADO LTDA   \n1348939         NaN            CERVEJA STORE CERVEJAS ESPECIAIS LTDA - EPP   \n\n                          NomeFantasiaRFB CNAEPrincipal  \\\n0                                     NaN       3104700   \n1                                     NaN       4754702   \n2                                 ORTOBOM       4754702   \n3                                     NaN       4652400   \n4                                     NaN       3104700   \n...                                   ...           ...   \n1347422                               NaN       6422100   \n1347423  ELETROBRAS DISTRIBUICAO RONDONIA       3514000   \n1348196                               NaN       6462000   \n1348263              SUPERMERCADO GUARANI       4711302   \n1348939                               NaN       4723700   \n\n                                                                                           DescCNAEPrincipal  \\\n0                                                                                     FABRICAÇÃO DE COLCHÕES   \n1                                                                COMÉRCIO VAREJISTA DE ARTIGOS DE COLCHOARIA   \n2                                                                COMÉRCIO VAREJISTA DE ARTIGOS DE COLCHOARIA   \n3                   COMÉRCIO ATACADISTA DE COMPONENTES ELETRÔNICOS E EQUIPAMENTOS DE TELEFONIA E COMUNICAÇÃO   \n4                                                                                     FABRICAÇÃO DE COLCHÕES   \n...                                                                                                      ...   \n1347422                                                             BANCOS MÚLTIPLOS, COM CARTEIRA COMERCIAL   \n1347423                                                                     DISTRIBUIÇÃO DE ENERGIA ELÉTRICA   \n1348196                                                             HOLDINGS DE INSTITUIÇÕES NÃO-FINANCEIRAS   \n1348263  COMÉRCIO VAREJISTA DE MERCADORIAS EM GERAL, COM PREDOMINÂNCIA DE PRODUTOS ALIMENTÍCIOS - SUPERME...   \n1348939                                                                        COMÉRCIO VAREJISTA DE BEBIDAS   \n\n        Atendida CodigoAssunto  \\\n0              1           100   \n1              1           100   \n2              1           100   \n3              1           101   \n4              1           100   \n...          ...           ...   \n1347422        0            53   \n1347423        0           185   \n1348196        0            29   \n1348263        1             7   \n1348939        0             8   \n\n                                            DescricaoAssunto CodigoProblema  \\\n0                                                    Colchão            105   \n1                                                    Colchão            105   \n2                                                    Colchão            102   \n3        Telefone ( Convencional, Celular, Interfone, Etc. )            102   \n4                                                    Colchão            102   \n...                                                      ...            ...   \n1347422                                      Banco comercial           1222   \n1347423                                     Energia Elétrica           3744   \n1348196                                         Ração animal            226   \n1348263                                                 Água            255   \n1348939                                   Bebidas Alcoólicas            256   \n\n                                                                  DescricaoProblema  \\\n0                                               Produto entregue com danos/defeitos   \n1                                               Produto entregue com danos/defeitos   \n2                                           Garantia (Abrangência, cobertura, etc.)   \n3                                           Garantia (Abrangência, cobertura, etc.)   \n4                                           Garantia (Abrangência, cobertura, etc.)   \n...                                                                             ...   \n1347422                                              Calculo de prestação em atraso   \n1347423                                                   Cobrança indevida/abusiva   \n1348196                                                                    Clonagem   \n1348263  SAC - Cancelamento de serviço (retenção, demora, não envio do comprovante)   \n1348939    Tarifa de Cartão de Crédito – Cobrança Indevida (anuidade, 2ª via, etc.)   \n\n        SexoConsumidor FaixaEtariaConsumidor CEPConsumidor RadicalCNPJ  \\\n0                    1                     0      74680330         NaN   \n1                    1                     0      74680330         NaN   \n2                    0                     7      74680330    06537671   \n3                    0                     7      74680330    04667337   \n4                    0                     7      74680330    02748383   \n...                ...                   ...           ...         ...   \n1347422              1                     3      76820228    59285411   \n1347423              0                     7      76824096    05914650   \n1348196              1                     5      13614140     7170938   \n1348263              0                     7      13252440    43462720   \n1348939              1                     2      13148247    14476356   \n\n              cep     tipo            nome_logradouro  \\\n0        74680330  Alameda               das Mangubas   \n1        74680330  Alameda               das Mangubas   \n2        74680330  Alameda               das Mangubas   \n3        74680330  Alameda               das Mangubas   \n4        74680330  Alameda               das Mangubas   \n...           ...      ...                        ...   \n1347422  76820228      Rua               Renato Perez   \n1347423  76824096      Rua            Antônio Vivaldi   \n1348196  13614140      Rua             XV de Novembro   \n1348263  13252440      Rua        José Hélio Casanova   \n1348939  13148247      Rua  Lindolfo Waldemar Masotti   \n\n                            logradouro                      bairro  \\\n0                 Alameda das Mangubas  Residencial Aldeia do Vale   \n1                 Alameda das Mangubas  Residencial Aldeia do Vale   \n2                 Alameda das Mangubas  Residencial Aldeia do Vale   \n3                 Alameda das Mangubas  Residencial Aldeia do Vale   \n4                 Alameda das Mangubas  Residencial Aldeia do Vale   \n...                                ...                         ...   \n1347422               Rua Renato Perez          Agenor de Carvalho   \n1347423            Rua Antônio Vivaldi                      Aponiã   \n1348196             Rua XV de Novembro                  Vila Joest   \n1348263        Rua José Hélio Casanova   Vivendas do Engenho DÁgua   \n1348939  Rua Lindolfo Waldemar Masotti                       Betel   \n\n              cidade estado                          complemento  \\\n0            Goiânia     GO                                  NaN   \n1            Goiânia     GO                                  NaN   \n2            Goiânia     GO                                  NaN   \n3            Goiânia     GO                                  NaN   \n4            Goiânia     GO                                  NaN   \n...              ...    ...                                  ...   \n1347422  Porto Velho     RO  (Jd das Mangueiras I) até 1035/1036   \n1347423  Porto Velho     RO             de 6523/6524 a 6825/6826   \n1348196         Leme     SP                    de 668/669 ao fim   \n1348263      Itatiba     SP                                  NaN   \n1348939     Paulínia     SP                (Residencial Manacás)   \n\n        grandes_usuarios tipo_sem_acento nome_logradouro_sem_acento  \\\n0                    NaN         Alameda               das Mangubas   \n1                    NaN         Alameda               das Mangubas   \n2                    NaN         Alameda               das Mangubas   \n3                    NaN         Alameda               das Mangubas   \n4                    NaN         Alameda               das Mangubas   \n...                  ...             ...                        ...   \n1347422              NaN             Rua               Renato Perez   \n1347423              NaN             Rua            Antonio Vivaldi   \n1348196              NaN             Rua             XV de Novembro   \n1348263              NaN             Rua        Jose Helio Casanova   \n1348939              NaN             Rua  Lindolfo Waldemar Masotti   \n\n                 logradouro_sem_acento           bairro_sem_acento  \\\n0                 Alameda das Mangubas  Residencial Aldeia do Vale   \n1                 Alameda das Mangubas  Residencial Aldeia do Vale   \n2                 Alameda das Mangubas  Residencial Aldeia do Vale   \n3                 Alameda das Mangubas  Residencial Aldeia do Vale   \n4                 Alameda das Mangubas  Residencial Aldeia do Vale   \n...                                ...                         ...   \n1347422               Rua Renato Perez          Agenor de Carvalho   \n1347423            Rua Antonio Vivaldi                      Aponia   \n1348196             Rua XV de Novembro                  Vila Joest   \n1348263        Rua Jose Helio Casanova   Vivendas do Engenho DAgua   \n1348939  Rua Lindolfo Waldemar Masotti                       Betel   \n\n        cidade_sem_acento               complemento_sem_acento  \\\n0                 Goiania                                  NaN   \n1                 Goiania                                  NaN   \n2                 Goiania                                  NaN   \n3                 Goiania                                  NaN   \n4                 Goiania                                  NaN   \n...                   ...                                  ...   \n1347422       Porto Velho  (Jd das Mangueiras I) ate 1035/1036   \n1347423       Porto Velho             de 6523/6524 a 6825/6826   \n1348196              Leme                    de 668/669 ao fim   \n1348263           Itatiba                                  NaN   \n1348939          Paulinia                (Residencial Manacas)   \n\n        grandes_usuarios_sem_acento     latitude    longitude cidade_ibge  \\\n0                               NaN   -16.610696  -49.2000968     5208707   \n1                               NaN   -16.610696  -49.2000968     5208707   \n2                               NaN   -16.610696  -49.2000968     5208707   \n3                               NaN   -16.610696  -49.2000968     5208707   \n4                               NaN   -16.610696  -49.2000968     5208707   \n...                             ...          ...          ...         ...   \n1347422                         NaN   -8.7643344  -63.8664222     1100205   \n1347423                         NaN   -8.7361144  -63.8570318     1100205   \n1348196                         NaN  -22.1791979  -47.3969189     3526704   \n1348263                         NaN  -22.9664222   -46.809363     3523404   \n1348939                         NaN  -22.7825201  -47.1003201     3536505   \n\n        cidade_area ddd cep_ativo  codigo_cidade  \n0           728.841  62         S              0  \n1           728.841  62         S              0  \n2           728.841  62         S              0  \n3           728.841  62         S              0  \n4           728.841  62         S              0  \n...             ...  ..       ...            ...  \n1347422   34090.962  69         S            528  \n1347423   34090.962  69         S            528  \n1348196     402.871  19         S           1570  \n1348263     322.276  11         S           1626  \n1348939     138.777  19         S           2220  \n\n[1328240 rows x 47 columns]",
      "text/html": "<div>\n<style scoped>\n    .dataframe tbody tr th:only-of-type {\n        vertical-align: middle;\n    }\n\n    .dataframe tbody tr th {\n        vertical-align: top;\n    }\n\n    .dataframe thead th {\n        text-align: right;\n    }\n</style>\n<table border=\"1\" class=\"dataframe\">\n  <thead>\n    <tr style=\"text-align: right;\">\n      <th></th>\n      <th>AnoCalendario</th>\n      <th>DataArquivamento</th>\n      <th>DataAbertura</th>\n      <th>CodigoRegiao</th>\n      <th>Regiao</th>\n      <th>UF</th>\n      <th>strRazaoSocial</th>\n      <th>strNomeFantasia</th>\n      <th>Tipo</th>\n      <th>NumeroCNPJ</th>\n      <th>radicalCNPJ</th>\n      <th>RazaoSocialRFB</th>\n      <th>NomeFantasiaRFB</th>\n      <th>CNAEPrincipal</th>\n      <th>DescCNAEPrincipal</th>\n      <th>Atendida</th>\n      <th>CodigoAssunto</th>\n      <th>DescricaoAssunto</th>\n      <th>CodigoProblema</th>\n      <th>DescricaoProblema</th>\n      <th>SexoConsumidor</th>\n      <th>FaixaEtariaConsumidor</th>\n      <th>CEPConsumidor</th>\n      <th>RadicalCNPJ</th>\n      <th>cep</th>\n      <th>tipo</th>\n      <th>nome_logradouro</th>\n      <th>logradouro</th>\n      <th>bairro</th>\n      <th>cidade</th>\n      <th>estado</th>\n      <th>complemento</th>\n      <th>grandes_usuarios</th>\n      <th>tipo_sem_acento</th>\n      <th>nome_logradouro_sem_acento</th>\n      <th>logradouro_sem_acento</th>\n      <th>bairro_sem_acento</th>\n      <th>cidade_sem_acento</th>\n      <th>complemento_sem_acento</th>\n      <th>grandes_usuarios_sem_acento</th>\n      <th>latitude</th>\n      <th>longitude</th>\n      <th>cidade_ibge</th>\n      <th>cidade_area</th>\n      <th>ddd</th>\n      <th>cep_ativo</th>\n      <th>codigo_cidade</th>\n    </tr>\n  </thead>\n  <tbody>\n    <tr>\n      <th>0</th>\n      <td>2009</td>\n      <td>2009-01-21 15:29:29.000</td>\n      <td>2005-07-06 08:32:23.000</td>\n      <td>5</td>\n      <td>4</td>\n      <td>GO</td>\n      <td>CBP SUL  COLCHÕES E ESPUMAS INDUSTRIAIS LTDA</td>\n      <td>LIMANSKY</td>\n      <td>1</td>\n      <td>1350934000116</td>\n      <td>1350934</td>\n      <td>CBP SUL - COLCHOES E ESPUMAS INDUSTRIAIS LTDA</td>\n      <td>NaN</td>\n      <td>3104700</td>\n      <td>FABRICAÇÃO DE COLCHÕES</td>\n      <td>1</td>\n      <td>100</td>\n      <td>Colchão</td>\n      <td>105</td>\n      <td>Produto entregue com danos/defeitos</td>\n      <td>1</td>\n      <td>0</td>\n      <td>74680330</td>\n      <td>NaN</td>\n      <td>74680330</td>\n      <td>Alameda</td>\n      <td>das Mangubas</td>\n      <td>Alameda das Mangubas</td>\n      <td>Residencial Aldeia do Vale</td>\n      <td>Goiânia</td>\n      <td>GO</td>\n      <td>NaN</td>\n      <td>NaN</td>\n      <td>Alameda</td>\n      <td>das Mangubas</td>\n      <td>Alameda das Mangubas</td>\n      <td>Residencial Aldeia do Vale</td>\n      <td>Goiania</td>\n      <td>NaN</td>\n      <td>NaN</td>\n      <td>-16.610696</td>\n      <td>-49.2000968</td>\n      <td>5208707</td>\n      <td>728.841</td>\n      <td>62</td>\n      <td>S</td>\n      <td>0</td>\n    </tr>\n    <tr>\n      <th>1</th>\n      <td>2009</td>\n      <td>2009-01-21 15:29:29.000</td>\n      <td>2005-07-06 08:32:23.000</td>\n      <td>5</td>\n      <td>4</td>\n      <td>GO</td>\n      <td>NETUNO INDÚSTRIA E COMÉRCIO LTDA</td>\n      <td>NETUNO</td>\n      <td>1</td>\n      <td>1673680000258</td>\n      <td>1673680</td>\n      <td>NETUNO INDUSTRIA E COMERCIO LTDA</td>\n      <td>NaN</td>\n      <td>4754702</td>\n      <td>COMÉRCIO VAREJISTA DE ARTIGOS DE COLCHOARIA</td>\n      <td>1</td>\n      <td>100</td>\n      <td>Colchão</td>\n      <td>105</td>\n      <td>Produto entregue com danos/defeitos</td>\n      <td>1</td>\n      <td>0</td>\n      <td>74680330</td>\n      <td>NaN</td>\n      <td>74680330</td>\n      <td>Alameda</td>\n      <td>das Mangubas</td>\n      <td>Alameda das Mangubas</td>\n      <td>Residencial Aldeia do Vale</td>\n      <td>Goiânia</td>\n      <td>GO</td>\n      <td>NaN</td>\n      <td>NaN</td>\n      <td>Alameda</td>\n      <td>das Mangubas</td>\n      <td>Alameda das Mangubas</td>\n      <td>Residencial Aldeia do Vale</td>\n      <td>Goiania</td>\n      <td>NaN</td>\n      <td>NaN</td>\n      <td>-16.610696</td>\n      <td>-49.2000968</td>\n      <td>5208707</td>\n      <td>728.841</td>\n      <td>62</td>\n      <td>S</td>\n      <td>0</td>\n    </tr>\n    <tr>\n      <th>2</th>\n      <td>2010</td>\n      <td>2009-12-01 16:49:51.000</td>\n      <td>2009-10-07 15:19:55.000</td>\n      <td>05</td>\n      <td>4</td>\n      <td>GO</td>\n      <td>COMERCIO DE COLCHÕES LTDA</td>\n      <td>NaN</td>\n      <td>1</td>\n      <td>06537671000172</td>\n      <td>NaN</td>\n      <td>MX COMERCIO DE COLCHOES LTDA</td>\n      <td>ORTOBOM</td>\n      <td>4754702</td>\n      <td>COMÉRCIO VAREJISTA DE ARTIGOS DE COLCHOARIA</td>\n      <td>1</td>\n      <td>100</td>\n      <td>Colchão</td>\n      <td>102</td>\n      <td>Garantia (Abrangência, cobertura, etc.)</td>\n      <td>0</td>\n      <td>7</td>\n      <td>74680330</td>\n      <td>06537671</td>\n      <td>74680330</td>\n      <td>Alameda</td>\n      <td>das Mangubas</td>\n      <td>Alameda das Mangubas</td>\n      <td>Residencial Aldeia do Vale</td>\n      <td>Goiânia</td>\n      <td>GO</td>\n      <td>NaN</td>\n      <td>NaN</td>\n      <td>Alameda</td>\n      <td>das Mangubas</td>\n      <td>Alameda das Mangubas</td>\n      <td>Residencial Aldeia do Vale</td>\n      <td>Goiania</td>\n      <td>NaN</td>\n      <td>NaN</td>\n      <td>-16.610696</td>\n      <td>-49.2000968</td>\n      <td>5208707</td>\n      <td>728.841</td>\n      <td>62</td>\n      <td>S</td>\n      <td>0</td>\n    </tr>\n    <tr>\n      <th>3</th>\n      <td>2010</td>\n      <td>2009-10-15 17:32:18.000</td>\n      <td>2009-07-29 15:46:10.000</td>\n      <td>05</td>\n      <td>4</td>\n      <td>GO</td>\n      <td>SONY ERICSSON MOBILE COMMUNICATIONS DO BRASIL LTDA</td>\n      <td>TELEFONE CELULAR</td>\n      <td>1</td>\n      <td>04667337000108</td>\n      <td>NaN</td>\n      <td>SONY ERICSSON MOBILE COMMUNICATIONS DO BRASIL LTDA.</td>\n      <td>NaN</td>\n      <td>4652400</td>\n      <td>COMÉRCIO ATACADISTA DE COMPONENTES ELETRÔNICOS E EQUIPAMENTOS DE TELEFONIA E COMUNICAÇÃO</td>\n      <td>1</td>\n      <td>101</td>\n      <td>Telefone ( Convencional, Celular, Interfone, Etc. )</td>\n      <td>102</td>\n      <td>Garantia (Abrangência, cobertura, etc.)</td>\n      <td>0</td>\n      <td>7</td>\n      <td>74680330</td>\n      <td>04667337</td>\n      <td>74680330</td>\n      <td>Alameda</td>\n      <td>das Mangubas</td>\n      <td>Alameda das Mangubas</td>\n      <td>Residencial Aldeia do Vale</td>\n      <td>Goiânia</td>\n      <td>GO</td>\n      <td>NaN</td>\n      <td>NaN</td>\n      <td>Alameda</td>\n      <td>das Mangubas</td>\n      <td>Alameda das Mangubas</td>\n      <td>Residencial Aldeia do Vale</td>\n      <td>Goiania</td>\n      <td>NaN</td>\n      <td>NaN</td>\n      <td>-16.610696</td>\n      <td>-49.2000968</td>\n      <td>5208707</td>\n      <td>728.841</td>\n      <td>62</td>\n      <td>S</td>\n      <td>0</td>\n    </tr>\n    <tr>\n      <th>4</th>\n      <td>2010</td>\n      <td>2009-12-01 16:49:51.000</td>\n      <td>2009-10-07 15:19:55.000</td>\n      <td>05</td>\n      <td>4</td>\n      <td>GO</td>\n      <td>GOIAS INDUSTRIA E COMERCIO DE COLCHOES E ESPUMAS LTDA</td>\n      <td>(ORTOBOM FABRICA)</td>\n      <td>1</td>\n      <td>02748383000297</td>\n      <td>NaN</td>\n      <td>GOIAS INDUSTRIA E COMERCIO DE COLCHOES E ESPUMAS LTDA</td>\n      <td>NaN</td>\n      <td>3104700</td>\n      <td>FABRICAÇÃO DE COLCHÕES</td>\n      <td>1</td>\n      <td>100</td>\n      <td>Colchão</td>\n      <td>102</td>\n      <td>Garantia (Abrangência, cobertura, etc.)</td>\n      <td>0</td>\n      <td>7</td>\n      <td>74680330</td>\n      <td>02748383</td>\n      <td>74680330</td>\n      <td>Alameda</td>\n      <td>das Mangubas</td>\n      <td>Alameda das Mangubas</td>\n      <td>Residencial Aldeia do Vale</td>\n      <td>Goiânia</td>\n      <td>GO</td>\n      <td>NaN</td>\n      <td>NaN</td>\n      <td>Alameda</td>\n      <td>das Mangubas</td>\n      <td>Alameda das Mangubas</td>\n      <td>Residencial Aldeia do Vale</td>\n      <td>Goiania</td>\n      <td>NaN</td>\n      <td>NaN</td>\n      <td>-16.610696</td>\n      <td>-49.2000968</td>\n      <td>5208707</td>\n      <td>728.841</td>\n      <td>62</td>\n      <td>S</td>\n      <td>0</td>\n    </tr>\n    <tr>\n      <th>...</th>\n      <td>...</td>\n      <td>...</td>\n      <td>...</td>\n      <td>...</td>\n      <td>...</td>\n      <td>...</td>\n      <td>...</td>\n      <td>...</td>\n      <td>...</td>\n      <td>...</td>\n      <td>...</td>\n      <td>...</td>\n      <td>...</td>\n      <td>...</td>\n      <td>...</td>\n      <td>...</td>\n      <td>...</td>\n      <td>...</td>\n      <td>...</td>\n      <td>...</td>\n      <td>...</td>\n      <td>...</td>\n      <td>...</td>\n      <td>...</td>\n      <td>...</td>\n      <td>...</td>\n      <td>...</td>\n      <td>...</td>\n      <td>...</td>\n      <td>...</td>\n      <td>...</td>\n      <td>...</td>\n      <td>...</td>\n      <td>...</td>\n      <td>...</td>\n      <td>...</td>\n      <td>...</td>\n      <td>...</td>\n      <td>...</td>\n      <td>...</td>\n      <td>...</td>\n      <td>...</td>\n      <td>...</td>\n      <td>...</td>\n      <td>...</td>\n      <td>...</td>\n      <td>...</td>\n    </tr>\n    <tr>\n      <th>1347422</th>\n      <td>2017</td>\n      <td>2017-11-07 11:06:35.000</td>\n      <td>2017-10-05 14:21:11.000</td>\n      <td>01</td>\n      <td>2</td>\n      <td>RO</td>\n      <td>BANCO PAN SA</td>\n      <td>PAN</td>\n      <td>1</td>\n      <td>59285411000113</td>\n      <td>NaN</td>\n      <td>BANCO PANAMERICANO SA</td>\n      <td>NaN</td>\n      <td>6422100</td>\n      <td>BANCOS MÚLTIPLOS, COM CARTEIRA COMERCIAL</td>\n      <td>0</td>\n      <td>53</td>\n      <td>Banco comercial</td>\n      <td>1222</td>\n      <td>Calculo de prestação em atraso</td>\n      <td>1</td>\n      <td>3</td>\n      <td>76820228</td>\n      <td>59285411</td>\n      <td>76820228</td>\n      <td>Rua</td>\n      <td>Renato Perez</td>\n      <td>Rua Renato Perez</td>\n      <td>Agenor de Carvalho</td>\n      <td>Porto Velho</td>\n      <td>RO</td>\n      <td>(Jd das Mangueiras I) até 1035/1036</td>\n      <td>NaN</td>\n      <td>Rua</td>\n      <td>Renato Perez</td>\n      <td>Rua Renato Perez</td>\n      <td>Agenor de Carvalho</td>\n      <td>Porto Velho</td>\n      <td>(Jd das Mangueiras I) ate 1035/1036</td>\n      <td>NaN</td>\n      <td>-8.7643344</td>\n      <td>-63.8664222</td>\n      <td>1100205</td>\n      <td>34090.962</td>\n      <td>69</td>\n      <td>S</td>\n      <td>528</td>\n    </tr>\n    <tr>\n      <th>1347423</th>\n      <td>2017</td>\n      <td>2017-10-09 16:45:45.000</td>\n      <td>2017-09-19 10:34:45.000</td>\n      <td>01</td>\n      <td>2</td>\n      <td>RO</td>\n      <td>CENTRAIS ELETRICAS DE RONDONIA SA</td>\n      <td>ELETROBRAS</td>\n      <td>1</td>\n      <td>05914650000166</td>\n      <td>NaN</td>\n      <td>CENTRAIS ELETRICAS DE RONDONIA SA CERON</td>\n      <td>ELETROBRAS DISTRIBUICAO RONDONIA</td>\n      <td>3514000</td>\n      <td>DISTRIBUIÇÃO DE ENERGIA ELÉTRICA</td>\n      <td>0</td>\n      <td>185</td>\n      <td>Energia Elétrica</td>\n      <td>3744</td>\n      <td>Cobrança indevida/abusiva</td>\n      <td>0</td>\n      <td>7</td>\n      <td>76824096</td>\n      <td>05914650</td>\n      <td>76824096</td>\n      <td>Rua</td>\n      <td>Antônio Vivaldi</td>\n      <td>Rua Antônio Vivaldi</td>\n      <td>Aponiã</td>\n      <td>Porto Velho</td>\n      <td>RO</td>\n      <td>de 6523/6524 a 6825/6826</td>\n      <td>NaN</td>\n      <td>Rua</td>\n      <td>Antonio Vivaldi</td>\n      <td>Rua Antonio Vivaldi</td>\n      <td>Aponia</td>\n      <td>Porto Velho</td>\n      <td>de 6523/6524 a 6825/6826</td>\n      <td>NaN</td>\n      <td>-8.7361144</td>\n      <td>-63.8570318</td>\n      <td>1100205</td>\n      <td>34090.962</td>\n      <td>69</td>\n      <td>S</td>\n      <td>528</td>\n    </tr>\n    <tr>\n      <th>1348196</th>\n      <td>2018</td>\n      <td>2018-08-31 09:44:29.000</td>\n      <td>2018-04-09 11:15:13.000</td>\n      <td>3</td>\n      <td>1</td>\n      <td>SP</td>\n      <td>CNOVA COMERCIO ELETRONICO SA</td>\n      <td>PONTOFRIO.COM.BR/CASASBAHIA.COM.BR/EXTRA.COM.BR</td>\n      <td>1</td>\n      <td>7170938000107</td>\n      <td>NaN</td>\n      <td>BRUXELAS EMPREENDIMENTOS E PARTICIPACOES S/A</td>\n      <td>NaN</td>\n      <td>6462000</td>\n      <td>HOLDINGS DE INSTITUIÇÕES NÃO-FINANCEIRAS</td>\n      <td>0</td>\n      <td>29</td>\n      <td>Ração animal</td>\n      <td>226</td>\n      <td>Clonagem</td>\n      <td>1</td>\n      <td>5</td>\n      <td>13614140</td>\n      <td>7170938</td>\n      <td>13614140</td>\n      <td>Rua</td>\n      <td>XV de Novembro</td>\n      <td>Rua XV de Novembro</td>\n      <td>Vila Joest</td>\n      <td>Leme</td>\n      <td>SP</td>\n      <td>de 668/669 ao fim</td>\n      <td>NaN</td>\n      <td>Rua</td>\n      <td>XV de Novembro</td>\n      <td>Rua XV de Novembro</td>\n      <td>Vila Joest</td>\n      <td>Leme</td>\n      <td>de 668/669 ao fim</td>\n      <td>NaN</td>\n      <td>-22.1791979</td>\n      <td>-47.3969189</td>\n      <td>3526704</td>\n      <td>402.871</td>\n      <td>19</td>\n      <td>S</td>\n      <td>1570</td>\n    </tr>\n    <tr>\n      <th>1348263</th>\n      <td>2018</td>\n      <td>2018-06-25 09:52:22.000</td>\n      <td>2018-03-20 14:17:17.000</td>\n      <td>3</td>\n      <td>1</td>\n      <td>SP</td>\n      <td>B A BARBOSA SUPERMERCADOS LTDA</td>\n      <td>SUPERMERCADO GUARANI</td>\n      <td>1</td>\n      <td>43462720000181</td>\n      <td>NaN</td>\n      <td>B A BARBOSA SUPERMERCADO LTDA</td>\n      <td>SUPERMERCADO GUARANI</td>\n      <td>4711302</td>\n      <td>COMÉRCIO VAREJISTA DE MERCADORIAS EM GERAL, COM PREDOMINÂNCIA DE PRODUTOS ALIMENTÍCIOS - SUPERME...</td>\n      <td>1</td>\n      <td>7</td>\n      <td>Água</td>\n      <td>255</td>\n      <td>SAC - Cancelamento de serviço (retenção, demora, não envio do comprovante)</td>\n      <td>0</td>\n      <td>7</td>\n      <td>13252440</td>\n      <td>43462720</td>\n      <td>13252440</td>\n      <td>Rua</td>\n      <td>José Hélio Casanova</td>\n      <td>Rua José Hélio Casanova</td>\n      <td>Vivendas do Engenho DÁgua</td>\n      <td>Itatiba</td>\n      <td>SP</td>\n      <td>NaN</td>\n      <td>NaN</td>\n      <td>Rua</td>\n      <td>Jose Helio Casanova</td>\n      <td>Rua Jose Helio Casanova</td>\n      <td>Vivendas do Engenho DAgua</td>\n      <td>Itatiba</td>\n      <td>NaN</td>\n      <td>NaN</td>\n      <td>-22.9664222</td>\n      <td>-46.809363</td>\n      <td>3523404</td>\n      <td>322.276</td>\n      <td>11</td>\n      <td>S</td>\n      <td>1626</td>\n    </tr>\n    <tr>\n      <th>1348939</th>\n      <td>2018</td>\n      <td>2018-12-14 14:14:13.000</td>\n      <td>2018-09-20 08:57:25.000</td>\n      <td>3</td>\n      <td>1</td>\n      <td>SP</td>\n      <td>CERVEJA STORE CERVEJAS ESPECIAIS LTDA  EPP</td>\n      <td>NaN</td>\n      <td>1</td>\n      <td>14476356000100</td>\n      <td>NaN</td>\n      <td>CERVEJA STORE CERVEJAS ESPECIAIS LTDA - EPP</td>\n      <td>NaN</td>\n      <td>4723700</td>\n      <td>COMÉRCIO VAREJISTA DE BEBIDAS</td>\n      <td>0</td>\n      <td>8</td>\n      <td>Bebidas Alcoólicas</td>\n      <td>256</td>\n      <td>Tarifa de Cartão de Crédito – Cobrança Indevida (anuidade, 2ª via, etc.)</td>\n      <td>1</td>\n      <td>2</td>\n      <td>13148247</td>\n      <td>14476356</td>\n      <td>13148247</td>\n      <td>Rua</td>\n      <td>Lindolfo Waldemar Masotti</td>\n      <td>Rua Lindolfo Waldemar Masotti</td>\n      <td>Betel</td>\n      <td>Paulínia</td>\n      <td>SP</td>\n      <td>(Residencial Manacás)</td>\n      <td>NaN</td>\n      <td>Rua</td>\n      <td>Lindolfo Waldemar Masotti</td>\n      <td>Rua Lindolfo Waldemar Masotti</td>\n      <td>Betel</td>\n      <td>Paulinia</td>\n      <td>(Residencial Manacas)</td>\n      <td>NaN</td>\n      <td>-22.7825201</td>\n      <td>-47.1003201</td>\n      <td>3536505</td>\n      <td>138.777</td>\n      <td>19</td>\n      <td>S</td>\n      <td>2220</td>\n    </tr>\n  </tbody>\n</table>\n<p>1328240 rows × 47 columns</p>\n</div>"
     },
     "execution_count": 65,
     "metadata": {},
     "output_type": "execute_result"
    }
   ],
   "source": [
    "decisionTreeDF"
   ],
   "metadata": {
    "collapsed": false,
    "pycharm": {
     "name": "#%%\n"
    }
   }
  },
  {
   "cell_type": "code",
   "execution_count": 66,
   "outputs": [
    {
     "name": "stdout",
     "output_type": "stream",
     "text": [
      "Counter({'S': 843197, 'N': 505875})\n"
     ]
    }
   ],
   "source": [
    "contagem_classes = Counter(joinDF['Atendida'])\n",
    "print(contagem_classes)\n"
   ],
   "metadata": {
    "collapsed": false,
    "pycharm": {
     "name": "#%%\n"
    }
   }
  },
  {
   "cell_type": "code",
   "execution_count": 67,
   "outputs": [
    {
     "name": "stdout",
     "output_type": "stream",
     "text": [
      "Accuracy: 0.6847858820695055\n"
     ]
    }
   ],
   "source": [
    "feature_cols = ['CodigoProblema', 'CodigoAssunto', 'CEPConsumidor']\n",
    "X = decisionTreeDF[feature_cols] # Features\n",
    "y = decisionTreeDF.Atendida # Target variable\n",
    "\n",
    "X_train, X_test, y_train, y_test = train_test_split(X, y, test_size=0.3, random_state=1) # 70% training and 30% test\n",
    "\n",
    "# Create Decision Tree classifer object\n",
    "clf = DecisionTreeClassifier()\n",
    "\n",
    "# Train Decision Tree Classifer\n",
    "clf = clf.fit(X_train,y_train)\n",
    "\n",
    "#Predict the response for test dataset\n",
    "y_pred = clf.predict(X_test)\n",
    "\n",
    "# Model Accuracy, how often is the classifier correct?\n",
    "print(\"Accuracy:\",metrics.accuracy_score(y_test, y_pred))"
   ],
   "metadata": {
    "collapsed": false,
    "pycharm": {
     "name": "#%%\n"
    }
   }
  },
  {
   "cell_type": "markdown",
   "source": [
    "Using SMOTE"
   ],
   "metadata": {
    "collapsed": false,
    "pycharm": {
     "name": "#%% md\n"
    }
   }
  },
  {
   "cell_type": "code",
   "execution_count": 68,
   "outputs": [
    {
     "name": "stdout",
     "output_type": "stream",
     "text": [
      "Mean ROC AUC: 0.692\n"
     ]
    }
   ],
   "source": [
    "# define pipeline\n",
    "steps = [('over', SMOTE()), ('model', DecisionTreeClassifier())]\n",
    "pipeline = Pipeline(steps=steps)\n",
    "# evaluate pipeline\n",
    "cv = RepeatedStratifiedKFold(n_splits=10, n_repeats=3, random_state=1)\n",
    "scores = cross_val_score(pipeline, X, y, scoring='roc_auc', cv=cv, n_jobs=-1)\n",
    "print('Mean ROC AUC: %.3f' % mean(scores))\n"
   ],
   "metadata": {
    "collapsed": false,
    "pycharm": {
     "name": "#%%\n"
    }
   }
  },
  {
   "cell_type": "code",
   "execution_count": 69,
   "metadata": {
    "pycharm": {
     "name": "#%%\n"
    }
   },
   "outputs": [],
   "source": [
    "# from sklearn.tree import export_graphviz\n",
    "# from six import StringIO\n",
    "# from IPython.display import Image\n",
    "# import pydotplus\n",
    "#\n",
    "# dot_data = StringIO()\n",
    "# export_graphviz(clf, out_file=dot_data,\n",
    "#                 filled=True, rounded=True,\n",
    "#                 special_characters=True,feature_names = feature_cols,class_names=['0','1'])\n",
    "# graph = pydotplus.graph_from_dot_data(dot_data.getvalue())\n",
    "#"
   ]
  },
  {
   "cell_type": "code",
   "execution_count": 70,
   "metadata": {
    "pycharm": {
     "name": "#%%\n"
    }
   },
   "outputs": [],
   "source": [
    "# graph.write_png('tree4DepthFullAttr.png')\n",
    "# Image(graph.create_png())"
   ]
  },
  {
   "cell_type": "markdown",
   "source": [
    "Análise Descritiva da colunas"
   ],
   "metadata": {
    "collapsed": false,
    "pycharm": {
     "name": "#%% md\n"
    }
   }
  },
  {
   "cell_type": "code",
   "execution_count": 75,
   "outputs": [
    {
     "data": {
      "text/plain": "'|     |   Frequência |   Porcentagem % |\\n|----:|-------------:|----------------:|\\n| 101 |       155617 |    11.5351      |\\n| 187 |        89452 |     6.63063     |\\n| 102 |        87629 |     6.4955      |\\n|  54 |        75709 |     5.61193     |\\n| 186 |        75662 |     5.60845     |\\n|  53 |        73084 |     5.41735     |\\n|  96 |        50394 |     3.73546     |\\n|  63 |        47449 |     3.51716     |\\n|  94 |        42445 |     3.14624     |\\n|  76 |        35405 |     2.6244      |\\n| 259 |        30295 |     2.24562     |\\n| 185 |        27363 |     2.02828     |\\n|  92 |        26721 |     1.98069     |\\n| 279 |        20556 |     1.52371     |\\n| 122 |        19000 |     1.40838     |\\n| 183 |        18373 |     1.3619      |\\n|  55 |        16459 |     1.22002     |\\n|  93 |        16296 |     1.20794     |\\n| 233 |        15845 |     1.17451     |\\n|  82 |        14908 |     1.10506     |\\n| 276 |        14166 |     1.05006     |\\n| 140 |        13425 |     0.995129    |\\n| 284 |        13321 |     0.98742     |\\n| 125 |        13181 |     0.977042    |\\n| 123 |        12873 |     0.954211    |\\n|  95 |        11993 |     0.888981    |\\n| 106 |        11691 |     0.866596    |\\n| 236 |        10793 |     0.800031    |\\n| 120 |        10594 |     0.785281    |\\n| 129 |         9661 |     0.716122    |\\n| 100 |         9335 |     0.691957    |\\n| 132 |         9196 |     0.681654    |\\n| 103 |         8732 |     0.64726     |\\n| 146 |         8362 |     0.619833    |\\n| 134 |         8250 |     0.611531    |\\n|  97 |         8225 |     0.609678    |\\n| 288 |         7879 |     0.584031    |\\n|  90 |         7712 |     0.571652    |\\n| 131 |         7003 |     0.519098    |\\n| 141 |         6841 |     0.507089    |\\n| 105 |         6648 |     0.492783    |\\n| 283 |         6170 |     0.457351    |\\n| 137 |         5860 |     0.434373    |\\n| 249 |         5768 |     0.427553    |\\n| 124 |         5716 |     0.423699    |\\n| 145 |         5485 |     0.406576    |\\n| 282 |         5046 |     0.374035    |\\n| 139 |         4996 |     0.370329    |\\n| 234 |         4611 |     0.341791    |\\n|  79 |         4514 |     0.3346      |\\n|  69 |         4499 |     0.333489    |\\n| 258 |         4370 |     0.323926    |\\n| 264 |         4353 |     0.322666    |\\n|  88 |         4343 |     0.321925    |\\n|  73 |         4329 |     0.320887    |\\n| 157 |         4227 |     0.313326    |\\n| 118 |         4091 |     0.303245    |\\n|  89 |         4090 |     0.303171    |\\n|  74 |         4036 |     0.299169    |\\n| 235 |         3657 |     0.271075    |\\n|  57 |         3386 |     0.250987    |\\n|  58 |         3345 |     0.247948    |\\n| 111 |         3253 |     0.241129    |\\n| 286 |         3194 |     0.236755    |\\n| 248 |         2926 |     0.21689     |\\n| 199 |         2816 |     0.208736    |\\n| 253 |         2795 |     0.207179    |\\n|  62 |         2794 |     0.207105    |\\n| 254 |         2567 |     0.190279    |\\n| 266 |         2510 |     0.186054    |\\n|  81 |         2492 |     0.18472     |\\n| 246 |         2475 |     0.183459    |\\n|  83 |         2258 |     0.167374    |\\n| 112 |         2244 |     0.166337    |\\n|  87 |         2071 |     0.153513    |\\n|  66 |         2031 |     0.150548    |\\n| 126 |         1979 |     0.146693    |\\n| 245 |         1882 |     0.139503    |\\n|  72 |         1856 |     0.137576    |\\n| 285 |         1800 |     0.133425    |\\n| 108 |         1778 |     0.131794    |\\n| 250 |         1709 |     0.12668     |\\n| 130 |         1699 |     0.125938    |\\n|  98 |         1698 |     0.125864    |\\n|  91 |         1644 |     0.121862    |\\n| 182 |         1607 |     0.119119    |\\n|  56 |         1570 |     0.116376    |\\n| 244 |         1568 |     0.116228    |\\n| 247 |         1520 |     0.11267     |\\n|  67 |         1500 |     0.111188    |\\n| 121 |         1451 |     0.107555    |\\n| 274 |         1375 |     0.101922    |\\n| 287 |         1339 |     0.0992534   |\\n| 117 |         1278 |     0.0947318   |\\n| 255 |         1267 |     0.0939164   |\\n| 188 |         1251 |     0.0927304   |\\n|  71 |         1248 |     0.092508    |\\n| 212 |         1235 |     0.0915444   |\\n| 207 |         1196 |     0.0886535   |\\n| 256 |         1172 |     0.0868745   |\\n|  80 |         1123 |     0.0832424   |\\n|  99 |         1099 |     0.0814634   |\\n| 237 |         1059 |     0.0784984   |\\n| 184 |         1054 |     0.0781278   |\\n|  64 |         1032 |     0.076497    |\\n| 262 |          929 |     0.0688622   |\\n| 156 |          925 |     0.0685657   |\\n| 147 |          891 |     0.0660454   |\\n| 252 |          861 |     0.0638216   |\\n| 136 |          805 |     0.0596706   |\\n|  70 |          785 |     0.0581881   |\\n| 204 |          754 |     0.0558903   |\\n| 203 |          738 |     0.0547043   |\\n| 280 |          725 |     0.0537406   |\\n| 263 |          686 |     0.0508498   |\\n| 127 |          560 |     0.04151     |\\n|  60 |          560 |     0.04151     |\\n| 215 |          555 |     0.0411394   |\\n| 119 |          520 |     0.038545    |\\n| 218 |          513 |     0.0380261   |\\n| 181 |          492 |     0.0364695   |\\n|  68 |          472 |     0.034987    |\\n| 107 |          470 |     0.0348388   |\\n| 135 |          468 |     0.0346905   |\\n| 277 |          468 |     0.0346905   |\\n|  78 |          464 |     0.034394    |\\n| 261 |          429 |     0.0317996   |\\n|   2 |          429 |     0.0317996   |\\n| 142 |          388 |     0.0287605   |\\n| 200 |          383 |     0.0283899   |\\n|  65 |          370 |     0.0274263   |\\n| 278 |          355 |     0.0263144   |\\n| 257 |          349 |     0.0258696   |\\n| 240 |          332 |     0.0246095   |\\n| 115 |          314 |     0.0232753   |\\n| 113 |          305 |     0.0226081   |\\n| 208 |          296 |     0.021941    |\\n|   3 |          293 |     0.0217186   |\\n| 217 |          275 |     0.0203844   |\\n|  61 |          270 |     0.0200138   |\\n| 133 |          262 |     0.0194208   |\\n| 214 |          261 |     0.0193466   |\\n| 275 |          244 |     0.0180865   |\\n| 239 |          240 |     0.01779     |\\n| 216 |          237 |     0.0175676   |\\n| 143 |          232 |     0.017197    |\\n| 231 |          210 |     0.0155663   |\\n| 109 |          209 |     0.0154921   |\\n| 251 |          186 |     0.0137873   |\\n| 230 |          176 |     0.013046    |\\n| 227 |          170 |     0.0126013   |\\n|  19 |          160 |     0.01186     |\\n| 164 |          156 |     0.0115635   |\\n| 229 |          150 |     0.0111188   |\\n| 144 |          139 |     0.0103034   |\\n|  45 |          134 |     0.00993275  |\\n| 180 |          124 |     0.0091915   |\\n|  86 |          117 |     0.00867263  |\\n|   8 |          116 |     0.0085985   |\\n| 243 |          108 |     0.0080055   |\\n|  38 |          106 |     0.00785725  |\\n| 219 |          105 |     0.00778313  |\\n|  39 |          105 |     0.00778313  |\\n|  59 |          103 |     0.00763488  |\\n|  12 |          101 |     0.00748663  |\\n| 116 |          101 |     0.00748663  |\\n| 213 |          100 |     0.0074125   |\\n| 281 |           96 |     0.007116    |\\n| 260 |           94 |     0.00696775  |\\n| 238 |           91 |     0.00674538  |\\n| 222 |           90 |     0.00667125  |\\n|   1 |           89 |     0.00659713  |\\n| 223 |           89 |     0.00659713  |\\n| 201 |           88 |     0.006523    |\\n|  84 |           84 |     0.0062265   |\\n|  50 |           83 |     0.00615238  |\\n|   9 |           82 |     0.00607825  |\\n|  49 |           78 |     0.00578175  |\\n|  17 |           77 |     0.00570763  |\\n|   5 |           67 |     0.00496638  |\\n|  30 |           66 |     0.00489225  |\\n| 110 |           63 |     0.00466988  |\\n| 210 |           60 |     0.0044475   |\\n| 128 |           50 |     0.00370625  |\\n| 205 |           50 |     0.00370625  |\\n|  15 |           49 |     0.00363213  |\\n|   4 |           49 |     0.00363213  |\\n|  18 |           47 |     0.00348388  |\\n| 138 |           41 |     0.00303913  |\\n| 225 |           41 |     0.00303913  |\\n|  33 |           40 |     0.002965    |\\n|  31 |           39 |     0.00289088  |\\n|  77 |           39 |     0.00289088  |\\n| 206 |           38 |     0.00281675  |\\n| 226 |           36 |     0.0026685   |\\n|  20 |           35 |     0.00259438  |\\n|  26 |           33 |     0.00244613  |\\n| 104 |           32 |     0.002372    |\\n|  48 |           31 |     0.00229788  |\\n|  27 |           31 |     0.00229788  |\\n|  75 |           30 |     0.00222375  |\\n|  29 |           26 |     0.00192725  |\\n|  25 |           25 |     0.00185313  |\\n|  21 |           25 |     0.00185313  |\\n|  24 |           24 |     0.001779    |\\n| 224 |           22 |     0.00163075  |\\n|  10 |           21 |     0.00155663  |\\n|  37 |           21 |     0.00155663  |\\n|  36 |           20 |     0.0014825   |\\n| 114 |           19 |     0.00140838  |\\n|   7 |           17 |     0.00126013  |\\n|  46 |           17 |     0.00126013  |\\n|  22 |           16 |     0.001186    |\\n|  34 |           14 |     0.00103775  |\\n|  51 |           14 |     0.00103775  |\\n|  35 |           14 |     0.00103775  |\\n| 202 |           12 |     0.0008895   |\\n|  16 |           12 |     0.0008895   |\\n|  85 |           11 |     0.000815375 |\\n|  28 |           10 |     0.00074125  |\\n| 221 |            9 |     0.000667125 |\\n|  42 |            9 |     0.000667125 |\\n|  23 |            9 |     0.000667125 |\\n|  13 |            8 |     0.000593    |\\n|   6 |            8 |     0.000593    |\\n| 220 |            8 |     0.000593    |\\n|  14 |            7 |     0.000518875 |\\n| 211 |            5 |     0.000370625 |\\n|  11 |            5 |     0.000370625 |\\n| 191 |            5 |     0.000370625 |\\n|  40 |            5 |     0.000370625 |\\n|  41 |            5 |     0.000370625 |\\n| 150 |            3 |     0.000222375 |\\n|  32 |            2 |     0.00014825  |\\n| 151 |            1 |     7.4125e-05  |\\n|  47 |            1 |     7.4125e-05  |\\n| 160 |            1 |     7.4125e-05  |\\n|  52 |            1 |     7.4125e-05  |\\n| 209 |            1 |     7.4125e-05  |'"
     },
     "execution_count": 75,
     "metadata": {},
     "output_type": "execute_result"
    }
   ],
   "source": [
    "joinDF['CodigoAssunto'].value_counts()\n",
    "joinDF['CodigoAssunto'].value_counts(normalize=True) * 100\n",
    "frequencia = joinDF['CodigoAssunto'].value_counts()\n",
    "percentual = joinDF['CodigoAssunto'].value_counts(normalize=True) * 100\n",
    "dist_freq_qualitativas = pd.DataFrame({'Frequência': frequencia, 'Porcentagem %': percentual})\n",
    "dist_freq_qualitativas.rename_axis('Código Assunto', axis='columns', inplace=True)\n",
    "dist_freq_qualitativas.to_markdown()"
   ],
   "metadata": {
    "collapsed": false,
    "pycharm": {
     "name": "#%%\n"
    }
   }
  },
  {
   "cell_type": "code",
   "execution_count": 77,
   "outputs": [
    {
     "data": {
      "text/plain": "CodigoProblema Assunto  Frequência  Porcentagem %\n105                         252041      18.961743\n102                         164576      12.381508\n28                          128871       9.695322\n134                         117889       8.869116\n107                          66451       4.999293\n...                            ...            ...\n4817                             1       0.000075\n1882                             1       0.000075\n5566                             1       0.000075\n2943                             1       0.000075\n3633                             1       0.000075\n\n[1882 rows x 2 columns]",
      "text/html": "<div>\n<style scoped>\n    .dataframe tbody tr th:only-of-type {\n        vertical-align: middle;\n    }\n\n    .dataframe tbody tr th {\n        vertical-align: top;\n    }\n\n    .dataframe thead th {\n        text-align: right;\n    }\n</style>\n<table border=\"1\" class=\"dataframe\">\n  <thead>\n    <tr style=\"text-align: right;\">\n      <th>CodigoProblema Assunto</th>\n      <th>Frequência</th>\n      <th>Porcentagem %</th>\n    </tr>\n  </thead>\n  <tbody>\n    <tr>\n      <th>105</th>\n      <td>252041</td>\n      <td>18.961743</td>\n    </tr>\n    <tr>\n      <th>102</th>\n      <td>164576</td>\n      <td>12.381508</td>\n    </tr>\n    <tr>\n      <th>28</th>\n      <td>128871</td>\n      <td>9.695322</td>\n    </tr>\n    <tr>\n      <th>134</th>\n      <td>117889</td>\n      <td>8.869116</td>\n    </tr>\n    <tr>\n      <th>107</th>\n      <td>66451</td>\n      <td>4.999293</td>\n    </tr>\n    <tr>\n      <th>...</th>\n      <td>...</td>\n      <td>...</td>\n    </tr>\n    <tr>\n      <th>4817</th>\n      <td>1</td>\n      <td>0.000075</td>\n    </tr>\n    <tr>\n      <th>1882</th>\n      <td>1</td>\n      <td>0.000075</td>\n    </tr>\n    <tr>\n      <th>5566</th>\n      <td>1</td>\n      <td>0.000075</td>\n    </tr>\n    <tr>\n      <th>2943</th>\n      <td>1</td>\n      <td>0.000075</td>\n    </tr>\n    <tr>\n      <th>3633</th>\n      <td>1</td>\n      <td>0.000075</td>\n    </tr>\n  </tbody>\n</table>\n<p>1882 rows × 2 columns</p>\n</div>"
     },
     "execution_count": 77,
     "metadata": {},
     "output_type": "execute_result"
    }
   ],
   "source": [
    "joinDF['CodigoProblema'].value_counts()\n",
    "joinDF['CodigoProblema'].value_counts(normalize=True) * 100\n",
    "frequencia = joinDF['CodigoProblema'].value_counts()\n",
    "percentual = joinDF['CodigoProblema'].value_counts(normalize=True) * 100\n",
    "dist_freq_qualitativas = pd.DataFrame({'Frequência': frequencia, 'Porcentagem %': percentual})\n",
    "dist_freq_qualitativas.rename_axis('CodigoProblema Assunto', axis='columns', inplace=True)\n",
    "dist_freq_qualitativas\n"
   ],
   "metadata": {
    "collapsed": false,
    "pycharm": {
     "name": "#%%\n"
    }
   }
  },
  {
   "cell_type": "code",
   "execution_count": 78,
   "outputs": [
    {
     "data": {
      "text/plain": "CEP       Frequência  Porcentagem %\n75690000        6205       0.459946\n78455000        4643       0.344163\n78580000        4062       0.301096\n68515000        4007       0.297019\n89120000        3853       0.285604\n...              ...            ...\n64028535           1       0.000074\n55008231           1       0.000074\n53413835           1       0.000074\n72130420           1       0.000074\n08474360           1       0.000074\n\n[257097 rows x 2 columns]",
      "text/html": "<div>\n<style scoped>\n    .dataframe tbody tr th:only-of-type {\n        vertical-align: middle;\n    }\n\n    .dataframe tbody tr th {\n        vertical-align: top;\n    }\n\n    .dataframe thead th {\n        text-align: right;\n    }\n</style>\n<table border=\"1\" class=\"dataframe\">\n  <thead>\n    <tr style=\"text-align: right;\">\n      <th>CEP</th>\n      <th>Frequência</th>\n      <th>Porcentagem %</th>\n    </tr>\n  </thead>\n  <tbody>\n    <tr>\n      <th>75690000</th>\n      <td>6205</td>\n      <td>0.459946</td>\n    </tr>\n    <tr>\n      <th>78455000</th>\n      <td>4643</td>\n      <td>0.344163</td>\n    </tr>\n    <tr>\n      <th>78580000</th>\n      <td>4062</td>\n      <td>0.301096</td>\n    </tr>\n    <tr>\n      <th>68515000</th>\n      <td>4007</td>\n      <td>0.297019</td>\n    </tr>\n    <tr>\n      <th>89120000</th>\n      <td>3853</td>\n      <td>0.285604</td>\n    </tr>\n    <tr>\n      <th>...</th>\n      <td>...</td>\n      <td>...</td>\n    </tr>\n    <tr>\n      <th>64028535</th>\n      <td>1</td>\n      <td>0.000074</td>\n    </tr>\n    <tr>\n      <th>55008231</th>\n      <td>1</td>\n      <td>0.000074</td>\n    </tr>\n    <tr>\n      <th>53413835</th>\n      <td>1</td>\n      <td>0.000074</td>\n    </tr>\n    <tr>\n      <th>72130420</th>\n      <td>1</td>\n      <td>0.000074</td>\n    </tr>\n    <tr>\n      <th>08474360</th>\n      <td>1</td>\n      <td>0.000074</td>\n    </tr>\n  </tbody>\n</table>\n<p>257097 rows × 2 columns</p>\n</div>"
     },
     "execution_count": 78,
     "metadata": {},
     "output_type": "execute_result"
    }
   ],
   "source": [
    "joinDF['CEPConsumidor'].value_counts()\n",
    "joinDF['CEPConsumidor'].value_counts(normalize=True) * 100\n",
    "frequencia = joinDF['CEPConsumidor'].value_counts()\n",
    "percentual = joinDF['CEPConsumidor'].value_counts(normalize=True) * 100\n",
    "dist_freq_qualitativas = pd.DataFrame({'Frequência': frequencia, 'Porcentagem %': percentual})\n",
    "dist_freq_qualitativas.rename_axis('CEP', axis='columns', inplace=True)\n",
    "dist_freq_qualitativas"
   ],
   "metadata": {
    "collapsed": false,
    "pycharm": {
     "name": "#%%\n"
    }
   }
  },
  {
   "cell_type": "code",
   "execution_count": 79,
   "outputs": [
    {
     "data": {
      "text/plain": "Cidade                              Frequência  Porcentagem %\nSão Paulo                               151812      11.253069\nSalvador                                104229       7.725978\nCampo Grande                             57526       4.264116\nRecife                                   47367       3.511080\nRio de Janeiro                           45947       3.405823\n...                                        ...            ...\nJati                                         1       0.000074\nSátiro Dias                                  1       0.000074\nRomaria                                      1       0.000074\nCarrancas                                    1       0.000074\nConceição de Jacareí (Mangaratiba)           1       0.000074\n\n[3852 rows x 2 columns]",
      "text/html": "<div>\n<style scoped>\n    .dataframe tbody tr th:only-of-type {\n        vertical-align: middle;\n    }\n\n    .dataframe tbody tr th {\n        vertical-align: top;\n    }\n\n    .dataframe thead th {\n        text-align: right;\n    }\n</style>\n<table border=\"1\" class=\"dataframe\">\n  <thead>\n    <tr style=\"text-align: right;\">\n      <th>Cidade</th>\n      <th>Frequência</th>\n      <th>Porcentagem %</th>\n    </tr>\n  </thead>\n  <tbody>\n    <tr>\n      <th>São Paulo</th>\n      <td>151812</td>\n      <td>11.253069</td>\n    </tr>\n    <tr>\n      <th>Salvador</th>\n      <td>104229</td>\n      <td>7.725978</td>\n    </tr>\n    <tr>\n      <th>Campo Grande</th>\n      <td>57526</td>\n      <td>4.264116</td>\n    </tr>\n    <tr>\n      <th>Recife</th>\n      <td>47367</td>\n      <td>3.511080</td>\n    </tr>\n    <tr>\n      <th>Rio de Janeiro</th>\n      <td>45947</td>\n      <td>3.405823</td>\n    </tr>\n    <tr>\n      <th>...</th>\n      <td>...</td>\n      <td>...</td>\n    </tr>\n    <tr>\n      <th>Jati</th>\n      <td>1</td>\n      <td>0.000074</td>\n    </tr>\n    <tr>\n      <th>Sátiro Dias</th>\n      <td>1</td>\n      <td>0.000074</td>\n    </tr>\n    <tr>\n      <th>Romaria</th>\n      <td>1</td>\n      <td>0.000074</td>\n    </tr>\n    <tr>\n      <th>Carrancas</th>\n      <td>1</td>\n      <td>0.000074</td>\n    </tr>\n    <tr>\n      <th>Conceição de Jacareí (Mangaratiba)</th>\n      <td>1</td>\n      <td>0.000074</td>\n    </tr>\n  </tbody>\n</table>\n<p>3852 rows × 2 columns</p>\n</div>"
     },
     "execution_count": 79,
     "metadata": {},
     "output_type": "execute_result"
    }
   ],
   "source": [
    "joinDF['cidade'].value_counts()\n",
    "joinDF['cidade'].value_counts(normalize=True) * 100\n",
    "frequencia = joinDF['cidade'].value_counts()\n",
    "percentual = joinDF['cidade'].value_counts(normalize=True) * 100\n",
    "dist_freq_qualitativas = pd.DataFrame({'Frequência': frequencia, 'Porcentagem %': percentual})\n",
    "dist_freq_qualitativas.rename_axis('Cidade', axis='columns', inplace=True)\n",
    "dist_freq_qualitativas"
   ],
   "metadata": {
    "collapsed": false,
    "pycharm": {
     "name": "#%%\n"
    }
   }
  }
 ],
 "metadata": {
  "kernelspec": {
   "display_name": "Python 3",
   "language": "python",
   "name": "python3"
  },
  "language_info": {
   "codemirror_mode": {
    "name": "ipython",
    "version": 3
   },
   "file_extension": ".py",
   "mimetype": "text/x-python",
   "name": "python",
   "nbconvert_exporter": "python",
   "pygments_lexer": "ipython3",
   "version": "3.8.5"
  }
 },
 "nbformat": 4,
 "nbformat_minor": 1
}