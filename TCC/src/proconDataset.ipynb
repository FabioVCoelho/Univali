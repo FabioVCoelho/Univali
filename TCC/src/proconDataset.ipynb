{
 "cells": [
  {
   "cell_type": "code",
   "execution_count": 2,
   "metadata": {
    "collapsed": true
   },
   "outputs": [],
   "source": [
    "import pandas as pd\n",
    "import numpy as np\n",
    "import matplotlib as plt\n",
    "import re\n",
    "chars_to_remove = ['.', '-', '(', ')', '@', '/']\n",
    "regular_expression = '[' + re.escape (''. join (chars_to_remove)) + ']'\n",
    "pd.set_option('display.max_columns', None)\n",
    "pd.set_option(\"max_colwidth\", 100)"
   ]
  },
  {
   "cell_type": "markdown",
   "source": [
    "Necessário excluir as 2 últimas linhas do arquivo para evitar 2 linhas nulas. das bases de 2009 até 2011.\n",
    "A base de 2018 possui algumas colunas 'nome fantasia' que possuem ';' como separador de empresas e que\n",
    "consequentemente atrapalham na leitura dos dados pois alteram a quantidade de colunas finais.\n",
    "Sendo necessário a modificação por linha manual (18 linhas no total)"
   ],
   "metadata": {
    "collapsed": false
   }
  },
  {
   "cell_type": "code",
   "execution_count": 3,
   "outputs": [],
   "source": [
    "rec2009 = pd.read_csv(\"../data/reclamacoes-fundamentadas-sindec-2009.csv\",header=0,encoding=\"ISO-8859-9\",delimiter=\";\", dtype=\"str\")\n",
    "rec2010 = pd.read_csv(\"../data/reclamacoes-fundamentadas-sindec-2010.csv\",header=0,encoding=\"ISO-8859-9\",delimiter=\";\", dtype=\"str\")\n",
    "rec2011 = pd.read_csv(\"../data/reclamacoes-fundamentadas-sindec-2011.csv\",header=0,encoding=\"ISO-8859-9\",delimiter=\";\", dtype=\"str\")\n",
    "rec2012 = pd.read_csv(\"../data/reclamacoes-fundamentadas-sindec-2012.csv\",header=0,encoding=\"UTF-8\",delimiter=\";\", dtype=\"str\")\n",
    "rec2013 = pd.read_csv(\"../data/reclamacoes-fundamentadas-sindec-2013.csv\",header=0,encoding=\"UTF-8\",delimiter=\";\", dtype=\"str\")\n",
    "rec2014 = pd.read_csv(\"../data/reclamacoes-fundamentadas-sindec-2014.csv\",header=0,encoding=\"UTF-8\",delimiter=\";\", dtype=\"str\")\n",
    "rec2015 = pd.read_csv(\"../data/reclamacoes-fundamentadas-sindec-2015.csv\",header=0,encoding=\"UTF-8\",delimiter=\";\", dtype=\"str\")\n",
    "rec2016 = pd.read_csv(\"../data/reclamacoes-fundamentadas-sindec-2016_v2.csv\",header=0,encoding=\"UTF-8\",delimiter=\";\", dtype=\"str\")\n",
    "rec2017 = pd.read_csv(\"../data/CNRF_2017.csv\",header=0,encoding=\"UTF-8\",delimiter=\";\", dtype=\"str\")\n",
    "rec2018 = pd.read_csv(\"../data/CNRF2018.csv\",header=0,encoding=\"UTF-8\",delimiter=\";\", dtype=\"str\")"
   ],
   "metadata": {
    "collapsed": false,
    "pycharm": {
     "name": "#%%\n"
    }
   }
  },
  {
   "cell_type": "code",
   "execution_count": 4,
   "outputs": [],
   "source": [
    "rec2009 = rec2009.rename(columns={\n",
    "    \"anocalendario\": \"AnoCalendario\",\n",
    "    \"codigoregiao\": \"CodigoRegiao\",\n",
    "    \"regiao\": \"Regiao\",\n",
    "    \"radicalCNPJ\": \"RadicalCNPJ\"})\n"
   ],
   "metadata": {
    "collapsed": false,
    "pycharm": {
     "name": "#%%\n"
    }
   }
  },
  {
   "cell_type": "code",
   "execution_count": 5,
   "outputs": [],
   "source": [
    "rec2010 = rec2010.rename(columns={\n",
    "    \"anocalendario\": \"AnoCalendario\",\n",
    "    \"codigoregiao\": \"CodigoRegiao\",\n",
    "    \"regiao\": \"Regiao\",\n",
    "    \"radicalCNPJ\": \"RadicalCNPJ\"})"
   ],
   "metadata": {
    "collapsed": false,
    "pycharm": {
     "name": "#%%\n"
    }
   }
  },
  {
   "cell_type": "code",
   "execution_count": 6,
   "outputs": [],
   "source": [
    "rec2011 = rec2011.rename(columns={\n",
    "    \"anocalendario\": \"AnoCalendario\",\n",
    "    \"codigoregiao\": \"CodigoRegiao\",\n",
    "    \"regiao\": \"Regiao\",\n",
    "    \"radicalCNPJ\": \"RadicalCNPJ\"})"
   ],
   "metadata": {
    "collapsed": false,
    "pycharm": {
     "name": "#%%\n"
    }
   }
  },
  {
   "cell_type": "code",
   "execution_count": 7,
   "outputs": [
    {
     "data": {
      "text/plain": "Index(['AnoCalendario', 'DataArquivamento', 'DataAbertura', 'CodigoRegiao',\n       'Regiao', 'UF', 'strRazaoSocial', 'strNomeFantasia', 'Tipo',\n       'NumeroCNPJ', 'RadicalCNPJ', 'RazaoSocialRFB', 'NomeFantasiaRFB',\n       'CNAEPrincipal', 'DescCNAEPrincipal', 'Atendida', 'CodigoAssunto',\n       'DescricaoAssunto', 'CodigoProblema', 'DescricaoProblema',\n       'SexoConsumidor', 'FaixaEtariaConsumidor', 'CEPConsumidor'],\n      dtype='object')"
     },
     "execution_count": 7,
     "metadata": {},
     "output_type": "execute_result"
    }
   ],
   "source": [
    "rec2012.columns"
   ],
   "metadata": {
    "collapsed": false,
    "pycharm": {
     "name": "#%%\n"
    }
   }
  },
  {
   "cell_type": "code",
   "execution_count": 8,
   "outputs": [
    {
     "data": {
      "text/plain": "Index(['AnoCalendario', 'DataArquivamento', 'DataAbertura', 'CodigoRegiao',\n       'Regiao', 'UF', 'strRazaoSocial', 'strNomeFantasia', 'Tipo',\n       'NumeroCNPJ', 'RadicalCNPJ', 'RazaoSocialRFB', 'NomeFantasiaRFB',\n       'CNAEPrincipal', 'DescCNAEPrincipal', 'Atendida', 'CodigoAssunto',\n       'DescricaoAssunto', 'CodigoProblema', 'DescricaoProblema',\n       'SexoConsumidor', 'FaixaEtariaConsumidor', 'CEPConsumidor'],\n      dtype='object')"
     },
     "execution_count": 8,
     "metadata": {},
     "output_type": "execute_result"
    }
   ],
   "source": [
    "rec2013.columns"
   ],
   "metadata": {
    "collapsed": false,
    "pycharm": {
     "name": "#%%\n"
    }
   }
  },
  {
   "cell_type": "code",
   "execution_count": 9,
   "outputs": [
    {
     "data": {
      "text/plain": "Index(['AnoCalendario', 'DataArquivamento', 'DataAbertura', 'CodigoRegiao',\n       'Regiao', 'UF', 'strRazaoSocial', 'strNomeFantasia', 'Tipo',\n       'NumeroCNPJ', 'RadicalCNPJ', 'RazaoSocialRFB', 'NomeFantasiaRFB',\n       'CNAEPrincipal', 'DescCNAEPrincipal', 'Atendida', 'CodigoAssunto',\n       'DescricaoAssunto', 'CodigoProblema', 'DescricaoProblema',\n       'SexoConsumidor', 'FaixaEtariaConsumidor', 'CEPConsumidor'],\n      dtype='object')"
     },
     "execution_count": 9,
     "metadata": {},
     "output_type": "execute_result"
    }
   ],
   "source": [
    "rec2014.columns"
   ],
   "metadata": {
    "collapsed": false,
    "pycharm": {
     "name": "#%%\n"
    }
   }
  },
  {
   "cell_type": "code",
   "execution_count": 10,
   "outputs": [
    {
     "data": {
      "text/plain": "Index(['AnoCalendario', 'DataArquivamento', 'DataAbertura', 'CodigoRegiao',\n       'Regiao', 'UF', 'strRazaoSocial', 'strNomeFantasia', 'Tipo',\n       'NumeroCNPJ', 'RadicalCNPJ', 'RazaoSocialRFB', 'NomeFantasiaRFB',\n       'CNAEPrincipal', 'DescCNAEPrincipal', 'Atendida', 'CodigoAssunto',\n       'DescricaoAssunto', 'CodigoProblema', 'DescricaoProblema',\n       'SexoConsumidor', 'FaixaEtariaConsumidor', 'CEPConsumidor'],\n      dtype='object')"
     },
     "execution_count": 10,
     "metadata": {},
     "output_type": "execute_result"
    }
   ],
   "source": [
    "rec2015.columns"
   ],
   "metadata": {
    "collapsed": false,
    "pycharm": {
     "name": "#%%\n"
    }
   }
  },
  {
   "cell_type": "code",
   "execution_count": 11,
   "outputs": [
    {
     "data": {
      "text/plain": "Index(['AnoCalendario', 'DataArquivamento', 'DataAbertura', 'CodigoRegiao',\n       'Regiao', 'UF', 'strRazaoSocial', 'strNomeFantasia', 'Tipo',\n       'NumeroCNPJ', 'RadicalCNPJ', 'RazaoSocialRFB', 'NomeFantasiaRFB',\n       'CNAEPrincipal', 'DescCNAEPrincipal', 'Atendida', 'CodigoAssunto',\n       'DescricaoAssunto', 'CodigoProblema', 'DescricaoProblema',\n       'SexoConsumidor', 'FaixaEtariaConsumidor', 'CEPConsumidor'],\n      dtype='object')"
     },
     "execution_count": 11,
     "metadata": {},
     "output_type": "execute_result"
    }
   ],
   "source": [
    "rec2016.columns"
   ],
   "metadata": {
    "collapsed": false,
    "pycharm": {
     "name": "#%%\n"
    }
   }
  },
  {
   "cell_type": "code",
   "execution_count": 12,
   "outputs": [
    {
     "data": {
      "text/plain": "Index(['AnoCalendario', 'DataArquivamento', 'DataAbertura', 'CodigoRegiao',\n       'Regiao', 'UF', 'strRazaoSocial', 'strNomeFantasia', 'Tipo',\n       'NumeroCNPJ', 'RadicalCNPJ', 'RazaoSocialRFB', 'NomeFantasiaRFB',\n       'CNAEPrincipal', 'DescCNAEPrincipal', 'Atendida', 'CodigoAssunto',\n       'DescricaoAssunto', 'CodigoProblema', 'DescricaoProblema',\n       'SexoConsumidor', 'FaixaEtariaConsumidor', 'CEPConsumidor'],\n      dtype='object')"
     },
     "execution_count": 12,
     "metadata": {},
     "output_type": "execute_result"
    }
   ],
   "source": [
    "rec2017.columns"
   ],
   "metadata": {
    "collapsed": false,
    "pycharm": {
     "name": "#%%\n"
    }
   }
  },
  {
   "cell_type": "code",
   "execution_count": 13,
   "outputs": [
    {
     "data": {
      "text/plain": "Index(['AnoCalendario', 'DataArquivamento', 'DataAbertura', 'CodigoRegiao',\n       'Regiao', 'UF', 'strRazaoSocial', 'strNomeFantasia', 'Tipo',\n       'NumeroCNPJ', 'RadicalCNPJ', 'RazaoSocialRFB', 'NomeFantasiaRFB',\n       'CNAEPrincipal', 'DescCNAEPrincipal', 'Atendida', 'CodigoAssunto',\n       'DescricaoAssunto', 'CodigoProblema', 'DescricaoProblema',\n       'SexoConsumidor', 'FaixaEtariaConsumidor', 'CEPConsumidor'],\n      dtype='object')"
     },
     "execution_count": 13,
     "metadata": {},
     "output_type": "execute_result"
    }
   ],
   "source": [
    "rec2018.columns"
   ],
   "metadata": {
    "collapsed": false,
    "pycharm": {
     "name": "#%%\n"
    }
   }
  },
  {
   "cell_type": "code",
   "execution_count": 14,
   "outputs": [],
   "source": [
    "frames = [rec2009,rec2010,rec2011,rec2012,rec2013,rec2014,rec2015,rec2016,rec2017,rec2018]"
   ],
   "metadata": {
    "collapsed": false,
    "pycharm": {
     "name": "#%%\n"
    }
   }
  },
  {
   "cell_type": "code",
   "execution_count": 15,
   "outputs": [],
   "source": [
    "df = pd.concat(frames)\n"
   ],
   "metadata": {
    "collapsed": false,
    "pycharm": {
     "name": "#%%\n"
    }
   }
  },
  {
   "cell_type": "markdown",
   "source": [
    "A união de todas as tabelas deu 1.668.061 linhas com 23 colunas.\n"
   ],
   "metadata": {
    "collapsed": false,
    "pycharm": {
     "name": "#%% md\n"
    }
   }
  },
  {
   "cell_type": "code",
   "execution_count": 16,
   "outputs": [
    {
     "data": {
      "text/plain": "      AnoCalendario         DataArquivamento             DataAbertura  \\\n0              2009  2009-01-21 15:29:29.000  2005-07-06 08:32:23.000   \n1              2009  2009-05-12 12:05:08.000  2006-01-17 12:10:53.000   \n2              2009  2009-04-23 08:52:31.000  2005-07-06 11:28:47.000   \n3              2009  2009-04-23 08:52:31.000  2005-07-06 11:28:47.000   \n4              2009  2009-07-23 11:57:40.000  2006-01-18 15:35:29.000   \n...             ...                      ...                      ...   \n39055          2018  2018-05-29 14:19:32.000  2017-01-30 14:46:11.000   \n39056          2018  2018-06-06 13:38:04.000  2018-04-09 08:39:46.000   \n39057          2018  2018-03-23 14:45:20.000  2018-02-23 16:37:15.000   \n39058          2018  2018-04-09 11:41:30.000  2018-02-27 11:40:27.000   \n39059          2018  2018-05-24 14:24:46.000  2018-03-07 13:17:07.000   \n\n      CodigoRegiao        Regiao  UF  \\\n0                5  Centro-oeste  GO   \n1                3       Sudeste  RJ   \n2                5  Centro-oeste  GO   \n3                5  Centro-oeste  GO   \n4                3       Sudeste  RJ   \n...            ...           ...  ..   \n39055            3       Sudeste  MG   \n39056            3       Sudeste  MG   \n39057            2      Nordeste  RN   \n39058            2      Nordeste  RN   \n39059            2      Nordeste  RN   \n\n                                           strRazaoSocial  \\\n0           CBP SUL - COLCHÕES E ESPUMAS INDUSTRIAIS LTDA   \n1                                               GRADIENTE   \n2                                      IGL INDÚSTRIA LTDA   \n3                          UNILEVER BESTFOODS BRASIL LTDA   \n4              EMPRESA BRASILEIRA DE TELECOMUNICAÇÕES S.A   \n...                                                   ...   \n39055                  BANCO LOSANGO S.A - BANCO MULTIPLO   \n39056        MERCADOLIVRE.COM ATIVIDADES DE INTERNET LTDA   \n39057                    ACBZ IMPORTACAO E COMERCIO LTDA.   \n39058                     NET SERVIÇOS DE COMUNICAÇÃO S/A   \n39059  CREFISA S.A. CREDITO FINANCIAMENTO E INVESTIMENTOS   \n\n                   strNomeFantasia Tipo      NumeroCNPJ RadicalCNPJ  \\\n0                         LIMANSKY    1   1350934000116     1350934   \n1                              NaN    1  43185362001936    43185362   \n2      ELIDA PONDS INDUSTRIAL LTDA    1   3085759000102     3085759   \n3                         UNILEVER    1   1615814002066     1615814   \n4                 EMBRATEL - LIVRE    1  33530486000129    33530486   \n...                            ...  ...             ...         ...   \n39055                          NaN    1  33254319000100    33254319   \n39056                MERCADO LIVRE    1   3361252000134     3361252   \n39057               ASUS NO BRASIL    1   9509531000189     9509531   \n39058                          NET    1    108786018889      108786   \n39059                  CREFISA S/A    1             NaN         NaN   \n\n                                            RazaoSocialRFB  \\\n0            CBP SUL - COLCHOES E ESPUMAS INDUSTRIAIS LTDA   \n1                                       IGB ELETRONICA S.A   \n2           UNILEVER BRASIL HIGIENE PESSOAL E LIMPEZA LTDA   \n3                          UNILEVER BRASIL INDUSTRIAL LTDA   \n4      EMPRESA BRASILEIRA DE TELECOMUNICACOES S A EMBRATEL   \n...                                                    ...   \n39055          HSBC FINANCE (BRASIL) S.A. - BANCO MULTIPLO   \n39056         MERCADOLIVRE.COM ATIVIDADES DE INTERNET LTDA   \n39057                     ACBZ IMPORTACAO E COMERCIO LTDA.   \n39058                      NET SERVICOS DE COMUNICACAO S/A   \n39059                                                  NaN   \n\n                    NomeFantasiaRFB CNAEPrincipal  \\\n0                               NaN       3104700   \n1                               NaN       2640000   \n2      ELIDA PONDS INDUSTRIAL LTDA.       2063100   \n3                               NaN       1031700   \n4                               NaN       6110899   \n...                             ...           ...   \n39055                           NaN       6431000   \n39056                           NaN       7490104   \n39057                           NaN       4651601   \n39058                           NaN       8299799   \n39059                           NaN           NaN   \n\n                                                                                        DescCNAEPrincipal  \\\n0                                                                                  FABRICAÇÃO DE COLCHÕES   \n1               FABRICAÇÃO DE APARELHOS DE RECEPÇÃO, REPRODUÇÃO, GRAVAÇÃO E AMPLIFICAÇÃO DE ÁUDIO E VÍDEO   \n2                                   FABRICAÇÃO DE COSMÉTICOS, PRODUTOS DE PERFUMARIA E DE HIGIENE PESSOAL   \n3                                                                       FABRICAÇÃO DE CONSERVAS DE FRUTAS   \n4                                    SERVIÇOS DE TELECOMUNICAÇÕES POR FIO NÃO ESPECIFICADOS ANTERIORMENTE   \n...                                                                                                   ...   \n39055                                                            BANCOS MÚLTIPLOS, SEM CARTEIRA COMERCIAL   \n39056     ATIVIDADES DE INTERMEDIAÇÃO E AGENCIAMENTO DE SERVIÇOS E NEGÓCIOS EM GERAL, EXCETO IMOBILIÁRIOS   \n39057                                                  COMÉRCIO ATACADISTA DE EQUIPAMENTOS DE INFORMÁTICA   \n39058  OUTRAS ATIVIDADES DE SERVIÇOS PRESTADOS PRINCIPALMENTE ÀS EMPRESAS NÃO ESPECIFICADAS ANTERIORMENTE   \n39059                                                                                                 NaN   \n\n      Atendida CodigoAssunto  \\\n0            S           100   \n1            N           146   \n2            N           224   \n3            N           224   \n4            S           186   \n...        ...           ...   \n39055        S            54   \n39056        S           106   \n39057        N           101   \n39058        S           186   \n39059        N            63   \n\n                                                           DescricaoAssunto  \\\n0                                                                   Colchão   \n1                                                              Aparelho DVD   \n2         Produto Para Uso Veterinário ( Medicamento / Sabonete / Shampoo )   \n3         Produto Para Uso Veterinário ( Medicamento / Sabonete / Shampoo )   \n4           Telefonia Fixa ( Plano de Expansão / Compra e Venda / Locação )   \n...                                                                     ...   \n39055                                                     Cartão de Crédito   \n39056  Artigo de Leitura ( Formal, Jornal, Revista, Folheto, Livros, Etc. )   \n39057                   Telefone ( Convencional, Celular, Interfone, Etc. )   \n39058       Telefonia Fixa ( Plano de Expansão / Compra e Venda / Locação )   \n39059                                                            Financeira   \n\n      CodigoProblema                         DescricaoProblema SexoConsumidor  \\\n0                105       Produto entregue com danos/defeitos              M   \n1                107  Não entrega/demora na entrega do produto              F   \n2                177    Presença de sujidades/corpos estranhos              F   \n3                177    Presença de sujidades/corpos estranhos              F   \n4                143  Contrato - Rescisão/alteração unilateral              F   \n...              ...                                       ...            ...   \n39055            NaN                                       NaN              F   \n39056            NaN                                       NaN              F   \n39057            NaN                                       NaN              F   \n39058            NaN                                       NaN              F   \n39059            NaN                                       NaN              F   \n\n      FaixaEtariaConsumidor CEPConsumidor  \n0        entre 61 a 70 anos      74680330  \n1        entre 51 a 60 anos      23510240  \n2        entre 21 a 30 anos      74775010  \n3        entre 21 a 30 anos      74775010  \n4        entre 41 a 50 anos      20710270  \n...                     ...           ...  \n39055    entre 61 a 70 anos      35180144  \n39056           até 20 anos      90035030  \n39057    entre 21 a 30 anos      59115110  \n39058    entre 61 a 70 anos      59073101  \n39059    entre 61 a 70 anos      59092390  \n\n[1668061 rows x 23 columns]",
      "text/html": "<div>\n<style scoped>\n    .dataframe tbody tr th:only-of-type {\n        vertical-align: middle;\n    }\n\n    .dataframe tbody tr th {\n        vertical-align: top;\n    }\n\n    .dataframe thead th {\n        text-align: right;\n    }\n</style>\n<table border=\"1\" class=\"dataframe\">\n  <thead>\n    <tr style=\"text-align: right;\">\n      <th></th>\n      <th>AnoCalendario</th>\n      <th>DataArquivamento</th>\n      <th>DataAbertura</th>\n      <th>CodigoRegiao</th>\n      <th>Regiao</th>\n      <th>UF</th>\n      <th>strRazaoSocial</th>\n      <th>strNomeFantasia</th>\n      <th>Tipo</th>\n      <th>NumeroCNPJ</th>\n      <th>RadicalCNPJ</th>\n      <th>RazaoSocialRFB</th>\n      <th>NomeFantasiaRFB</th>\n      <th>CNAEPrincipal</th>\n      <th>DescCNAEPrincipal</th>\n      <th>Atendida</th>\n      <th>CodigoAssunto</th>\n      <th>DescricaoAssunto</th>\n      <th>CodigoProblema</th>\n      <th>DescricaoProblema</th>\n      <th>SexoConsumidor</th>\n      <th>FaixaEtariaConsumidor</th>\n      <th>CEPConsumidor</th>\n    </tr>\n  </thead>\n  <tbody>\n    <tr>\n      <th>0</th>\n      <td>2009</td>\n      <td>2009-01-21 15:29:29.000</td>\n      <td>2005-07-06 08:32:23.000</td>\n      <td>5</td>\n      <td>Centro-oeste</td>\n      <td>GO</td>\n      <td>CBP SUL - COLCHÕES E ESPUMAS INDUSTRIAIS LTDA</td>\n      <td>LIMANSKY</td>\n      <td>1</td>\n      <td>1350934000116</td>\n      <td>1350934</td>\n      <td>CBP SUL - COLCHOES E ESPUMAS INDUSTRIAIS LTDA</td>\n      <td>NaN</td>\n      <td>3104700</td>\n      <td>FABRICAÇÃO DE COLCHÕES</td>\n      <td>S</td>\n      <td>100</td>\n      <td>Colchão</td>\n      <td>105</td>\n      <td>Produto entregue com danos/defeitos</td>\n      <td>M</td>\n      <td>entre 61 a 70 anos</td>\n      <td>74680330</td>\n    </tr>\n    <tr>\n      <th>1</th>\n      <td>2009</td>\n      <td>2009-05-12 12:05:08.000</td>\n      <td>2006-01-17 12:10:53.000</td>\n      <td>3</td>\n      <td>Sudeste</td>\n      <td>RJ</td>\n      <td>GRADIENTE</td>\n      <td>NaN</td>\n      <td>1</td>\n      <td>43185362001936</td>\n      <td>43185362</td>\n      <td>IGB ELETRONICA S.A</td>\n      <td>NaN</td>\n      <td>2640000</td>\n      <td>FABRICAÇÃO DE APARELHOS DE RECEPÇÃO, REPRODUÇÃO, GRAVAÇÃO E AMPLIFICAÇÃO DE ÁUDIO E VÍDEO</td>\n      <td>N</td>\n      <td>146</td>\n      <td>Aparelho DVD</td>\n      <td>107</td>\n      <td>Não entrega/demora na entrega do produto</td>\n      <td>F</td>\n      <td>entre 51 a 60 anos</td>\n      <td>23510240</td>\n    </tr>\n    <tr>\n      <th>2</th>\n      <td>2009</td>\n      <td>2009-04-23 08:52:31.000</td>\n      <td>2005-07-06 11:28:47.000</td>\n      <td>5</td>\n      <td>Centro-oeste</td>\n      <td>GO</td>\n      <td>IGL INDÚSTRIA LTDA</td>\n      <td>ELIDA PONDS INDUSTRIAL LTDA</td>\n      <td>1</td>\n      <td>3085759000102</td>\n      <td>3085759</td>\n      <td>UNILEVER BRASIL HIGIENE PESSOAL E LIMPEZA LTDA</td>\n      <td>ELIDA PONDS INDUSTRIAL LTDA.</td>\n      <td>2063100</td>\n      <td>FABRICAÇÃO DE COSMÉTICOS, PRODUTOS DE PERFUMARIA E DE HIGIENE PESSOAL</td>\n      <td>N</td>\n      <td>224</td>\n      <td>Produto Para Uso Veterinário ( Medicamento / Sabonete / Shampoo )</td>\n      <td>177</td>\n      <td>Presença de sujidades/corpos estranhos</td>\n      <td>F</td>\n      <td>entre 21 a 30 anos</td>\n      <td>74775010</td>\n    </tr>\n    <tr>\n      <th>3</th>\n      <td>2009</td>\n      <td>2009-04-23 08:52:31.000</td>\n      <td>2005-07-06 11:28:47.000</td>\n      <td>5</td>\n      <td>Centro-oeste</td>\n      <td>GO</td>\n      <td>UNILEVER BESTFOODS BRASIL LTDA</td>\n      <td>UNILEVER</td>\n      <td>1</td>\n      <td>1615814002066</td>\n      <td>1615814</td>\n      <td>UNILEVER BRASIL INDUSTRIAL LTDA</td>\n      <td>NaN</td>\n      <td>1031700</td>\n      <td>FABRICAÇÃO DE CONSERVAS DE FRUTAS</td>\n      <td>N</td>\n      <td>224</td>\n      <td>Produto Para Uso Veterinário ( Medicamento / Sabonete / Shampoo )</td>\n      <td>177</td>\n      <td>Presença de sujidades/corpos estranhos</td>\n      <td>F</td>\n      <td>entre 21 a 30 anos</td>\n      <td>74775010</td>\n    </tr>\n    <tr>\n      <th>4</th>\n      <td>2009</td>\n      <td>2009-07-23 11:57:40.000</td>\n      <td>2006-01-18 15:35:29.000</td>\n      <td>3</td>\n      <td>Sudeste</td>\n      <td>RJ</td>\n      <td>EMPRESA BRASILEIRA DE TELECOMUNICAÇÕES S.A</td>\n      <td>EMBRATEL - LIVRE</td>\n      <td>1</td>\n      <td>33530486000129</td>\n      <td>33530486</td>\n      <td>EMPRESA BRASILEIRA DE TELECOMUNICACOES S A EMBRATEL</td>\n      <td>NaN</td>\n      <td>6110899</td>\n      <td>SERVIÇOS DE TELECOMUNICAÇÕES POR FIO NÃO ESPECIFICADOS ANTERIORMENTE</td>\n      <td>S</td>\n      <td>186</td>\n      <td>Telefonia Fixa ( Plano de Expansão / Compra e Venda / Locação )</td>\n      <td>143</td>\n      <td>Contrato - Rescisão/alteração unilateral</td>\n      <td>F</td>\n      <td>entre 41 a 50 anos</td>\n      <td>20710270</td>\n    </tr>\n    <tr>\n      <th>...</th>\n      <td>...</td>\n      <td>...</td>\n      <td>...</td>\n      <td>...</td>\n      <td>...</td>\n      <td>...</td>\n      <td>...</td>\n      <td>...</td>\n      <td>...</td>\n      <td>...</td>\n      <td>...</td>\n      <td>...</td>\n      <td>...</td>\n      <td>...</td>\n      <td>...</td>\n      <td>...</td>\n      <td>...</td>\n      <td>...</td>\n      <td>...</td>\n      <td>...</td>\n      <td>...</td>\n      <td>...</td>\n      <td>...</td>\n    </tr>\n    <tr>\n      <th>39055</th>\n      <td>2018</td>\n      <td>2018-05-29 14:19:32.000</td>\n      <td>2017-01-30 14:46:11.000</td>\n      <td>3</td>\n      <td>Sudeste</td>\n      <td>MG</td>\n      <td>BANCO LOSANGO S.A - BANCO MULTIPLO</td>\n      <td>NaN</td>\n      <td>1</td>\n      <td>33254319000100</td>\n      <td>33254319</td>\n      <td>HSBC FINANCE (BRASIL) S.A. - BANCO MULTIPLO</td>\n      <td>NaN</td>\n      <td>6431000</td>\n      <td>BANCOS MÚLTIPLOS, SEM CARTEIRA COMERCIAL</td>\n      <td>S</td>\n      <td>54</td>\n      <td>Cartão de Crédito</td>\n      <td>NaN</td>\n      <td>NaN</td>\n      <td>F</td>\n      <td>entre 61 a 70 anos</td>\n      <td>35180144</td>\n    </tr>\n    <tr>\n      <th>39056</th>\n      <td>2018</td>\n      <td>2018-06-06 13:38:04.000</td>\n      <td>2018-04-09 08:39:46.000</td>\n      <td>3</td>\n      <td>Sudeste</td>\n      <td>MG</td>\n      <td>MERCADOLIVRE.COM ATIVIDADES DE INTERNET LTDA</td>\n      <td>MERCADO LIVRE</td>\n      <td>1</td>\n      <td>3361252000134</td>\n      <td>3361252</td>\n      <td>MERCADOLIVRE.COM ATIVIDADES DE INTERNET LTDA</td>\n      <td>NaN</td>\n      <td>7490104</td>\n      <td>ATIVIDADES DE INTERMEDIAÇÃO E AGENCIAMENTO DE SERVIÇOS E NEGÓCIOS EM GERAL, EXCETO IMOBILIÁRIOS</td>\n      <td>S</td>\n      <td>106</td>\n      <td>Artigo de Leitura ( Formal, Jornal, Revista, Folheto, Livros, Etc. )</td>\n      <td>NaN</td>\n      <td>NaN</td>\n      <td>F</td>\n      <td>até 20 anos</td>\n      <td>90035030</td>\n    </tr>\n    <tr>\n      <th>39057</th>\n      <td>2018</td>\n      <td>2018-03-23 14:45:20.000</td>\n      <td>2018-02-23 16:37:15.000</td>\n      <td>2</td>\n      <td>Nordeste</td>\n      <td>RN</td>\n      <td>ACBZ IMPORTACAO E COMERCIO LTDA.</td>\n      <td>ASUS NO BRASIL</td>\n      <td>1</td>\n      <td>9509531000189</td>\n      <td>9509531</td>\n      <td>ACBZ IMPORTACAO E COMERCIO LTDA.</td>\n      <td>NaN</td>\n      <td>4651601</td>\n      <td>COMÉRCIO ATACADISTA DE EQUIPAMENTOS DE INFORMÁTICA</td>\n      <td>N</td>\n      <td>101</td>\n      <td>Telefone ( Convencional, Celular, Interfone, Etc. )</td>\n      <td>NaN</td>\n      <td>NaN</td>\n      <td>F</td>\n      <td>entre 21 a 30 anos</td>\n      <td>59115110</td>\n    </tr>\n    <tr>\n      <th>39058</th>\n      <td>2018</td>\n      <td>2018-04-09 11:41:30.000</td>\n      <td>2018-02-27 11:40:27.000</td>\n      <td>2</td>\n      <td>Nordeste</td>\n      <td>RN</td>\n      <td>NET SERVIÇOS DE COMUNICAÇÃO S/A</td>\n      <td>NET</td>\n      <td>1</td>\n      <td>108786018889</td>\n      <td>108786</td>\n      <td>NET SERVICOS DE COMUNICACAO S/A</td>\n      <td>NaN</td>\n      <td>8299799</td>\n      <td>OUTRAS ATIVIDADES DE SERVIÇOS PRESTADOS PRINCIPALMENTE ÀS EMPRESAS NÃO ESPECIFICADAS ANTERIORMENTE</td>\n      <td>S</td>\n      <td>186</td>\n      <td>Telefonia Fixa ( Plano de Expansão / Compra e Venda / Locação )</td>\n      <td>NaN</td>\n      <td>NaN</td>\n      <td>F</td>\n      <td>entre 61 a 70 anos</td>\n      <td>59073101</td>\n    </tr>\n    <tr>\n      <th>39059</th>\n      <td>2018</td>\n      <td>2018-05-24 14:24:46.000</td>\n      <td>2018-03-07 13:17:07.000</td>\n      <td>2</td>\n      <td>Nordeste</td>\n      <td>RN</td>\n      <td>CREFISA S.A. CREDITO FINANCIAMENTO E INVESTIMENTOS</td>\n      <td>CREFISA S/A</td>\n      <td>1</td>\n      <td>NaN</td>\n      <td>NaN</td>\n      <td>NaN</td>\n      <td>NaN</td>\n      <td>NaN</td>\n      <td>NaN</td>\n      <td>N</td>\n      <td>63</td>\n      <td>Financeira</td>\n      <td>NaN</td>\n      <td>NaN</td>\n      <td>F</td>\n      <td>entre 61 a 70 anos</td>\n      <td>59092390</td>\n    </tr>\n  </tbody>\n</table>\n<p>1668061 rows × 23 columns</p>\n</div>"
     },
     "execution_count": 16,
     "metadata": {},
     "output_type": "execute_result"
    }
   ],
   "source": [
    "df"
   ],
   "metadata": {
    "collapsed": false,
    "pycharm": {
     "name": "#%%\n"
    }
   }
  },
  {
   "cell_type": "code",
   "execution_count": 17,
   "outputs": [],
   "source": [
    "def view_df_stats(df):\n",
    "    print(\"Shape of df={}\".format(df.shape))\n",
    "    print(\"Number of index levels:{}\".format(df.index.nlevels))\n",
    "    for i in range(df.index.nlevels):\n",
    "        print(\"For index level {},unique values count={}\".format(i,df.index.get_level_values(i).unique().shape[0]))\n",
    "    print(\"Columns of df={}\".format(df.columns))\n",
    "    print(\"Null count= \\n {}\".format(df.isnull().sum()))\n",
    "    print(df.describe())\n"
   ],
   "metadata": {
    "collapsed": false,
    "pycharm": {
     "name": "#%%\n"
    }
   }
  },
  {
   "cell_type": "code",
   "execution_count": 18,
   "outputs": [
    {
     "name": "stdout",
     "output_type": "stream",
     "text": [
      "Shape of df=(1668061, 23)\n",
      "Number of index levels:1\n",
      "For index level 0,unique values count=268096\n",
      "Columns of df=Index(['AnoCalendario', 'DataArquivamento', 'DataAbertura', 'CodigoRegiao',\n",
      "       'Regiao', 'UF', 'strRazaoSocial', 'strNomeFantasia', 'Tipo',\n",
      "       'NumeroCNPJ', 'RadicalCNPJ', 'RazaoSocialRFB', 'NomeFantasiaRFB',\n",
      "       'CNAEPrincipal', 'DescCNAEPrincipal', 'Atendida', 'CodigoAssunto',\n",
      "       'DescricaoAssunto', 'CodigoProblema', 'DescricaoProblema',\n",
      "       'SexoConsumidor', 'FaixaEtariaConsumidor', 'CEPConsumidor'],\n",
      "      dtype='object')\n",
      "Null count= \n",
      " AnoCalendario                 0\n",
      "DataArquivamento             20\n",
      "DataAbertura                  7\n",
      "CodigoRegiao                  0\n",
      "Regiao                        0\n",
      "UF                            0\n",
      "strRazaoSocial               11\n",
      "strNomeFantasia          267963\n",
      "Tipo                          0\n",
      "NumeroCNPJ                71583\n",
      "RadicalCNPJ               73166\n",
      "RazaoSocialRFB            93932\n",
      "NomeFantasiaRFB          912164\n",
      "CNAEPrincipal             97994\n",
      "DescCNAEPrincipal        115687\n",
      "Atendida                      0\n",
      "CodigoAssunto                 0\n",
      "DescricaoAssunto              0\n",
      "CodigoProblema            47929\n",
      "DescricaoProblema         47929\n",
      "SexoConsumidor              986\n",
      "FaixaEtariaConsumidor         0\n",
      "CEPConsumidor            120078\n",
      "dtype: int64\n",
      "       AnoCalendario         DataArquivamento             DataAbertura  \\\n",
      "count        1668061                  1668041                  1668054   \n",
      "unique            10                  1015632                  1323660   \n",
      "top             2013  2015-12-31 00:00:00.000  2015-11-19 00:56:46.000   \n",
      "freq          268096                     1507                      201   \n",
      "\n",
      "       CodigoRegiao   Regiao       UF           strRazaoSocial  \\\n",
      "count       1668061  1668061  1668061                  1668050   \n",
      "unique           10        5       26                   151098   \n",
      "top              02  Sudeste       SP  TELEMAR NORTE LESTE S/A   \n",
      "freq         525088   572020   272245                    23914   \n",
      "\n",
      "       strNomeFantasia     Tipo      NumeroCNPJ RadicalCNPJ  \\\n",
      "count          1400098  1668061         1596478     1594895   \n",
      "unique          105412        2          116153       92366   \n",
      "top                 OI        1  33000118000179    33000118   \n",
      "freq             24673  1663980           22027       37917   \n",
      "\n",
      "                 RazaoSocialRFB NomeFantasiaRFB CNAEPrincipal  \\\n",
      "count                   1574129          755897       1570067   \n",
      "unique                    85103           52969          1016   \n",
      "top     TELEMAR NORTE LESTE S/A              OI       6422100   \n",
      "freq                      37984           75705        157701   \n",
      "\n",
      "                               DescCNAEPrincipal Atendida CodigoAssunto  \\\n",
      "count                                    1552374  1668061       1668061   \n",
      "unique                                       992        2           242   \n",
      "top     BANCOS MÚLTIPLOS, COM CARTEIRA COMERCIAL        S           101   \n",
      "freq                                      157701  1050668        199336   \n",
      "\n",
      "                                           DescricaoAssunto CodigoProblema  \\\n",
      "count                                               1668061        1620132   \n",
      "unique                                                  224           2201   \n",
      "top     Telefone ( Convencional, Celular, Interfone, Etc. )            105   \n",
      "freq                                                 199336         301664   \n",
      "\n",
      "        DescricaoProblema SexoConsumidor FaixaEtariaConsumidor CEPConsumidor  \n",
      "count             1620132        1667075               1668061       1547983  \n",
      "unique                225              3                     9        289599  \n",
      "top     Produto com vício              F    entre 31 a 40 anos      65000000  \n",
      "freq               259909         879662                385119          7734  \n"
     ]
    }
   ],
   "source": [
    "view_df_stats(df)\n"
   ],
   "metadata": {
    "collapsed": false,
    "pycharm": {
     "name": "#%%\n"
    }
   }
  },
  {
   "cell_type": "code",
   "execution_count": 19,
   "outputs": [
    {
     "data": {
      "text/plain": "               DataArquivamento  DataAbertura  CodigoRegiao  Regiao     UF  \\\nAnoCalendario                                                                \n2009                       9824          9824          9824    9824   9824   \n2010                      11725         11725         11725   11725  11725   \n2011                       9162          9162          9162    9162   9162   \n2012                      13906         13906         13906   13906  13906   \n2013                      18667         18667         18667   18667  18667   \n2014                      17936         17936         17936   17936  17936   \n2015                      18211         18211         18211   18211  18211   \n2016                      14086         14086         14086   14086  14086   \n2017                       4696          4696          4702    4702   4702   \n2018                       1858          1858          1859    1859   1859   \n\n               strRazaoSocial  strNomeFantasia   Tipo  NumeroCNPJ  \\\nAnoCalendario                                                       \n2009                     9824             8025   9824        9304   \n2010                    11725             9809  11725       11175   \n2011                     9162             7964   9162        8824   \n2012                    13906            11661  13906       13240   \n2013                    18667            15131  18667       17996   \n2014                    17936            15002  17936       17176   \n2015                    18211            15148  18211       17153   \n2016                    14086            11988  14086       13289   \n2017                     4702             4057   4702        4364   \n2018                     1859             1560   1859        1806   \n\n               RadicalCNPJ  RazaoSocialRFB  NomeFantasiaRFB  CNAEPrincipal  \\\nAnoCalendario                                                                \n2009                  9297            9285             4643           9285   \n2010                 11157           11138             5696          11138   \n2011                  8810            8798             4461           8798   \n2012                 13162           13151             6323          13151   \n2013                 17996           17897             8798          17552   \n2014                 17137           17045             8851          17045   \n2015                 17153           16809             8856          16809   \n2016                 13289           12761             6688          12761   \n2017                  4364            4093             2245           4093   \n2018                  1797            1660              861           1660   \n\n               DescCNAEPrincipal  Atendida  CodigoAssunto  DescricaoAssunto  \\\nAnoCalendario                                                                 \n2009                        9269      9824           9824              9824   \n2010                       10920     11725          11725             11725   \n2011                        8614      9162           9162              9162   \n2012                       12851     13906          13906             13906   \n2013                       17552     18667          18667             18667   \n2014                       16769     17936          17936             17936   \n2015                       16614     18211          18211             18211   \n2016                       12657     14086          14086             14086   \n2017                        4062      4702           4702              4702   \n2018                        1646      1859           1859              1859   \n\n               CodigoProblema  DescricaoProblema  SexoConsumidor  \\\nAnoCalendario                                                      \n2009                     9824               9824            9824   \n2010                    11725              11725           11725   \n2011                     9162               9162            9162   \n2012                    13906              13906           13906   \n2013                    18667              18667           18667   \n2014                    17936              17936           17936   \n2015                    18210              18210           18211   \n2016                    14086              14086           14086   \n2017                     3582               3582            4693   \n2018                        4                  4            1855   \n\n               FaixaEtariaConsumidor  CEPConsumidor  \nAnoCalendario                                        \n2009                            9824              0  \n2010                           11725              0  \n2011                            9162              0  \n2012                           13906              0  \n2013                           18667              0  \n2014                           17936              0  \n2015                           18211              0  \n2016                           14086              0  \n2017                            4702              0  \n2018                            1859              0  ",
      "text/html": "<div>\n<style scoped>\n    .dataframe tbody tr th:only-of-type {\n        vertical-align: middle;\n    }\n\n    .dataframe tbody tr th {\n        vertical-align: top;\n    }\n\n    .dataframe thead th {\n        text-align: right;\n    }\n</style>\n<table border=\"1\" class=\"dataframe\">\n  <thead>\n    <tr style=\"text-align: right;\">\n      <th></th>\n      <th>DataArquivamento</th>\n      <th>DataAbertura</th>\n      <th>CodigoRegiao</th>\n      <th>Regiao</th>\n      <th>UF</th>\n      <th>strRazaoSocial</th>\n      <th>strNomeFantasia</th>\n      <th>Tipo</th>\n      <th>NumeroCNPJ</th>\n      <th>RadicalCNPJ</th>\n      <th>RazaoSocialRFB</th>\n      <th>NomeFantasiaRFB</th>\n      <th>CNAEPrincipal</th>\n      <th>DescCNAEPrincipal</th>\n      <th>Atendida</th>\n      <th>CodigoAssunto</th>\n      <th>DescricaoAssunto</th>\n      <th>CodigoProblema</th>\n      <th>DescricaoProblema</th>\n      <th>SexoConsumidor</th>\n      <th>FaixaEtariaConsumidor</th>\n      <th>CEPConsumidor</th>\n    </tr>\n    <tr>\n      <th>AnoCalendario</th>\n      <th></th>\n      <th></th>\n      <th></th>\n      <th></th>\n      <th></th>\n      <th></th>\n      <th></th>\n      <th></th>\n      <th></th>\n      <th></th>\n      <th></th>\n      <th></th>\n      <th></th>\n      <th></th>\n      <th></th>\n      <th></th>\n      <th></th>\n      <th></th>\n      <th></th>\n      <th></th>\n      <th></th>\n      <th></th>\n    </tr>\n  </thead>\n  <tbody>\n    <tr>\n      <th>2009</th>\n      <td>9824</td>\n      <td>9824</td>\n      <td>9824</td>\n      <td>9824</td>\n      <td>9824</td>\n      <td>9824</td>\n      <td>8025</td>\n      <td>9824</td>\n      <td>9304</td>\n      <td>9297</td>\n      <td>9285</td>\n      <td>4643</td>\n      <td>9285</td>\n      <td>9269</td>\n      <td>9824</td>\n      <td>9824</td>\n      <td>9824</td>\n      <td>9824</td>\n      <td>9824</td>\n      <td>9824</td>\n      <td>9824</td>\n      <td>0</td>\n    </tr>\n    <tr>\n      <th>2010</th>\n      <td>11725</td>\n      <td>11725</td>\n      <td>11725</td>\n      <td>11725</td>\n      <td>11725</td>\n      <td>11725</td>\n      <td>9809</td>\n      <td>11725</td>\n      <td>11175</td>\n      <td>11157</td>\n      <td>11138</td>\n      <td>5696</td>\n      <td>11138</td>\n      <td>10920</td>\n      <td>11725</td>\n      <td>11725</td>\n      <td>11725</td>\n      <td>11725</td>\n      <td>11725</td>\n      <td>11725</td>\n      <td>11725</td>\n      <td>0</td>\n    </tr>\n    <tr>\n      <th>2011</th>\n      <td>9162</td>\n      <td>9162</td>\n      <td>9162</td>\n      <td>9162</td>\n      <td>9162</td>\n      <td>9162</td>\n      <td>7964</td>\n      <td>9162</td>\n      <td>8824</td>\n      <td>8810</td>\n      <td>8798</td>\n      <td>4461</td>\n      <td>8798</td>\n      <td>8614</td>\n      <td>9162</td>\n      <td>9162</td>\n      <td>9162</td>\n      <td>9162</td>\n      <td>9162</td>\n      <td>9162</td>\n      <td>9162</td>\n      <td>0</td>\n    </tr>\n    <tr>\n      <th>2012</th>\n      <td>13906</td>\n      <td>13906</td>\n      <td>13906</td>\n      <td>13906</td>\n      <td>13906</td>\n      <td>13906</td>\n      <td>11661</td>\n      <td>13906</td>\n      <td>13240</td>\n      <td>13162</td>\n      <td>13151</td>\n      <td>6323</td>\n      <td>13151</td>\n      <td>12851</td>\n      <td>13906</td>\n      <td>13906</td>\n      <td>13906</td>\n      <td>13906</td>\n      <td>13906</td>\n      <td>13906</td>\n      <td>13906</td>\n      <td>0</td>\n    </tr>\n    <tr>\n      <th>2013</th>\n      <td>18667</td>\n      <td>18667</td>\n      <td>18667</td>\n      <td>18667</td>\n      <td>18667</td>\n      <td>18667</td>\n      <td>15131</td>\n      <td>18667</td>\n      <td>17996</td>\n      <td>17996</td>\n      <td>17897</td>\n      <td>8798</td>\n      <td>17552</td>\n      <td>17552</td>\n      <td>18667</td>\n      <td>18667</td>\n      <td>18667</td>\n      <td>18667</td>\n      <td>18667</td>\n      <td>18667</td>\n      <td>18667</td>\n      <td>0</td>\n    </tr>\n    <tr>\n      <th>2014</th>\n      <td>17936</td>\n      <td>17936</td>\n      <td>17936</td>\n      <td>17936</td>\n      <td>17936</td>\n      <td>17936</td>\n      <td>15002</td>\n      <td>17936</td>\n      <td>17176</td>\n      <td>17137</td>\n      <td>17045</td>\n      <td>8851</td>\n      <td>17045</td>\n      <td>16769</td>\n      <td>17936</td>\n      <td>17936</td>\n      <td>17936</td>\n      <td>17936</td>\n      <td>17936</td>\n      <td>17936</td>\n      <td>17936</td>\n      <td>0</td>\n    </tr>\n    <tr>\n      <th>2015</th>\n      <td>18211</td>\n      <td>18211</td>\n      <td>18211</td>\n      <td>18211</td>\n      <td>18211</td>\n      <td>18211</td>\n      <td>15148</td>\n      <td>18211</td>\n      <td>17153</td>\n      <td>17153</td>\n      <td>16809</td>\n      <td>8856</td>\n      <td>16809</td>\n      <td>16614</td>\n      <td>18211</td>\n      <td>18211</td>\n      <td>18211</td>\n      <td>18210</td>\n      <td>18210</td>\n      <td>18211</td>\n      <td>18211</td>\n      <td>0</td>\n    </tr>\n    <tr>\n      <th>2016</th>\n      <td>14086</td>\n      <td>14086</td>\n      <td>14086</td>\n      <td>14086</td>\n      <td>14086</td>\n      <td>14086</td>\n      <td>11988</td>\n      <td>14086</td>\n      <td>13289</td>\n      <td>13289</td>\n      <td>12761</td>\n      <td>6688</td>\n      <td>12761</td>\n      <td>12657</td>\n      <td>14086</td>\n      <td>14086</td>\n      <td>14086</td>\n      <td>14086</td>\n      <td>14086</td>\n      <td>14086</td>\n      <td>14086</td>\n      <td>0</td>\n    </tr>\n    <tr>\n      <th>2017</th>\n      <td>4696</td>\n      <td>4696</td>\n      <td>4702</td>\n      <td>4702</td>\n      <td>4702</td>\n      <td>4702</td>\n      <td>4057</td>\n      <td>4702</td>\n      <td>4364</td>\n      <td>4364</td>\n      <td>4093</td>\n      <td>2245</td>\n      <td>4093</td>\n      <td>4062</td>\n      <td>4702</td>\n      <td>4702</td>\n      <td>4702</td>\n      <td>3582</td>\n      <td>3582</td>\n      <td>4693</td>\n      <td>4702</td>\n      <td>0</td>\n    </tr>\n    <tr>\n      <th>2018</th>\n      <td>1858</td>\n      <td>1858</td>\n      <td>1859</td>\n      <td>1859</td>\n      <td>1859</td>\n      <td>1859</td>\n      <td>1560</td>\n      <td>1859</td>\n      <td>1806</td>\n      <td>1797</td>\n      <td>1660</td>\n      <td>861</td>\n      <td>1660</td>\n      <td>1646</td>\n      <td>1859</td>\n      <td>1859</td>\n      <td>1859</td>\n      <td>4</td>\n      <td>4</td>\n      <td>1855</td>\n      <td>1859</td>\n      <td>0</td>\n    </tr>\n  </tbody>\n</table>\n</div>"
     },
     "execution_count": 19,
     "metadata": {},
     "output_type": "execute_result"
    }
   ],
   "source": [
    "df[(df['CEPConsumidor'].isnull())].groupby(\"AnoCalendario\").count()"
   ],
   "metadata": {
    "collapsed": false,
    "pycharm": {
     "name": "#%%\n"
    }
   }
  },
  {
   "cell_type": "markdown",
   "source": [
    "Verificando que o número de CEPs que são vazios é de 120.078 e que isso representa\n",
    " 7,20% da base não é uma perda muito significativa que compromenta o estudo de caso.\n",
    " Dos 7,20%\n",
    "\n",
    " | Ano Calendario | Linhas |\n",
    " |----------------|--------|\n",
    " | 2009           | 9824   |\n",
    " | 2010           | 11725  |\n",
    " | 2011           | 9162   |\n",
    " | 2012           | 13906  |\n",
    " | 2013           | 18667  |\n",
    " | 2014           | 17936  |\n",
    " | 2015           | 18211  |\n",
    " | 2016           | 14086  |\n",
    " | 2017           | 4696   |\n",
    " | 2018           | 1858   |\n"
   ],
   "metadata": {
    "collapsed": false,
    "pycharm": {
     "name": "#%% md\n"
    }
   }
  },
  {
   "cell_type": "code",
   "execution_count": 20,
   "outputs": [],
   "source": [
    "df2 = df.dropna(subset=[\"CEPConsumidor\"])"
   ],
   "metadata": {
    "collapsed": false,
    "pycharm": {
     "name": "#%%\n"
    }
   }
  },
  {
   "cell_type": "code",
   "execution_count": 21,
   "outputs": [
    {
     "name": "stdout",
     "output_type": "stream",
     "text": [
      "Shape of df=(1547983, 23)\n",
      "Number of index levels:1\n",
      "For index level 0,unique values count=268029\n",
      "Columns of df=Index(['AnoCalendario', 'DataArquivamento', 'DataAbertura', 'CodigoRegiao',\n",
      "       'Regiao', 'UF', 'strRazaoSocial', 'strNomeFantasia', 'Tipo',\n",
      "       'NumeroCNPJ', 'RadicalCNPJ', 'RazaoSocialRFB', 'NomeFantasiaRFB',\n",
      "       'CNAEPrincipal', 'DescCNAEPrincipal', 'Atendida', 'CodigoAssunto',\n",
      "       'DescricaoAssunto', 'CodigoProblema', 'DescricaoProblema',\n",
      "       'SexoConsumidor', 'FaixaEtariaConsumidor', 'CEPConsumidor'],\n",
      "      dtype='object')\n",
      "Null count= \n",
      " AnoCalendario                 0\n",
      "DataArquivamento             13\n",
      "DataAbertura                  0\n",
      "CodigoRegiao                  0\n",
      "Regiao                        0\n",
      "UF                            0\n",
      "strRazaoSocial               11\n",
      "strNomeFantasia          248230\n",
      "Tipo                          0\n",
      "NumeroCNPJ                65832\n",
      "RadicalCNPJ               67250\n",
      "RazaoSocialRFB            86491\n",
      "NomeFantasiaRFB          849508\n",
      "CNAEPrincipal             90208\n",
      "DescCNAEPrincipal        106563\n",
      "Atendida                      0\n",
      "CodigoAssunto                 0\n",
      "DescricaoAssunto              0\n",
      "CodigoProblema            44953\n",
      "DescricaoProblema         44953\n",
      "SexoConsumidor              973\n",
      "FaixaEtariaConsumidor         0\n",
      "CEPConsumidor                 0\n",
      "dtype: int64\n",
      "       AnoCalendario         DataArquivamento             DataAbertura  \\\n",
      "count        1547983                  1547970                  1547983   \n",
      "unique            10                   941064                  1232417   \n",
      "top             2014  2015-12-31 00:00:00.000  2015-11-19 00:56:46.000   \n",
      "freq          249828                     1496                      185   \n",
      "\n",
      "       CodigoRegiao   Regiao       UF           strRazaoSocial  \\\n",
      "count       1547983  1547983  1547983                  1547972   \n",
      "unique           10        5       26                   143505   \n",
      "top              03  Sudeste       SP  TELEMAR NORTE LESTE S/A   \n",
      "freq         504076   549039   268530                    22323   \n",
      "\n",
      "       strNomeFantasia     Tipo      NumeroCNPJ RadicalCNPJ  \\\n",
      "count          1299753  1547983         1482151     1480733   \n",
      "unique          100474        2          110707       87816   \n",
      "top                 OI        1  33000118000179    33000118   \n",
      "freq             23094  1544264           20683       35517   \n",
      "\n",
      "                 RazaoSocialRFB NomeFantasiaRFB CNAEPrincipal  \\\n",
      "count                   1461492          698475       1457775   \n",
      "unique                    80995           50377          1007   \n",
      "top     TELEMAR NORTE LESTE S/A              OI       6422100   \n",
      "freq                      35584           70973        146177   \n",
      "\n",
      "                               DescCNAEPrincipal Atendida CodigoAssunto  \\\n",
      "count                                    1441420  1547983       1547983   \n",
      "unique                                       983        2           242   \n",
      "top     BANCOS MÚLTIPLOS, COM CARTEIRA COMERCIAL        S           101   \n",
      "freq                                      146177   969357        183492   \n",
      "\n",
      "                                           DescricaoAssunto CodigoProblema  \\\n",
      "count                                               1547983        1503030   \n",
      "unique                                                  223           2126   \n",
      "top     Telefone ( Convencional, Celular, Interfone, Etc. )            105   \n",
      "freq                                                 183492         280870   \n",
      "\n",
      "        DescricaoProblema SexoConsumidor FaixaEtariaConsumidor CEPConsumidor  \n",
      "count             1503030        1547010               1547983       1547983  \n",
      "unique                225              3                     9        289599  \n",
      "top     Produto com vício              F    entre 31 a 40 anos      65000000  \n",
      "freq               241913         817951                359060          7734  \n"
     ]
    }
   ],
   "source": [
    "view_df_stats(df2)"
   ],
   "metadata": {
    "collapsed": false,
    "pycharm": {
     "name": "#%%\n"
    }
   }
  },
  {
   "cell_type": "markdown",
   "source": [
    "Antes da remoção dos CEPs nulos, o ano que possuia mais reclamações\n",
    "era o de 2013 com 268.096 registros,após a remoção passou a ser o\n",
    "de 2014 o que possui mais reclamações com 249.828 registros.\n",
    "Assim como passou a ter somente 65.832 empresas sem o CNPJ\n",
    "que antes era de 71.583"
   ],
   "metadata": {
    "collapsed": false
   }
  },
  {
   "cell_type": "markdown",
   "source": [
    "Próxima etapa será de buscar o radical do CNPJ das empresas que não possuem o CNPJ.\n",
    "Como não se pode inferir o número do CNPJ pelo nome, pois pode ser uma outra filial\n",
    "da empresa"
   ],
   "metadata": {
    "collapsed": false,
    "pycharm": {
     "name": "#%% md\n"
    }
   }
  },
  {
   "cell_type": "code",
   "execution_count": 22,
   "outputs": [
    {
     "data": {
      "text/plain": "               AnoCalendario\nAnoCalendario               \n2009                    5325\n2010                    4346\n2011                    4176\n2012                    9535\n2013                   10369\n2014                   10011\n2015                   11290\n2016                    7397\n2017                    2117\n2018                    1266",
      "text/html": "<div>\n<style scoped>\n    .dataframe tbody tr th:only-of-type {\n        vertical-align: middle;\n    }\n\n    .dataframe tbody tr th {\n        vertical-align: top;\n    }\n\n    .dataframe thead th {\n        text-align: right;\n    }\n</style>\n<table border=\"1\" class=\"dataframe\">\n  <thead>\n    <tr style=\"text-align: right;\">\n      <th></th>\n      <th>AnoCalendario</th>\n    </tr>\n    <tr>\n      <th>AnoCalendario</th>\n      <th></th>\n    </tr>\n  </thead>\n  <tbody>\n    <tr>\n      <th>2009</th>\n      <td>5325</td>\n    </tr>\n    <tr>\n      <th>2010</th>\n      <td>4346</td>\n    </tr>\n    <tr>\n      <th>2011</th>\n      <td>4176</td>\n    </tr>\n    <tr>\n      <th>2012</th>\n      <td>9535</td>\n    </tr>\n    <tr>\n      <th>2013</th>\n      <td>10369</td>\n    </tr>\n    <tr>\n      <th>2014</th>\n      <td>10011</td>\n    </tr>\n    <tr>\n      <th>2015</th>\n      <td>11290</td>\n    </tr>\n    <tr>\n      <th>2016</th>\n      <td>7397</td>\n    </tr>\n    <tr>\n      <th>2017</th>\n      <td>2117</td>\n    </tr>\n    <tr>\n      <th>2018</th>\n      <td>1266</td>\n    </tr>\n  </tbody>\n</table>\n</div>"
     },
     "execution_count": 22,
     "metadata": {},
     "output_type": "execute_result"
    }
   ],
   "source": [
    "df2[df2['NumeroCNPJ'].isnull()].groupby(['AnoCalendario']).agg({'AnoCalendario':'count'})"
   ],
   "metadata": {
    "collapsed": false,
    "pycharm": {
     "name": "#%%\n"
    }
   }
  },
  {
   "cell_type": "markdown",
   "source": [
    "O ano em que mais possui CNPJ nulos é em 2015 com 11.290 registros\n"
   ],
   "metadata": {
    "collapsed": false,
    "pycharm": {
     "name": "#%% md\n"
    }
   }
  },
  {
   "cell_type": "code",
   "source": [
    "df[(df['RadicalCNPJ'] == \"33000118\")]['strRazaoSocial'].unique()"
   ],
   "metadata": {
    "collapsed": false,
    "pycharm": {
     "name": "#%%\n"
    }
   },
   "execution_count": 23,
   "outputs": [
    {
     "data": {
      "text/plain": "array(['TELEMAR NORTE LESTE S/A', 'OI MÓVEL', 'TELEMAR NORTE E LESTE S/A',\n       'OI FIXO', 'TELEMAR NORTE LESTE S/A (OI FIXA)',\n       'TELEMAR NORTE LESTE S.A.', 'TELEMAR NORTE LESTE S/A - OI FIXO',\n       'TELEMAR NORTE LESTE S/A.', 'TELEMAR NORTE LESTE S/A OI',\n       'TELEMAR NORTE LESTE SA', 'TELEMAR NORTE LESTE',\n       'OI FIXO - TELEMAR NORTE LESTE S/A',\n       'TELEMAR NORTE LESTE S/A (OI FIXO)', 'OI CELULAR S/A - OI MÓVEL',\n       'OI - TELEMAR NORTE LESTE S/A', 'TELEMAR NORTE LESTE S.A',\n       'TELEMAR NORTE LEST S/A', 'TELEMAR NORTE LESTE S/A / OI FIXO',\n       'OI', 'OI S/A KENNEDY NORONHA TERENCE',\n       'OI - TELEMAR NORTE LESTE S/A, OI S/A, ÓI MÓVEL S/A',\n       'TELEMAR NORTE LESTE S/A  OI DESATIVADO VIDE OI S/A',\n       'TELEMAR N LESTE S/A - OI - DESATIVADO VIDE OI S/A',\n       'TELEMAR EMPRESA DE TELEFONIA  FIXA',\n       'TELEMAR NORTE LESTE S/A - OI',\n       'OPERADORA OI FIXO - TELEMAR NORTE LESTE',\n       'OI TELEMAR NORTE LESTE S.A', 'TELEMAR NORTE LESTE S/A-OI FIXO',\n       'TELEMAR S.A', 'TELEMAR NORTE LESTE S/A - EM RECUPERAÇÃO JUDICIAL',\n       'GRUPO OI', 'TELEMAR NORTE LESTE S/A @',\n       'OI/TELEMAR/TELECOMUNICAÇÕES DO RIO DE JANEIRO S.A'], dtype=object)"
     },
     "execution_count": 23,
     "metadata": {},
     "output_type": "execute_result"
    }
   ]
  },
  {
   "cell_type": "markdown",
   "source": [
    "Diversas empresas possuem razões sociais com o mesmo radical de CNPJ porém com nomes diferentes, enquanto que na base da RFB estes\n",
    "possuem o mesmo valor. Para aqueles que possuem valor na base da RFB como únicos será utilizado o mesmo como razão social.\n",
    "\n",
    "Para aprimorar a limpeza dos dados será removidos os caracteres que estão incluidos no SA tais como [.,/,-,@]"
   ],
   "metadata": {
    "collapsed": false
   }
  },
  {
   "cell_type": "code",
   "execution_count": 24,
   "outputs": [
    {
     "name": "stderr",
     "output_type": "stream",
     "text": [
      "C:\\Users\\Fabio\\anaconda3\\envs\\UnivaliTCC\\lib\\site-packages\\ipykernel_launcher.py:1: SettingWithCopyWarning: \n",
      "A value is trying to be set on a copy of a slice from a DataFrame.\n",
      "Try using .loc[row_indexer,col_indexer] = value instead\n",
      "\n",
      "See the caveats in the documentation: https://pandas.pydata.org/pandas-docs/stable/user_guide/indexing.html#returning-a-view-versus-a-copy\n",
      "  \"\"\"Entry point for launching an IPython kernel.\n"
     ]
    }
   ],
   "source": [
    "df2['strRazaoSocial'] = df2['strRazaoSocial'].str.strip().replace(regular_expression, '', regex=True)"
   ],
   "metadata": {
    "collapsed": false,
    "pycharm": {
     "name": "#%%\n"
    }
   }
  },
  {
   "cell_type": "code",
   "execution_count": 25,
   "outputs": [
    {
     "data": {
      "text/plain": "             AnoCalendario\nRadicalCNPJ               \n40432544              2300\n07170938               533\n06123835               187\n19304719               184\n33041260               178\n...                    ...\n20953900                 1\n20953118                 1\n13239346                 1\n20947278                 1\n20940220                 1\n\n[6884 rows x 1 columns]",
      "text/html": "<div>\n<style scoped>\n    .dataframe tbody tr th:only-of-type {\n        vertical-align: middle;\n    }\n\n    .dataframe tbody tr th {\n        vertical-align: top;\n    }\n\n    .dataframe thead th {\n        text-align: right;\n    }\n</style>\n<table border=\"1\" class=\"dataframe\">\n  <thead>\n    <tr style=\"text-align: right;\">\n      <th></th>\n      <th>AnoCalendario</th>\n    </tr>\n    <tr>\n      <th>RadicalCNPJ</th>\n      <th></th>\n    </tr>\n  </thead>\n  <tbody>\n    <tr>\n      <th>40432544</th>\n      <td>2300</td>\n    </tr>\n    <tr>\n      <th>07170938</th>\n      <td>533</td>\n    </tr>\n    <tr>\n      <th>06123835</th>\n      <td>187</td>\n    </tr>\n    <tr>\n      <th>19304719</th>\n      <td>184</td>\n    </tr>\n    <tr>\n      <th>33041260</th>\n      <td>178</td>\n    </tr>\n    <tr>\n      <th>...</th>\n      <td>...</td>\n    </tr>\n    <tr>\n      <th>20953900</th>\n      <td>1</td>\n    </tr>\n    <tr>\n      <th>20953118</th>\n      <td>1</td>\n    </tr>\n    <tr>\n      <th>13239346</th>\n      <td>1</td>\n    </tr>\n    <tr>\n      <th>20947278</th>\n      <td>1</td>\n    </tr>\n    <tr>\n      <th>20940220</th>\n      <td>1</td>\n    </tr>\n  </tbody>\n</table>\n<p>6884 rows × 1 columns</p>\n</div>"
     },
     "execution_count": 25,
     "metadata": {},
     "output_type": "execute_result"
    }
   ],
   "source": [
    "df2[df2['RazaoSocialRFB'].isnull()].groupby(\"RadicalCNPJ\").agg({'AnoCalendario':'count'}).sort_values(\"AnoCalendario\", ascending=False)"
   ],
   "metadata": {
    "collapsed": false,
    "pycharm": {
     "name": "#%%\n"
    }
   }
  },
  {
   "cell_type": "code",
   "execution_count": 26,
   "outputs": [
    {
     "data": {
      "text/plain": "array(['TELEMAR NORTE LESTE S/A'], dtype=object)"
     },
     "execution_count": 26,
     "metadata": {},
     "output_type": "execute_result"
    }
   ],
   "source": [
    "df2[(df2['RadicalCNPJ'] == \"33000118\")]['RazaoSocialRFB'].unique()"
   ],
   "metadata": {
    "collapsed": false,
    "pycharm": {
     "name": "#%%\n"
    }
   }
  },
  {
   "cell_type": "code",
   "execution_count": 27,
   "outputs": [
    {
     "data": {
      "text/plain": "array(['TELEMAR NORTE LESTE SA', 'OI MÓVEL', 'OI FIXO',\n       'TELEMAR NORTE E LESTE SA', 'TELEMAR NORTE LESTE SA OI FIXA',\n       'TELEMAR NORTE LESTE SA  OI FIXO', 'TELEMAR NORTE LESTE SA OI',\n       'TELEMAR NORTE LESTE', 'OI FIXO  TELEMAR NORTE LESTE SA',\n       'TELEMAR NORTE LESTE SA OI FIXO', 'OI CELULAR SA  OI MÓVEL',\n       'OI  TELEMAR NORTE LESTE SA', 'TELEMAR NORTE LEST SA', 'OI',\n       'OI SA KENNEDY NORONHA TERENCE',\n       'OI  TELEMAR NORTE LESTE SA, OI SA, ÓI MÓVEL SA',\n       'TELEMAR NORTE LESTE SA  OI DESATIVADO VIDE OI SA',\n       'TELEMAR N LESTE SA  OI  DESATIVADO VIDE OI SA',\n       'TELEMAR EMPRESA DE TELEFONIA  FIXA', 'TELEMAR NORTE LESTE SA  OI',\n       'OPERADORA OI FIXO  TELEMAR NORTE LESTE',\n       'OI TELEMAR NORTE LESTE SA', 'TELEMAR NORTE LESTE SAOI FIXO',\n       'TELEMAR SA', 'TELEMAR NORTE LESTE SA  EM RECUPERAÇÃO JUDICIAL',\n       'GRUPO OI', 'TELEMAR NORTE LESTE SA ',\n       'OITELEMARTELECOMUNICAÇÕES DO RIO DE JANEIRO SA'], dtype=object)"
     },
     "execution_count": 27,
     "metadata": {},
     "output_type": "execute_result"
    }
   ],
   "source": [
    "df2[(df2['RadicalCNPJ'] == \"33000118\")]['strRazaoSocial'].unique()"
   ],
   "metadata": {
    "collapsed": false,
    "pycharm": {
     "name": "#%%\n"
    }
   }
  },
  {
   "cell_type": "code",
   "execution_count": 28,
   "outputs": [
    {
     "data": {
      "text/plain": "      AnoCalendario         DataArquivamento             DataAbertura  \\\n256            2009  2008-09-16 09:29:35.000  2006-12-28 11:34:55.000   \n502            2009  2008-09-09 12:03:00.000  2007-01-29 09:03:51.000   \n590            2009  2008-10-23 12:35:09.000  2006-11-16 14:12:34.000   \n778            2009  2009-03-03 14:52:00.000  2005-06-13 14:26:27.000   \n1480           2009  2008-09-24 09:09:18.000  2007-09-17 17:21:06.000   \n...             ...                      ...                      ...   \n38975          2018  2018-09-04 14:54:12.000  2018-02-15 09:56:20.000   \n38980          2018  2018-12-10 16:40:43.000  2018-11-07 11:00:49.000   \n38981          2018  2018-12-10 16:44:47.000  2018-10-31 14:30:52.000   \n39030          2018  2018-10-04 09:01:09.000  2018-09-13 08:57:39.000   \n39040          2018  2018-10-03 10:03:40.000  2018-08-30 14:59:27.000   \n\n      CodigoRegiao   Regiao  UF            strRazaoSocial  \\\n256              1    Norte  AP    TELEMAR NORTE LESTE SA   \n502              1    Norte  PA    TELEMAR NORTE LESTE SA   \n590              3  Sudeste  RJ    TELEMAR NORTE LESTE SA   \n778              1    Norte  PA    TELEMAR NORTE LESTE SA   \n1480             3  Sudeste  ES    TELEMAR NORTE LESTE SA   \n...            ...      ...  ..                       ...   \n38975            3  Sudeste  MG  TELEMAR NORTE E LESTE SA   \n38980            3  Sudeste  MG  TELEMAR NORTE E LESTE SA   \n38981            3  Sudeste  MG  TELEMAR NORTE E LESTE SA   \n39030            3  Sudeste  MG  TELEMAR NORTE E LESTE SA   \n39040            3  Sudeste  MG  TELEMAR NORTE E LESTE SA   \n\n                                          strNomeFantasia Tipo  \\\n256                                                    OI    1   \n502                                               OI FIXA    1   \n590                                     OI TELEFONIA FIXA    1   \n778                                               OI FIXA    1   \n1480                            OI FIXO/OI MOVEL/OI VELOX    1   \n...                                                   ...  ...   \n38975  TELEMAR (OI FIXO E MÓVEL, OI PAGGO, VELOX, OI NET)    1   \n38980  TELEMAR (OI FIXO E MÓVEL, OI PAGGO, VELOX, OI NET)    1   \n38981  TELEMAR (OI FIXO E MÓVEL, OI PAGGO, VELOX, OI NET)    1   \n39030  TELEMAR (OI FIXO E MÓVEL, OI PAGGO, VELOX, OI NET)    1   \n39040  TELEMAR (OI FIXO E MÓVEL, OI PAGGO, VELOX, OI NET)    1   \n\n           NumeroCNPJ RadicalCNPJ           RazaoSocialRFB NomeFantasiaRFB  \\\n256    33000118000683    33000118  TELEMAR NORTE LESTE S/A              OI   \n502    33000118000926    33000118  TELEMAR NORTE LESTE S/A              OI   \n590    33000118000179    33000118  TELEMAR NORTE LESTE S/A              OI   \n778    33000118000926    33000118  TELEMAR NORTE LESTE S/A              OI   \n1480   33000118000250    33000118  TELEMAR NORTE LESTE S/A              OI   \n...               ...         ...                      ...             ...   \n38975  33000118000330    33000118  TELEMAR NORTE LESTE S/A              OI   \n38980  33000118000330    33000118  TELEMAR NORTE LESTE S/A              OI   \n38981  33000118000330    33000118  TELEMAR NORTE LESTE S/A              OI   \n39030  33000118000330    33000118  TELEMAR NORTE LESTE S/A              OI   \n39040  33000118000330    33000118  TELEMAR NORTE LESTE S/A              OI   \n\n      CNAEPrincipal                           DescCNAEPrincipal Atendida  \\\n256         6110801  SERVIÇOS DE TELEFONIA FIXA COMUTADA - STFC        S   \n502         6110801  SERVIÇOS DE TELEFONIA FIXA COMUTADA - STFC        S   \n590         6110801  SERVIÇOS DE TELEFONIA FIXA COMUTADA - STFC        N   \n778         6110801  SERVIÇOS DE TELEFONIA FIXA COMUTADA - STFC        N   \n1480        6110801  SERVIÇOS DE TELEFONIA FIXA COMUTADA - STFC        N   \n...             ...                                         ...      ...   \n38975       6110801  SERVIÇOS DE TELEFONIA FIXA COMUTADA - STFC        S   \n38980       6110801  SERVIÇOS DE TELEFONIA FIXA COMUTADA - STFC        S   \n38981       6110801  SERVIÇOS DE TELEFONIA FIXA COMUTADA - STFC        S   \n39030       6110801  SERVIÇOS DE TELEFONIA FIXA COMUTADA - STFC        S   \n39040       6110801  SERVIÇOS DE TELEFONIA FIXA COMUTADA - STFC        S   \n\n      CodigoAssunto  \\\n256             186   \n502             186   \n590             186   \n778             186   \n1480            186   \n...             ...   \n38975           101   \n38980           187   \n38981           186   \n39030           186   \n39040           186   \n\n                                                      DescricaoAssunto  \\\n256    Telefonia Fixa ( Plano de Expansão / Compra e Venda / Locação )   \n502    Telefonia Fixa ( Plano de Expansão / Compra e Venda / Locação )   \n590    Telefonia Fixa ( Plano de Expansão / Compra e Venda / Locação )   \n778    Telefonia Fixa ( Plano de Expansão / Compra e Venda / Locação )   \n1480   Telefonia Fixa ( Plano de Expansão / Compra e Venda / Locação )   \n...                                                                ...   \n38975              Telefone ( Convencional, Celular, Interfone, Etc. )   \n38980                                                Telefonia Celular   \n38981  Telefonia Fixa ( Plano de Expansão / Compra e Venda / Locação )   \n39030  Telefonia Fixa ( Plano de Expansão / Compra e Venda / Locação )   \n39040  Telefonia Fixa ( Plano de Expansão / Compra e Venda / Locação )   \n\n      CodigoProblema          DescricaoProblema SexoConsumidor  \\\n256              134  Cobrança indevida/abusiva              M   \n502              134  Cobrança indevida/abusiva              F   \n590              134  Cobrança indevida/abusiva              F   \n778              134  Cobrança indevida/abusiva              M   \n1480             134  Cobrança indevida/abusiva              F   \n...              ...                        ...            ...   \n38975            NaN                        NaN              M   \n38980            NaN                        NaN              F   \n38981            NaN                        NaN              F   \n39030            NaN                        NaN              F   \n39040            NaN                        NaN              F   \n\n      FaixaEtariaConsumidor CEPConsumidor  \n256      entre 31 a 40 anos      68906000  \n502      entre 51 a 60 anos      67200000  \n590      entre 31 a 40 anos      21361150  \n778      entre 41 a 50 anos      67133050  \n1480     entre 51 a 60 anos      29090040  \n...                     ...           ...  \n38975    entre 41 a 50 anos      35051350  \n38980    entre 61 a 70 anos      35057710  \n38981    entre 61 a 70 anos      35010210  \n39030    entre 21 a 30 anos      35053210  \n39040    entre 61 a 70 anos      35060020  \n\n[35517 rows x 23 columns]",
      "text/html": "<div>\n<style scoped>\n    .dataframe tbody tr th:only-of-type {\n        vertical-align: middle;\n    }\n\n    .dataframe tbody tr th {\n        vertical-align: top;\n    }\n\n    .dataframe thead th {\n        text-align: right;\n    }\n</style>\n<table border=\"1\" class=\"dataframe\">\n  <thead>\n    <tr style=\"text-align: right;\">\n      <th></th>\n      <th>AnoCalendario</th>\n      <th>DataArquivamento</th>\n      <th>DataAbertura</th>\n      <th>CodigoRegiao</th>\n      <th>Regiao</th>\n      <th>UF</th>\n      <th>strRazaoSocial</th>\n      <th>strNomeFantasia</th>\n      <th>Tipo</th>\n      <th>NumeroCNPJ</th>\n      <th>RadicalCNPJ</th>\n      <th>RazaoSocialRFB</th>\n      <th>NomeFantasiaRFB</th>\n      <th>CNAEPrincipal</th>\n      <th>DescCNAEPrincipal</th>\n      <th>Atendida</th>\n      <th>CodigoAssunto</th>\n      <th>DescricaoAssunto</th>\n      <th>CodigoProblema</th>\n      <th>DescricaoProblema</th>\n      <th>SexoConsumidor</th>\n      <th>FaixaEtariaConsumidor</th>\n      <th>CEPConsumidor</th>\n    </tr>\n  </thead>\n  <tbody>\n    <tr>\n      <th>256</th>\n      <td>2009</td>\n      <td>2008-09-16 09:29:35.000</td>\n      <td>2006-12-28 11:34:55.000</td>\n      <td>1</td>\n      <td>Norte</td>\n      <td>AP</td>\n      <td>TELEMAR NORTE LESTE SA</td>\n      <td>OI</td>\n      <td>1</td>\n      <td>33000118000683</td>\n      <td>33000118</td>\n      <td>TELEMAR NORTE LESTE S/A</td>\n      <td>OI</td>\n      <td>6110801</td>\n      <td>SERVIÇOS DE TELEFONIA FIXA COMUTADA - STFC</td>\n      <td>S</td>\n      <td>186</td>\n      <td>Telefonia Fixa ( Plano de Expansão / Compra e Venda / Locação )</td>\n      <td>134</td>\n      <td>Cobrança indevida/abusiva</td>\n      <td>M</td>\n      <td>entre 31 a 40 anos</td>\n      <td>68906000</td>\n    </tr>\n    <tr>\n      <th>502</th>\n      <td>2009</td>\n      <td>2008-09-09 12:03:00.000</td>\n      <td>2007-01-29 09:03:51.000</td>\n      <td>1</td>\n      <td>Norte</td>\n      <td>PA</td>\n      <td>TELEMAR NORTE LESTE SA</td>\n      <td>OI FIXA</td>\n      <td>1</td>\n      <td>33000118000926</td>\n      <td>33000118</td>\n      <td>TELEMAR NORTE LESTE S/A</td>\n      <td>OI</td>\n      <td>6110801</td>\n      <td>SERVIÇOS DE TELEFONIA FIXA COMUTADA - STFC</td>\n      <td>S</td>\n      <td>186</td>\n      <td>Telefonia Fixa ( Plano de Expansão / Compra e Venda / Locação )</td>\n      <td>134</td>\n      <td>Cobrança indevida/abusiva</td>\n      <td>F</td>\n      <td>entre 51 a 60 anos</td>\n      <td>67200000</td>\n    </tr>\n    <tr>\n      <th>590</th>\n      <td>2009</td>\n      <td>2008-10-23 12:35:09.000</td>\n      <td>2006-11-16 14:12:34.000</td>\n      <td>3</td>\n      <td>Sudeste</td>\n      <td>RJ</td>\n      <td>TELEMAR NORTE LESTE SA</td>\n      <td>OI TELEFONIA FIXA</td>\n      <td>1</td>\n      <td>33000118000179</td>\n      <td>33000118</td>\n      <td>TELEMAR NORTE LESTE S/A</td>\n      <td>OI</td>\n      <td>6110801</td>\n      <td>SERVIÇOS DE TELEFONIA FIXA COMUTADA - STFC</td>\n      <td>N</td>\n      <td>186</td>\n      <td>Telefonia Fixa ( Plano de Expansão / Compra e Venda / Locação )</td>\n      <td>134</td>\n      <td>Cobrança indevida/abusiva</td>\n      <td>F</td>\n      <td>entre 31 a 40 anos</td>\n      <td>21361150</td>\n    </tr>\n    <tr>\n      <th>778</th>\n      <td>2009</td>\n      <td>2009-03-03 14:52:00.000</td>\n      <td>2005-06-13 14:26:27.000</td>\n      <td>1</td>\n      <td>Norte</td>\n      <td>PA</td>\n      <td>TELEMAR NORTE LESTE SA</td>\n      <td>OI FIXA</td>\n      <td>1</td>\n      <td>33000118000926</td>\n      <td>33000118</td>\n      <td>TELEMAR NORTE LESTE S/A</td>\n      <td>OI</td>\n      <td>6110801</td>\n      <td>SERVIÇOS DE TELEFONIA FIXA COMUTADA - STFC</td>\n      <td>N</td>\n      <td>186</td>\n      <td>Telefonia Fixa ( Plano de Expansão / Compra e Venda / Locação )</td>\n      <td>134</td>\n      <td>Cobrança indevida/abusiva</td>\n      <td>M</td>\n      <td>entre 41 a 50 anos</td>\n      <td>67133050</td>\n    </tr>\n    <tr>\n      <th>1480</th>\n      <td>2009</td>\n      <td>2008-09-24 09:09:18.000</td>\n      <td>2007-09-17 17:21:06.000</td>\n      <td>3</td>\n      <td>Sudeste</td>\n      <td>ES</td>\n      <td>TELEMAR NORTE LESTE SA</td>\n      <td>OI FIXO/OI MOVEL/OI VELOX</td>\n      <td>1</td>\n      <td>33000118000250</td>\n      <td>33000118</td>\n      <td>TELEMAR NORTE LESTE S/A</td>\n      <td>OI</td>\n      <td>6110801</td>\n      <td>SERVIÇOS DE TELEFONIA FIXA COMUTADA - STFC</td>\n      <td>N</td>\n      <td>186</td>\n      <td>Telefonia Fixa ( Plano de Expansão / Compra e Venda / Locação )</td>\n      <td>134</td>\n      <td>Cobrança indevida/abusiva</td>\n      <td>F</td>\n      <td>entre 51 a 60 anos</td>\n      <td>29090040</td>\n    </tr>\n    <tr>\n      <th>...</th>\n      <td>...</td>\n      <td>...</td>\n      <td>...</td>\n      <td>...</td>\n      <td>...</td>\n      <td>...</td>\n      <td>...</td>\n      <td>...</td>\n      <td>...</td>\n      <td>...</td>\n      <td>...</td>\n      <td>...</td>\n      <td>...</td>\n      <td>...</td>\n      <td>...</td>\n      <td>...</td>\n      <td>...</td>\n      <td>...</td>\n      <td>...</td>\n      <td>...</td>\n      <td>...</td>\n      <td>...</td>\n      <td>...</td>\n    </tr>\n    <tr>\n      <th>38975</th>\n      <td>2018</td>\n      <td>2018-09-04 14:54:12.000</td>\n      <td>2018-02-15 09:56:20.000</td>\n      <td>3</td>\n      <td>Sudeste</td>\n      <td>MG</td>\n      <td>TELEMAR NORTE E LESTE SA</td>\n      <td>TELEMAR (OI FIXO E MÓVEL, OI PAGGO, VELOX, OI NET)</td>\n      <td>1</td>\n      <td>33000118000330</td>\n      <td>33000118</td>\n      <td>TELEMAR NORTE LESTE S/A</td>\n      <td>OI</td>\n      <td>6110801</td>\n      <td>SERVIÇOS DE TELEFONIA FIXA COMUTADA - STFC</td>\n      <td>S</td>\n      <td>101</td>\n      <td>Telefone ( Convencional, Celular, Interfone, Etc. )</td>\n      <td>NaN</td>\n      <td>NaN</td>\n      <td>M</td>\n      <td>entre 41 a 50 anos</td>\n      <td>35051350</td>\n    </tr>\n    <tr>\n      <th>38980</th>\n      <td>2018</td>\n      <td>2018-12-10 16:40:43.000</td>\n      <td>2018-11-07 11:00:49.000</td>\n      <td>3</td>\n      <td>Sudeste</td>\n      <td>MG</td>\n      <td>TELEMAR NORTE E LESTE SA</td>\n      <td>TELEMAR (OI FIXO E MÓVEL, OI PAGGO, VELOX, OI NET)</td>\n      <td>1</td>\n      <td>33000118000330</td>\n      <td>33000118</td>\n      <td>TELEMAR NORTE LESTE S/A</td>\n      <td>OI</td>\n      <td>6110801</td>\n      <td>SERVIÇOS DE TELEFONIA FIXA COMUTADA - STFC</td>\n      <td>S</td>\n      <td>187</td>\n      <td>Telefonia Celular</td>\n      <td>NaN</td>\n      <td>NaN</td>\n      <td>F</td>\n      <td>entre 61 a 70 anos</td>\n      <td>35057710</td>\n    </tr>\n    <tr>\n      <th>38981</th>\n      <td>2018</td>\n      <td>2018-12-10 16:44:47.000</td>\n      <td>2018-10-31 14:30:52.000</td>\n      <td>3</td>\n      <td>Sudeste</td>\n      <td>MG</td>\n      <td>TELEMAR NORTE E LESTE SA</td>\n      <td>TELEMAR (OI FIXO E MÓVEL, OI PAGGO, VELOX, OI NET)</td>\n      <td>1</td>\n      <td>33000118000330</td>\n      <td>33000118</td>\n      <td>TELEMAR NORTE LESTE S/A</td>\n      <td>OI</td>\n      <td>6110801</td>\n      <td>SERVIÇOS DE TELEFONIA FIXA COMUTADA - STFC</td>\n      <td>S</td>\n      <td>186</td>\n      <td>Telefonia Fixa ( Plano de Expansão / Compra e Venda / Locação )</td>\n      <td>NaN</td>\n      <td>NaN</td>\n      <td>F</td>\n      <td>entre 61 a 70 anos</td>\n      <td>35010210</td>\n    </tr>\n    <tr>\n      <th>39030</th>\n      <td>2018</td>\n      <td>2018-10-04 09:01:09.000</td>\n      <td>2018-09-13 08:57:39.000</td>\n      <td>3</td>\n      <td>Sudeste</td>\n      <td>MG</td>\n      <td>TELEMAR NORTE E LESTE SA</td>\n      <td>TELEMAR (OI FIXO E MÓVEL, OI PAGGO, VELOX, OI NET)</td>\n      <td>1</td>\n      <td>33000118000330</td>\n      <td>33000118</td>\n      <td>TELEMAR NORTE LESTE S/A</td>\n      <td>OI</td>\n      <td>6110801</td>\n      <td>SERVIÇOS DE TELEFONIA FIXA COMUTADA - STFC</td>\n      <td>S</td>\n      <td>186</td>\n      <td>Telefonia Fixa ( Plano de Expansão / Compra e Venda / Locação )</td>\n      <td>NaN</td>\n      <td>NaN</td>\n      <td>F</td>\n      <td>entre 21 a 30 anos</td>\n      <td>35053210</td>\n    </tr>\n    <tr>\n      <th>39040</th>\n      <td>2018</td>\n      <td>2018-10-03 10:03:40.000</td>\n      <td>2018-08-30 14:59:27.000</td>\n      <td>3</td>\n      <td>Sudeste</td>\n      <td>MG</td>\n      <td>TELEMAR NORTE E LESTE SA</td>\n      <td>TELEMAR (OI FIXO E MÓVEL, OI PAGGO, VELOX, OI NET)</td>\n      <td>1</td>\n      <td>33000118000330</td>\n      <td>33000118</td>\n      <td>TELEMAR NORTE LESTE S/A</td>\n      <td>OI</td>\n      <td>6110801</td>\n      <td>SERVIÇOS DE TELEFONIA FIXA COMUTADA - STFC</td>\n      <td>S</td>\n      <td>186</td>\n      <td>Telefonia Fixa ( Plano de Expansão / Compra e Venda / Locação )</td>\n      <td>NaN</td>\n      <td>NaN</td>\n      <td>F</td>\n      <td>entre 61 a 70 anos</td>\n      <td>35060020</td>\n    </tr>\n  </tbody>\n</table>\n<p>35517 rows × 23 columns</p>\n</div>"
     },
     "execution_count": 28,
     "metadata": {},
     "output_type": "execute_result"
    }
   ],
   "source": [
    "df2[(df2['RadicalCNPJ'] == \"33000118\")]"
   ],
   "metadata": {
    "collapsed": false,
    "pycharm": {
     "name": "#%%\n"
    }
   }
  },
  {
   "cell_type": "code",
   "execution_count": 29,
   "outputs": [
    {
     "data": {
      "text/plain": "array(['0', nan, '28196889', '00000000', '00655522', '68181221',\n       '06043050'], dtype=object)"
     },
     "execution_count": 29,
     "metadata": {},
     "output_type": "execute_result"
    }
   ],
   "source": [
    "df2[(df2['strRazaoSocial'] == \"BANCO DO BRASIL\")]['RadicalCNPJ'].unique()"
   ],
   "metadata": {
    "collapsed": false,
    "pycharm": {
     "name": "#%%\n"
    }
   }
  },
  {
   "cell_type": "markdown",
   "source": [
    "Analisando a consulta pelos radicais de CNPJ, pode-se notar que Razão Social das empresas muitas vezes vem com diferentes escritas.\n"
   ],
   "metadata": {
    "collapsed": false,
    "pycharm": {
     "name": "#%% md\n"
    }
   }
  },
  {
   "cell_type": "markdown",
   "source": [
    "Algumas empresas possuem a mesma razão social porém com radicais de CNPJ distintos, tais como a\n",
    "\"TELEMAR NORTE LESTE S/A\", \"BANCO DO BRASIL\", \"CAIXA ECONÔMICA FEDERAL\"\n"
   ],
   "metadata": {
    "collapsed": false,
    "pycharm": {
     "name": "#%% md\n"
    }
   }
  },
  {
   "cell_type": "code",
   "execution_count": 30,
   "outputs": [
    {
     "data": {
      "text/plain": "array(['BANCO DO BRASIL SA'], dtype=object)"
     },
     "execution_count": 30,
     "metadata": {},
     "output_type": "execute_result"
    }
   ],
   "source": [
    "df2[(df2['RadicalCNPJ'] == \"0\")]['RazaoSocialRFB'].unique()"
   ],
   "metadata": {
    "collapsed": false,
    "pycharm": {
     "name": "#%%\n"
    }
   }
  },
  {
   "cell_type": "markdown",
   "source": [
    "Foi considerado utilizar a RazaoSocialRFB como strRazaoSocial, porém todos os campos que estão nulos na strRazaoSocial também estão vazios na\n",
    "RazaoSocialRFB/NumeroCNPJ/RadicalCNPJ, portanto nenhum deles é possível constatar qual a empresa que está sendo reclamada. Consequentemente estes\n",
    "serão removidos da base, pois não agregam valor aos dados. Que no total são 11 linhas"
   ],
   "metadata": {
    "collapsed": false,
    "pycharm": {
     "name": "#%% md\n"
    }
   }
  },
  {
   "cell_type": "code",
   "execution_count": 31,
   "outputs": [],
   "source": [
    "df3 = df2.dropna(subset=[\"strRazaoSocial\"])"
   ],
   "metadata": {
    "collapsed": false,
    "pycharm": {
     "name": "#%%\n"
    }
   }
  },
  {
   "cell_type": "code",
   "execution_count": 32,
   "outputs": [
    {
     "name": "stdout",
     "output_type": "stream",
     "text": [
      "Shape of df=(1547972, 23)\n",
      "Number of index levels:1\n",
      "For index level 0,unique values count=268029\n",
      "Columns of df=Index(['AnoCalendario', 'DataArquivamento', 'DataAbertura', 'CodigoRegiao',\n",
      "       'Regiao', 'UF', 'strRazaoSocial', 'strNomeFantasia', 'Tipo',\n",
      "       'NumeroCNPJ', 'RadicalCNPJ', 'RazaoSocialRFB', 'NomeFantasiaRFB',\n",
      "       'CNAEPrincipal', 'DescCNAEPrincipal', 'Atendida', 'CodigoAssunto',\n",
      "       'DescricaoAssunto', 'CodigoProblema', 'DescricaoProblema',\n",
      "       'SexoConsumidor', 'FaixaEtariaConsumidor', 'CEPConsumidor'],\n",
      "      dtype='object')\n",
      "Null count= \n",
      " AnoCalendario                 0\n",
      "DataArquivamento             13\n",
      "DataAbertura                  0\n",
      "CodigoRegiao                  0\n",
      "Regiao                        0\n",
      "UF                            0\n",
      "strRazaoSocial                0\n",
      "strNomeFantasia          248219\n",
      "Tipo                          0\n",
      "NumeroCNPJ                65821\n",
      "RadicalCNPJ               67239\n",
      "RazaoSocialRFB            86480\n",
      "NomeFantasiaRFB          849497\n",
      "CNAEPrincipal             90197\n",
      "DescCNAEPrincipal        106552\n",
      "Atendida                      0\n",
      "CodigoAssunto                 0\n",
      "DescricaoAssunto              0\n",
      "CodigoProblema            44950\n",
      "DescricaoProblema         44950\n",
      "SexoConsumidor              973\n",
      "FaixaEtariaConsumidor         0\n",
      "CEPConsumidor                 0\n",
      "dtype: int64\n",
      "       AnoCalendario         DataArquivamento             DataAbertura  \\\n",
      "count        1547972                  1547959                  1547972   \n",
      "unique            10                   941064                  1232417   \n",
      "top             2014  2015-12-31 00:00:00.000  2015-11-19 00:56:46.000   \n",
      "freq          249828                     1496                      185   \n",
      "\n",
      "       CodigoRegiao   Regiao       UF strRazaoSocial strNomeFantasia     Tipo  \\\n",
      "count       1547972  1547972  1547972        1547972         1299753  1547972   \n",
      "unique           10        5       26         139024          100474        2   \n",
      "top              03  Sudeste       SP       CLARO SA              OI        1   \n",
      "freq         504075   549038   268530          24925           23094  1544253   \n",
      "\n",
      "            NumeroCNPJ RadicalCNPJ           RazaoSocialRFB NomeFantasiaRFB  \\\n",
      "count          1482151     1480733                  1461492          698475   \n",
      "unique          110707       87816                    80995           50377   \n",
      "top     33000118000179    33000118  TELEMAR NORTE LESTE S/A              OI   \n",
      "freq             20683       35517                    35584           70973   \n",
      "\n",
      "       CNAEPrincipal                         DescCNAEPrincipal Atendida  \\\n",
      "count        1457775                                   1441420  1547972   \n",
      "unique          1007                                       983        2   \n",
      "top          6422100  BANCOS MÚLTIPLOS, COM CARTEIRA COMERCIAL        S   \n",
      "freq          146177                                    146177   969350   \n",
      "\n",
      "       CodigoAssunto                                     DescricaoAssunto  \\\n",
      "count        1547972                                              1547972   \n",
      "unique           242                                                  223   \n",
      "top              101  Telefone ( Convencional, Celular, Interfone, Etc. )   \n",
      "freq          183492                                               183492   \n",
      "\n",
      "       CodigoProblema  DescricaoProblema SexoConsumidor FaixaEtariaConsumidor  \\\n",
      "count         1503022            1503022        1546999               1547972   \n",
      "unique           2126                225              3                     9   \n",
      "top               105  Produto com vício              F    entre 31 a 40 anos   \n",
      "freq           280866             241909         817948                359060   \n",
      "\n",
      "       CEPConsumidor  \n",
      "count        1547972  \n",
      "unique        289599  \n",
      "top         65000000  \n",
      "freq            7734  \n"
     ]
    }
   ],
   "source": [
    "view_df_stats(df3)"
   ],
   "metadata": {
    "collapsed": false,
    "pycharm": {
     "name": "#%%\n"
    }
   }
  },
  {
   "cell_type": "code",
   "execution_count": 33,
   "outputs": [
    {
     "data": {
      "text/plain": "array(['BOA FORMA MOVEIS', 'ELETRÔNICA AMAPÁ', 'SONOREM', ..., 'MASTER',\n       'ALEXANDRE PEDREIRO', 'JEAN CARLOS'], dtype=object)"
     },
     "execution_count": 33,
     "metadata": {},
     "output_type": "execute_result"
    }
   ],
   "source": [
    "df3[df3['NumeroCNPJ'].isnull()]['strRazaoSocial'].unique()"
   ],
   "metadata": {
    "collapsed": false,
    "pycharm": {
     "name": "#%%\n"
    }
   }
  },
  {
   "cell_type": "code",
   "execution_count": 34,
   "outputs": [],
   "source": [
    "with open('razao_social_sem_cnpj.txt', 'w', encoding='UTF-8') as f:\n",
    "    for item in df3[df3['NumeroCNPJ'].isnull()]['strRazaoSocial'].unique():\n",
    "        f.write(\"%s\\n\" % item)"
   ],
   "metadata": {
    "collapsed": false,
    "pycharm": {
     "name": "#%%\n"
    }
   }
  },
  {
   "cell_type": "markdown",
   "source": [
    "Plot Faixa etária por quantidade de reclamações.\n",
    "https://pandas.pydata.org/docs/reference/api/pandas.DataFrame.plot.bar.html"
   ],
   "metadata": {
    "collapsed": false,
    "pycharm": {
     "name": "#%% md\n"
    }
   }
  },
  {
   "cell_type": "code",
   "execution_count": 35,
   "outputs": [
    {
     "data": {
      "text/plain": "<AxesSubplot:>"
     },
     "execution_count": 35,
     "metadata": {},
     "output_type": "execute_result"
    },
    {
     "data": {
      "text/plain": "<Figure size 432x288 with 1 Axes>",
      "image/png": "[encoded data removed]"
     },
     "metadata": {
      "needs_background": "light"
     },
     "output_type": "display_data"
    }
   ],
   "source": [
    "from collections import Counter\n",
    "age_counter = Counter(df['FaixaEtariaConsumidor'])\n",
    "df = pd.DataFrame.from_dict(age_counter, orient='index')\n",
    "df.plot(kind='bar')\n"
   ],
   "metadata": {
    "collapsed": false,
    "pycharm": {
     "name": "#%%\n"
    }
   }
  },
  {
   "cell_type": "code",
   "execution_count": 36,
   "outputs": [],
   "source": [
    "# lines_per_file = 1500000\n",
    "# smallfile = None\n",
    "# with open('../data/cnpjs/empresa.csv', encoding='UTF-8') as bigfile:\n",
    "#     for lineno, line in enumerate(bigfile):\n",
    "#         if lineno % lines_per_file == 0:\n",
    "#             if smallfile:\n",
    "#                 smallfile.close()\n",
    "#             small_filename = '../data/cnpjs/empresa_{}.csv'.format(lineno + lines_per_file)\n",
    "#             smallfile = open(small_filename, \"w\")\n",
    "#         smallfile.write(line)\n",
    "#     if smallfile:\n",
    "#         smallfile.close()"
   ],
   "metadata": {
    "collapsed": false,
    "pycharm": {
     "name": "#%%\n"
    }
   }
  },
  {
   "cell_type": "code",
   "execution_count": 43,
   "outputs": [
    {
     "data": {
      "text/plain": "        indicador_full_diario tipo_atualizacao            cnpj  \\\n0                           F              NaN  00000000000191   \n1                           F              NaN  00000000000272   \n2                           F              NaN  00000000000353   \n3                           F              NaN  00000000000434   \n4                           F              NaN  00000000000515   \n...                       ...              ...             ...   \n1499994                     F              NaN  01408904000113   \n1499995                     F              NaN  01408906000102   \n1499996                     F              NaN  01408907000157   \n1499997                     F              NaN  01408908000100   \n1499998                     F              NaN  01408909000146   \n\n        identificador_matrizfilial  \\\n0                                1   \n1                                2   \n2                                2   \n3                                2   \n4                                2   \n...                            ...   \n1499994                          1   \n1499995                          1   \n1499996                          1   \n1499997                          1   \n1499998                          1   \n\n                                                                                razao_socialnome_empresarial  \\\n0                                                                                         BANCO DO BRASIL SA   \n1                                                                                         BANCO DO BRASIL SA   \n2                                                                                         BANCO DO BRASIL SA   \n3                                                                                         BANCO DO BRASIL SA   \n4                                                                                         BANCO DO BRASIL SA   \n...                                                                                                      ...   \n1499994                                                                                 MECANICA MAZA EIRELI   \n1499995                                                                           PARTIDO SOCIAL TRABALHISTA   \n1499996                                                                                          A R DE LIMA   \n1499997                                                        ANTONIO RODRIGUES PEREIRA PRESIDENTE PRUDENTE   \n1499998  COOPERATIVA DE TRANSPORTE COMPLEMENTAR ALTERNATIVO DE PASSAGEIROS, DE SANTA LUZIA E ADJACENCIA -...   \n\n                        nome_fantasia situacao_cadastral  \\\n0                       DIRECAO GERAL                  2   \n1                         MANAUS (AM)                  2   \n2        PRESIDENTE VARGAS BELEM (PA)                  2   \n3                SANTOS - SANTOS (SP)                  2   \n4                    CAMPOS EST.UNIF.                  2   \n...                               ...                ...   \n1499994                           NaN                  2   \n1499995                P S T - CALHAU                  8   \n1499996           PEIXADA DA MARINETE                  8   \n1499997                           NaN                  8   \n1499998                      COOVESAL                  2   \n\n        data_situacao_cadastral motivo_situacao_cadastral nm_cidade_exterior  \\\n0                    2005-11-03                         0                NaN   \n1                    2005-11-03                         0                NaN   \n2                    2005-11-03                         0                NaN   \n3                    2005-11-03                         0                NaN   \n4                    2005-11-03                         0                NaN   \n...                         ...                       ...                ...   \n1499994              2002-11-16                         0                NaN   \n1499995              2008-12-31                        71                NaN   \n1499996              2008-12-31                        71                NaN   \n1499997              1996-11-30                         1                NaN   \n1499998              2019-02-18                         0                NaN   \n\n        co_pais nm_pais codigo_natureza_juridica data_inicio_atividade  \\\n0           NaN     NaN                     2038            1966-08-01   \n1           NaN     NaN                     2038            1976-08-13   \n2           NaN     NaN                     2038            1966-08-01   \n3           NaN     NaN                     2038            1966-08-01   \n4           NaN     NaN                     2038            1966-08-01   \n...         ...     ...                      ...                   ...   \n1499994     NaN     NaN                     2305            1996-08-28   \n1499995     NaN     NaN                     3999            1996-09-05   \n1499996     NaN     NaN                     2135            1996-09-05   \n1499997     NaN     NaN                     2135            1996-08-07   \n1499998     NaN     NaN                     2143            1996-09-05   \n\n        cnae_fiscal descricao_tipo_logradouro  \\\n0           6422100                    QUADRA   \n1           6421200                       RUA   \n2           6422100                       NaN   \n3           6422100                       RUA   \n4           6421200                     PRACA   \n...             ...                       ...   \n1499994     2599399                       RUA   \n1499995     9492800                       RUA   \n1499996     5611201                       RUA   \n1499997     5611203                       RUA   \n1499998     4929902                   RODOVIA   \n\n                                      logradouro numero  \\\n0        SAUN QUADRA 5 LOTE B TORRES I, II E III     SN   \n1                              GUILHERME MOREIRA    315   \n2                         AVEN PRESIDENTE VARGAS    248   \n3                                 15 DE NOVEMBRO    195   \n4                                 DAS 4 JORNADAS     11   \n...                                          ...    ...   \n1499994                                APARECIDA    284   \n1499995                                DO MURICI     18   \n1499996                        CEL AVELINO CUNHA    100   \n1499997                                DR GURGEL    124   \n1499998                             BR 222 KM 47      0   \n\n                                                                                                 complemento  \\\n0        ANDAR 1 A 16              SALA  101 A 1601          ANDAR 1 A 16              SALA  101 A 1601  ...   \n1                                                                                                        NaN   \n2                                                                                                        NaN   \n3                                                                                                        NaN   \n4                                                                                                        NaN   \n...                                                                                                      ...   \n1499994                                                                                                  NaN   \n1499995                                                                                                 Q 10   \n1499996                                                                                                  NaN   \n1499997                                                                                                  NaN   \n1499998                                                                                                  NaN   \n\n               bairro       cep  uf codigo_municipio              municipio  \\\n0           ASA NORTE  70040912  DF             9701               BRASILIA   \n1              CENTRO  69005300  AM              255                 MANAUS   \n2            COMERCIO  66010900  PA              427                  BELEM   \n3              CENTRO  11010908  SP             7071                 SANTOS   \n4              CENTRO  28030002  RJ             5819  CAMPOS DOS GOYTACAZES   \n...               ...       ...  ..              ...                    ...   \n1499994     BOA VISTA   9572210  SP             7077     SAO CAETANO DO SUL   \n1499995        CALHAU  65099110  MA              921               SAO LUIS   \n1499996        CENTRO  57945000  AL             2847        PORTO DE PEDRAS   \n1499997        CENTRO  19010020  SP             6929    PRESIDENTE PRUDENTE   \n1499998  RODOVIARINHA  65390000  MA              897            SANTA LUZIA   \n\n        ddd_telefone_1 ddd_telefone_2       ddd_fax  \\\n0         61  34939002            NaN  61  34931040   \n1                  NaN            NaN           NaN   \n2                  NaN            NaN           NaN   \n3                  NaN            NaN           NaN   \n4                  NaN            NaN           NaN   \n...                ...            ...           ...   \n1499994            NaN            NaN           NaN   \n1499995            NaN            NaN           NaN   \n1499996            NaN            NaN           NaN   \n1499997            NaN            NaN           NaN   \n1499998   98  36546817   98  81845817           NaN   \n\n                correio_eletronico qualificacao_do_responsavel  \\\n0                  SECEX@BB.COM.BR                          10   \n1                              NaN                          10   \n2                              NaN                          10   \n3                              NaN                          10   \n4                              NaN                          10   \n...                            ...                         ...   \n1499994                        NaN                          65   \n1499995                        NaN                          16   \n1499996                        NaN                          50   \n1499997                        NaN                          50   \n1499998  COOVESAL_2020@OUTLOOK.COM                          16   \n\n        capital_social_da_empresa porte_empresa opcao_pelo_simples  \\\n0                   6000000000000            05                  0   \n1                               0            05                  0   \n2                               0            05                  0   \n3                               0            05                  0   \n4                               0            05                  0   \n...                           ...           ...                ...   \n1499994                   9540000            01                  7   \n1499995                         0            05                  0   \n1499996                         0            05                  0   \n1499997                         0            05                  0   \n1499998                  15000000            05                  0   \n\n        data_opcao_pelo_simples data_exclusao_do_simples opcao_pelo_mei  \\\n0                    0000-00-00               0000-00-00              N   \n1                    0000-00-00               0000-00-00            NaN   \n2                    0000-00-00               0000-00-00            NaN   \n3                    0000-00-00               0000-00-00            NaN   \n4                    0000-00-00               0000-00-00            NaN   \n...                         ...                      ...            ...   \n1499994              2007-07-01               0000-00-00              N   \n1499995              0000-00-00               0000-00-00              N   \n1499996              0000-00-00               0000-00-00              N   \n1499997              0000-00-00               0000-00-00              N   \n1499998              0000-00-00               0000-00-00              N   \n\n        situacao_especial data_situacao_especial  \n0                     NaN                    NaN  \n1                     NaN             0000-00-00  \n2                     NaN             0000-00-00  \n3                     NaN             0000-00-00  \n4                     NaN             0000-00-00  \n...                   ...                    ...  \n1499994               NaN                    NaN  \n1499995               NaN                    NaN  \n1499996               NaN                    NaN  \n1499997               NaN                    NaN  \n1499998               NaN                    NaN  \n\n[1499999 rows x 37 columns]",
      "text/html": "<div>\n<style scoped>\n    .dataframe tbody tr th:only-of-type {\n        vertical-align: middle;\n    }\n\n    .dataframe tbody tr th {\n        vertical-align: top;\n    }\n\n    .dataframe thead th {\n        text-align: right;\n    }\n</style>\n<table border=\"1\" class=\"dataframe\">\n  <thead>\n    <tr style=\"text-align: right;\">\n      <th></th>\n      <th>indicador_full_diario</th>\n      <th>tipo_atualizacao</th>\n      <th>cnpj</th>\n      <th>identificador_matrizfilial</th>\n      <th>razao_socialnome_empresarial</th>\n      <th>nome_fantasia</th>\n      <th>situacao_cadastral</th>\n      <th>data_situacao_cadastral</th>\n      <th>motivo_situacao_cadastral</th>\n      <th>nm_cidade_exterior</th>\n      <th>co_pais</th>\n      <th>nm_pais</th>\n      <th>codigo_natureza_juridica</th>\n      <th>data_inicio_atividade</th>\n      <th>cnae_fiscal</th>\n      <th>descricao_tipo_logradouro</th>\n      <th>logradouro</th>\n      <th>numero</th>\n      <th>complemento</th>\n      <th>bairro</th>\n      <th>cep</th>\n      <th>uf</th>\n      <th>codigo_municipio</th>\n      <th>municipio</th>\n      <th>ddd_telefone_1</th>\n      <th>ddd_telefone_2</th>\n      <th>ddd_fax</th>\n      <th>correio_eletronico</th>\n      <th>qualificacao_do_responsavel</th>\n      <th>capital_social_da_empresa</th>\n      <th>porte_empresa</th>\n      <th>opcao_pelo_simples</th>\n      <th>data_opcao_pelo_simples</th>\n      <th>data_exclusao_do_simples</th>\n      <th>opcao_pelo_mei</th>\n      <th>situacao_especial</th>\n      <th>data_situacao_especial</th>\n    </tr>\n  </thead>\n  <tbody>\n    <tr>\n      <th>0</th>\n      <td>F</td>\n      <td>NaN</td>\n      <td>00000000000191</td>\n      <td>1</td>\n      <td>BANCO DO BRASIL SA</td>\n      <td>DIRECAO GERAL</td>\n      <td>2</td>\n      <td>2005-11-03</td>\n      <td>0</td>\n      <td>NaN</td>\n      <td>NaN</td>\n      <td>NaN</td>\n      <td>2038</td>\n      <td>1966-08-01</td>\n      <td>6422100</td>\n      <td>QUADRA</td>\n      <td>SAUN QUADRA 5 LOTE B TORRES I, II E III</td>\n      <td>SN</td>\n      <td>ANDAR 1 A 16              SALA  101 A 1601          ANDAR 1 A 16              SALA  101 A 1601  ...</td>\n      <td>ASA NORTE</td>\n      <td>70040912</td>\n      <td>DF</td>\n      <td>9701</td>\n      <td>BRASILIA</td>\n      <td>61  34939002</td>\n      <td>NaN</td>\n      <td>61  34931040</td>\n      <td>SECEX@BB.COM.BR</td>\n      <td>10</td>\n      <td>6000000000000</td>\n      <td>05</td>\n      <td>0</td>\n      <td>0000-00-00</td>\n      <td>0000-00-00</td>\n      <td>N</td>\n      <td>NaN</td>\n      <td>NaN</td>\n    </tr>\n    <tr>\n      <th>1</th>\n      <td>F</td>\n      <td>NaN</td>\n      <td>00000000000272</td>\n      <td>2</td>\n      <td>BANCO DO BRASIL SA</td>\n      <td>MANAUS (AM)</td>\n      <td>2</td>\n      <td>2005-11-03</td>\n      <td>0</td>\n      <td>NaN</td>\n      <td>NaN</td>\n      <td>NaN</td>\n      <td>2038</td>\n      <td>1976-08-13</td>\n      <td>6421200</td>\n      <td>RUA</td>\n      <td>GUILHERME MOREIRA</td>\n      <td>315</td>\n      <td>NaN</td>\n      <td>CENTRO</td>\n      <td>69005300</td>\n      <td>AM</td>\n      <td>255</td>\n      <td>MANAUS</td>\n      <td>NaN</td>\n      <td>NaN</td>\n      <td>NaN</td>\n      <td>NaN</td>\n      <td>10</td>\n      <td>0</td>\n      <td>05</td>\n      <td>0</td>\n      <td>0000-00-00</td>\n      <td>0000-00-00</td>\n      <td>NaN</td>\n      <td>NaN</td>\n      <td>0000-00-00</td>\n    </tr>\n    <tr>\n      <th>2</th>\n      <td>F</td>\n      <td>NaN</td>\n      <td>00000000000353</td>\n      <td>2</td>\n      <td>BANCO DO BRASIL SA</td>\n      <td>PRESIDENTE VARGAS BELEM (PA)</td>\n      <td>2</td>\n      <td>2005-11-03</td>\n      <td>0</td>\n      <td>NaN</td>\n      <td>NaN</td>\n      <td>NaN</td>\n      <td>2038</td>\n      <td>1966-08-01</td>\n      <td>6422100</td>\n      <td>NaN</td>\n      <td>AVEN PRESIDENTE VARGAS</td>\n      <td>248</td>\n      <td>NaN</td>\n      <td>COMERCIO</td>\n      <td>66010900</td>\n      <td>PA</td>\n      <td>427</td>\n      <td>BELEM</td>\n      <td>NaN</td>\n      <td>NaN</td>\n      <td>NaN</td>\n      <td>NaN</td>\n      <td>10</td>\n      <td>0</td>\n      <td>05</td>\n      <td>0</td>\n      <td>0000-00-00</td>\n      <td>0000-00-00</td>\n      <td>NaN</td>\n      <td>NaN</td>\n      <td>0000-00-00</td>\n    </tr>\n    <tr>\n      <th>3</th>\n      <td>F</td>\n      <td>NaN</td>\n      <td>00000000000434</td>\n      <td>2</td>\n      <td>BANCO DO BRASIL SA</td>\n      <td>SANTOS - SANTOS (SP)</td>\n      <td>2</td>\n      <td>2005-11-03</td>\n      <td>0</td>\n      <td>NaN</td>\n      <td>NaN</td>\n      <td>NaN</td>\n      <td>2038</td>\n      <td>1966-08-01</td>\n      <td>6422100</td>\n      <td>RUA</td>\n      <td>15 DE NOVEMBRO</td>\n      <td>195</td>\n      <td>NaN</td>\n      <td>CENTRO</td>\n      <td>11010908</td>\n      <td>SP</td>\n      <td>7071</td>\n      <td>SANTOS</td>\n      <td>NaN</td>\n      <td>NaN</td>\n      <td>NaN</td>\n      <td>NaN</td>\n      <td>10</td>\n      <td>0</td>\n      <td>05</td>\n      <td>0</td>\n      <td>0000-00-00</td>\n      <td>0000-00-00</td>\n      <td>NaN</td>\n      <td>NaN</td>\n      <td>0000-00-00</td>\n    </tr>\n    <tr>\n      <th>4</th>\n      <td>F</td>\n      <td>NaN</td>\n      <td>00000000000515</td>\n      <td>2</td>\n      <td>BANCO DO BRASIL SA</td>\n      <td>CAMPOS EST.UNIF.</td>\n      <td>2</td>\n      <td>2005-11-03</td>\n      <td>0</td>\n      <td>NaN</td>\n      <td>NaN</td>\n      <td>NaN</td>\n      <td>2038</td>\n      <td>1966-08-01</td>\n      <td>6421200</td>\n      <td>PRACA</td>\n      <td>DAS 4 JORNADAS</td>\n      <td>11</td>\n      <td>NaN</td>\n      <td>CENTRO</td>\n      <td>28030002</td>\n      <td>RJ</td>\n      <td>5819</td>\n      <td>CAMPOS DOS GOYTACAZES</td>\n      <td>NaN</td>\n      <td>NaN</td>\n      <td>NaN</td>\n      <td>NaN</td>\n      <td>10</td>\n      <td>0</td>\n      <td>05</td>\n      <td>0</td>\n      <td>0000-00-00</td>\n      <td>0000-00-00</td>\n      <td>NaN</td>\n      <td>NaN</td>\n      <td>0000-00-00</td>\n    </tr>\n    <tr>\n      <th>...</th>\n      <td>...</td>\n      <td>...</td>\n      <td>...</td>\n      <td>...</td>\n      <td>...</td>\n      <td>...</td>\n      <td>...</td>\n      <td>...</td>\n      <td>...</td>\n      <td>...</td>\n      <td>...</td>\n      <td>...</td>\n      <td>...</td>\n      <td>...</td>\n      <td>...</td>\n      <td>...</td>\n      <td>...</td>\n      <td>...</td>\n      <td>...</td>\n      <td>...</td>\n      <td>...</td>\n      <td>...</td>\n      <td>...</td>\n      <td>...</td>\n      <td>...</td>\n      <td>...</td>\n      <td>...</td>\n      <td>...</td>\n      <td>...</td>\n      <td>...</td>\n      <td>...</td>\n      <td>...</td>\n      <td>...</td>\n      <td>...</td>\n      <td>...</td>\n      <td>...</td>\n      <td>...</td>\n    </tr>\n    <tr>\n      <th>1499994</th>\n      <td>F</td>\n      <td>NaN</td>\n      <td>01408904000113</td>\n      <td>1</td>\n      <td>MECANICA MAZA EIRELI</td>\n      <td>NaN</td>\n      <td>2</td>\n      <td>2002-11-16</td>\n      <td>0</td>\n      <td>NaN</td>\n      <td>NaN</td>\n      <td>NaN</td>\n      <td>2305</td>\n      <td>1996-08-28</td>\n      <td>2599399</td>\n      <td>RUA</td>\n      <td>APARECIDA</td>\n      <td>284</td>\n      <td>NaN</td>\n      <td>BOA VISTA</td>\n      <td>9572210</td>\n      <td>SP</td>\n      <td>7077</td>\n      <td>SAO CAETANO DO SUL</td>\n      <td>NaN</td>\n      <td>NaN</td>\n      <td>NaN</td>\n      <td>NaN</td>\n      <td>65</td>\n      <td>9540000</td>\n      <td>01</td>\n      <td>7</td>\n      <td>2007-07-01</td>\n      <td>0000-00-00</td>\n      <td>N</td>\n      <td>NaN</td>\n      <td>NaN</td>\n    </tr>\n    <tr>\n      <th>1499995</th>\n      <td>F</td>\n      <td>NaN</td>\n      <td>01408906000102</td>\n      <td>1</td>\n      <td>PARTIDO SOCIAL TRABALHISTA</td>\n      <td>P S T - CALHAU</td>\n      <td>8</td>\n      <td>2008-12-31</td>\n      <td>71</td>\n      <td>NaN</td>\n      <td>NaN</td>\n      <td>NaN</td>\n      <td>3999</td>\n      <td>1996-09-05</td>\n      <td>9492800</td>\n      <td>RUA</td>\n      <td>DO MURICI</td>\n      <td>18</td>\n      <td>Q 10</td>\n      <td>CALHAU</td>\n      <td>65099110</td>\n      <td>MA</td>\n      <td>921</td>\n      <td>SAO LUIS</td>\n      <td>NaN</td>\n      <td>NaN</td>\n      <td>NaN</td>\n      <td>NaN</td>\n      <td>16</td>\n      <td>0</td>\n      <td>05</td>\n      <td>0</td>\n      <td>0000-00-00</td>\n      <td>0000-00-00</td>\n      <td>N</td>\n      <td>NaN</td>\n      <td>NaN</td>\n    </tr>\n    <tr>\n      <th>1499996</th>\n      <td>F</td>\n      <td>NaN</td>\n      <td>01408907000157</td>\n      <td>1</td>\n      <td>A R DE LIMA</td>\n      <td>PEIXADA DA MARINETE</td>\n      <td>8</td>\n      <td>2008-12-31</td>\n      <td>71</td>\n      <td>NaN</td>\n      <td>NaN</td>\n      <td>NaN</td>\n      <td>2135</td>\n      <td>1996-09-05</td>\n      <td>5611201</td>\n      <td>RUA</td>\n      <td>CEL AVELINO CUNHA</td>\n      <td>100</td>\n      <td>NaN</td>\n      <td>CENTRO</td>\n      <td>57945000</td>\n      <td>AL</td>\n      <td>2847</td>\n      <td>PORTO DE PEDRAS</td>\n      <td>NaN</td>\n      <td>NaN</td>\n      <td>NaN</td>\n      <td>NaN</td>\n      <td>50</td>\n      <td>0</td>\n      <td>05</td>\n      <td>0</td>\n      <td>0000-00-00</td>\n      <td>0000-00-00</td>\n      <td>N</td>\n      <td>NaN</td>\n      <td>NaN</td>\n    </tr>\n    <tr>\n      <th>1499997</th>\n      <td>F</td>\n      <td>NaN</td>\n      <td>01408908000100</td>\n      <td>1</td>\n      <td>ANTONIO RODRIGUES PEREIRA PRESIDENTE PRUDENTE</td>\n      <td>NaN</td>\n      <td>8</td>\n      <td>1996-11-30</td>\n      <td>1</td>\n      <td>NaN</td>\n      <td>NaN</td>\n      <td>NaN</td>\n      <td>2135</td>\n      <td>1996-08-07</td>\n      <td>5611203</td>\n      <td>RUA</td>\n      <td>DR GURGEL</td>\n      <td>124</td>\n      <td>NaN</td>\n      <td>CENTRO</td>\n      <td>19010020</td>\n      <td>SP</td>\n      <td>6929</td>\n      <td>PRESIDENTE PRUDENTE</td>\n      <td>NaN</td>\n      <td>NaN</td>\n      <td>NaN</td>\n      <td>NaN</td>\n      <td>50</td>\n      <td>0</td>\n      <td>05</td>\n      <td>0</td>\n      <td>0000-00-00</td>\n      <td>0000-00-00</td>\n      <td>N</td>\n      <td>NaN</td>\n      <td>NaN</td>\n    </tr>\n    <tr>\n      <th>1499998</th>\n      <td>F</td>\n      <td>NaN</td>\n      <td>01408909000146</td>\n      <td>1</td>\n      <td>COOPERATIVA DE TRANSPORTE COMPLEMENTAR ALTERNATIVO DE PASSAGEIROS, DE SANTA LUZIA E ADJACENCIA -...</td>\n      <td>COOVESAL</td>\n      <td>2</td>\n      <td>2019-02-18</td>\n      <td>0</td>\n      <td>NaN</td>\n      <td>NaN</td>\n      <td>NaN</td>\n      <td>2143</td>\n      <td>1996-09-05</td>\n      <td>4929902</td>\n      <td>RODOVIA</td>\n      <td>BR 222 KM 47</td>\n      <td>0</td>\n      <td>NaN</td>\n      <td>RODOVIARINHA</td>\n      <td>65390000</td>\n      <td>MA</td>\n      <td>897</td>\n      <td>SANTA LUZIA</td>\n      <td>98  36546817</td>\n      <td>98  81845817</td>\n      <td>NaN</td>\n      <td>COOVESAL_2020@OUTLOOK.COM</td>\n      <td>16</td>\n      <td>15000000</td>\n      <td>05</td>\n      <td>0</td>\n      <td>0000-00-00</td>\n      <td>0000-00-00</td>\n      <td>N</td>\n      <td>NaN</td>\n      <td>NaN</td>\n    </tr>\n  </tbody>\n</table>\n<p>1499999 rows × 37 columns</p>\n</div>"
     },
     "execution_count": 43,
     "metadata": {},
     "output_type": "execute_result"
    }
   ],
   "source": [
    "empresas = pd.read_csv(\"../data/cnpjs/empresa_1500000.csv\",header=0,delimiter=\",\", dtype=\"str\")"
   ],
   "metadata": {
    "collapsed": false,
    "pycharm": {
     "name": "#%%\n"
    }
   }
  },
  {
   "cell_type": "code",
   "execution_count": 45,
   "outputs": [
    {
     "data": {
      "text/plain": "0    BANCO DO BRASIL SA\n1    BANCO DO BRASIL SA\n2    BANCO DO BRASIL SA\n3    BANCO DO BRASIL SA\n4    BANCO DO BRASIL SA\nName: razao_socialnome_empresarial, dtype: object"
     },
     "execution_count": 45,
     "metadata": {},
     "output_type": "execute_result"
    }
   ],
   "source": [
    "empresas['razao_socialnome_empresarial']"
   ],
   "metadata": {
    "collapsed": false,
    "pycharm": {
     "name": "#%%\n"
    }
   }
  },
  {
   "cell_type": "code",
   "execution_count": 46,
   "outputs": [
    {
     "data": {
      "text/plain": "0            CBP SUL  COLCHÕES E ESPUMAS INDUSTRIAIS LTDA\n1                                               GRADIENTE\n2                                      IGL INDÚSTRIA LTDA\n3                          UNILEVER BESTFOODS BRASIL LTDA\n4               EMPRESA BRASILEIRA DE TELECOMUNICAÇÕES SA\n                               ...                       \n39055                    BANCO LOSANGO SA  BANCO MULTIPLO\n39056         MERCADOLIVRECOM ATIVIDADES DE INTERNET LTDA\n39057                     ACBZ IMPORTACAO E COMERCIO LTDA\n39058                      NET SERVIÇOS DE COMUNICAÇÃO SA\n39059    CREFISA SA CREDITO FINANCIAMENTO E INVESTIMENTOS\nName: strRazaoSocial, Length: 1547972, dtype: object"
     },
     "execution_count": 46,
     "metadata": {},
     "output_type": "execute_result"
    }
   ],
   "source": [
    "mergedDf = pd.merge(df3,empresas, right_on='razao_socialnome_empresarial', left_on='strRazaoSocial')"
   ],
   "metadata": {
    "collapsed": false,
    "pycharm": {
     "name": "#%%\n"
    }
   }
  }
 ],
 "metadata": {
  "kernelspec": {
   "name": "python3",
   "language": "python",
   "display_name": "Python 3"
  },
  "language_info": {
   "codemirror_mode": {
    "name": "ipython",
    "version": 2
   },
   "file_extension": ".py",
   "mimetype": "text/x-python",
   "name": "python",
   "nbconvert_exporter": "python",
   "pygments_lexer": "ipython2",
   "version": "2.7.6"
  }
 },
 "nbformat": 4,
 "nbformat_minor": 0
}