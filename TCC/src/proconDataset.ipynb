{
 "cells": [
  {
   "cell_type": "code",
   "execution_count": 1,
   "metadata": {},
   "outputs": [],
   "source": [
    "import re\n",
    "\n",
    "import pandas as pd\n",
    "chars_to_remove = ['.', '-', '(', ')', '@', '/']\n",
    "regular_expression = '[' + re.escape (''. join (chars_to_remove)) + ']'\n",
    "pd.set_option('display.max_columns', None)\n",
    "pd.set_option(\"max_colwidth\", 100)"
   ]
  },
  {
   "cell_type": "markdown",
   "metadata": {},
   "source": [
    "Necessário excluir as 2 últimas linhas do arquivo para evitar 2 linhas nulas. das bases de 2009 até 2011.\n",
    "A base de 2018 possui algumas colunas 'nome fantasia' que possuem ';' como separador de empresas e que\n",
    "consequentemente atrapalham na leitura dos dados pois alteram a quantidade de colunas finais.\n",
    "Sendo necessário a modificação por linha manual (18 linhas no total)"
   ]
  },
  {
   "cell_type": "code",
   "execution_count": 2,
   "metadata": {
    "pycharm": {
     "name": "#%%\n"
    }
   },
   "outputs": [],
   "source": [
    "rec2009 = pd.read_csv(\"../data/reclamacoes-fundamentadas-sindec-2009.csv\",header=0,encoding=\"ISO-8859-9\",delimiter=\";\", dtype=\"str\")\n",
    "rec2010 = pd.read_csv(\"../data/reclamacoes-fundamentadas-sindec-2010.csv\",header=0,encoding=\"ISO-8859-9\",delimiter=\";\", dtype=\"str\")\n",
    "rec2011 = pd.read_csv(\"../data/reclamacoes-fundamentadas-sindec-2011.csv\",header=0,encoding=\"ISO-8859-9\",delimiter=\";\", dtype=\"str\")\n",
    "rec2012 = pd.read_csv(\"../data/reclamacoes-fundamentadas-sindec-2012.csv\",header=0,encoding=\"UTF-8\",delimiter=\";\", dtype=\"str\")\n",
    "rec2013 = pd.read_csv(\"../data/reclamacoes-fundamentadas-sindec-2013.csv\",header=0,encoding=\"UTF-8\",delimiter=\";\", dtype=\"str\")\n",
    "rec2014 = pd.read_csv(\"../data/reclamacoes-fundamentadas-sindec-2014.csv\",header=0,encoding=\"UTF-8\",delimiter=\";\", dtype=\"str\")\n",
    "rec2015 = pd.read_csv(\"../data/reclamacoes-fundamentadas-sindec-2015.csv\",header=0,encoding=\"UTF-8\",delimiter=\";\", dtype=\"str\")\n",
    "rec2016 = pd.read_csv(\"../data/reclamacoes-fundamentadas-sindec-2016_v2.csv\",header=0,encoding=\"UTF-8\",delimiter=\";\", dtype=\"str\")\n",
    "rec2017 = pd.read_csv(\"../data/CNRF_2017.csv\",header=0,encoding=\"UTF-8\",delimiter=\";\", dtype=\"str\")\n",
    "rec2018 = pd.read_csv(\"../data/CNRF2018.csv\",header=0,encoding=\"UTF-8\",delimiter=\";\", dtype=\"str\")"
   ]
  },
  {
   "cell_type": "code",
   "execution_count": 3,
   "metadata": {
    "pycharm": {
     "name": "#%%\n"
    }
   },
   "outputs": [],
   "source": [
    "rec2009 = rec2009.rename(columns={\n",
    "    \"anocalendario\": \"AnoCalendario\",\n",
    "    \"codigoregiao\": \"CodigoRegiao\",\n",
    "    \"regiao\": \"Regiao\",\n",
    "    \"radical\": \"RadicalCNPJ\"})\n"
   ]
  },
  {
   "cell_type": "code",
   "execution_count": 4,
   "metadata": {
    "pycharm": {
     "name": "#%%\n"
    }
   },
   "outputs": [],
   "source": [
    "rec2010 = rec2010.rename(columns={\n",
    "    \"anocalendario\": \"AnoCalendario\",\n",
    "    \"codigoregiao\": \"CodigoRegiao\",\n",
    "    \"regiao\": \"Regiao\",\n",
    "    \"radicalCNPJ\": \"RadicalCNPJ\"})"
   ]
  },
  {
   "cell_type": "code",
   "execution_count": 5,
   "metadata": {
    "pycharm": {
     "name": "#%%\n"
    }
   },
   "outputs": [],
   "source": [
    "rec2011 = rec2011.rename(columns={\n",
    "    \"anocalendario\": \"AnoCalendario\",\n",
    "    \"codigoregiao\": \"CodigoRegiao\",\n",
    "    \"regiao\": \"Regiao\",\n",
    "    \"radicalCNPJ\": \"RadicalCNPJ\"})"
   ]
  },
  {
   "cell_type": "code",
   "execution_count": 6,
   "metadata": {
    "pycharm": {
     "name": "#%%\n"
    }
   },
   "outputs": [
    {
     "data": {
      "text/plain": "Index(['AnoCalendario', 'DataArquivamento', 'DataAbertura', 'CodigoRegiao',\n       'Regiao', 'UF', 'strRazaoSocial', 'strNomeFantasia', 'Tipo',\n       'NumeroCNPJ', 'RadicalCNPJ', 'RazaoSocialRFB', 'NomeFantasiaRFB',\n       'CNAEPrincipal', 'DescCNAEPrincipal', 'Atendida', 'CodigoAssunto',\n       'DescricaoAssunto', 'CodigoProblema', 'DescricaoProblema',\n       'SexoConsumidor', 'FaixaEtariaConsumidor', 'CEPConsumidor'],\n      dtype='object')"
     },
     "execution_count": 6,
     "metadata": {},
     "output_type": "execute_result"
    }
   ],
   "source": [
    "rec2012.columns"
   ]
  },
  {
   "cell_type": "code",
   "execution_count": 7,
   "metadata": {
    "pycharm": {
     "name": "#%%\n"
    }
   },
   "outputs": [
    {
     "data": {
      "text/plain": "Index(['AnoCalendario', 'DataArquivamento', 'DataAbertura', 'CodigoRegiao',\n       'Regiao', 'UF', 'strRazaoSocial', 'strNomeFantasia', 'Tipo',\n       'NumeroCNPJ', 'RadicalCNPJ', 'RazaoSocialRFB', 'NomeFantasiaRFB',\n       'CNAEPrincipal', 'DescCNAEPrincipal', 'Atendida', 'CodigoAssunto',\n       'DescricaoAssunto', 'CodigoProblema', 'DescricaoProblema',\n       'SexoConsumidor', 'FaixaEtariaConsumidor', 'CEPConsumidor'],\n      dtype='object')"
     },
     "execution_count": 7,
     "metadata": {},
     "output_type": "execute_result"
    }
   ],
   "source": [
    "rec2013.columns"
   ]
  },
  {
   "cell_type": "code",
   "execution_count": 8,
   "metadata": {
    "pycharm": {
     "name": "#%%\n"
    }
   },
   "outputs": [
    {
     "data": {
      "text/plain": "Index(['AnoCalendario', 'DataArquivamento', 'DataAbertura', 'CodigoRegiao',\n       'Regiao', 'UF', 'strRazaoSocial', 'strNomeFantasia', 'Tipo',\n       'NumeroCNPJ', 'RadicalCNPJ', 'RazaoSocialRFB', 'NomeFantasiaRFB',\n       'CNAEPrincipal', 'DescCNAEPrincipal', 'Atendida', 'CodigoAssunto',\n       'DescricaoAssunto', 'CodigoProblema', 'DescricaoProblema',\n       'SexoConsumidor', 'FaixaEtariaConsumidor', 'CEPConsumidor'],\n      dtype='object')"
     },
     "execution_count": 8,
     "metadata": {},
     "output_type": "execute_result"
    }
   ],
   "source": [
    "rec2014.columns"
   ]
  },
  {
   "cell_type": "code",
   "execution_count": 9,
   "metadata": {
    "pycharm": {
     "name": "#%%\n"
    }
   },
   "outputs": [
    {
     "data": {
      "text/plain": "Index(['AnoCalendario', 'DataArquivamento', 'DataAbertura', 'CodigoRegiao',\n       'Regiao', 'UF', 'strRazaoSocial', 'strNomeFantasia', 'Tipo',\n       'NumeroCNPJ', 'RadicalCNPJ', 'RazaoSocialRFB', 'NomeFantasiaRFB',\n       'CNAEPrincipal', 'DescCNAEPrincipal', 'Atendida', 'CodigoAssunto',\n       'DescricaoAssunto', 'CodigoProblema', 'DescricaoProblema',\n       'SexoConsumidor', 'FaixaEtariaConsumidor', 'CEPConsumidor'],\n      dtype='object')"
     },
     "execution_count": 9,
     "metadata": {},
     "output_type": "execute_result"
    }
   ],
   "source": [
    "rec2015.columns"
   ]
  },
  {
   "cell_type": "code",
   "execution_count": 10,
   "metadata": {
    "pycharm": {
     "name": "#%%\n"
    }
   },
   "outputs": [
    {
     "data": {
      "text/plain": "Index(['AnoCalendario', 'DataArquivamento', 'DataAbertura', 'CodigoRegiao',\n       'Regiao', 'UF', 'strRazaoSocial', 'strNomeFantasia', 'Tipo',\n       'NumeroCNPJ', 'RadicalCNPJ', 'RazaoSocialRFB', 'NomeFantasiaRFB',\n       'CNAEPrincipal', 'DescCNAEPrincipal', 'Atendida', 'CodigoAssunto',\n       'DescricaoAssunto', 'CodigoProblema', 'DescricaoProblema',\n       'SexoConsumidor', 'FaixaEtariaConsumidor', 'CEPConsumidor'],\n      dtype='object')"
     },
     "execution_count": 10,
     "metadata": {},
     "output_type": "execute_result"
    }
   ],
   "source": [
    "rec2016.columns"
   ]
  },
  {
   "cell_type": "code",
   "execution_count": 11,
   "metadata": {
    "pycharm": {
     "name": "#%%\n"
    }
   },
   "outputs": [
    {
     "data": {
      "text/plain": "Index(['AnoCalendario', 'DataArquivamento', 'DataAbertura', 'CodigoRegiao',\n       'Regiao', 'UF', 'strRazaoSocial', 'strNomeFantasia', 'Tipo',\n       'NumeroCNPJ', 'RadicalCNPJ', 'RazaoSocialRFB', 'NomeFantasiaRFB',\n       'CNAEPrincipal', 'DescCNAEPrincipal', 'Atendida', 'CodigoAssunto',\n       'DescricaoAssunto', 'CodigoProblema', 'DescricaoProblema',\n       'SexoConsumidor', 'FaixaEtariaConsumidor', 'CEPConsumidor'],\n      dtype='object')"
     },
     "execution_count": 11,
     "metadata": {},
     "output_type": "execute_result"
    }
   ],
   "source": [
    "rec2017.columns"
   ]
  },
  {
   "cell_type": "code",
   "execution_count": 12,
   "metadata": {
    "pycharm": {
     "name": "#%%\n"
    }
   },
   "outputs": [
    {
     "data": {
      "text/plain": "Index(['AnoCalendario', 'DataArquivamento', 'DataAbertura', 'CodigoRegiao',\n       'Regiao', 'UF', 'strRazaoSocial', 'strNomeFantasia', 'Tipo',\n       'NumeroCNPJ', 'RadicalCNPJ', 'RazaoSocialRFB', 'NomeFantasiaRFB',\n       'CNAEPrincipal', 'DescCNAEPrincipal', 'Atendida', 'CodigoAssunto',\n       'DescricaoAssunto', 'CodigoProblema', 'DescricaoProblema',\n       'SexoConsumidor', 'FaixaEtariaConsumidor', 'CEPConsumidor'],\n      dtype='object')"
     },
     "execution_count": 12,
     "metadata": {},
     "output_type": "execute_result"
    }
   ],
   "source": [
    "rec2018.columns"
   ]
  },
  {
   "cell_type": "code",
   "execution_count": 13,
   "metadata": {
    "pycharm": {
     "name": "#%%\n"
    }
   },
   "outputs": [],
   "source": [
    "frames = [rec2009,rec2010,rec2011,rec2012,rec2013,rec2014,rec2015,rec2016,rec2017,rec2018]"
   ]
  },
  {
   "cell_type": "code",
   "execution_count": 14,
   "metadata": {
    "pycharm": {
     "name": "#%%\n"
    }
   },
   "outputs": [],
   "source": [
    "df = pd.concat(frames)\n"
   ]
  },
  {
   "cell_type": "markdown",
   "metadata": {
    "pycharm": {
     "name": "#%% md\n"
    }
   },
   "source": [
    "A união de todas as tabelas deu 1.668.061 linhas com 23 colunas.\n"
   ]
  },
  {
   "cell_type": "code",
   "execution_count": 15,
   "metadata": {
    "pycharm": {
     "name": "#%%\n"
    }
   },
   "outputs": [
    {
     "data": {
      "text/plain": "      AnoCalendario         DataArquivamento             DataAbertura  \\\n0              2009  2009-01-21 15:29:29.000  2005-07-06 08:32:23.000   \n1              2009  2009-05-12 12:05:08.000  2006-01-17 12:10:53.000   \n2              2009  2009-04-23 08:52:31.000  2005-07-06 11:28:47.000   \n3              2009  2009-04-23 08:52:31.000  2005-07-06 11:28:47.000   \n4              2009  2009-07-23 11:57:40.000  2006-01-18 15:35:29.000   \n...             ...                      ...                      ...   \n39055          2018  2018-05-29 14:19:32.000  2017-01-30 14:46:11.000   \n39056          2018  2018-06-06 13:38:04.000  2018-04-09 08:39:46.000   \n39057          2018  2018-03-23 14:45:20.000  2018-02-23 16:37:15.000   \n39058          2018  2018-04-09 11:41:30.000  2018-02-27 11:40:27.000   \n39059          2018  2018-05-24 14:24:46.000  2018-03-07 13:17:07.000   \n\n      CodigoRegiao        Regiao  UF  \\\n0                5  Centro-oeste  GO   \n1                3       Sudeste  RJ   \n2                5  Centro-oeste  GO   \n3                5  Centro-oeste  GO   \n4                3       Sudeste  RJ   \n...            ...           ...  ..   \n39055            3       Sudeste  MG   \n39056            3       Sudeste  MG   \n39057            2      Nordeste  RN   \n39058            2      Nordeste  RN   \n39059            2      Nordeste  RN   \n\n                                           strRazaoSocial  \\\n0           CBP SUL - COLCHÕES E ESPUMAS INDUSTRIAIS LTDA   \n1                                               GRADIENTE   \n2                                      IGL INDÚSTRIA LTDA   \n3                          UNILEVER BESTFOODS BRASIL LTDA   \n4              EMPRESA BRASILEIRA DE TELECOMUNICAÇÕES S.A   \n...                                                   ...   \n39055                  BANCO LOSANGO S.A - BANCO MULTIPLO   \n39056        MERCADOLIVRE.COM ATIVIDADES DE INTERNET LTDA   \n39057                    ACBZ IMPORTACAO E COMERCIO LTDA.   \n39058                     NET SERVIÇOS DE COMUNICAÇÃO S/A   \n39059  CREFISA S.A. CREDITO FINANCIAMENTO E INVESTIMENTOS   \n\n                   strNomeFantasia Tipo      NumeroCNPJ radicalCNPJ  \\\n0                         LIMANSKY    1   1350934000116     1350934   \n1                              NaN    1  43185362001936    43185362   \n2      ELIDA PONDS INDUSTRIAL LTDA    1   3085759000102     3085759   \n3                         UNILEVER    1   1615814002066     1615814   \n4                 EMBRATEL - LIVRE    1  33530486000129    33530486   \n...                            ...  ...             ...         ...   \n39055                          NaN    1  33254319000100         NaN   \n39056                MERCADO LIVRE    1   3361252000134         NaN   \n39057               ASUS NO BRASIL    1   9509531000189         NaN   \n39058                          NET    1    108786018889         NaN   \n39059                  CREFISA S/A    1             NaN         NaN   \n\n                                            RazaoSocialRFB  \\\n0            CBP SUL - COLCHOES E ESPUMAS INDUSTRIAIS LTDA   \n1                                       IGB ELETRONICA S.A   \n2           UNILEVER BRASIL HIGIENE PESSOAL E LIMPEZA LTDA   \n3                          UNILEVER BRASIL INDUSTRIAL LTDA   \n4      EMPRESA BRASILEIRA DE TELECOMUNICACOES S A EMBRATEL   \n...                                                    ...   \n39055          HSBC FINANCE (BRASIL) S.A. - BANCO MULTIPLO   \n39056         MERCADOLIVRE.COM ATIVIDADES DE INTERNET LTDA   \n39057                     ACBZ IMPORTACAO E COMERCIO LTDA.   \n39058                      NET SERVICOS DE COMUNICACAO S/A   \n39059                                                  NaN   \n\n                    NomeFantasiaRFB CNAEPrincipal  \\\n0                               NaN       3104700   \n1                               NaN       2640000   \n2      ELIDA PONDS INDUSTRIAL LTDA.       2063100   \n3                               NaN       1031700   \n4                               NaN       6110899   \n...                             ...           ...   \n39055                           NaN       6431000   \n39056                           NaN       7490104   \n39057                           NaN       4651601   \n39058                           NaN       8299799   \n39059                           NaN           NaN   \n\n                                                                                        DescCNAEPrincipal  \\\n0                                                                                  FABRICAÇÃO DE COLCHÕES   \n1               FABRICAÇÃO DE APARELHOS DE RECEPÇÃO, REPRODUÇÃO, GRAVAÇÃO E AMPLIFICAÇÃO DE ÁUDIO E VÍDEO   \n2                                   FABRICAÇÃO DE COSMÉTICOS, PRODUTOS DE PERFUMARIA E DE HIGIENE PESSOAL   \n3                                                                       FABRICAÇÃO DE CONSERVAS DE FRUTAS   \n4                                    SERVIÇOS DE TELECOMUNICAÇÕES POR FIO NÃO ESPECIFICADOS ANTERIORMENTE   \n...                                                                                                   ...   \n39055                                                            BANCOS MÚLTIPLOS, SEM CARTEIRA COMERCIAL   \n39056     ATIVIDADES DE INTERMEDIAÇÃO E AGENCIAMENTO DE SERVIÇOS E NEGÓCIOS EM GERAL, EXCETO IMOBILIÁRIOS   \n39057                                                  COMÉRCIO ATACADISTA DE EQUIPAMENTOS DE INFORMÁTICA   \n39058  OUTRAS ATIVIDADES DE SERVIÇOS PRESTADOS PRINCIPALMENTE ÀS EMPRESAS NÃO ESPECIFICADAS ANTERIORMENTE   \n39059                                                                                                 NaN   \n\n      Atendida CodigoAssunto  \\\n0            S           100   \n1            N           146   \n2            N           224   \n3            N           224   \n4            S           186   \n...        ...           ...   \n39055        S            54   \n39056        S           106   \n39057        N           101   \n39058        S           186   \n39059        N            63   \n\n                                                           DescricaoAssunto  \\\n0                                                                   Colchão   \n1                                                              Aparelho DVD   \n2         Produto Para Uso Veterinário ( Medicamento / Sabonete / Shampoo )   \n3         Produto Para Uso Veterinário ( Medicamento / Sabonete / Shampoo )   \n4           Telefonia Fixa ( Plano de Expansão / Compra e Venda / Locação )   \n...                                                                     ...   \n39055                                                     Cartão de Crédito   \n39056  Artigo de Leitura ( Formal, Jornal, Revista, Folheto, Livros, Etc. )   \n39057                   Telefone ( Convencional, Celular, Interfone, Etc. )   \n39058       Telefonia Fixa ( Plano de Expansão / Compra e Venda / Locação )   \n39059                                                            Financeira   \n\n      CodigoProblema                         DescricaoProblema SexoConsumidor  \\\n0                105       Produto entregue com danos/defeitos              M   \n1                107  Não entrega/demora na entrega do produto              F   \n2                177    Presença de sujidades/corpos estranhos              F   \n3                177    Presença de sujidades/corpos estranhos              F   \n4                143  Contrato - Rescisão/alteração unilateral              F   \n...              ...                                       ...            ...   \n39055            NaN                                       NaN              F   \n39056            NaN                                       NaN              F   \n39057            NaN                                       NaN              F   \n39058            NaN                                       NaN              F   \n39059            NaN                                       NaN              F   \n\n      FaixaEtariaConsumidor CEPConsumidor RadicalCNPJ  \n0        entre 61 a 70 anos      74680330         NaN  \n1        entre 51 a 60 anos      23510240         NaN  \n2        entre 21 a 30 anos      74775010         NaN  \n3        entre 21 a 30 anos      74775010         NaN  \n4        entre 41 a 50 anos      20710270         NaN  \n...                     ...           ...         ...  \n39055    entre 61 a 70 anos      35180144    33254319  \n39056           até 20 anos      90035030     3361252  \n39057    entre 21 a 30 anos      59115110     9509531  \n39058    entre 61 a 70 anos      59073101      108786  \n39059    entre 61 a 70 anos      59092390         NaN  \n\n[1668061 rows x 24 columns]",
      "text/html": "<div>\n<style scoped>\n    .dataframe tbody tr th:only-of-type {\n        vertical-align: middle;\n    }\n\n    .dataframe tbody tr th {\n        vertical-align: top;\n    }\n\n    .dataframe thead th {\n        text-align: right;\n    }\n</style>\n<table border=\"1\" class=\"dataframe\">\n  <thead>\n    <tr style=\"text-align: right;\">\n      <th></th>\n      <th>AnoCalendario</th>\n      <th>DataArquivamento</th>\n      <th>DataAbertura</th>\n      <th>CodigoRegiao</th>\n      <th>Regiao</th>\n      <th>UF</th>\n      <th>strRazaoSocial</th>\n      <th>strNomeFantasia</th>\n      <th>Tipo</th>\n      <th>NumeroCNPJ</th>\n      <th>radicalCNPJ</th>\n      <th>RazaoSocialRFB</th>\n      <th>NomeFantasiaRFB</th>\n      <th>CNAEPrincipal</th>\n      <th>DescCNAEPrincipal</th>\n      <th>Atendida</th>\n      <th>CodigoAssunto</th>\n      <th>DescricaoAssunto</th>\n      <th>CodigoProblema</th>\n      <th>DescricaoProblema</th>\n      <th>SexoConsumidor</th>\n      <th>FaixaEtariaConsumidor</th>\n      <th>CEPConsumidor</th>\n      <th>RadicalCNPJ</th>\n    </tr>\n  </thead>\n  <tbody>\n    <tr>\n      <th>0</th>\n      <td>2009</td>\n      <td>2009-01-21 15:29:29.000</td>\n      <td>2005-07-06 08:32:23.000</td>\n      <td>5</td>\n      <td>Centro-oeste</td>\n      <td>GO</td>\n      <td>CBP SUL - COLCHÕES E ESPUMAS INDUSTRIAIS LTDA</td>\n      <td>LIMANSKY</td>\n      <td>1</td>\n      <td>1350934000116</td>\n      <td>1350934</td>\n      <td>CBP SUL - COLCHOES E ESPUMAS INDUSTRIAIS LTDA</td>\n      <td>NaN</td>\n      <td>3104700</td>\n      <td>FABRICAÇÃO DE COLCHÕES</td>\n      <td>S</td>\n      <td>100</td>\n      <td>Colchão</td>\n      <td>105</td>\n      <td>Produto entregue com danos/defeitos</td>\n      <td>M</td>\n      <td>entre 61 a 70 anos</td>\n      <td>74680330</td>\n      <td>NaN</td>\n    </tr>\n    <tr>\n      <th>1</th>\n      <td>2009</td>\n      <td>2009-05-12 12:05:08.000</td>\n      <td>2006-01-17 12:10:53.000</td>\n      <td>3</td>\n      <td>Sudeste</td>\n      <td>RJ</td>\n      <td>GRADIENTE</td>\n      <td>NaN</td>\n      <td>1</td>\n      <td>43185362001936</td>\n      <td>43185362</td>\n      <td>IGB ELETRONICA S.A</td>\n      <td>NaN</td>\n      <td>2640000</td>\n      <td>FABRICAÇÃO DE APARELHOS DE RECEPÇÃO, REPRODUÇÃO, GRAVAÇÃO E AMPLIFICAÇÃO DE ÁUDIO E VÍDEO</td>\n      <td>N</td>\n      <td>146</td>\n      <td>Aparelho DVD</td>\n      <td>107</td>\n      <td>Não entrega/demora na entrega do produto</td>\n      <td>F</td>\n      <td>entre 51 a 60 anos</td>\n      <td>23510240</td>\n      <td>NaN</td>\n    </tr>\n    <tr>\n      <th>2</th>\n      <td>2009</td>\n      <td>2009-04-23 08:52:31.000</td>\n      <td>2005-07-06 11:28:47.000</td>\n      <td>5</td>\n      <td>Centro-oeste</td>\n      <td>GO</td>\n      <td>IGL INDÚSTRIA LTDA</td>\n      <td>ELIDA PONDS INDUSTRIAL LTDA</td>\n      <td>1</td>\n      <td>3085759000102</td>\n      <td>3085759</td>\n      <td>UNILEVER BRASIL HIGIENE PESSOAL E LIMPEZA LTDA</td>\n      <td>ELIDA PONDS INDUSTRIAL LTDA.</td>\n      <td>2063100</td>\n      <td>FABRICAÇÃO DE COSMÉTICOS, PRODUTOS DE PERFUMARIA E DE HIGIENE PESSOAL</td>\n      <td>N</td>\n      <td>224</td>\n      <td>Produto Para Uso Veterinário ( Medicamento / Sabonete / Shampoo )</td>\n      <td>177</td>\n      <td>Presença de sujidades/corpos estranhos</td>\n      <td>F</td>\n      <td>entre 21 a 30 anos</td>\n      <td>74775010</td>\n      <td>NaN</td>\n    </tr>\n    <tr>\n      <th>3</th>\n      <td>2009</td>\n      <td>2009-04-23 08:52:31.000</td>\n      <td>2005-07-06 11:28:47.000</td>\n      <td>5</td>\n      <td>Centro-oeste</td>\n      <td>GO</td>\n      <td>UNILEVER BESTFOODS BRASIL LTDA</td>\n      <td>UNILEVER</td>\n      <td>1</td>\n      <td>1615814002066</td>\n      <td>1615814</td>\n      <td>UNILEVER BRASIL INDUSTRIAL LTDA</td>\n      <td>NaN</td>\n      <td>1031700</td>\n      <td>FABRICAÇÃO DE CONSERVAS DE FRUTAS</td>\n      <td>N</td>\n      <td>224</td>\n      <td>Produto Para Uso Veterinário ( Medicamento / Sabonete / Shampoo )</td>\n      <td>177</td>\n      <td>Presença de sujidades/corpos estranhos</td>\n      <td>F</td>\n      <td>entre 21 a 30 anos</td>\n      <td>74775010</td>\n      <td>NaN</td>\n    </tr>\n    <tr>\n      <th>4</th>\n      <td>2009</td>\n      <td>2009-07-23 11:57:40.000</td>\n      <td>2006-01-18 15:35:29.000</td>\n      <td>3</td>\n      <td>Sudeste</td>\n      <td>RJ</td>\n      <td>EMPRESA BRASILEIRA DE TELECOMUNICAÇÕES S.A</td>\n      <td>EMBRATEL - LIVRE</td>\n      <td>1</td>\n      <td>33530486000129</td>\n      <td>33530486</td>\n      <td>EMPRESA BRASILEIRA DE TELECOMUNICACOES S A EMBRATEL</td>\n      <td>NaN</td>\n      <td>6110899</td>\n      <td>SERVIÇOS DE TELECOMUNICAÇÕES POR FIO NÃO ESPECIFICADOS ANTERIORMENTE</td>\n      <td>S</td>\n      <td>186</td>\n      <td>Telefonia Fixa ( Plano de Expansão / Compra e Venda / Locação )</td>\n      <td>143</td>\n      <td>Contrato - Rescisão/alteração unilateral</td>\n      <td>F</td>\n      <td>entre 41 a 50 anos</td>\n      <td>20710270</td>\n      <td>NaN</td>\n    </tr>\n    <tr>\n      <th>...</th>\n      <td>...</td>\n      <td>...</td>\n      <td>...</td>\n      <td>...</td>\n      <td>...</td>\n      <td>...</td>\n      <td>...</td>\n      <td>...</td>\n      <td>...</td>\n      <td>...</td>\n      <td>...</td>\n      <td>...</td>\n      <td>...</td>\n      <td>...</td>\n      <td>...</td>\n      <td>...</td>\n      <td>...</td>\n      <td>...</td>\n      <td>...</td>\n      <td>...</td>\n      <td>...</td>\n      <td>...</td>\n      <td>...</td>\n      <td>...</td>\n    </tr>\n    <tr>\n      <th>39055</th>\n      <td>2018</td>\n      <td>2018-05-29 14:19:32.000</td>\n      <td>2017-01-30 14:46:11.000</td>\n      <td>3</td>\n      <td>Sudeste</td>\n      <td>MG</td>\n      <td>BANCO LOSANGO S.A - BANCO MULTIPLO</td>\n      <td>NaN</td>\n      <td>1</td>\n      <td>33254319000100</td>\n      <td>NaN</td>\n      <td>HSBC FINANCE (BRASIL) S.A. - BANCO MULTIPLO</td>\n      <td>NaN</td>\n      <td>6431000</td>\n      <td>BANCOS MÚLTIPLOS, SEM CARTEIRA COMERCIAL</td>\n      <td>S</td>\n      <td>54</td>\n      <td>Cartão de Crédito</td>\n      <td>NaN</td>\n      <td>NaN</td>\n      <td>F</td>\n      <td>entre 61 a 70 anos</td>\n      <td>35180144</td>\n      <td>33254319</td>\n    </tr>\n    <tr>\n      <th>39056</th>\n      <td>2018</td>\n      <td>2018-06-06 13:38:04.000</td>\n      <td>2018-04-09 08:39:46.000</td>\n      <td>3</td>\n      <td>Sudeste</td>\n      <td>MG</td>\n      <td>MERCADOLIVRE.COM ATIVIDADES DE INTERNET LTDA</td>\n      <td>MERCADO LIVRE</td>\n      <td>1</td>\n      <td>3361252000134</td>\n      <td>NaN</td>\n      <td>MERCADOLIVRE.COM ATIVIDADES DE INTERNET LTDA</td>\n      <td>NaN</td>\n      <td>7490104</td>\n      <td>ATIVIDADES DE INTERMEDIAÇÃO E AGENCIAMENTO DE SERVIÇOS E NEGÓCIOS EM GERAL, EXCETO IMOBILIÁRIOS</td>\n      <td>S</td>\n      <td>106</td>\n      <td>Artigo de Leitura ( Formal, Jornal, Revista, Folheto, Livros, Etc. )</td>\n      <td>NaN</td>\n      <td>NaN</td>\n      <td>F</td>\n      <td>até 20 anos</td>\n      <td>90035030</td>\n      <td>3361252</td>\n    </tr>\n    <tr>\n      <th>39057</th>\n      <td>2018</td>\n      <td>2018-03-23 14:45:20.000</td>\n      <td>2018-02-23 16:37:15.000</td>\n      <td>2</td>\n      <td>Nordeste</td>\n      <td>RN</td>\n      <td>ACBZ IMPORTACAO E COMERCIO LTDA.</td>\n      <td>ASUS NO BRASIL</td>\n      <td>1</td>\n      <td>9509531000189</td>\n      <td>NaN</td>\n      <td>ACBZ IMPORTACAO E COMERCIO LTDA.</td>\n      <td>NaN</td>\n      <td>4651601</td>\n      <td>COMÉRCIO ATACADISTA DE EQUIPAMENTOS DE INFORMÁTICA</td>\n      <td>N</td>\n      <td>101</td>\n      <td>Telefone ( Convencional, Celular, Interfone, Etc. )</td>\n      <td>NaN</td>\n      <td>NaN</td>\n      <td>F</td>\n      <td>entre 21 a 30 anos</td>\n      <td>59115110</td>\n      <td>9509531</td>\n    </tr>\n    <tr>\n      <th>39058</th>\n      <td>2018</td>\n      <td>2018-04-09 11:41:30.000</td>\n      <td>2018-02-27 11:40:27.000</td>\n      <td>2</td>\n      <td>Nordeste</td>\n      <td>RN</td>\n      <td>NET SERVIÇOS DE COMUNICAÇÃO S/A</td>\n      <td>NET</td>\n      <td>1</td>\n      <td>108786018889</td>\n      <td>NaN</td>\n      <td>NET SERVICOS DE COMUNICACAO S/A</td>\n      <td>NaN</td>\n      <td>8299799</td>\n      <td>OUTRAS ATIVIDADES DE SERVIÇOS PRESTADOS PRINCIPALMENTE ÀS EMPRESAS NÃO ESPECIFICADAS ANTERIORMENTE</td>\n      <td>S</td>\n      <td>186</td>\n      <td>Telefonia Fixa ( Plano de Expansão / Compra e Venda / Locação )</td>\n      <td>NaN</td>\n      <td>NaN</td>\n      <td>F</td>\n      <td>entre 61 a 70 anos</td>\n      <td>59073101</td>\n      <td>108786</td>\n    </tr>\n    <tr>\n      <th>39059</th>\n      <td>2018</td>\n      <td>2018-05-24 14:24:46.000</td>\n      <td>2018-03-07 13:17:07.000</td>\n      <td>2</td>\n      <td>Nordeste</td>\n      <td>RN</td>\n      <td>CREFISA S.A. CREDITO FINANCIAMENTO E INVESTIMENTOS</td>\n      <td>CREFISA S/A</td>\n      <td>1</td>\n      <td>NaN</td>\n      <td>NaN</td>\n      <td>NaN</td>\n      <td>NaN</td>\n      <td>NaN</td>\n      <td>NaN</td>\n      <td>N</td>\n      <td>63</td>\n      <td>Financeira</td>\n      <td>NaN</td>\n      <td>NaN</td>\n      <td>F</td>\n      <td>entre 61 a 70 anos</td>\n      <td>59092390</td>\n      <td>NaN</td>\n    </tr>\n  </tbody>\n</table>\n<p>1668061 rows × 24 columns</p>\n</div>"
     },
     "execution_count": 15,
     "metadata": {},
     "output_type": "execute_result"
    }
   ],
   "source": [
    "df"
   ]
  },
  {
   "cell_type": "code",
   "execution_count": 16,
   "metadata": {
    "pycharm": {
     "name": "#%%\n"
    }
   },
   "outputs": [],
   "source": [
    "def view_df_stats(df):\n",
    "    print(\"Shape of df={}\".format(df.shape))\n",
    "    print(\"Number of index levels:{}\".format(df.index.nlevels))\n",
    "    for i in range(df.index.nlevels):\n",
    "        print(\"For index level {},unique values count={}\".format(i,df.index.get_level_values(i).unique().shape[0]))\n",
    "    print(\"Columns of df={}\".format(df.columns))\n",
    "    print(\"Null count= \\n {}\".format(df.isnull().sum()))\n",
    "    print(df.describe())\n"
   ]
  },
  {
   "cell_type": "code",
   "execution_count": 17,
   "metadata": {
    "pycharm": {
     "name": "#%%\n"
    }
   },
   "outputs": [
    {
     "name": "stdout",
     "output_type": "stream",
     "text": [
      "Shape of df=(1668061, 24)\n",
      "Number of index levels:1\n",
      "For index level 0,unique values count=268096\n",
      "Columns of df=Index(['AnoCalendario', 'DataArquivamento', 'DataAbertura', 'CodigoRegiao',\n",
      "       'Regiao', 'UF', 'strRazaoSocial', 'strNomeFantasia', 'Tipo',\n",
      "       'NumeroCNPJ', 'radicalCNPJ', 'RazaoSocialRFB', 'NomeFantasiaRFB',\n",
      "       'CNAEPrincipal', 'DescCNAEPrincipal', 'Atendida', 'CodigoAssunto',\n",
      "       'DescricaoAssunto', 'CodigoProblema', 'DescricaoProblema',\n",
      "       'SexoConsumidor', 'FaixaEtariaConsumidor', 'CEPConsumidor',\n",
      "       'RadicalCNPJ'],\n",
      "      dtype='object')\n",
      "Null count= \n",
      " AnoCalendario                  0\n",
      "DataArquivamento              20\n",
      "DataAbertura                   7\n",
      "CodigoRegiao                   0\n",
      "Regiao                         0\n",
      "UF                             0\n",
      "strRazaoSocial                11\n",
      "strNomeFantasia           267963\n",
      "Tipo                           0\n",
      "NumeroCNPJ                 71583\n",
      "radicalCNPJ              1569114\n",
      "RazaoSocialRFB             93932\n",
      "NomeFantasiaRFB           912164\n",
      "CNAEPrincipal              97994\n",
      "DescCNAEPrincipal         115687\n",
      "Atendida                       0\n",
      "CodigoAssunto                  0\n",
      "DescricaoAssunto               0\n",
      "CodigoProblema             47929\n",
      "DescricaoProblema          47929\n",
      "SexoConsumidor               986\n",
      "FaixaEtariaConsumidor          0\n",
      "CEPConsumidor             120078\n",
      "RadicalCNPJ               172113\n",
      "dtype: int64\n",
      "       AnoCalendario         DataArquivamento             DataAbertura  \\\n",
      "count        1668061                  1668041                  1668054   \n",
      "unique            10                  1015632                  1323660   \n",
      "top             2013  2015-12-31 00:00:00.000  2015-11-19 00:56:46.000   \n",
      "freq          268096                     1507                      201   \n",
      "\n",
      "       CodigoRegiao   Regiao       UF           strRazaoSocial  \\\n",
      "count       1668061  1668061  1668061                  1668050   \n",
      "unique           10        5       26                   151098   \n",
      "top              02  Sudeste       SP  TELEMAR NORTE LESTE S/A   \n",
      "freq         525088   572020   272245                    23914   \n",
      "\n",
      "       strNomeFantasia     Tipo      NumeroCNPJ radicalCNPJ  \\\n",
      "count          1400098  1668061         1596478       98947   \n",
      "unique          105412        2          116153        7693   \n",
      "top                 OI        1  33000118000179     4667337   \n",
      "freq             24673  1663980           22027        3354   \n",
      "\n",
      "                 RazaoSocialRFB NomeFantasiaRFB CNAEPrincipal  \\\n",
      "count                   1574129          755897       1570067   \n",
      "unique                    85103           52969          1016   \n",
      "top     TELEMAR NORTE LESTE S/A              OI       6422100   \n",
      "freq                      37984           75705        157701   \n",
      "\n",
      "                               DescCNAEPrincipal Atendida CodigoAssunto  \\\n",
      "count                                    1552374  1668061       1668061   \n",
      "unique                                       992        2           242   \n",
      "top     BANCOS MÚLTIPLOS, COM CARTEIRA COMERCIAL        S           101   \n",
      "freq                                      157701  1050668        199336   \n",
      "\n",
      "                                           DescricaoAssunto CodigoProblema  \\\n",
      "count                                               1668061        1620132   \n",
      "unique                                                  224           2201   \n",
      "top     Telefone ( Convencional, Celular, Interfone, Etc. )            105   \n",
      "freq                                                 199336         301664   \n",
      "\n",
      "        DescricaoProblema SexoConsumidor FaixaEtariaConsumidor CEPConsumidor  \\\n",
      "count             1620132        1667075               1668061       1547983   \n",
      "unique                225              3                     9        289599   \n",
      "top     Produto com vício              F    entre 31 a 40 anos      65000000   \n",
      "freq               259909         879662                385119          7734   \n",
      "\n",
      "       RadicalCNPJ  \n",
      "count      1495948  \n",
      "unique       86632  \n",
      "top       33000118  \n",
      "freq         35983  \n"
     ]
    }
   ],
   "source": [
    "view_df_stats(df)\n"
   ]
  },
  {
   "cell_type": "code",
   "execution_count": 18,
   "metadata": {
    "pycharm": {
     "name": "#%%\n"
    }
   },
   "outputs": [
    {
     "data": {
      "text/plain": "               DataArquivamento  DataAbertura  CodigoRegiao  Regiao     UF  \\\nAnoCalendario                                                                \n2009                       9824          9824          9824    9824   9824   \n2010                      11725         11725         11725   11725  11725   \n2011                       9162          9162          9162    9162   9162   \n2012                      13906         13906         13906   13906  13906   \n2013                      18667         18667         18667   18667  18667   \n2014                      17936         17936         17936   17936  17936   \n2015                      18211         18211         18211   18211  18211   \n2016                      14086         14086         14086   14086  14086   \n2017                       4696          4696          4702    4702   4702   \n2018                       1858          1858          1859    1859   1859   \n\n               strRazaoSocial  strNomeFantasia   Tipo  NumeroCNPJ  \\\nAnoCalendario                                                       \n2009                     9824             8025   9824        9304   \n2010                    11725             9809  11725       11175   \n2011                     9162             7964   9162        8824   \n2012                    13906            11661  13906       13240   \n2013                    18667            15131  18667       17996   \n2014                    17936            15002  17936       17176   \n2015                    18211            15148  18211       17153   \n2016                    14086            11988  14086       13289   \n2017                     4702             4057   4702        4364   \n2018                     1859             1560   1859        1806   \n\n               radicalCNPJ  RazaoSocialRFB  NomeFantasiaRFB  CNAEPrincipal  \\\nAnoCalendario                                                                \n2009                  9297            9285             4643           9285   \n2010                     0           11138             5696          11138   \n2011                     0            8798             4461           8798   \n2012                     0           13151             6323          13151   \n2013                     0           17897             8798          17552   \n2014                     0           17045             8851          17045   \n2015                     0           16809             8856          16809   \n2016                     0           12761             6688          12761   \n2017                     0            4093             2245           4093   \n2018                     0            1660              861           1660   \n\n               DescCNAEPrincipal  Atendida  CodigoAssunto  DescricaoAssunto  \\\nAnoCalendario                                                                 \n2009                        9269      9824           9824              9824   \n2010                       10920     11725          11725             11725   \n2011                        8614      9162           9162              9162   \n2012                       12851     13906          13906             13906   \n2013                       17552     18667          18667             18667   \n2014                       16769     17936          17936             17936   \n2015                       16614     18211          18211             18211   \n2016                       12657     14086          14086             14086   \n2017                        4062      4702           4702              4702   \n2018                        1646      1859           1859              1859   \n\n               CodigoProblema  DescricaoProblema  SexoConsumidor  \\\nAnoCalendario                                                      \n2009                     9824               9824            9824   \n2010                    11725              11725           11725   \n2011                     9162               9162            9162   \n2012                    13906              13906           13906   \n2013                    18667              18667           18667   \n2014                    17936              17936           17936   \n2015                    18210              18210           18211   \n2016                    14086              14086           14086   \n2017                     3582               3582            4693   \n2018                        4                  4            1855   \n\n               FaixaEtariaConsumidor  CEPConsumidor  RadicalCNPJ  \nAnoCalendario                                                     \n2009                            9824              0            0  \n2010                           11725              0        11157  \n2011                            9162              0         8810  \n2012                           13906              0        13162  \n2013                           18667              0        17996  \n2014                           17936              0        17137  \n2015                           18211              0        17153  \n2016                           14086              0        13289  \n2017                            4702              0         4364  \n2018                            1859              0         1797  ",
      "text/html": "<div>\n<style scoped>\n    .dataframe tbody tr th:only-of-type {\n        vertical-align: middle;\n    }\n\n    .dataframe tbody tr th {\n        vertical-align: top;\n    }\n\n    .dataframe thead th {\n        text-align: right;\n    }\n</style>\n<table border=\"1\" class=\"dataframe\">\n  <thead>\n    <tr style=\"text-align: right;\">\n      <th></th>\n      <th>DataArquivamento</th>\n      <th>DataAbertura</th>\n      <th>CodigoRegiao</th>\n      <th>Regiao</th>\n      <th>UF</th>\n      <th>strRazaoSocial</th>\n      <th>strNomeFantasia</th>\n      <th>Tipo</th>\n      <th>NumeroCNPJ</th>\n      <th>radicalCNPJ</th>\n      <th>RazaoSocialRFB</th>\n      <th>NomeFantasiaRFB</th>\n      <th>CNAEPrincipal</th>\n      <th>DescCNAEPrincipal</th>\n      <th>Atendida</th>\n      <th>CodigoAssunto</th>\n      <th>DescricaoAssunto</th>\n      <th>CodigoProblema</th>\n      <th>DescricaoProblema</th>\n      <th>SexoConsumidor</th>\n      <th>FaixaEtariaConsumidor</th>\n      <th>CEPConsumidor</th>\n      <th>RadicalCNPJ</th>\n    </tr>\n    <tr>\n      <th>AnoCalendario</th>\n      <th></th>\n      <th></th>\n      <th></th>\n      <th></th>\n      <th></th>\n      <th></th>\n      <th></th>\n      <th></th>\n      <th></th>\n      <th></th>\n      <th></th>\n      <th></th>\n      <th></th>\n      <th></th>\n      <th></th>\n      <th></th>\n      <th></th>\n      <th></th>\n      <th></th>\n      <th></th>\n      <th></th>\n      <th></th>\n      <th></th>\n    </tr>\n  </thead>\n  <tbody>\n    <tr>\n      <th>2009</th>\n      <td>9824</td>\n      <td>9824</td>\n      <td>9824</td>\n      <td>9824</td>\n      <td>9824</td>\n      <td>9824</td>\n      <td>8025</td>\n      <td>9824</td>\n      <td>9304</td>\n      <td>9297</td>\n      <td>9285</td>\n      <td>4643</td>\n      <td>9285</td>\n      <td>9269</td>\n      <td>9824</td>\n      <td>9824</td>\n      <td>9824</td>\n      <td>9824</td>\n      <td>9824</td>\n      <td>9824</td>\n      <td>9824</td>\n      <td>0</td>\n      <td>0</td>\n    </tr>\n    <tr>\n      <th>2010</th>\n      <td>11725</td>\n      <td>11725</td>\n      <td>11725</td>\n      <td>11725</td>\n      <td>11725</td>\n      <td>11725</td>\n      <td>9809</td>\n      <td>11725</td>\n      <td>11175</td>\n      <td>0</td>\n      <td>11138</td>\n      <td>5696</td>\n      <td>11138</td>\n      <td>10920</td>\n      <td>11725</td>\n      <td>11725</td>\n      <td>11725</td>\n      <td>11725</td>\n      <td>11725</td>\n      <td>11725</td>\n      <td>11725</td>\n      <td>0</td>\n      <td>11157</td>\n    </tr>\n    <tr>\n      <th>2011</th>\n      <td>9162</td>\n      <td>9162</td>\n      <td>9162</td>\n      <td>9162</td>\n      <td>9162</td>\n      <td>9162</td>\n      <td>7964</td>\n      <td>9162</td>\n      <td>8824</td>\n      <td>0</td>\n      <td>8798</td>\n      <td>4461</td>\n      <td>8798</td>\n      <td>8614</td>\n      <td>9162</td>\n      <td>9162</td>\n      <td>9162</td>\n      <td>9162</td>\n      <td>9162</td>\n      <td>9162</td>\n      <td>9162</td>\n      <td>0</td>\n      <td>8810</td>\n    </tr>\n    <tr>\n      <th>2012</th>\n      <td>13906</td>\n      <td>13906</td>\n      <td>13906</td>\n      <td>13906</td>\n      <td>13906</td>\n      <td>13906</td>\n      <td>11661</td>\n      <td>13906</td>\n      <td>13240</td>\n      <td>0</td>\n      <td>13151</td>\n      <td>6323</td>\n      <td>13151</td>\n      <td>12851</td>\n      <td>13906</td>\n      <td>13906</td>\n      <td>13906</td>\n      <td>13906</td>\n      <td>13906</td>\n      <td>13906</td>\n      <td>13906</td>\n      <td>0</td>\n      <td>13162</td>\n    </tr>\n    <tr>\n      <th>2013</th>\n      <td>18667</td>\n      <td>18667</td>\n      <td>18667</td>\n      <td>18667</td>\n      <td>18667</td>\n      <td>18667</td>\n      <td>15131</td>\n      <td>18667</td>\n      <td>17996</td>\n      <td>0</td>\n      <td>17897</td>\n      <td>8798</td>\n      <td>17552</td>\n      <td>17552</td>\n      <td>18667</td>\n      <td>18667</td>\n      <td>18667</td>\n      <td>18667</td>\n      <td>18667</td>\n      <td>18667</td>\n      <td>18667</td>\n      <td>0</td>\n      <td>17996</td>\n    </tr>\n    <tr>\n      <th>2014</th>\n      <td>17936</td>\n      <td>17936</td>\n      <td>17936</td>\n      <td>17936</td>\n      <td>17936</td>\n      <td>17936</td>\n      <td>15002</td>\n      <td>17936</td>\n      <td>17176</td>\n      <td>0</td>\n      <td>17045</td>\n      <td>8851</td>\n      <td>17045</td>\n      <td>16769</td>\n      <td>17936</td>\n      <td>17936</td>\n      <td>17936</td>\n      <td>17936</td>\n      <td>17936</td>\n      <td>17936</td>\n      <td>17936</td>\n      <td>0</td>\n      <td>17137</td>\n    </tr>\n    <tr>\n      <th>2015</th>\n      <td>18211</td>\n      <td>18211</td>\n      <td>18211</td>\n      <td>18211</td>\n      <td>18211</td>\n      <td>18211</td>\n      <td>15148</td>\n      <td>18211</td>\n      <td>17153</td>\n      <td>0</td>\n      <td>16809</td>\n      <td>8856</td>\n      <td>16809</td>\n      <td>16614</td>\n      <td>18211</td>\n      <td>18211</td>\n      <td>18211</td>\n      <td>18210</td>\n      <td>18210</td>\n      <td>18211</td>\n      <td>18211</td>\n      <td>0</td>\n      <td>17153</td>\n    </tr>\n    <tr>\n      <th>2016</th>\n      <td>14086</td>\n      <td>14086</td>\n      <td>14086</td>\n      <td>14086</td>\n      <td>14086</td>\n      <td>14086</td>\n      <td>11988</td>\n      <td>14086</td>\n      <td>13289</td>\n      <td>0</td>\n      <td>12761</td>\n      <td>6688</td>\n      <td>12761</td>\n      <td>12657</td>\n      <td>14086</td>\n      <td>14086</td>\n      <td>14086</td>\n      <td>14086</td>\n      <td>14086</td>\n      <td>14086</td>\n      <td>14086</td>\n      <td>0</td>\n      <td>13289</td>\n    </tr>\n    <tr>\n      <th>2017</th>\n      <td>4696</td>\n      <td>4696</td>\n      <td>4702</td>\n      <td>4702</td>\n      <td>4702</td>\n      <td>4702</td>\n      <td>4057</td>\n      <td>4702</td>\n      <td>4364</td>\n      <td>0</td>\n      <td>4093</td>\n      <td>2245</td>\n      <td>4093</td>\n      <td>4062</td>\n      <td>4702</td>\n      <td>4702</td>\n      <td>4702</td>\n      <td>3582</td>\n      <td>3582</td>\n      <td>4693</td>\n      <td>4702</td>\n      <td>0</td>\n      <td>4364</td>\n    </tr>\n    <tr>\n      <th>2018</th>\n      <td>1858</td>\n      <td>1858</td>\n      <td>1859</td>\n      <td>1859</td>\n      <td>1859</td>\n      <td>1859</td>\n      <td>1560</td>\n      <td>1859</td>\n      <td>1806</td>\n      <td>0</td>\n      <td>1660</td>\n      <td>861</td>\n      <td>1660</td>\n      <td>1646</td>\n      <td>1859</td>\n      <td>1859</td>\n      <td>1859</td>\n      <td>4</td>\n      <td>4</td>\n      <td>1855</td>\n      <td>1859</td>\n      <td>0</td>\n      <td>1797</td>\n    </tr>\n  </tbody>\n</table>\n</div>"
     },
     "execution_count": 18,
     "metadata": {},
     "output_type": "execute_result"
    }
   ],
   "source": [
    "df[(df['CEPConsumidor'].isnull())].groupby(\"AnoCalendario\").count()"
   ]
  },
  {
   "cell_type": "markdown",
   "metadata": {
    "pycharm": {
     "name": "#%% md\n"
    }
   },
   "source": [
    "Verificando que o número de CEPs que são vazios é de 120.078 e que isso representa\n",
    " 7,20% da base não é uma perda muito significativa que compromenta o estudo de caso.\n",
    " Dos 7,20%\n",
    "\n",
    " | Ano Calendario | Linhas |\n",
    " |----------------|--------|\n",
    " | 2009           | 9824   |\n",
    " | 2010           | 11725  |\n",
    " | 2011           | 9162   |\n",
    " | 2012           | 13906  |\n",
    " | 2013           | 18667  |\n",
    " | 2014           | 17936  |\n",
    " | 2015           | 18211  |\n",
    " | 2016           | 14086  |\n",
    " | 2017           | 4696   |\n",
    " | 2018           | 1858   |\n"
   ]
  },
  {
   "cell_type": "code",
   "execution_count": 19,
   "metadata": {
    "pycharm": {
     "name": "#%%\n"
    }
   },
   "outputs": [],
   "source": [
    "df2 = df.dropna(subset=[\"CEPConsumidor\"])"
   ]
  },
  {
   "cell_type": "code",
   "execution_count": 20,
   "metadata": {
    "pycharm": {
     "name": "#%%\n"
    }
   },
   "outputs": [
    {
     "name": "stdout",
     "output_type": "stream",
     "text": [
      "Shape of df=(1547983, 24)\n",
      "Number of index levels:1\n",
      "For index level 0,unique values count=268029\n",
      "Columns of df=Index(['AnoCalendario', 'DataArquivamento', 'DataAbertura', 'CodigoRegiao',\n",
      "       'Regiao', 'UF', 'strRazaoSocial', 'strNomeFantasia', 'Tipo',\n",
      "       'NumeroCNPJ', 'radicalCNPJ', 'RazaoSocialRFB', 'NomeFantasiaRFB',\n",
      "       'CNAEPrincipal', 'DescCNAEPrincipal', 'Atendida', 'CodigoAssunto',\n",
      "       'DescricaoAssunto', 'CodigoProblema', 'DescricaoProblema',\n",
      "       'SexoConsumidor', 'FaixaEtariaConsumidor', 'CEPConsumidor',\n",
      "       'RadicalCNPJ'],\n",
      "      dtype='object')\n",
      "Null count= \n",
      " AnoCalendario                  0\n",
      "DataArquivamento              13\n",
      "DataAbertura                   0\n",
      "CodigoRegiao                   0\n",
      "Regiao                         0\n",
      "UF                             0\n",
      "strRazaoSocial                11\n",
      "strNomeFantasia           248230\n",
      "Tipo                           0\n",
      "NumeroCNPJ                 65832\n",
      "radicalCNPJ              1458333\n",
      "RazaoSocialRFB             86491\n",
      "NomeFantasiaRFB           849508\n",
      "CNAEPrincipal              90208\n",
      "DescCNAEPrincipal         106563\n",
      "Atendida                       0\n",
      "CodigoAssunto                  0\n",
      "DescricaoAssunto               0\n",
      "CodigoProblema             44953\n",
      "DescricaoProblema          44953\n",
      "SexoConsumidor               973\n",
      "FaixaEtariaConsumidor          0\n",
      "CEPConsumidor                  0\n",
      "RadicalCNPJ               156900\n",
      "dtype: int64\n",
      "       AnoCalendario         DataArquivamento             DataAbertura  \\\n",
      "count        1547983                  1547970                  1547983   \n",
      "unique            10                   941064                  1232417   \n",
      "top             2014  2015-12-31 00:00:00.000  2015-11-19 00:56:46.000   \n",
      "freq          249828                     1496                      185   \n",
      "\n",
      "       CodigoRegiao   Regiao       UF           strRazaoSocial  \\\n",
      "count       1547983  1547983  1547983                  1547972   \n",
      "unique           10        5       26                   143505   \n",
      "top              03  Sudeste       SP  TELEMAR NORTE LESTE S/A   \n",
      "freq         504076   549039   268530                    22323   \n",
      "\n",
      "       strNomeFantasia     Tipo      NumeroCNPJ radicalCNPJ  \\\n",
      "count          1299753  1547983         1482151       89650   \n",
      "unique          100474        2          110707        7206   \n",
      "top                 OI        1  33000118000179     4667337   \n",
      "freq             23094  1544264           20683        3076   \n",
      "\n",
      "                 RazaoSocialRFB NomeFantasiaRFB CNAEPrincipal  \\\n",
      "count                   1461492          698475       1457775   \n",
      "unique                    80995           50377          1007   \n",
      "top     TELEMAR NORTE LESTE S/A              OI       6422100   \n",
      "freq                      35584           70973        146177   \n",
      "\n",
      "                               DescCNAEPrincipal Atendida CodigoAssunto  \\\n",
      "count                                    1441420  1547983       1547983   \n",
      "unique                                       983        2           242   \n",
      "top     BANCOS MÚLTIPLOS, COM CARTEIRA COMERCIAL        S           101   \n",
      "freq                                      146177   969357        183492   \n",
      "\n",
      "                                           DescricaoAssunto CodigoProblema  \\\n",
      "count                                               1547983        1503030   \n",
      "unique                                                  223           2126   \n",
      "top     Telefone ( Convencional, Celular, Interfone, Etc. )            105   \n",
      "freq                                                 183492         280870   \n",
      "\n",
      "        DescricaoProblema SexoConsumidor FaixaEtariaConsumidor CEPConsumidor  \\\n",
      "count             1503030        1547010               1547983       1547983   \n",
      "unique                225              3                     9        289599   \n",
      "top     Produto com vício              F    entre 31 a 40 anos      65000000   \n",
      "freq               241913         817951                359060          7734   \n",
      "\n",
      "       RadicalCNPJ  \n",
      "count      1391083  \n",
      "unique       82461  \n",
      "top       33000118  \n",
      "freq         33760  \n"
     ]
    }
   ],
   "source": [
    "view_df_stats(df2)"
   ]
  },
  {
   "cell_type": "markdown",
   "metadata": {},
   "source": [
    "Antes da remoção dos CEPs nulos, o ano que possuia mais reclamações\n",
    "era o de 2013 com 268.096 registros,após a remoção passou a ser o\n",
    "de 2014 o que possui mais reclamações com 249.828 registros.\n",
    "Assim como passou a ter somente 65.832 empresas sem o CNPJ\n",
    "que antes era de 71.583"
   ]
  },
  {
   "cell_type": "markdown",
   "metadata": {
    "pycharm": {
     "name": "#%% md\n"
    }
   },
   "source": [
    "Próxima etapa será de buscar o radical do CNPJ das empresas que não possuem o CNPJ.\n",
    "Como não se pode inferir o número do CNPJ pelo nome, pois pode ser uma outra filial\n",
    "da empresa"
   ]
  },
  {
   "cell_type": "code",
   "execution_count": 21,
   "metadata": {
    "pycharm": {
     "name": "#%%\n"
    }
   },
   "outputs": [
    {
     "data": {
      "text/plain": "               AnoCalendario\nAnoCalendario               \n2009                    5325\n2010                    4346\n2011                    4176\n2012                    9535\n2013                   10369\n2014                   10011\n2015                   11290\n2016                    7397\n2017                    2117\n2018                    1266",
      "text/html": "<div>\n<style scoped>\n    .dataframe tbody tr th:only-of-type {\n        vertical-align: middle;\n    }\n\n    .dataframe tbody tr th {\n        vertical-align: top;\n    }\n\n    .dataframe thead th {\n        text-align: right;\n    }\n</style>\n<table border=\"1\" class=\"dataframe\">\n  <thead>\n    <tr style=\"text-align: right;\">\n      <th></th>\n      <th>AnoCalendario</th>\n    </tr>\n    <tr>\n      <th>AnoCalendario</th>\n      <th></th>\n    </tr>\n  </thead>\n  <tbody>\n    <tr>\n      <th>2009</th>\n      <td>5325</td>\n    </tr>\n    <tr>\n      <th>2010</th>\n      <td>4346</td>\n    </tr>\n    <tr>\n      <th>2011</th>\n      <td>4176</td>\n    </tr>\n    <tr>\n      <th>2012</th>\n      <td>9535</td>\n    </tr>\n    <tr>\n      <th>2013</th>\n      <td>10369</td>\n    </tr>\n    <tr>\n      <th>2014</th>\n      <td>10011</td>\n    </tr>\n    <tr>\n      <th>2015</th>\n      <td>11290</td>\n    </tr>\n    <tr>\n      <th>2016</th>\n      <td>7397</td>\n    </tr>\n    <tr>\n      <th>2017</th>\n      <td>2117</td>\n    </tr>\n    <tr>\n      <th>2018</th>\n      <td>1266</td>\n    </tr>\n  </tbody>\n</table>\n</div>"
     },
     "execution_count": 21,
     "metadata": {},
     "output_type": "execute_result"
    }
   ],
   "source": [
    "df2[df2['NumeroCNPJ'].isnull()].groupby(['AnoCalendario']).agg({'AnoCalendario':'count'})"
   ]
  },
  {
   "cell_type": "markdown",
   "metadata": {
    "pycharm": {
     "name": "#%% md\n"
    }
   },
   "source": [
    "O ano em que mais possui CNPJ nulos é em 2015 com 11.290 registros\n"
   ]
  },
  {
   "cell_type": "code",
   "execution_count": 22,
   "metadata": {
    "pycharm": {
     "name": "#%%\n"
    }
   },
   "outputs": [
    {
     "data": {
      "text/plain": "array(['OI MÓVEL', 'OI FIXO', 'TELEMAR NORTE LESTE S/A',\n       'TELEMAR NORTE E LESTE S/A', 'TELEMAR NORTE LESTE S/A (OI FIXA)',\n       'TELEMAR NORTE LESTE S.A.', 'TELEMAR NORTE LESTE S/A - OI FIXO',\n       'TELEMAR NORTE LESTE S/A.', 'TELEMAR NORTE LESTE S/A OI',\n       'TELEMAR NORTE LESTE SA', 'TELEMAR NORTE LESTE',\n       'OI FIXO - TELEMAR NORTE LESTE S/A',\n       'TELEMAR NORTE LESTE S/A (OI FIXO)', 'OI CELULAR S/A - OI MÓVEL',\n       'OI - TELEMAR NORTE LESTE S/A', 'TELEMAR NORTE LESTE S.A',\n       'TELEMAR NORTE LEST S/A', 'TELEMAR NORTE LESTE S/A / OI FIXO',\n       'OI', 'OI S/A KENNEDY NORONHA TERENCE',\n       'OI - TELEMAR NORTE LESTE S/A, OI S/A, ÓI MÓVEL S/A',\n       'TELEMAR NORTE LESTE S/A  OI DESATIVADO VIDE OI S/A',\n       'TELEMAR N LESTE S/A - OI - DESATIVADO VIDE OI S/A',\n       'TELEMAR EMPRESA DE TELEFONIA  FIXA',\n       'TELEMAR NORTE LESTE S/A - OI',\n       'OPERADORA OI FIXO - TELEMAR NORTE LESTE',\n       'OI TELEMAR NORTE LESTE S.A', 'TELEMAR NORTE LESTE S/A-OI FIXO',\n       'TELEMAR S.A', 'TELEMAR NORTE LESTE S/A - EM RECUPERAÇÃO JUDICIAL',\n       'GRUPO OI', 'TELEMAR NORTE LESTE S/A @',\n       'OI/TELEMAR/TELECOMUNICAÇÕES DO RIO DE JANEIRO S.A'], dtype=object)"
     },
     "execution_count": 22,
     "metadata": {},
     "output_type": "execute_result"
    }
   ],
   "source": [
    "df[(df['RadicalCNPJ'] == \"33000118\")]['strRazaoSocial'].unique()"
   ]
  },
  {
   "cell_type": "markdown",
   "metadata": {},
   "source": [
    "Diversas empresas possuem razões sociais com o mesmo radical de CNPJ porém com nomes diferentes, enquanto que na base da RFB estes\n",
    "possuem o mesmo valor. Para aqueles que possuem valor na base da RFB como únicos será utilizado o mesmo como razão social.\n",
    "\n",
    "Para aprimorar a limpeza dos dados será removidos os caracteres que estão incluidos no SA tais como [.,/,-,@]"
   ]
  },
  {
   "cell_type": "code",
   "execution_count": 23,
   "metadata": {
    "pycharm": {
     "name": "#%%\n"
    }
   },
   "outputs": [
    {
     "name": "stderr",
     "output_type": "stream",
     "text": [
      "<ipython-input-23-7c798e4dd206>:1: SettingWithCopyWarning: \n",
      "A value is trying to be set on a copy of a slice from a DataFrame.\n",
      "Try using .loc[row_indexer,col_indexer] = value instead\n",
      "\n",
      "See the caveats in the documentation: https://pandas.pydata.org/pandas-docs/stable/user_guide/indexing.html#returning-a-view-versus-a-copy\n",
      "  df2['strRazaoSocial'] = df2['strRazaoSocial'].str.strip().replace(regular_expression, '', regex=True)\n"
     ]
    }
   ],
   "source": [
    "df2['strRazaoSocial'] = df2['strRazaoSocial'].str.strip().replace(regular_expression, '', regex=True)"
   ]
  },
  {
   "cell_type": "code",
   "execution_count": 24,
   "metadata": {
    "pycharm": {
     "name": "#%%\n"
    }
   },
   "outputs": [
    {
     "data": {
      "text/plain": "             AnoCalendario\nRadicalCNPJ               \n40432544              2300\n07170938               533\n06123835               187\n19304719               184\n33041260               178\n...                    ...\n13110836                 1\n20944438                 1\n13180502                 1\n20940220                 1\n20932411                 1\n\n[6873 rows x 1 columns]",
      "text/html": "<div>\n<style scoped>\n    .dataframe tbody tr th:only-of-type {\n        vertical-align: middle;\n    }\n\n    .dataframe tbody tr th {\n        vertical-align: top;\n    }\n\n    .dataframe thead th {\n        text-align: right;\n    }\n</style>\n<table border=\"1\" class=\"dataframe\">\n  <thead>\n    <tr style=\"text-align: right;\">\n      <th></th>\n      <th>AnoCalendario</th>\n    </tr>\n    <tr>\n      <th>RadicalCNPJ</th>\n      <th></th>\n    </tr>\n  </thead>\n  <tbody>\n    <tr>\n      <th>40432544</th>\n      <td>2300</td>\n    </tr>\n    <tr>\n      <th>07170938</th>\n      <td>533</td>\n    </tr>\n    <tr>\n      <th>06123835</th>\n      <td>187</td>\n    </tr>\n    <tr>\n      <th>19304719</th>\n      <td>184</td>\n    </tr>\n    <tr>\n      <th>33041260</th>\n      <td>178</td>\n    </tr>\n    <tr>\n      <th>...</th>\n      <td>...</td>\n    </tr>\n    <tr>\n      <th>13110836</th>\n      <td>1</td>\n    </tr>\n    <tr>\n      <th>20944438</th>\n      <td>1</td>\n    </tr>\n    <tr>\n      <th>13180502</th>\n      <td>1</td>\n    </tr>\n    <tr>\n      <th>20940220</th>\n      <td>1</td>\n    </tr>\n    <tr>\n      <th>20932411</th>\n      <td>1</td>\n    </tr>\n  </tbody>\n</table>\n<p>6873 rows × 1 columns</p>\n</div>"
     },
     "execution_count": 24,
     "metadata": {},
     "output_type": "execute_result"
    }
   ],
   "source": [
    "df2[df2['RazaoSocialRFB'].isnull()].groupby(\"RadicalCNPJ\").agg({'AnoCalendario':'count'}).sort_values(\"AnoCalendario\", ascending=False)"
   ]
  },
  {
   "cell_type": "code",
   "execution_count": 25,
   "metadata": {
    "pycharm": {
     "name": "#%%\n"
    }
   },
   "outputs": [
    {
     "data": {
      "text/plain": "array(['TELEMAR NORTE LESTE S/A'], dtype=object)"
     },
     "execution_count": 25,
     "metadata": {},
     "output_type": "execute_result"
    }
   ],
   "source": [
    "df2[(df2['RadicalCNPJ'] == \"33000118\")]['RazaoSocialRFB'].unique()"
   ]
  },
  {
   "cell_type": "code",
   "execution_count": 26,
   "metadata": {
    "pycharm": {
     "name": "#%%\n"
    }
   },
   "outputs": [
    {
     "data": {
      "text/plain": "array(['OI MÓVEL', 'OI FIXO', 'TELEMAR NORTE LESTE SA',\n       'TELEMAR NORTE E LESTE SA', 'TELEMAR NORTE LESTE SA OI FIXA',\n       'TELEMAR NORTE LESTE SA  OI FIXO', 'TELEMAR NORTE LESTE SA OI',\n       'TELEMAR NORTE LESTE', 'OI FIXO  TELEMAR NORTE LESTE SA',\n       'TELEMAR NORTE LESTE SA OI FIXO', 'OI CELULAR SA  OI MÓVEL',\n       'OI  TELEMAR NORTE LESTE SA', 'TELEMAR NORTE LEST SA', 'OI',\n       'OI SA KENNEDY NORONHA TERENCE',\n       'OI  TELEMAR NORTE LESTE SA, OI SA, ÓI MÓVEL SA',\n       'TELEMAR NORTE LESTE SA  OI DESATIVADO VIDE OI SA',\n       'TELEMAR N LESTE SA  OI  DESATIVADO VIDE OI SA',\n       'TELEMAR EMPRESA DE TELEFONIA  FIXA', 'TELEMAR NORTE LESTE SA  OI',\n       'OPERADORA OI FIXO  TELEMAR NORTE LESTE',\n       'OI TELEMAR NORTE LESTE SA', 'TELEMAR NORTE LESTE SAOI FIXO',\n       'TELEMAR SA', 'TELEMAR NORTE LESTE SA  EM RECUPERAÇÃO JUDICIAL',\n       'GRUPO OI', 'TELEMAR NORTE LESTE SA ',\n       'OITELEMARTELECOMUNICAÇÕES DO RIO DE JANEIRO SA'], dtype=object)"
     },
     "execution_count": 26,
     "metadata": {},
     "output_type": "execute_result"
    }
   ],
   "source": [
    "df2[(df2['RadicalCNPJ'] == \"33000118\")]['strRazaoSocial'].unique()"
   ]
  },
  {
   "cell_type": "code",
   "execution_count": 27,
   "metadata": {
    "pycharm": {
     "name": "#%%\n"
    }
   },
   "outputs": [
    {
     "data": {
      "text/plain": "      AnoCalendario         DataArquivamento             DataAbertura  \\\n4              2010  2009-11-09 13:49:15.000  2008-09-15 04:50:11.000   \n98             2010  2010-08-10 17:03:22.000  2009-03-03 13:29:18.000   \n99             2010  2010-07-26 15:14:29.000  2009-12-03 14:49:18.000   \n129            2010  2010-03-30 10:57:49.000  2010-01-05 12:43:33.000   \n235            2010  2010-07-26 12:17:43.000  2010-06-16 17:02:01.000   \n...             ...                      ...                      ...   \n38975          2018  2018-09-04 14:54:12.000  2018-02-15 09:56:20.000   \n38980          2018  2018-12-10 16:40:43.000  2018-11-07 11:00:49.000   \n38981          2018  2018-12-10 16:44:47.000  2018-10-31 14:30:52.000   \n39030          2018  2018-10-04 09:01:09.000  2018-09-13 08:57:39.000   \n39040          2018  2018-10-03 10:03:40.000  2018-08-30 14:59:27.000   \n\n      CodigoRegiao    Regiao  UF            strRazaoSocial  \\\n4               02  Nordeste  SE                  OI MÓVEL   \n98              02  Nordeste  PE                   OI FIXO   \n99              02  Nordeste  SE                  OI MÓVEL   \n129             03   Sudeste  MG    TELEMAR NORTE LESTE SA   \n235             03   Sudeste  ES    TELEMAR NORTE LESTE SA   \n...            ...       ...  ..                       ...   \n38975            3   Sudeste  MG  TELEMAR NORTE E LESTE SA   \n38980            3   Sudeste  MG  TELEMAR NORTE E LESTE SA   \n38981            3   Sudeste  MG  TELEMAR NORTE E LESTE SA   \n39030            3   Sudeste  MG  TELEMAR NORTE E LESTE SA   \n39040            3   Sudeste  MG  TELEMAR NORTE E LESTE SA   \n\n                                          strNomeFantasia Tipo  \\\n4                                                     NaN    1   \n98                                TELEMAR NORTE LESTE S/A    1   \n99                                                    NaN    1   \n129                                                    OI    1   \n235                                                    OI    1   \n...                                                   ...  ...   \n38975  TELEMAR (OI FIXO E MÓVEL, OI PAGGO, VELOX, OI NET)    1   \n38980  TELEMAR (OI FIXO E MÓVEL, OI PAGGO, VELOX, OI NET)    1   \n38981  TELEMAR (OI FIXO E MÓVEL, OI PAGGO, VELOX, OI NET)    1   \n39030  TELEMAR (OI FIXO E MÓVEL, OI PAGGO, VELOX, OI NET)    1   \n39040  TELEMAR (OI FIXO E MÓVEL, OI PAGGO, VELOX, OI NET)    1   \n\n           NumeroCNPJ radicalCNPJ           RazaoSocialRFB NomeFantasiaRFB  \\\n4      33000118000411         NaN  TELEMAR NORTE LESTE S/A              OI   \n98     33000118001493         NaN  TELEMAR NORTE LESTE S/A              OI   \n99     33000118000411         NaN  TELEMAR NORTE LESTE S/A              OI   \n129    33000118000179         NaN  TELEMAR NORTE LESTE S/A              OI   \n235    33000118000250         NaN  TELEMAR NORTE LESTE S/A              OI   \n...               ...         ...                      ...             ...   \n38975  33000118000330         NaN  TELEMAR NORTE LESTE S/A              OI   \n38980  33000118000330         NaN  TELEMAR NORTE LESTE S/A              OI   \n38981  33000118000330         NaN  TELEMAR NORTE LESTE S/A              OI   \n39030  33000118000330         NaN  TELEMAR NORTE LESTE S/A              OI   \n39040  33000118000330         NaN  TELEMAR NORTE LESTE S/A              OI   \n\n      CNAEPrincipal                           DescCNAEPrincipal Atendida  \\\n4           6110801  SERVIÇOS DE TELEFONIA FIXA COMUTADA - STFC        S   \n98          6110801  SERVIÇOS DE TELEFONIA FIXA COMUTADA - STFC        N   \n99          6110801  SERVIÇOS DE TELEFONIA FIXA COMUTADA - STFC        N   \n129         6110801  SERVIÇOS DE TELEFONIA FIXA COMUTADA - STFC        S   \n235         6110801  SERVIÇOS DE TELEFONIA FIXA COMUTADA - STFC        S   \n...             ...                                         ...      ...   \n38975       6110801  SERVIÇOS DE TELEFONIA FIXA COMUTADA - STFC        S   \n38980       6110801  SERVIÇOS DE TELEFONIA FIXA COMUTADA - STFC        S   \n38981       6110801  SERVIÇOS DE TELEFONIA FIXA COMUTADA - STFC        S   \n39030       6110801  SERVIÇOS DE TELEFONIA FIXA COMUTADA - STFC        S   \n39040       6110801  SERVIÇOS DE TELEFONIA FIXA COMUTADA - STFC        S   \n\n      CodigoAssunto  \\\n4               187   \n98              186   \n99              187   \n129             186   \n235             279   \n...             ...   \n38975           101   \n38980           187   \n38981           186   \n39030           186   \n39040           186   \n\n                                                      DescricaoAssunto  \\\n4                                                    Telefonia Celular   \n98     Telefonia Fixa ( Plano de Expansão / Compra e Venda / Locação )   \n99                                                   Telefonia Celular   \n129    Telefonia Fixa ( Plano de Expansão / Compra e Venda / Locação )   \n235                    Informática (Ex.:Provedor de Acesso a Internet)   \n...                                                                ...   \n38975              Telefone ( Convencional, Celular, Interfone, Etc. )   \n38980                                                Telefonia Celular   \n38981  Telefonia Fixa ( Plano de Expansão / Compra e Venda / Locação )   \n39030  Telefonia Fixa ( Plano de Expansão / Compra e Venda / Locação )   \n39040  Telefonia Fixa ( Plano de Expansão / Compra e Venda / Locação )   \n\n      CodigoProblema  \\\n4                134   \n98               134   \n99               138   \n129              134   \n235              196   \n...              ...   \n38975            NaN   \n38980            NaN   \n38981            NaN   \n39030            NaN   \n39040            NaN   \n\n                                              DescricaoProblema  \\\n4                                     Cobrança indevida/abusiva   \n98                                    Cobrança indevida/abusiva   \n99                                         Publicidade abusiva.   \n129                                   Cobrança indevida/abusiva   \n235    Duvida sobre cobrança/valor/reajuste/contrato/orçamento.   \n...                                                         ...   \n38975                                                       NaN   \n38980                                                       NaN   \n38981                                                       NaN   \n39030                                                       NaN   \n39040                                                       NaN   \n\n      SexoConsumidor FaixaEtariaConsumidor CEPConsumidor RadicalCNPJ  \n4                  M    entre 21 a 30 anos      49035170    33000118  \n98                 F       mais de 70 anos      54150170    33000118  \n99                 M    entre 21 a 30 anos      49060630    33000118  \n129                M    entre 51 a 60 anos      31110050    33000118  \n235                F    entre 21 a 30 anos      29017050    33000118  \n...              ...                   ...           ...         ...  \n38975              M    entre 41 a 50 anos      35051350    33000118  \n38980              F    entre 61 a 70 anos      35057710    33000118  \n38981              F    entre 61 a 70 anos      35010210    33000118  \n39030              F    entre 21 a 30 anos      35053210    33000118  \n39040              F    entre 61 a 70 anos      35060020    33000118  \n\n[33760 rows x 24 columns]",
      "text/html": "<div>\n<style scoped>\n    .dataframe tbody tr th:only-of-type {\n        vertical-align: middle;\n    }\n\n    .dataframe tbody tr th {\n        vertical-align: top;\n    }\n\n    .dataframe thead th {\n        text-align: right;\n    }\n</style>\n<table border=\"1\" class=\"dataframe\">\n  <thead>\n    <tr style=\"text-align: right;\">\n      <th></th>\n      <th>AnoCalendario</th>\n      <th>DataArquivamento</th>\n      <th>DataAbertura</th>\n      <th>CodigoRegiao</th>\n      <th>Regiao</th>\n      <th>UF</th>\n      <th>strRazaoSocial</th>\n      <th>strNomeFantasia</th>\n      <th>Tipo</th>\n      <th>NumeroCNPJ</th>\n      <th>radicalCNPJ</th>\n      <th>RazaoSocialRFB</th>\n      <th>NomeFantasiaRFB</th>\n      <th>CNAEPrincipal</th>\n      <th>DescCNAEPrincipal</th>\n      <th>Atendida</th>\n      <th>CodigoAssunto</th>\n      <th>DescricaoAssunto</th>\n      <th>CodigoProblema</th>\n      <th>DescricaoProblema</th>\n      <th>SexoConsumidor</th>\n      <th>FaixaEtariaConsumidor</th>\n      <th>CEPConsumidor</th>\n      <th>RadicalCNPJ</th>\n    </tr>\n  </thead>\n  <tbody>\n    <tr>\n      <th>4</th>\n      <td>2010</td>\n      <td>2009-11-09 13:49:15.000</td>\n      <td>2008-09-15 04:50:11.000</td>\n      <td>02</td>\n      <td>Nordeste</td>\n      <td>SE</td>\n      <td>OI MÓVEL</td>\n      <td>NaN</td>\n      <td>1</td>\n      <td>33000118000411</td>\n      <td>NaN</td>\n      <td>TELEMAR NORTE LESTE S/A</td>\n      <td>OI</td>\n      <td>6110801</td>\n      <td>SERVIÇOS DE TELEFONIA FIXA COMUTADA - STFC</td>\n      <td>S</td>\n      <td>187</td>\n      <td>Telefonia Celular</td>\n      <td>134</td>\n      <td>Cobrança indevida/abusiva</td>\n      <td>M</td>\n      <td>entre 21 a 30 anos</td>\n      <td>49035170</td>\n      <td>33000118</td>\n    </tr>\n    <tr>\n      <th>98</th>\n      <td>2010</td>\n      <td>2010-08-10 17:03:22.000</td>\n      <td>2009-03-03 13:29:18.000</td>\n      <td>02</td>\n      <td>Nordeste</td>\n      <td>PE</td>\n      <td>OI FIXO</td>\n      <td>TELEMAR NORTE LESTE S/A</td>\n      <td>1</td>\n      <td>33000118001493</td>\n      <td>NaN</td>\n      <td>TELEMAR NORTE LESTE S/A</td>\n      <td>OI</td>\n      <td>6110801</td>\n      <td>SERVIÇOS DE TELEFONIA FIXA COMUTADA - STFC</td>\n      <td>N</td>\n      <td>186</td>\n      <td>Telefonia Fixa ( Plano de Expansão / Compra e Venda / Locação )</td>\n      <td>134</td>\n      <td>Cobrança indevida/abusiva</td>\n      <td>F</td>\n      <td>mais de 70 anos</td>\n      <td>54150170</td>\n      <td>33000118</td>\n    </tr>\n    <tr>\n      <th>99</th>\n      <td>2010</td>\n      <td>2010-07-26 15:14:29.000</td>\n      <td>2009-12-03 14:49:18.000</td>\n      <td>02</td>\n      <td>Nordeste</td>\n      <td>SE</td>\n      <td>OI MÓVEL</td>\n      <td>NaN</td>\n      <td>1</td>\n      <td>33000118000411</td>\n      <td>NaN</td>\n      <td>TELEMAR NORTE LESTE S/A</td>\n      <td>OI</td>\n      <td>6110801</td>\n      <td>SERVIÇOS DE TELEFONIA FIXA COMUTADA - STFC</td>\n      <td>N</td>\n      <td>187</td>\n      <td>Telefonia Celular</td>\n      <td>138</td>\n      <td>Publicidade abusiva.</td>\n      <td>M</td>\n      <td>entre 21 a 30 anos</td>\n      <td>49060630</td>\n      <td>33000118</td>\n    </tr>\n    <tr>\n      <th>129</th>\n      <td>2010</td>\n      <td>2010-03-30 10:57:49.000</td>\n      <td>2010-01-05 12:43:33.000</td>\n      <td>03</td>\n      <td>Sudeste</td>\n      <td>MG</td>\n      <td>TELEMAR NORTE LESTE SA</td>\n      <td>OI</td>\n      <td>1</td>\n      <td>33000118000179</td>\n      <td>NaN</td>\n      <td>TELEMAR NORTE LESTE S/A</td>\n      <td>OI</td>\n      <td>6110801</td>\n      <td>SERVIÇOS DE TELEFONIA FIXA COMUTADA - STFC</td>\n      <td>S</td>\n      <td>186</td>\n      <td>Telefonia Fixa ( Plano de Expansão / Compra e Venda / Locação )</td>\n      <td>134</td>\n      <td>Cobrança indevida/abusiva</td>\n      <td>M</td>\n      <td>entre 51 a 60 anos</td>\n      <td>31110050</td>\n      <td>33000118</td>\n    </tr>\n    <tr>\n      <th>235</th>\n      <td>2010</td>\n      <td>2010-07-26 12:17:43.000</td>\n      <td>2010-06-16 17:02:01.000</td>\n      <td>03</td>\n      <td>Sudeste</td>\n      <td>ES</td>\n      <td>TELEMAR NORTE LESTE SA</td>\n      <td>OI</td>\n      <td>1</td>\n      <td>33000118000250</td>\n      <td>NaN</td>\n      <td>TELEMAR NORTE LESTE S/A</td>\n      <td>OI</td>\n      <td>6110801</td>\n      <td>SERVIÇOS DE TELEFONIA FIXA COMUTADA - STFC</td>\n      <td>S</td>\n      <td>279</td>\n      <td>Informática (Ex.:Provedor de Acesso a Internet)</td>\n      <td>196</td>\n      <td>Duvida sobre cobrança/valor/reajuste/contrato/orçamento.</td>\n      <td>F</td>\n      <td>entre 21 a 30 anos</td>\n      <td>29017050</td>\n      <td>33000118</td>\n    </tr>\n    <tr>\n      <th>...</th>\n      <td>...</td>\n      <td>...</td>\n      <td>...</td>\n      <td>...</td>\n      <td>...</td>\n      <td>...</td>\n      <td>...</td>\n      <td>...</td>\n      <td>...</td>\n      <td>...</td>\n      <td>...</td>\n      <td>...</td>\n      <td>...</td>\n      <td>...</td>\n      <td>...</td>\n      <td>...</td>\n      <td>...</td>\n      <td>...</td>\n      <td>...</td>\n      <td>...</td>\n      <td>...</td>\n      <td>...</td>\n      <td>...</td>\n      <td>...</td>\n    </tr>\n    <tr>\n      <th>38975</th>\n      <td>2018</td>\n      <td>2018-09-04 14:54:12.000</td>\n      <td>2018-02-15 09:56:20.000</td>\n      <td>3</td>\n      <td>Sudeste</td>\n      <td>MG</td>\n      <td>TELEMAR NORTE E LESTE SA</td>\n      <td>TELEMAR (OI FIXO E MÓVEL, OI PAGGO, VELOX, OI NET)</td>\n      <td>1</td>\n      <td>33000118000330</td>\n      <td>NaN</td>\n      <td>TELEMAR NORTE LESTE S/A</td>\n      <td>OI</td>\n      <td>6110801</td>\n      <td>SERVIÇOS DE TELEFONIA FIXA COMUTADA - STFC</td>\n      <td>S</td>\n      <td>101</td>\n      <td>Telefone ( Convencional, Celular, Interfone, Etc. )</td>\n      <td>NaN</td>\n      <td>NaN</td>\n      <td>M</td>\n      <td>entre 41 a 50 anos</td>\n      <td>35051350</td>\n      <td>33000118</td>\n    </tr>\n    <tr>\n      <th>38980</th>\n      <td>2018</td>\n      <td>2018-12-10 16:40:43.000</td>\n      <td>2018-11-07 11:00:49.000</td>\n      <td>3</td>\n      <td>Sudeste</td>\n      <td>MG</td>\n      <td>TELEMAR NORTE E LESTE SA</td>\n      <td>TELEMAR (OI FIXO E MÓVEL, OI PAGGO, VELOX, OI NET)</td>\n      <td>1</td>\n      <td>33000118000330</td>\n      <td>NaN</td>\n      <td>TELEMAR NORTE LESTE S/A</td>\n      <td>OI</td>\n      <td>6110801</td>\n      <td>SERVIÇOS DE TELEFONIA FIXA COMUTADA - STFC</td>\n      <td>S</td>\n      <td>187</td>\n      <td>Telefonia Celular</td>\n      <td>NaN</td>\n      <td>NaN</td>\n      <td>F</td>\n      <td>entre 61 a 70 anos</td>\n      <td>35057710</td>\n      <td>33000118</td>\n    </tr>\n    <tr>\n      <th>38981</th>\n      <td>2018</td>\n      <td>2018-12-10 16:44:47.000</td>\n      <td>2018-10-31 14:30:52.000</td>\n      <td>3</td>\n      <td>Sudeste</td>\n      <td>MG</td>\n      <td>TELEMAR NORTE E LESTE SA</td>\n      <td>TELEMAR (OI FIXO E MÓVEL, OI PAGGO, VELOX, OI NET)</td>\n      <td>1</td>\n      <td>33000118000330</td>\n      <td>NaN</td>\n      <td>TELEMAR NORTE LESTE S/A</td>\n      <td>OI</td>\n      <td>6110801</td>\n      <td>SERVIÇOS DE TELEFONIA FIXA COMUTADA - STFC</td>\n      <td>S</td>\n      <td>186</td>\n      <td>Telefonia Fixa ( Plano de Expansão / Compra e Venda / Locação )</td>\n      <td>NaN</td>\n      <td>NaN</td>\n      <td>F</td>\n      <td>entre 61 a 70 anos</td>\n      <td>35010210</td>\n      <td>33000118</td>\n    </tr>\n    <tr>\n      <th>39030</th>\n      <td>2018</td>\n      <td>2018-10-04 09:01:09.000</td>\n      <td>2018-09-13 08:57:39.000</td>\n      <td>3</td>\n      <td>Sudeste</td>\n      <td>MG</td>\n      <td>TELEMAR NORTE E LESTE SA</td>\n      <td>TELEMAR (OI FIXO E MÓVEL, OI PAGGO, VELOX, OI NET)</td>\n      <td>1</td>\n      <td>33000118000330</td>\n      <td>NaN</td>\n      <td>TELEMAR NORTE LESTE S/A</td>\n      <td>OI</td>\n      <td>6110801</td>\n      <td>SERVIÇOS DE TELEFONIA FIXA COMUTADA - STFC</td>\n      <td>S</td>\n      <td>186</td>\n      <td>Telefonia Fixa ( Plano de Expansão / Compra e Venda / Locação )</td>\n      <td>NaN</td>\n      <td>NaN</td>\n      <td>F</td>\n      <td>entre 21 a 30 anos</td>\n      <td>35053210</td>\n      <td>33000118</td>\n    </tr>\n    <tr>\n      <th>39040</th>\n      <td>2018</td>\n      <td>2018-10-03 10:03:40.000</td>\n      <td>2018-08-30 14:59:27.000</td>\n      <td>3</td>\n      <td>Sudeste</td>\n      <td>MG</td>\n      <td>TELEMAR NORTE E LESTE SA</td>\n      <td>TELEMAR (OI FIXO E MÓVEL, OI PAGGO, VELOX, OI NET)</td>\n      <td>1</td>\n      <td>33000118000330</td>\n      <td>NaN</td>\n      <td>TELEMAR NORTE LESTE S/A</td>\n      <td>OI</td>\n      <td>6110801</td>\n      <td>SERVIÇOS DE TELEFONIA FIXA COMUTADA - STFC</td>\n      <td>S</td>\n      <td>186</td>\n      <td>Telefonia Fixa ( Plano de Expansão / Compra e Venda / Locação )</td>\n      <td>NaN</td>\n      <td>NaN</td>\n      <td>F</td>\n      <td>entre 61 a 70 anos</td>\n      <td>35060020</td>\n      <td>33000118</td>\n    </tr>\n  </tbody>\n</table>\n<p>33760 rows × 24 columns</p>\n</div>"
     },
     "execution_count": 27,
     "metadata": {},
     "output_type": "execute_result"
    }
   ],
   "source": [
    "df2[(df2['RadicalCNPJ'] == \"33000118\")]"
   ]
  },
  {
   "cell_type": "code",
   "execution_count": 28,
   "metadata": {
    "pycharm": {
     "name": "#%%\n"
    }
   },
   "outputs": [
    {
     "data": {
      "text/plain": "array([nan, '00000000', '28196889', '00655522', '68181221', '06043050',\n       '0'], dtype=object)"
     },
     "execution_count": 28,
     "metadata": {},
     "output_type": "execute_result"
    }
   ],
   "source": [
    "df2[(df2['strRazaoSocial'] == \"BANCO DO BRASIL\")]['RadicalCNPJ'].unique()"
   ]
  },
  {
   "cell_type": "markdown",
   "metadata": {
    "pycharm": {
     "name": "#%% md\n"
    }
   },
   "source": [
    "Analisando a consulta pelos radicais de CNPJ, pode-se notar que Razão Social das empresas muitas vezes vem com diferentes escritas.\n"
   ]
  },
  {
   "cell_type": "markdown",
   "metadata": {
    "pycharm": {
     "name": "#%% md\n"
    }
   },
   "source": [
    "Algumas empresas possuem a mesma razão social porém com radicais de CNPJ distintos, tais como a\n",
    "\"TELEMAR NORTE LESTE S/A\", \"BANCO DO BRASIL\", \"CAIXA ECONÔMICA FEDERAL\"\n"
   ]
  },
  {
   "cell_type": "code",
   "execution_count": 29,
   "metadata": {
    "pycharm": {
     "name": "#%%\n"
    }
   },
   "outputs": [
    {
     "data": {
      "text/plain": "array(['BANCO DO BRASIL SA'], dtype=object)"
     },
     "execution_count": 29,
     "metadata": {},
     "output_type": "execute_result"
    }
   ],
   "source": [
    "df2[(df2['RadicalCNPJ'] == \"0\")]['RazaoSocialRFB'].unique()"
   ]
  },
  {
   "cell_type": "markdown",
   "metadata": {
    "pycharm": {
     "name": "#%% md\n"
    }
   },
   "source": [
    "Foi considerado utilizar a RazaoSocialRFB como strRazaoSocial, porém todos os campos que estão nulos na strRazaoSocial também estão vazios na\n",
    "RazaoSocialRFB/NumeroCNPJ/RadicalCNPJ, portanto nenhum deles é possível constatar qual a empresa que está sendo reclamada. Consequentemente estes\n",
    "serão removidos da base, pois não agregam valor aos dados. Que no total são 11 linhas"
   ]
  },
  {
   "cell_type": "code",
   "execution_count": 30,
   "metadata": {
    "pycharm": {
     "name": "#%%\n"
    }
   },
   "outputs": [],
   "source": [
    "df3 = df2.dropna(subset=[\"strRazaoSocial\"])"
   ]
  },
  {
   "cell_type": "code",
   "execution_count": 31,
   "metadata": {
    "pycharm": {
     "name": "#%%\n"
    }
   },
   "outputs": [
    {
     "name": "stdout",
     "output_type": "stream",
     "text": [
      "Shape of df=(1547972, 24)\n",
      "Number of index levels:1\n",
      "For index level 0,unique values count=268029\n",
      "Columns of df=Index(['AnoCalendario', 'DataArquivamento', 'DataAbertura', 'CodigoRegiao',\n",
      "       'Regiao', 'UF', 'strRazaoSocial', 'strNomeFantasia', 'Tipo',\n",
      "       'NumeroCNPJ', 'radicalCNPJ', 'RazaoSocialRFB', 'NomeFantasiaRFB',\n",
      "       'CNAEPrincipal', 'DescCNAEPrincipal', 'Atendida', 'CodigoAssunto',\n",
      "       'DescricaoAssunto', 'CodigoProblema', 'DescricaoProblema',\n",
      "       'SexoConsumidor', 'FaixaEtariaConsumidor', 'CEPConsumidor',\n",
      "       'RadicalCNPJ'],\n",
      "      dtype='object')\n",
      "Null count= \n",
      " AnoCalendario                  0\n",
      "DataArquivamento              13\n",
      "DataAbertura                   0\n",
      "CodigoRegiao                   0\n",
      "Regiao                         0\n",
      "UF                             0\n",
      "strRazaoSocial                 0\n",
      "strNomeFantasia           248219\n",
      "Tipo                           0\n",
      "NumeroCNPJ                 65821\n",
      "radicalCNPJ              1458322\n",
      "RazaoSocialRFB             86480\n",
      "NomeFantasiaRFB           849497\n",
      "CNAEPrincipal              90197\n",
      "DescCNAEPrincipal         106552\n",
      "Atendida                       0\n",
      "CodigoAssunto                  0\n",
      "DescricaoAssunto               0\n",
      "CodigoProblema             44950\n",
      "DescricaoProblema          44950\n",
      "SexoConsumidor               973\n",
      "FaixaEtariaConsumidor          0\n",
      "CEPConsumidor                  0\n",
      "RadicalCNPJ               156889\n",
      "dtype: int64\n",
      "       AnoCalendario         DataArquivamento             DataAbertura  \\\n",
      "count        1547972                  1547959                  1547972   \n",
      "unique            10                   941064                  1232417   \n",
      "top             2014  2015-12-31 00:00:00.000  2015-11-19 00:56:46.000   \n",
      "freq          249828                     1496                      185   \n",
      "\n",
      "       CodigoRegiao   Regiao       UF strRazaoSocial strNomeFantasia     Tipo  \\\n",
      "count       1547972  1547972  1547972        1547972         1299753  1547972   \n",
      "unique           10        5       26         139024          100474        2   \n",
      "top              03  Sudeste       SP       CLARO SA              OI        1   \n",
      "freq         504075   549038   268530          24925           23094  1544253   \n",
      "\n",
      "            NumeroCNPJ radicalCNPJ           RazaoSocialRFB NomeFantasiaRFB  \\\n",
      "count          1482151       89650                  1461492          698475   \n",
      "unique          110707        7206                    80995           50377   \n",
      "top     33000118000179     4667337  TELEMAR NORTE LESTE S/A              OI   \n",
      "freq             20683        3076                    35584           70973   \n",
      "\n",
      "       CNAEPrincipal                         DescCNAEPrincipal Atendida  \\\n",
      "count        1457775                                   1441420  1547972   \n",
      "unique          1007                                       983        2   \n",
      "top          6422100  BANCOS MÚLTIPLOS, COM CARTEIRA COMERCIAL        S   \n",
      "freq          146177                                    146177   969350   \n",
      "\n",
      "       CodigoAssunto                                     DescricaoAssunto  \\\n",
      "count        1547972                                              1547972   \n",
      "unique           242                                                  223   \n",
      "top              101  Telefone ( Convencional, Celular, Interfone, Etc. )   \n",
      "freq          183492                                               183492   \n",
      "\n",
      "       CodigoProblema  DescricaoProblema SexoConsumidor FaixaEtariaConsumidor  \\\n",
      "count         1503022            1503022        1546999               1547972   \n",
      "unique           2126                225              3                     9   \n",
      "top               105  Produto com vício              F    entre 31 a 40 anos   \n",
      "freq           280866             241909         817948                359060   \n",
      "\n",
      "       CEPConsumidor RadicalCNPJ  \n",
      "count        1547972     1391083  \n",
      "unique        289599       82461  \n",
      "top         65000000    33000118  \n",
      "freq            7734       33760  \n"
     ]
    }
   ],
   "source": [
    "view_df_stats(df3)"
   ]
  },
  {
   "cell_type": "code",
   "execution_count": 32,
   "metadata": {
    "pycharm": {
     "name": "#%%\n"
    }
   },
   "outputs": [
    {
     "data": {
      "text/plain": "array(['BOA FORMA MOVEIS', 'ELETRÔNICA AMAPÁ', 'SONOREM', ..., 'MASTER',\n       'ALEXANDRE PEDREIRO', 'JEAN CARLOS'], dtype=object)"
     },
     "execution_count": 32,
     "metadata": {},
     "output_type": "execute_result"
    }
   ],
   "source": [
    "df3[df3['NumeroCNPJ'].isnull()]['strRazaoSocial'].unique()"
   ]
  },
  {
   "cell_type": "markdown",
   "metadata": {
    "pycharm": {
     "name": "#%% md\n"
    }
   },
   "source": [
    "Plot Faixa etária por quantidade de reclamações.\n",
    "https://pandas.pydata.org/docs/reference/api/pandas.DataFrame.plot.bar.html"
   ]
  },
  {
   "cell_type": "code",
   "execution_count": 33,
   "metadata": {
    "pycharm": {
     "name": "#%%\n"
    }
   },
   "outputs": [
    {
     "data": {
      "text/plain": "<matplotlib.axes._subplots.AxesSubplot at 0x7efdf63c7640>"
     },
     "execution_count": 33,
     "metadata": {},
     "output_type": "execute_result"
    },
    {
     "data": {
      "text/plain": "<Figure size 432x288 with 1 Axes>",
      "image/png": "[encoded data removed]"
     },
     "metadata": {
      "needs_background": "light"
     },
     "output_type": "display_data"
    }
   ],
   "source": [
    "from collections import Counter\n",
    "age_counter = Counter(df['FaixaEtariaConsumidor'])\n",
    "df = pd.DataFrame.from_dict(age_counter, orient='index')\n",
    "df.plot(kind='bar')"
   ]
  },
  {
   "cell_type": "code",
   "execution_count": 34,
   "outputs": [],
   "source": [
    "dfceps = pd.read_csv(\"../data/ceps.csv\", header=0, encoding=\"UTF-8\", delimiter=\"\\t\", dtype=\"str\")"
   ],
   "metadata": {
    "collapsed": false,
    "pycharm": {
     "name": "#%%\n"
    }
   }
  },
  {
   "cell_type": "code",
   "execution_count": 35,
   "outputs": [
    {
     "name": "stdout",
     "output_type": "stream",
     "text": [
      "Shape of df=(732763, 5)\n",
      "Number of index levels:1\n",
      "For index level 0,unique values count=732763\n",
      "Columns of df=Index(['CEP', 'cidadeEstado', 'bairro', 'rua', 'complemento'], dtype='object')\n",
      "Null count= \n",
      " CEP                  0\n",
      "cidadeEstado         0\n",
      "bairro           12018\n",
      "rua              10040\n",
      "complemento     706454\n",
      "dtype: int64\n",
      "             CEP  cidadeEstado  bairro                  rua  \\\n",
      "count     732763        732763  720745               722723   \n",
      "unique    732763         10443   18931               507668   \n",
      "top     86020440  São Paulo/SP  Centro  Rua Principal, s/n    \n",
      "freq           1         57175   31391                 1087   \n",
      "\n",
      "                     complemento  \n",
      "count                      26309  \n",
      "unique                     24193  \n",
      "top      Caixa Econômica Federal  \n",
      "freq                          35  \n"
     ]
    }
   ],
   "source": [
    "view_df_stats(dfceps)"
   ],
   "metadata": {
    "collapsed": false,
    "pycharm": {
     "name": "#%%\n"
    }
   }
  },
  {
   "cell_type": "markdown",
   "source": [
    "A tabela unificada que foi criada através da base dos CEPs foi gerada com as cidades e UFs na mesma colunas\n",
    "separadas por '/' foi necessário separar ambos e inserir em 2 colunas separadas para simplificar as análises"
   ],
   "metadata": {
    "collapsed": false,
    "pycharm": {
     "name": "#%% md\n"
    }
   }
  },
  {
   "cell_type": "code",
   "execution_count": 36,
   "outputs": [
    {
     "data": {
      "text/plain": "                               0               1\n0                      São Paulo              SP\n1                      São Paulo              SP\n2                      São Paulo              SP\n3                      São Paulo              SP\n4                      São Paulo              SP\n...                          ...             ...\n732758  São João Bosco (Ciríaco)  RS  - Distrito\n732759     Cruzaltinha (Ciríaco)  RS  - Distrito\n732760           David Canabarro              RS\n732761           David Canabarro              RS\n732762           David Canabarro              RS\n\n[732763 rows x 2 columns]",
      "text/html": "<div>\n<style scoped>\n    .dataframe tbody tr th:only-of-type {\n        vertical-align: middle;\n    }\n\n    .dataframe tbody tr th {\n        vertical-align: top;\n    }\n\n    .dataframe thead th {\n        text-align: right;\n    }\n</style>\n<table border=\"1\" class=\"dataframe\">\n  <thead>\n    <tr style=\"text-align: right;\">\n      <th></th>\n      <th>0</th>\n      <th>1</th>\n    </tr>\n  </thead>\n  <tbody>\n    <tr>\n      <th>0</th>\n      <td>São Paulo</td>\n      <td>SP</td>\n    </tr>\n    <tr>\n      <th>1</th>\n      <td>São Paulo</td>\n      <td>SP</td>\n    </tr>\n    <tr>\n      <th>2</th>\n      <td>São Paulo</td>\n      <td>SP</td>\n    </tr>\n    <tr>\n      <th>3</th>\n      <td>São Paulo</td>\n      <td>SP</td>\n    </tr>\n    <tr>\n      <th>4</th>\n      <td>São Paulo</td>\n      <td>SP</td>\n    </tr>\n    <tr>\n      <th>...</th>\n      <td>...</td>\n      <td>...</td>\n    </tr>\n    <tr>\n      <th>732758</th>\n      <td>São João Bosco (Ciríaco)</td>\n      <td>RS  - Distrito</td>\n    </tr>\n    <tr>\n      <th>732759</th>\n      <td>Cruzaltinha (Ciríaco)</td>\n      <td>RS  - Distrito</td>\n    </tr>\n    <tr>\n      <th>732760</th>\n      <td>David Canabarro</td>\n      <td>RS</td>\n    </tr>\n    <tr>\n      <th>732761</th>\n      <td>David Canabarro</td>\n      <td>RS</td>\n    </tr>\n    <tr>\n      <th>732762</th>\n      <td>David Canabarro</td>\n      <td>RS</td>\n    </tr>\n  </tbody>\n</table>\n<p>732763 rows × 2 columns</p>\n</div>"
     },
     "execution_count": 36,
     "metadata": {},
     "output_type": "execute_result"
    }
   ],
   "source": [
    "dfceps.cidadeEstado.str.split(\"/\", expand=True)"
   ],
   "metadata": {
    "collapsed": false,
    "pycharm": {
     "name": "#%%\n"
    }
   }
  },
  {
   "cell_type": "code",
   "execution_count": 37,
   "outputs": [],
   "source": [
    "dfceps[['cidade','estado']] = dfceps.cidadeEstado.str.split(\"/\", expand=True)"
   ],
   "metadata": {
    "collapsed": false,
    "pycharm": {
     "name": "#%%\n"
    }
   }
  },
  {
   "cell_type": "code",
   "execution_count": 38,
   "outputs": [
    {
     "data": {
      "text/plain": "array(['SP', 'SP  - Distrito', 'SP  - Povoado', 'RJ', 'RJ  - Distrito',\n       'RJ  - Povoado', 'ES', 'ES  - Distrito', 'ES  - Povoado', 'MG',\n       'MG  - Distrito', 'MG  - Povoado', 'BA', 'BA  - Distrito',\n       'BA  - Povoado', 'SE', 'SE  - Distrito', 'PE', 'PE  - Povoado',\n       'PE  - Distrito', 'AL', 'AL  - Povoado', 'AL  - Distrito', 'PB',\n       'PB  - Distrito', 'PB  - Povoado', 'RN', 'RN  - Distrito',\n       'RN  - Povoado', 'CE', 'CE  - Distrito', 'CE  - Povoado', 'PI',\n       'PI  - Povoado', 'MA', 'MA  - Distrito', 'MA  - Povoado', 'PA',\n       'PA  - Distrito', 'PA  - Povoado', 'AP', 'AP  - Povoado',\n       'AP  - Distrito', 'AM', 'AM  - Distrito', 'AM  - Povoado', 'RR',\n       'RR  - Distrito', 'AC', 'AC  - Distrito', 'DF', 'GO',\n       'GO  - Distrito', 'GO  - Povoado', 'RO', 'RO  - Distrito',\n       'RO  - Povoado', 'TO', 'TO  - Distrito', 'TO  - Povoado', 'MT',\n       'MT  - Povoado', 'MT  - Distrito', 'MS', 'MS  - Distrito', 'PR',\n       'PR  - Povoado', 'PR  - Distrito', 'SC', 'SC  - Distrito', 'RS',\n       'RS  - Distrito', 'RS  - Povoado'], dtype=object)"
     },
     "execution_count": 38,
     "metadata": {},
     "output_type": "execute_result"
    }
   ],
   "source": [
    "dfceps['estado'].unique()"
   ],
   "metadata": {
    "collapsed": false,
    "pycharm": {
     "name": "#%%\n"
    }
   }
  },
  {
   "cell_type": "markdown",
   "source": [
    "Algumas UFs estão constatando como \"- Povoado\" e \"- Distrito\",\n",
    "sendo necessária a remoção desses dados para a unificação das UFs"
   ],
   "metadata": {
    "collapsed": false,
    "pycharm": {
     "name": "#%% md\n"
    }
   }
  },
  {
   "cell_type": "code",
   "execution_count": 39,
   "outputs": [
    {
     "data": {
      "text/plain": "array(['SP', 'RJ', 'ES', 'MG', 'BA', 'SE', 'PE', 'AL', 'PB', 'RN', 'CE',\n       'PI', 'MA', 'PA', 'AP', 'AM', 'RR', 'AC', 'DF', 'GO', 'RO', 'TO',\n       'MT', 'MS', 'PR', 'SC', 'RS'], dtype=object)"
     },
     "execution_count": 39,
     "metadata": {},
     "output_type": "execute_result"
    }
   ],
   "source": [
    "dfceps['estado'] = dfceps['estado'].str.replace(\"  - Povoado\",\"\")\n",
    "dfceps['estado'] = dfceps['estado'].str.replace(\"  - Distrito\",\"\")\n",
    "dfceps['estado'].unique()"
   ],
   "metadata": {
    "collapsed": false,
    "pycharm": {
     "name": "#%%\n"
    }
   }
  },
  {
   "cell_type": "code",
   "execution_count": 40,
   "outputs": [
    {
     "data": {
      "text/plain": "        CEP  cidadeEstado bairro                       rua  \\\n0  01001000  São Paulo/SP     Sé  Praça da Sé - lado ímpar   \n1  01001001  São Paulo/SP     Sé    Praça da Sé - lado par   \n2  01001010  São Paulo/SP     Sé    Rua Filipe de Oliveira   \n3  01001900  São Paulo/SP     Sé         Praça da Sé, 108    \n4  01001901  São Paulo/SP     Sé         Praça da Sé, 371    \n\n                                              complemento     cidade estado  \n0                                                     NaN  São Paulo     SP  \n1                                                     NaN  São Paulo     SP  \n2                                                     NaN  São Paulo     SP  \n3   UNESP - Universidade Estadual Júlio de Mesquita Filho  São Paulo     SP  \n4                                    Edifício Santa Lídia  São Paulo     SP  ",
      "text/html": "<div>\n<style scoped>\n    .dataframe tbody tr th:only-of-type {\n        vertical-align: middle;\n    }\n\n    .dataframe tbody tr th {\n        vertical-align: top;\n    }\n\n    .dataframe thead th {\n        text-align: right;\n    }\n</style>\n<table border=\"1\" class=\"dataframe\">\n  <thead>\n    <tr style=\"text-align: right;\">\n      <th></th>\n      <th>CEP</th>\n      <th>cidadeEstado</th>\n      <th>bairro</th>\n      <th>rua</th>\n      <th>complemento</th>\n      <th>cidade</th>\n      <th>estado</th>\n    </tr>\n  </thead>\n  <tbody>\n    <tr>\n      <th>0</th>\n      <td>01001000</td>\n      <td>São Paulo/SP</td>\n      <td>Sé</td>\n      <td>Praça da Sé - lado ímpar</td>\n      <td>NaN</td>\n      <td>São Paulo</td>\n      <td>SP</td>\n    </tr>\n    <tr>\n      <th>1</th>\n      <td>01001001</td>\n      <td>São Paulo/SP</td>\n      <td>Sé</td>\n      <td>Praça da Sé - lado par</td>\n      <td>NaN</td>\n      <td>São Paulo</td>\n      <td>SP</td>\n    </tr>\n    <tr>\n      <th>2</th>\n      <td>01001010</td>\n      <td>São Paulo/SP</td>\n      <td>Sé</td>\n      <td>Rua Filipe de Oliveira</td>\n      <td>NaN</td>\n      <td>São Paulo</td>\n      <td>SP</td>\n    </tr>\n    <tr>\n      <th>3</th>\n      <td>01001900</td>\n      <td>São Paulo/SP</td>\n      <td>Sé</td>\n      <td>Praça da Sé, 108</td>\n      <td>UNESP - Universidade Estadual Júlio de Mesquita Filho</td>\n      <td>São Paulo</td>\n      <td>SP</td>\n    </tr>\n    <tr>\n      <th>4</th>\n      <td>01001901</td>\n      <td>São Paulo/SP</td>\n      <td>Sé</td>\n      <td>Praça da Sé, 371</td>\n      <td>Edifício Santa Lídia</td>\n      <td>São Paulo</td>\n      <td>SP</td>\n    </tr>\n  </tbody>\n</table>\n</div>"
     },
     "execution_count": 40,
     "metadata": {},
     "output_type": "execute_result"
    }
   ],
   "source": [
    "dfceps.head()"
   ],
   "metadata": {
    "collapsed": false,
    "pycharm": {
     "name": "#%%\n"
    }
   }
  },
  {
   "cell_type": "code",
   "execution_count": 41,
   "outputs": [],
   "source": [
    "joinDF = pd.merge(df3,dfceps,left_on=\"CEPConsumidor\", right_on=\"CEP\")"
   ],
   "metadata": {
    "collapsed": false,
    "pycharm": {
     "name": "#%%\n"
    }
   }
  },
  {
   "cell_type": "code",
   "execution_count": 42,
   "outputs": [
    {
     "name": "stdout",
     "output_type": "stream",
     "text": [
      "Shape of df=(1053788, 31)\n",
      "Number of index levels:1\n",
      "For index level 0,unique values count=1053788\n",
      "Columns of df=Index(['AnoCalendario', 'DataArquivamento', 'DataAbertura', 'CodigoRegiao',\n",
      "       'Regiao', 'UF', 'strRazaoSocial', 'strNomeFantasia', 'Tipo',\n",
      "       'NumeroCNPJ', 'radicalCNPJ', 'RazaoSocialRFB', 'NomeFantasiaRFB',\n",
      "       'CNAEPrincipal', 'DescCNAEPrincipal', 'Atendida', 'CodigoAssunto',\n",
      "       'DescricaoAssunto', 'CodigoProblema', 'DescricaoProblema',\n",
      "       'SexoConsumidor', 'FaixaEtariaConsumidor', 'CEPConsumidor',\n",
      "       'RadicalCNPJ', 'CEP', 'cidadeEstado', 'bairro', 'rua', 'complemento',\n",
      "       'cidade', 'estado'],\n",
      "      dtype='object')\n",
      "Null count= \n",
      " AnoCalendario                  0\n",
      "DataArquivamento               0\n",
      "DataAbertura                   0\n",
      "CodigoRegiao                   0\n",
      "Regiao                         0\n",
      "UF                             0\n",
      "strRazaoSocial                 0\n",
      "strNomeFantasia           183566\n",
      "Tipo                           0\n",
      "NumeroCNPJ                 46159\n",
      "radicalCNPJ               999458\n",
      "RazaoSocialRFB             58909\n",
      "NomeFantasiaRFB           586695\n",
      "CNAEPrincipal              61149\n",
      "DescCNAEPrincipal          71630\n",
      "Atendida                       0\n",
      "CodigoAssunto                  0\n",
      "DescricaoAssunto               0\n",
      "CodigoProblema             14908\n",
      "DescricaoProblema          14908\n",
      "SexoConsumidor               930\n",
      "FaixaEtariaConsumidor          0\n",
      "CEPConsumidor                  0\n",
      "RadicalCNPJ               101362\n",
      "CEP                            0\n",
      "cidadeEstado                   0\n",
      "bairro                    144175\n",
      "rua                       143984\n",
      "complemento              1045921\n",
      "cidade                         0\n",
      "estado                         0\n",
      "dtype: int64\n",
      "       AnoCalendario         DataArquivamento             DataAbertura  \\\n",
      "count        1053788                  1053788                  1053788   \n",
      "unique            10                   652368                   851944   \n",
      "top             2013  2015-12-31 00:00:00.000  2015-11-19 00:56:46.000   \n",
      "freq          175542                     1486                      181   \n",
      "\n",
      "       CodigoRegiao   Regiao       UF strRazaoSocial strNomeFantasia     Tipo  \\\n",
      "count       1053788  1053788  1053788        1053788          870222  1053788   \n",
      "unique           10        5       26         105412           76429        2   \n",
      "top              03  Sudeste       SP       CLARO SA           CLARO        1   \n",
      "freq         372259   388732   208393          16770           14047  1051267   \n",
      "\n",
      "            NumeroCNPJ radicalCNPJ           RazaoSocialRFB NomeFantasiaRFB  \\\n",
      "count          1007629       54330                   994879          467093   \n",
      "unique           84790        5257                    62826           39073   \n",
      "top     40432544000147     4667337  TELEMAR NORTE LESTE S/A              OI   \n",
      "freq             14193        1773                    25456           49342   \n",
      "\n",
      "       CNAEPrincipal                         DescCNAEPrincipal Atendida  \\\n",
      "count         992639                                    982158  1053788   \n",
      "unique           972                                       951        2   \n",
      "top          6422100  BANCOS MÚLTIPLOS, COM CARTEIRA COMERCIAL        S   \n",
      "freq           97860                                     97860   647079   \n",
      "\n",
      "       CodigoAssunto                                     DescricaoAssunto  \\\n",
      "count        1053788                                              1053788   \n",
      "unique           236                                                  223   \n",
      "top              101  Telefone ( Convencional, Celular, Interfone, Etc. )   \n",
      "freq          118690                                               118690   \n",
      "\n",
      "       CodigoProblema  DescricaoProblema SexoConsumidor FaixaEtariaConsumidor  \\\n",
      "count         1038880            1038880        1052858               1053788   \n",
      "unique           1682                225              3                     8   \n",
      "top               105  Produto com vício              F    entre 31 a 40 anos   \n",
      "freq           198183             169704         558524                236324   \n",
      "\n",
      "       CEPConsumidor RadicalCNPJ       CEP  cidadeEstado  bairro  \\\n",
      "count        1053788      952426   1053788       1053788  909613   \n",
      "unique        189752       62977    189752          3897    9873   \n",
      "top         75690000    33000118  75690000  São Paulo/SP  Centro   \n",
      "freq            6205       24104      6205        151589   34106   \n",
      "\n",
      "                                      rua                  complemento  \\\n",
      "count                              909804                         7867   \n",
      "unique                             144466                         1180   \n",
      "top     SCS Quadra 8 Bloco B Lotes 50/60    Super Center Venâncio 2000   \n",
      "freq                                 2677                         2677   \n",
      "\n",
      "           cidade   estado  \n",
      "count     1053788  1053788  \n",
      "unique       3763       27  \n",
      "top     São Paulo       SP  \n",
      "freq       151589   208495  \n"
     ]
    }
   ],
   "source": [
    "view_df_stats(joinDF)"
   ],
   "metadata": {
    "collapsed": false,
    "pycharm": {
     "name": "#%%\n"
    }
   }
  },
  {
   "cell_type": "markdown",
   "source": [
    "Após a união da base de CEPs com a base do PROCON utilizando um inner join, foi constatado que alguns CEPs não constam na base coletada,\n",
    "gerando uma base final com 1.053.788 linhas e 30 colunas.\n",
    "\n",
    "Será necessário avaliar outras bases de CEPs para que não haja a perda de 494.184 registros, quase 30% da base."
   ],
   "metadata": {
    "collapsed": false,
    "pycharm": {
     "name": "#%% md\n"
    }
   }
  },
  {
   "cell_type": "markdown",
   "source": [
    "## Árvores de Decisão\n",
    "\n",
    "Todo o planejamento e passo a passo\n",
    "\n",
    "Calcular a entropia.\n",
    "Calcular o ganho.\n",
    "\n",
    "Quais a variaveis usadas.\n",
    "Como foi feito o calculo.\n",
    "Como foi feita a árvore de decisão.\n",
    "Como foi aplicado (código).\n",
    "Mostrar a árvore gerada.\n"
   ],
   "metadata": {
    "collapsed": false,
    "pycharm": {
     "name": "#%% md\n"
    }
   }
  },
  {
   "cell_type": "markdown",
   "source": [
    "Cálculo da entropia:\n",
    "\n",
    "![alt text](https://miro.medium.com/max/391/1*nNY_7_aWRwp8E2DyGduEPg.png)"
   ],
   "metadata": {
    "collapsed": false,
    "pycharm": {
     "name": "#%% md\n"
    }
   }
  },
  {
   "cell_type": "code",
   "execution_count": 43,
   "outputs": [],
   "source": [
    "import numpy as np\n",
    "from math import e\n",
    "import pandas as pd\n",
    "\n",
    "\"\"\" Usage: pandas_entropy(df['column1']) \"\"\"\n",
    "\n",
    "def pandas_entropy(column, base=None):\n",
    "    vc = pd.Series(column).value_counts(normalize=True, sort=False)\n",
    "    base = e if base is None else base\n",
    "    return -(vc * np.log(vc)/np.log(base)).sum()"
   ],
   "metadata": {
    "collapsed": false,
    "pycharm": {
     "name": "#%%\n"
    }
   }
  },
  {
   "cell_type": "markdown",
   "source": [
    "Pegar uma coluna, e verificar o valor se é positivo ou negativo da segunda coluna, separando os valores da primeira coluna"
   ],
   "metadata": {
    "collapsed": false,
    "pycharm": {
     "name": "#%% md\n"
    }
   }
  },
  {
   "cell_type": "code",
   "execution_count": 44,
   "outputs": [
    {
     "data": {
      "text/plain": "        CodigoAssunto Atendida\n0                 100        S\n1                 100        S\n2                 100        S\n3                 101        S\n4                 100        S\n...               ...      ...\n1053783           122        S\n1053784           124        S\n1053785           124        S\n1053786            95        N\n1053787            95        N\n\n[1053788 rows x 2 columns]",
      "text/html": "<div>\n<style scoped>\n    .dataframe tbody tr th:only-of-type {\n        vertical-align: middle;\n    }\n\n    .dataframe tbody tr th {\n        vertical-align: top;\n    }\n\n    .dataframe thead th {\n        text-align: right;\n    }\n</style>\n<table border=\"1\" class=\"dataframe\">\n  <thead>\n    <tr style=\"text-align: right;\">\n      <th></th>\n      <th>CodigoAssunto</th>\n      <th>Atendida</th>\n    </tr>\n  </thead>\n  <tbody>\n    <tr>\n      <th>0</th>\n      <td>100</td>\n      <td>S</td>\n    </tr>\n    <tr>\n      <th>1</th>\n      <td>100</td>\n      <td>S</td>\n    </tr>\n    <tr>\n      <th>2</th>\n      <td>100</td>\n      <td>S</td>\n    </tr>\n    <tr>\n      <th>3</th>\n      <td>101</td>\n      <td>S</td>\n    </tr>\n    <tr>\n      <th>4</th>\n      <td>100</td>\n      <td>S</td>\n    </tr>\n    <tr>\n      <th>...</th>\n      <td>...</td>\n      <td>...</td>\n    </tr>\n    <tr>\n      <th>1053783</th>\n      <td>122</td>\n      <td>S</td>\n    </tr>\n    <tr>\n      <th>1053784</th>\n      <td>124</td>\n      <td>S</td>\n    </tr>\n    <tr>\n      <th>1053785</th>\n      <td>124</td>\n      <td>S</td>\n    </tr>\n    <tr>\n      <th>1053786</th>\n      <td>95</td>\n      <td>N</td>\n    </tr>\n    <tr>\n      <th>1053787</th>\n      <td>95</td>\n      <td>N</td>\n    </tr>\n  </tbody>\n</table>\n<p>1053788 rows × 2 columns</p>\n</div>"
     },
     "execution_count": 44,
     "metadata": {},
     "output_type": "execute_result"
    }
   ],
   "source": [
    "joinDF[['CodigoAssunto','Atendida']]"
   ],
   "metadata": {
    "collapsed": false,
    "pycharm": {
     "name": "#%%\n"
    }
   }
  },
  {
   "cell_type": "code",
   "execution_count": 50,
   "outputs": [
    {
     "data": {
      "text/plain": "1053788"
     },
     "execution_count": 50,
     "metadata": {},
     "output_type": "execute_result"
    }
   ],
   "source": [
    "sizeDF = len(joinDF)\n",
    "sizeDF"
   ],
   "metadata": {
    "collapsed": false,
    "pycharm": {
     "name": "#%%\n"
    }
   }
  },
  {
   "cell_type": "code",
   "execution_count": 47,
   "outputs": [],
   "source": [
    "map = {}\n",
    "\n",
    "for index, row in joinDF[['CodigoAssunto','Atendida']].iterrows():\n",
    "    if row[\"CodigoAssunto\"] in map:\n",
    "        map[str(row[\"CodigoAssunto\"])][row[\"Atendida\"]] = map.get(row[\"CodigoAssunto\"])[row[\"Atendida\"]] + 1\n",
    "    else:\n",
    "        map[row[\"CodigoAssunto\"]] = {\"S\": 0, \"N\": 0}"
   ],
   "metadata": {
    "collapsed": false,
    "pycharm": {
     "name": "#%%\n"
    }
   }
  },
  {
   "cell_type": "markdown",
   "source": [
    "Entropy calculation by CodigoAssunto and Atendida."
   ],
   "metadata": {
    "collapsed": false,
    "pycharm": {
     "name": "#%% md\n"
    }
   }
  },
  {
   "cell_type": "code",
   "execution_count": 65,
   "outputs": [
    {
     "data": {
      "text/plain": "{'100': {'S': 4630, 'N': 2724, 'entropy': 0.9509868872070678},\n '101': {'S': 77338, 'N': 41351, 'entropy': 0.9326291125415598},\n '92': {'S': 15476, 'N': 5178, 'entropy': 0.8123889416246345},\n '132': {'S': 4476, 'N': 3124, 'entropy': 0.9770498928701676},\n '90': {'S': 4071, 'N': 2007, 'entropy': 0.9151380351177609},\n '224': {'S': 7, 'N': 12, 'entropy': 0.9494520153879484},\n '53': {'S': 28675, 'N': 26451, 'entropy': 0.9988255919474759},\n '186': {'S': 44049, 'N': 16705, 'entropy': 0.848494076179163},\n '54': {'S': 34216, 'N': 24558, 'entropy': 0.9804331960415233},\n '98': {'S': 869, 'N': 514, 'entropy': 0.9519349964307782},\n '74': {'S': 2121, 'N': 1082, 'entropy': 0.9227059457996847},\n '187': {'S': 49399, 'N': 22704, 'entropy': 0.8987297240771887},\n '183': {'S': 9557, 'N': 4163, 'entropy': 0.8854381721575144},\n '185': {'S': 12217, 'N': 9009, 'entropy': 0.9834597377314676},\n '102': {'S': 46377, 'N': 21269, 'entropy': 0.8982056310071569},\n '145': {'S': 1792, 'N': 2359, 'entropy': 0.986499068140799},\n '58': {'S': 1252, 'N': 1207, 'entropy': 0.9997584112223739},\n '63': {'S': 19099, 'N': 16987, 'entropy': 0.9975276890691467},\n '146': {'S': 4601, 'N': 1748, 'entropy': 0.8489938746662848},\n '94': {'S': 23985, 'N': 9517, 'entropy': 0.8609408311292064},\n '255': {'S': 336, 'N': 782, 'entropy': 0.8819459347859334},\n '96': {'S': 27040, 'N': 12225, 'entropy': 0.8947210590366692},\n '129': {'S': 3010, 'N': 4737, 'entropy': 0.9638492564269945},\n '125': {'S': 6815, 'N': 3115, 'entropy': 0.8973937418035736},\n '81': {'S': 1079, 'N': 772, 'entropy': 0.9800649577914124},\n '134': {'S': 4338, 'N': 1955, 'entropy': 0.8939368833700823},\n '252': {'S': 304, 'N': 405, 'entropy': 0.985311642790285},\n '95': {'S': 7044, 'N': 2355, 'entropy': 0.8121622373302273},\n '105': {'S': 3087, 'N': 1994, 'entropy': 0.9663576613625834},\n '120': {'S': 5285, 'N': 2896, 'entropy': 0.9375819011259499},\n '284': {'S': 4185, 'N': 6734, 'entropy': 0.9603235238508474},\n '99': {'S': 436, 'N': 405, 'entropy': 0.9990196654033076},\n '89': {'S': 1866, 'N': 1295, 'entropy': 0.9763323876543868},\n '116': {'S': 44, 'N': 39, 'entropy': 0.9973806632063371},\n '57': {'S': 980, 'N': 1608, 'entropy': 0.9570978294893251},\n '97': {'S': 4765, 'N': 1425, 'entropy': 0.7783772292578638},\n '141': {'S': 3254, 'N': 2100, 'entropy': 0.9662236460089653},\n '123': {'S': 6425, 'N': 4057, 'entropy': 0.9628657220896308},\n '276': {'S': 5123, 'N': 6956, 'entropy': 0.983324200891273},\n '117': {'S': 719, 'N': 236, 'entropy': 0.8066821132841061},\n '93': {'S': 9207, 'N': 3651, 'entropy': 0.8607742738379452},\n '126': {'S': 1088, 'N': 481, 'entropy': 0.889168104416307},\n '254': {'S': 653, 'N': 1750, 'entropy': 0.8439555576370328},\n '156': {'S': 460, 'N': 283, 'entropy': 0.958666979063717},\n '222': {'S': 49, 'N': 29, 'entropy': 0.9520402801398791},\n '253': {'S': 765, 'N': 1573, 'entropy': 0.9120428581939379},\n '82': {'S': 2996, 'N': 8953, 'entropy': 0.8124366973339451},\n '283': {'S': 2251, 'N': 2717, 'entropy': 0.9936438836096904},\n '103': {'S': 4639, 'N': 2148, 'entropy': 0.9005206566897569},\n '147': {'S': 387, 'N': 256, 'entropy': 0.9698484333498963},\n '76': {'S': 15696, 'N': 11148, 'entropy': 0.9791940362307878},\n '236': {'S': 4347, 'N': 4240, 'entropy': 0.9998879942258367},\n '259': {'S': 16676, 'N': 5921, 'entropy': 0.8297881700513666},\n '72': {'S': 562, 'N': 965, 'entropy': 0.9491567472590893},\n '70': {'S': 362, 'N': 245, 'entropy': 0.9730312792709208},\n '108': {'S': 855, 'N': 541, 'entropy': 0.9631908985546059},\n '279': {'S': 10913, 'N': 4122, 'entropy': 0.8473712533764719},\n '118': {'S': 1510, 'N': 1684, 'entropy': 0.9978581540472384},\n '233': {'S': 6027, 'N': 6795, 'entropy': 0.997410502971046},\n '112': {'S': 1061, 'N': 782, 'entropy': 0.9834051533491532},\n '71': {'S': 765, 'N': 249, 'entropy': 0.8041681960431206},\n '106': {'S': 6160, 'N': 2845, 'entropy': 0.8999066783390558},\n '157': {'S': 1853, 'N': 1601, 'entropy': 0.9961568538441963},\n '56': {'S': 363, 'N': 897, 'entropy': 0.8662480122007432},\n '122': {'S': 9500, 'N': 5318, 'entropy': 0.9417561380084007},\n '139': {'S': 2827, 'N': 1055, 'entropy': 0.843988944019439},\n '263': {'S': 227, 'N': 305, 'entropy': 0.9844375792749424},\n '79': {'S': 1838, 'N': 1638, 'entropy': 0.9976106219130143},\n '55': {'S': 7350, 'N': 5186, 'entropy': 0.9783967721499343},\n '140': {'S': 6964, 'N': 3511, 'entropy': 0.920130450855976},\n '286': {'S': 1307, 'N': 1094, 'entropy': 0.9943155231118458},\n '258': {'S': 1106, 'N': 2928, 'entropy': 0.8473842685199366},\n '199': {'S': 977, 'N': 1127, 'entropy': 0.9963305237660639},\n '87': {'S': 842, 'N': 715, 'entropy': 0.9951953987239195},\n '246': {'S': 890, 'N': 1099, 'entropy': 0.9920206124259754},\n '256': {'S': 321, 'N': 634, 'entropy': 0.9210628805412853},\n '249': {'S': 2497, 'N': 2036, 'entropy': 0.9925264654948841},\n '203': {'S': 264, 'N': 354, 'entropy': 0.9846468268687552},\n '88': {'S': 2167, 'N': 1116, 'entropy': 0.9247545647739054},\n '182': {'S': 536, 'N': 666, 'entropy': 0.9915458075374528},\n '282': {'S': 1879, 'N': 1772, 'entropy': 0.999380344057241},\n '248': {'S': 1121, 'N': 1291, 'entropy': 0.996413689314485},\n '64': {'S': 437, 'N': 347, 'entropy': 0.9904730188391648},\n '137': {'S': 3009, 'N': 1389, 'entropy': 0.8997838016853081},\n '277': {'S': 109, 'N': 304, 'entropy': 0.8326080065585859},\n '83': {'S': 550, 'N': 1088, 'entropy': 0.9207185025036574},\n '208': {'S': 133, 'N': 120, 'entropy': 0.9980946205651384},\n '60': {'S': 131, 'N': 300, 'entropy': 0.8860590930794223},\n '124': {'S': 2519, 'N': 2013, 'entropy': 0.9909890274740437},\n '245': {'S': 860, 'N': 544, 'entropy': 0.9631437186755574},\n '127': {'S': 245, 'N': 196, 'entropy': 0.9910760598382222},\n '238': {'S': 31, 'N': 41, 'entropy': 0.9860400318404434},\n '250': {'S': 678, 'N': 713, 'entropy': 0.9995432566767226},\n '61': {'S': 114, 'N': 105, 'entropy': 0.9987813930727558},\n '234': {'S': 2188, 'N': 1759, 'entropy': 0.9914614684856311},\n '181': {'S': 119, 'N': 327, 'entropy': 0.8368588107464969},\n '67': {'S': 567, 'N': 622, 'entropy': 0.9984559505753627},\n '244': {'S': 628, 'N': 711, 'entropy': 0.9972265647542238},\n '247': {'S': 544, 'N': 697, 'entropy': 0.9890076795739703},\n '26': {'S': 11, 'N': 17, 'entropy': 0.9666186325481028},\n '235': {'S': 1693, 'N': 1441, 'entropy': 0.9953310782922571},\n '78': {'S': 168, 'N': 203, 'entropy': 0.9935704757706079},\n '73': {'S': 1882, 'N': 1478, 'entropy': 0.9895460602901949},\n '240': {'S': 107, 'N': 171, 'entropy': 0.9614239950601576},\n '287': {'S': 674, 'N': 368, 'entropy': 0.9368646847875741},\n '91': {'S': 803, 'N': 467, 'entropy': 0.9489026383596734},\n '131': {'S': 2260, 'N': 3354, 'entropy': 0.9724312717689225},\n '288': {'S': 4093, 'N': 1923, 'entropy': 0.9039978310175362},\n '69': {'S': 1946, 'N': 1923, 'entropy': 0.9999745079175857},\n '204': {'S': 326, 'N': 367, 'entropy': 0.9974736156252507},\n '237': {'S': 423, 'N': 544, 'entropy': 0.9886759620932597},\n '184': {'S': 553, 'N': 400, 'entropy': 0.9813266310351434},\n '136': {'S': 285, 'N': 392, 'entropy': 0.9819050516798545},\n '15': {'S': 17, 'N': 26, 'entropy': 0.9681647320759545},\n '133': {'S': 73, 'N': 119, 'entropy': 0.9581890286800805},\n '30': {'S': 25, 'N': 28, 'entropy': 0.9976875760352552},\n '1': {'S': 25, 'N': 55, 'entropy': 0.8960382325345574},\n '200': {'S': 140, 'N': 193, 'entropy': 0.9816491461552417},\n '130': {'S': 476, 'N': 920, 'entropy': 0.9257479094450345},\n '188': {'S': 752, 'N': 343, 'entropy': 0.8968804227452865},\n '215': {'S': 197, 'N': 257, 'entropy': 0.987364087344367},\n '31': {'S': 18, 'N': 17, 'entropy': 0.9994110647387552},\n '207': {'S': 593, 'N': 418, 'entropy': 0.9782775926096525},\n '113': {'S': 123, 'N': 87, 'entropy': 0.9786961448300947},\n '107': {'S': 241, 'N': 118, 'entropy': 0.9135831818561488},\n '38': {'S': 35, 'N': 50, 'entropy': 0.9774178175281716},\n '214': {'S': 121, 'N': 79, 'entropy': 0.9679505356936393},\n '66': {'S': 650, 'N': 987, 'entropy': 0.9692095087137713},\n '285': {'S': 612, 'N': 918, 'entropy': 0.9709505944546686},\n '121': {'S': 1091, 'N': 168, 'entropy': 0.5667954243465883},\n '262': {'S': 350, 'N': 432, 'entropy': 0.9920538381309667},\n '264': {'S': 1450, 'N': 2192, 'entropy': 0.969847924176782},\n '68': {'S': 169, 'N': 212, 'entropy': 0.9907921714852186},\n '109': {'S': 87, 'N': 78, 'entropy': 0.9978527766088781},\n '111': {'S': 1848, 'N': 747, 'entropy': 0.865942461075519},\n '80': {'S': 405, 'N': 566, 'entropy': 0.9800765121540016},\n '213': {'S': 37, 'N': 47, 'entropy': 0.9897525351939972},\n '239': {'S': 90, 'N': 124, 'entropy': 0.9817140837953373},\n '266': {'S': 288, 'N': 1993, 'entropy': 0.5470924199883196},\n '65': {'S': 162, 'N': 125, 'entropy': 0.9879775327730045},\n '274': {'S': 829, 'N': 273, 'entropy': 0.8076626345955706},\n '257': {'S': 100, 'N': 212, 'entropy': 0.9049382594235602},\n '223': {'S': 33, 'N': 43, 'entropy': 0.9874750082985964},\n '19': {'S': 55, 'N': 91, 'entropy': 0.9556869116064717},\n '62': {'S': 1053, 'N': 1117, 'entropy': 0.9993724504793335},\n '84': {'S': 40, 'N': 31, 'entropy': 0.9883779727795041},\n '3': {'S': 76, 'N': 197, 'entropy': 0.8532454213058649},\n '135': {'S': 218, 'N': 129, 'entropy': 0.9520123172728726},\n '8': {'S': 40, 'N': 53, 'entropy': 0.9858587262978803},\n '119': {'S': 254, 'N': 176, 'entropy': 0.9761326744259847},\n '4': {'S': 17, 'N': 24, 'entropy': 0.9788698505067783},\n '201': {'S': 34, 'N': 37, 'entropy': 0.9987117514654893},\n '115': {'S': 122, 'N': 132, 'entropy': 0.998881620087174},\n '219': {'S': 50, 'N': 43, 'entropy': 0.9959094138937685},\n '280': {'S': 287, 'N': 304, 'entropy': 0.9994030646060055},\n '142': {'S': 180, 'N': 145, 'entropy': 0.9916178297881031},\n '12': {'S': 30, 'N': 51, 'entropy': 0.9509560484549725},\n '261': {'S': 153, 'N': 198, 'entropy': 0.9881108365218301},\n '251': {'S': 46, 'N': 114, 'entropy': 0.8654698974285927},\n '218': {'S': 195, 'N': 252, 'entropy': 0.9882385113328636},\n '33': {'S': 10, 'N': 28, 'entropy': 0.8314743880097293},\n '20': {'S': 10, 'N': 17, 'entropy': 0.9509560484549725},\n '75': {'S': 19, 'N': 6, 'entropy': 0.7950402793845223},\n '128': {'S': 19, 'N': 24, 'entropy': 0.9902246902198684},\n '29': {'S': 14, 'N': 5, 'entropy': 0.8314743880097293},\n '217': {'S': 117, 'N': 101, 'entropy': 0.9961107837255979},\n '10': {'S': 10, 'N': 9, 'entropy': 0.9980008838722996},\n '2': {'S': 123, 'N': 208, 'entropy': 0.9518936136650011},\n '17': {'S': 4, 'N': 72, 'entropy': 0.2974722489192896},\n '51': {'S': 8, 'N': 3, 'entropy': 0.8453509366224364},\n '50': {'S': 25, 'N': 46, 'entropy': 0.9359407149555171},\n '9': {'S': 18, 'N': 53, 'entropy': 0.8168114277045246},\n '45': {'S': 37, 'N': 70, 'entropy': 0.9302559049579806},\n '46': {'S': 0, 'N': 16, 'entropy': 0.0},\n '24': {'S': 7, 'N': 14, 'entropy': 0.9182958340544896},\n '278': {'S': 116, 'N': 218, 'entropy': 0.931638489371752},\n '16': {'S': 2, 'N': 8, 'entropy': 0.7219280948873623},\n '27': {'S': 4, 'N': 23, 'entropy': 0.6051865766334206},\n '205': {'S': 8, 'N': 37, 'entropy': 0.6751914401458716},\n '21': {'S': 6, 'N': 16, 'entropy': 0.8453509366224364},\n '14': {'S': 0, 'N': 5, 'entropy': 0.0},\n '28': {'S': 3, 'N': 4, 'entropy': 0.9852281360342515},\n '36': {'S': 6, 'N': 12, 'entropy': 0.9182958340544896},\n '5': {'S': 26, 'N': 36, 'entropy': 0.9811522341999133},\n '210': {'S': 29, 'N': 19, 'entropy': 0.9684610087601622},\n '18': {'S': 13, 'N': 22, 'entropy': 0.9517626756348311},\n '7': {'S': 2, 'N': 9, 'entropy': 0.6840384356390417},\n '34': {'S': 7, 'N': 5, 'entropy': 0.9798687566511528},\n '22': {'S': 7, 'N': 8, 'entropy': 0.9967916319816366},\n '41': {'S': 0, 'N': 4, 'entropy': 0.0},\n '144': {'S': 69, 'N': 36, 'entropy': 0.9275265884316759},\n '37': {'S': 1, 'N': 16, 'entropy': 0.3227569588973982},\n '39': {'S': 43, 'N': 51, 'entropy': 0.9947688847336322},\n '11': {'S': 0, 'N': 3, 'entropy': 0.0},\n '35': {'S': 5, 'N': 3, 'entropy': 0.954434002924965},\n '42': {'S': 2, 'N': 5, 'entropy': 0.863120568566631},\n '243': {'S': 37, 'N': 52, 'entropy': 0.9794116346561963},\n '212': {'S': 528, 'N': 599, 'entropy': 0.9971351555389061},\n '143': {'S': 118, 'N': 63, 'entropy': 0.9323292295959567},\n '216': {'S': 111, 'N': 80, 'entropy': 0.9809135989475248},\n '281': {'S': 22, 'N': 61, 'entropy': 0.8342867421739537},\n '138': {'S': 28, 'N': 9, 'entropy': 0.8003922080453356},\n '25': {'S': 12, 'N': 10, 'entropy': 0.9940302114769565},\n '48': {'S': 14, 'N': 12, 'entropy': 0.9957274520849255},\n '59': {'S': 26, 'N': 61, 'entropy': 0.8798813089176425},\n '275': {'S': 99, 'N': 105, 'entropy': 0.9993759069576513},\n '231': {'S': 63, 'N': 104, 'entropy': 0.9560733591377151},\n '229': {'S': 61, 'N': 60, 'entropy': 0.9999507304328823},\n '220': {'S': 4, 'N': 3, 'entropy': 0.9852281360342515},\n '225': {'S': 25, 'N': 10, 'entropy': 0.863120568566631},\n '6': {'S': 2, 'N': 4, 'entropy': 0.9182958340544896},\n '110': {'S': 30, 'N': 17, 'entropy': 0.9440870182837794},\n '49': {'S': 37, 'N': 25, 'entropy': 0.9728063221185},\n '180': {'S': 60, 'N': 42, 'entropy': 0.9774178175281716},\n '206': {'S': 22, 'N': 13, 'entropy': 0.9517626756348311},\n '164': {'S': 23, 'N': 3, 'entropy': 0.5159469300074474},\n '114': {'S': 6, 'N': 10, 'entropy': 0.954434002924965},\n '230': {'S': 96, 'N': 62, 'entropy': 0.966334094295981},\n '86': {'S': 36, 'N': 50, 'entropy': 0.9807983646944296},\n '221': {'S': 2, 'N': 4, 'entropy': 0.9182958340544896},\n '77': {'S': 9, 'N': 21, 'entropy': 0.8812908992306927},\n '202': {'S': 7, 'N': 4, 'entropy': 0.9456603046006401},\n '104': {'S': 24, 'N': 3, 'entropy': 0.5032583347756457},\n '191': {'S': 0, 'N': 1, 'entropy': 0.0},\n '23': {'S': 5, 'N': 2, 'entropy': 0.863120568566631},\n '227': {'S': 56, 'N': 92, 'entropy': 0.9568886656798212},\n '13': {'S': 1, 'N': 5, 'entropy': 0.6500224216483541},\n '211': {'S': 0, 'N': 3, 'entropy': 0.0},\n '226': {'S': 10, 'N': 19, 'entropy': 0.9293636260137187},\n '85': {'S': 1, 'N': 3, 'entropy': 0.8112781244591328},\n '40': {'S': 1, 'N': 2, 'entropy': 0.9182958340544896},\n '260': {'S': 38, 'N': 42, 'entropy': 0.99819587904281},\n '32': {'S': 1, 'N': 0, 'entropy': -0.0},\n '52': {'S': 0, 'N': 0, 'entropy': 0},\n '209': {'S': 0, 'N': 0, 'entropy': 0},\n '47': {'S': 0, 'N': 0, 'entropy': 0}}"
     },
     "execution_count": 65,
     "metadata": {},
     "output_type": "execute_result"
    }
   ],
   "source": [
    "import math\n",
    "\n",
    "sum = 0\n",
    "for key in map:\n",
    "    totalValues = map[key][\"S\"] + map[key][\"N\"]\n",
    "    if totalValues == 0:\n",
    "        positive = 0\n",
    "        negative = 0\n",
    "    else:\n",
    "        positive = map[key][\"S\"]/totalValues\n",
    "        negative = map[key][\"N\"]/totalValues\n",
    "\n",
    "    if positive == 0:\n",
    "        positiveSide = 0\n",
    "    else:\n",
    "        positiveSide = (positive * math.log2(positive))\n",
    "\n",
    "    if negative == 0:\n",
    "        negativeSide = 0\n",
    "    else:\n",
    "        negativeSide = (negative * math.log2(negative))\n",
    "\n",
    "    map[key][\"entropy\"] = (- positiveSide - negativeSide)\n",
    "\n",
    "map"
   ],
   "metadata": {
    "collapsed": false,
    "pycharm": {
     "name": "#%%\n"
    }
   }
  },
  {
   "cell_type": "code",
   "execution_count": 67,
   "outputs": [
    {
     "data": {
      "text/plain": "0.9241651083598142"
     },
     "execution_count": 67,
     "metadata": {},
     "output_type": "execute_result"
    }
   ],
   "source": [
    "entropy = 0\n",
    "for key in map:\n",
    "    totalValues = map[key][\"S\"] + map[key][\"N\"]\n",
    "    if totalValues == 0:\n",
    "        positive = 0\n",
    "        negative = 0\n",
    "    entropy += (totalValues/sizeDF)*map[key][\"entropy\"]\n",
    "\n",
    "entropy"
   ],
   "metadata": {
    "collapsed": false,
    "pycharm": {
     "name": "#%%\n"
    }
   }
  },
  {
   "cell_type": "markdown",
   "source": [
    "O calculo da entropia relacionada ao código do erro com o fato de o problema ser ou não resolvida é de\n",
    "0.9241 sendo um ótimo voluntário para definir a raiz da árvore de decisão"
   ],
   "metadata": {
    "collapsed": false,
    "pycharm": {
     "name": "#%% md\n"
    }
   }
  },
  {
   "cell_type": "code",
   "execution_count": 78,
   "outputs": [],
   "source": [
    "import math\n",
    "\n",
    "def calcEntropyAtendida(column):\n",
    "    entropy = 0\n",
    "    map = {}\n",
    "    newDF = joinDF.dropna(subset=[column])\n",
    "    for index, row in newDF[[column,'Atendida']].iterrows():\n",
    "        if row[column] in map:\n",
    "            map[str(row[column])][row[\"Atendida\"]] = map.get(row[column])[row[\"Atendida\"]] + 1\n",
    "        else:\n",
    "            map[row[column]] = {\"S\": 0, \"N\": 0}\n",
    "    for key in map:\n",
    "        totalValues = map[key][\"S\"] + map[key][\"N\"]\n",
    "        if totalValues == 0:\n",
    "            positive = 0\n",
    "            negative = 0\n",
    "        else:\n",
    "            positive = map[key][\"S\"]/totalValues\n",
    "            negative = map[key][\"N\"]/totalValues\n",
    "\n",
    "        if positive == 0:\n",
    "            positiveSide = 0\n",
    "        else:\n",
    "            positiveSide = (positive * math.log2(positive))\n",
    "\n",
    "        if negative == 0:\n",
    "            negativeSide = 0\n",
    "        else:\n",
    "            negativeSide = (negative * math.log2(negative))\n",
    "\n",
    "        map[key][\"entropy\"] = (- positiveSide - negativeSide)\n",
    "        entropy += (totalValues/sizeDF)*map[key][\"entropy\"]\n",
    "\n",
    "    return entropy"
   ],
   "metadata": {
    "collapsed": false,
    "pycharm": {
     "name": "#%%\n"
    }
   }
  },
  {
   "cell_type": "code",
   "execution_count": 77,
   "outputs": [
    {
     "data": {
      "text/plain": "0.9578945587215187"
     },
     "execution_count": 77,
     "metadata": {},
     "output_type": "execute_result"
    }
   ],
   "source": [
    "entropySex = calcEntropyAtendida(\"SexoConsumidor\")\n",
    "entropySex"
   ],
   "metadata": {
    "collapsed": false,
    "pycharm": {
     "name": "#%%\n"
    }
   }
  },
  {
   "cell_type": "code",
   "execution_count": 79,
   "outputs": [
    {
     "data": {
      "text/plain": "0.9601017291059597"
     },
     "execution_count": 79,
     "metadata": {},
     "output_type": "execute_result"
    }
   ],
   "source": [
    "entropyAge = calcEntropyAtendida(\"FaixaEtariaConsumidor\")\n",
    "entropyAge"
   ],
   "metadata": {
    "collapsed": false,
    "pycharm": {
     "name": "#%%\n"
    }
   }
  },
  {
   "cell_type": "code",
   "execution_count": 80,
   "outputs": [
    {
     "data": {
      "text/plain": "0.9119120008469842"
     },
     "execution_count": 80,
     "metadata": {},
     "output_type": "execute_result"
    }
   ],
   "source": [
    "entropyCodigoProblema = calcEntropyAtendida(\"CodigoProblema\")\n",
    "entropyCodigoProblema"
   ],
   "metadata": {
    "collapsed": false,
    "pycharm": {
     "name": "#%%\n"
    }
   }
  },
  {
   "cell_type": "code",
   "execution_count": 81,
   "outputs": [
    {
     "data": {
      "text/plain": "0.9241651083598142"
     },
     "execution_count": 81,
     "metadata": {},
     "output_type": "execute_result"
    }
   ],
   "source": [
    "entropyCodigoAssunto = calcEntropyAtendida(\"CodigoAssunto\")\n",
    "entropyCodigoAssunto"
   ],
   "metadata": {
    "collapsed": false,
    "pycharm": {
     "name": "#%%\n"
    }
   }
  }
 ],
 "metadata": {
  "kernelspec": {
   "display_name": "Python 3",
   "language": "python",
   "name": "python3"
  },
  "language_info": {
   "codemirror_mode": {
    "name": "ipython",
    "version": 3
   },
   "file_extension": ".py",
   "mimetype": "text/x-python",
   "name": "python",
   "nbconvert_exporter": "python",
   "pygments_lexer": "ipython3",
   "version": "3.8.5"
  }
 },
 "nbformat": 4,
 "nbformat_minor": 1
}