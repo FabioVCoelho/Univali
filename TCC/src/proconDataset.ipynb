{
 "cells": [
  {
   "cell_type": "code",
   "execution_count": 45,
   "metadata": {
    "collapsed": true
   },
   "outputs": [],
   "source": [
    "import pandas as pd\n",
    "import numpy as np\n",
    "import matplotlib as plt\n",
    "pd.set_option('display.max_columns', None)\n",
    "pd.set_option(\"max_colwidth\", 100)"
   ]
  },
  {
   "cell_type": "markdown",
   "source": [
    "Necessário excluir as 2 últimas linhas do arquivo para evitar 2 linhas nulas. das bases de 2009 até 2011.\n",
    "A base de 2018 possui algumas colunas 'nome fantasia' que possuem ';' como separador de empresas e que\n",
    "consequentemente atrapalham na leitura dos dados pois alteram a quantidade de colunas finais.\n",
    "Sendo necessário a modificação por linha manual (18 linhas no total)"
   ],
   "metadata": {
    "collapsed": false
   }
  },
  {
   "cell_type": "code",
   "execution_count": 46,
   "outputs": [],
   "source": [
    "rec2009 = pd.read_csv(\"../data/reclamacoes-fundamentadas-sindec-2009.csv\",header=0,encoding=\"ISO-8859-9\",delimiter=\";\", dtype=\"str\")\n",
    "rec2010 = pd.read_csv(\"../data/reclamacoes-fundamentadas-sindec-2010.csv\",header=0,encoding=\"ISO-8859-9\",delimiter=\";\", dtype=\"str\")\n",
    "rec2011 = pd.read_csv(\"../data/reclamacoes-fundamentadas-sindec-2011.csv\",header=0,encoding=\"ISO-8859-9\",delimiter=\";\", dtype=\"str\")\n",
    "rec2012 = pd.read_csv(\"../data/reclamacoes-fundamentadas-sindec-2012.csv\",header=0,encoding=\"UTF-8\",delimiter=\";\", dtype=\"str\")\n",
    "rec2013 = pd.read_csv(\"../data/reclamacoes-fundamentadas-sindec-2013.csv\",header=0,encoding=\"UTF-8\",delimiter=\";\", dtype=\"str\")\n",
    "rec2014 = pd.read_csv(\"../data/reclamacoes-fundamentadas-sindec-2014.csv\",header=0,encoding=\"UTF-8\",delimiter=\";\", dtype=\"str\")\n",
    "rec2015 = pd.read_csv(\"../data/reclamacoes-fundamentadas-sindec-2015.csv\",header=0,encoding=\"UTF-8\",delimiter=\";\", dtype=\"str\")\n",
    "rec2016 = pd.read_csv(\"../data/reclamacoes-fundamentadas-sindec-2016_v2.csv\",header=0,encoding=\"UTF-8\",delimiter=\";\", dtype=\"str\")\n",
    "rec2017 = pd.read_csv(\"../data/CNRF_2017.csv\",header=0,encoding=\"UTF-8\",delimiter=\";\", dtype=\"str\")\n",
    "rec2018 = pd.read_csv(\"../data/CNRF2018.csv\",header=0,encoding=\"UTF-8\",delimiter=\";\", dtype=\"str\")"
   ],
   "metadata": {
    "collapsed": false,
    "pycharm": {
     "name": "#%%\n"
    }
   }
  },
  {
   "cell_type": "code",
   "execution_count": 47,
   "outputs": [],
   "source": [
    "rec2009 = rec2009.rename(columns={\n",
    "    \"anocalendario\": \"AnoCalendario\",\n",
    "    \"codigoregiao\": \"CodigoRegiao\",\n",
    "    \"regiao\": \"Regiao\",\n",
    "    \"radicalCNPJ\": \"RadicalCNPJ\"})\n"
   ],
   "metadata": {
    "collapsed": false,
    "pycharm": {
     "name": "#%%\n"
    }
   }
  },
  {
   "cell_type": "code",
   "execution_count": 48,
   "outputs": [],
   "source": [
    "rec2010 = rec2010.rename(columns={\n",
    "           \"anocalendario\": \"AnoCalendario\",\n",
    "           \"codigoregiao\": \"CodigoRegiao\",\n",
    "           \"regiao\": \"Regiao\",\n",
    "           \"radicalCNPJ\": \"RadicalCNPJ\"})"
   ],
   "metadata": {
    "collapsed": false,
    "pycharm": {
     "name": "#%%\n"
    }
   }
  },
  {
   "cell_type": "code",
   "execution_count": 49,
   "outputs": [],
   "source": [
    "rec2011 = rec2011.rename(columns={\n",
    "           \"anocalendario\": \"AnoCalendario\",\n",
    "           \"codigoregiao\": \"CodigoRegiao\",\n",
    "           \"regiao\": \"Regiao\",\n",
    "           \"radicalCNPJ\": \"RadicalCNPJ\"})"
   ],
   "metadata": {
    "collapsed": false,
    "pycharm": {
     "name": "#%%\n"
    }
   }
  },
  {
   "cell_type": "code",
   "execution_count": 50,
   "outputs": [
    {
     "data": {
      "text/plain": "Index(['AnoCalendario', 'DataArquivamento', 'DataAbertura', 'CodigoRegiao',\n       'Regiao', 'UF', 'strRazaoSocial', 'strNomeFantasia', 'Tipo',\n       'NumeroCNPJ', 'RadicalCNPJ', 'RazaoSocialRFB', 'NomeFantasiaRFB',\n       'CNAEPrincipal', 'DescCNAEPrincipal', 'Atendida', 'CodigoAssunto',\n       'DescricaoAssunto', 'CodigoProblema', 'DescricaoProblema',\n       'SexoConsumidor', 'FaixaEtariaConsumidor', 'CEPConsumidor'],\n      dtype='object')"
     },
     "execution_count": 50,
     "metadata": {},
     "output_type": "execute_result"
    }
   ],
   "source": [
    "rec2012.columns"
   ],
   "metadata": {
    "collapsed": false,
    "pycharm": {
     "name": "#%%\n"
    }
   }
  },
  {
   "cell_type": "code",
   "execution_count": 51,
   "outputs": [
    {
     "data": {
      "text/plain": "Index(['AnoCalendario', 'DataArquivamento', 'DataAbertura', 'CodigoRegiao',\n       'Regiao', 'UF', 'strRazaoSocial', 'strNomeFantasia', 'Tipo',\n       'NumeroCNPJ', 'RadicalCNPJ', 'RazaoSocialRFB', 'NomeFantasiaRFB',\n       'CNAEPrincipal', 'DescCNAEPrincipal', 'Atendida', 'CodigoAssunto',\n       'DescricaoAssunto', 'CodigoProblema', 'DescricaoProblema',\n       'SexoConsumidor', 'FaixaEtariaConsumidor', 'CEPConsumidor'],\n      dtype='object')"
     },
     "execution_count": 51,
     "metadata": {},
     "output_type": "execute_result"
    }
   ],
   "source": [
    "rec2013.columns"
   ],
   "metadata": {
    "collapsed": false,
    "pycharm": {
     "name": "#%%\n"
    }
   }
  },
  {
   "cell_type": "code",
   "execution_count": 52,
   "outputs": [
    {
     "data": {
      "text/plain": "Index(['AnoCalendario', 'DataArquivamento', 'DataAbertura', 'CodigoRegiao',\n       'Regiao', 'UF', 'strRazaoSocial', 'strNomeFantasia', 'Tipo',\n       'NumeroCNPJ', 'RadicalCNPJ', 'RazaoSocialRFB', 'NomeFantasiaRFB',\n       'CNAEPrincipal', 'DescCNAEPrincipal', 'Atendida', 'CodigoAssunto',\n       'DescricaoAssunto', 'CodigoProblema', 'DescricaoProblema',\n       'SexoConsumidor', 'FaixaEtariaConsumidor', 'CEPConsumidor'],\n      dtype='object')"
     },
     "execution_count": 52,
     "metadata": {},
     "output_type": "execute_result"
    }
   ],
   "source": [
    "rec2014.columns"
   ],
   "metadata": {
    "collapsed": false,
    "pycharm": {
     "name": "#%%\n"
    }
   }
  },
  {
   "cell_type": "code",
   "execution_count": 53,
   "outputs": [
    {
     "data": {
      "text/plain": "Index(['AnoCalendario', 'DataArquivamento', 'DataAbertura', 'CodigoRegiao',\n       'Regiao', 'UF', 'strRazaoSocial', 'strNomeFantasia', 'Tipo',\n       'NumeroCNPJ', 'RadicalCNPJ', 'RazaoSocialRFB', 'NomeFantasiaRFB',\n       'CNAEPrincipal', 'DescCNAEPrincipal', 'Atendida', 'CodigoAssunto',\n       'DescricaoAssunto', 'CodigoProblema', 'DescricaoProblema',\n       'SexoConsumidor', 'FaixaEtariaConsumidor', 'CEPConsumidor'],\n      dtype='object')"
     },
     "execution_count": 53,
     "metadata": {},
     "output_type": "execute_result"
    }
   ],
   "source": [
    "rec2015.columns"
   ],
   "metadata": {
    "collapsed": false,
    "pycharm": {
     "name": "#%%\n"
    }
   }
  },
  {
   "cell_type": "code",
   "execution_count": 54,
   "outputs": [
    {
     "data": {
      "text/plain": "Index(['AnoCalendario', 'DataArquivamento', 'DataAbertura', 'CodigoRegiao',\n       'Regiao', 'UF', 'strRazaoSocial', 'strNomeFantasia', 'Tipo',\n       'NumeroCNPJ', 'RadicalCNPJ', 'RazaoSocialRFB', 'NomeFantasiaRFB',\n       'CNAEPrincipal', 'DescCNAEPrincipal', 'Atendida', 'CodigoAssunto',\n       'DescricaoAssunto', 'CodigoProblema', 'DescricaoProblema',\n       'SexoConsumidor', 'FaixaEtariaConsumidor', 'CEPConsumidor'],\n      dtype='object')"
     },
     "execution_count": 54,
     "metadata": {},
     "output_type": "execute_result"
    }
   ],
   "source": [
    "rec2016.columns"
   ],
   "metadata": {
    "collapsed": false,
    "pycharm": {
     "name": "#%%\n"
    }
   }
  },
  {
   "cell_type": "code",
   "execution_count": 55,
   "outputs": [
    {
     "data": {
      "text/plain": "Index(['AnoCalendario', 'DataArquivamento', 'DataAbertura', 'CodigoRegiao',\n       'Regiao', 'UF', 'strRazaoSocial', 'strNomeFantasia', 'Tipo',\n       'NumeroCNPJ', 'RadicalCNPJ', 'RazaoSocialRFB', 'NomeFantasiaRFB',\n       'CNAEPrincipal', 'DescCNAEPrincipal', 'Atendida', 'CodigoAssunto',\n       'DescricaoAssunto', 'CodigoProblema', 'DescricaoProblema',\n       'SexoConsumidor', 'FaixaEtariaConsumidor', 'CEPConsumidor'],\n      dtype='object')"
     },
     "execution_count": 55,
     "metadata": {},
     "output_type": "execute_result"
    }
   ],
   "source": [
    "rec2017.columns"
   ],
   "metadata": {
    "collapsed": false,
    "pycharm": {
     "name": "#%%\n"
    }
   }
  },
  {
   "cell_type": "code",
   "execution_count": 56,
   "outputs": [
    {
     "data": {
      "text/plain": "Index(['AnoCalendario', 'DataArquivamento', 'DataAbertura', 'CodigoRegiao',\n       'Regiao', 'UF', 'strRazaoSocial', 'strNomeFantasia', 'Tipo',\n       'NumeroCNPJ', 'RadicalCNPJ', 'RazaoSocialRFB', 'NomeFantasiaRFB',\n       'CNAEPrincipal', 'DescCNAEPrincipal', 'Atendida', 'CodigoAssunto',\n       'DescricaoAssunto', 'CodigoProblema', 'DescricaoProblema',\n       'SexoConsumidor', 'FaixaEtariaConsumidor', 'CEPConsumidor'],\n      dtype='object')"
     },
     "execution_count": 56,
     "metadata": {},
     "output_type": "execute_result"
    }
   ],
   "source": [
    "rec2018.columns"
   ],
   "metadata": {
    "collapsed": false,
    "pycharm": {
     "name": "#%%\n"
    }
   }
  },
  {
   "cell_type": "code",
   "execution_count": 57,
   "outputs": [],
   "source": [
    "frames = [rec2009,rec2010,rec2011,rec2012,rec2013,rec2014,rec2015,rec2016,rec2017,rec2018]"
   ],
   "metadata": {
    "collapsed": false,
    "pycharm": {
     "name": "#%%\n"
    }
   }
  },
  {
   "cell_type": "code",
   "execution_count": 58,
   "outputs": [],
   "source": [
    "df = pd.concat(frames)\n"
   ],
   "metadata": {
    "collapsed": false,
    "pycharm": {
     "name": "#%%\n"
    }
   }
  },
  {
   "cell_type": "markdown",
   "source": [
    "A união de todas as tabelas deu 1.668.061 linhas com 23 colunas.\n"
   ],
   "metadata": {
    "collapsed": false,
    "pycharm": {
     "name": "#%% md\n"
    }
   }
  },
  {
   "cell_type": "code",
   "execution_count": 59,
   "outputs": [
    {
     "data": {
      "text/plain": "      AnoCalendario         DataArquivamento             DataAbertura  \\\n0              2009  2009-01-21 15:29:29.000  2005-07-06 08:32:23.000   \n1              2009  2009-05-12 12:05:08.000  2006-01-17 12:10:53.000   \n2              2009  2009-04-23 08:52:31.000  2005-07-06 11:28:47.000   \n3              2009  2009-04-23 08:52:31.000  2005-07-06 11:28:47.000   \n4              2009  2009-07-23 11:57:40.000  2006-01-18 15:35:29.000   \n...             ...                      ...                      ...   \n39055          2018  2018-05-29 14:19:32.000  2017-01-30 14:46:11.000   \n39056          2018  2018-06-06 13:38:04.000  2018-04-09 08:39:46.000   \n39057          2018  2018-03-23 14:45:20.000  2018-02-23 16:37:15.000   \n39058          2018  2018-04-09 11:41:30.000  2018-02-27 11:40:27.000   \n39059          2018  2018-05-24 14:24:46.000  2018-03-07 13:17:07.000   \n\n      CodigoRegiao        Regiao  UF  \\\n0                5  Centro-oeste  GO   \n1                3       Sudeste  RJ   \n2                5  Centro-oeste  GO   \n3                5  Centro-oeste  GO   \n4                3       Sudeste  RJ   \n...            ...           ...  ..   \n39055            3       Sudeste  MG   \n39056            3       Sudeste  MG   \n39057            2      Nordeste  RN   \n39058            2      Nordeste  RN   \n39059            2      Nordeste  RN   \n\n                                           strRazaoSocial  \\\n0           CBP SUL - COLCHÕES E ESPUMAS INDUSTRIAIS LTDA   \n1                                               GRADIENTE   \n2                                      IGL INDÚSTRIA LTDA   \n3                          UNILEVER BESTFOODS BRASIL LTDA   \n4              EMPRESA BRASILEIRA DE TELECOMUNICAÇÕES S.A   \n...                                                   ...   \n39055                  BANCO LOSANGO S.A - BANCO MULTIPLO   \n39056        MERCADOLIVRE.COM ATIVIDADES DE INTERNET LTDA   \n39057                    ACBZ IMPORTACAO E COMERCIO LTDA.   \n39058                     NET SERVIÇOS DE COMUNICAÇÃO S/A   \n39059  CREFISA S.A. CREDITO FINANCIAMENTO E INVESTIMENTOS   \n\n                   strNomeFantasia Tipo      NumeroCNPJ RadicalCNPJ  \\\n0                         LIMANSKY    1   1350934000116     1350934   \n1                              NaN    1  43185362001936    43185362   \n2      ELIDA PONDS INDUSTRIAL LTDA    1   3085759000102     3085759   \n3                         UNILEVER    1   1615814002066     1615814   \n4                 EMBRATEL - LIVRE    1  33530486000129    33530486   \n...                            ...  ...             ...         ...   \n39055                          NaN    1  33254319000100    33254319   \n39056                MERCADO LIVRE    1   3361252000134     3361252   \n39057               ASUS NO BRASIL    1   9509531000189     9509531   \n39058                          NET    1    108786018889      108786   \n39059                  CREFISA S/A    1             NaN         NaN   \n\n                                            RazaoSocialRFB  \\\n0            CBP SUL - COLCHOES E ESPUMAS INDUSTRIAIS LTDA   \n1                                       IGB ELETRONICA S.A   \n2           UNILEVER BRASIL HIGIENE PESSOAL E LIMPEZA LTDA   \n3                          UNILEVER BRASIL INDUSTRIAL LTDA   \n4      EMPRESA BRASILEIRA DE TELECOMUNICACOES S A EMBRATEL   \n...                                                    ...   \n39055          HSBC FINANCE (BRASIL) S.A. - BANCO MULTIPLO   \n39056         MERCADOLIVRE.COM ATIVIDADES DE INTERNET LTDA   \n39057                     ACBZ IMPORTACAO E COMERCIO LTDA.   \n39058                      NET SERVICOS DE COMUNICACAO S/A   \n39059                                                  NaN   \n\n                    NomeFantasiaRFB CNAEPrincipal  \\\n0                               NaN       3104700   \n1                               NaN       2640000   \n2      ELIDA PONDS INDUSTRIAL LTDA.       2063100   \n3                               NaN       1031700   \n4                               NaN       6110899   \n...                             ...           ...   \n39055                           NaN       6431000   \n39056                           NaN       7490104   \n39057                           NaN       4651601   \n39058                           NaN       8299799   \n39059                           NaN           NaN   \n\n                                                                                        DescCNAEPrincipal  \\\n0                                                                                  FABRICAÇÃO DE COLCHÕES   \n1               FABRICAÇÃO DE APARELHOS DE RECEPÇÃO, REPRODUÇÃO, GRAVAÇÃO E AMPLIFICAÇÃO DE ÁUDIO E VÍDEO   \n2                                   FABRICAÇÃO DE COSMÉTICOS, PRODUTOS DE PERFUMARIA E DE HIGIENE PESSOAL   \n3                                                                       FABRICAÇÃO DE CONSERVAS DE FRUTAS   \n4                                    SERVIÇOS DE TELECOMUNICAÇÕES POR FIO NÃO ESPECIFICADOS ANTERIORMENTE   \n...                                                                                                   ...   \n39055                                                            BANCOS MÚLTIPLOS, SEM CARTEIRA COMERCIAL   \n39056     ATIVIDADES DE INTERMEDIAÇÃO E AGENCIAMENTO DE SERVIÇOS E NEGÓCIOS EM GERAL, EXCETO IMOBILIÁRIOS   \n39057                                                  COMÉRCIO ATACADISTA DE EQUIPAMENTOS DE INFORMÁTICA   \n39058  OUTRAS ATIVIDADES DE SERVIÇOS PRESTADOS PRINCIPALMENTE ÀS EMPRESAS NÃO ESPECIFICADAS ANTERIORMENTE   \n39059                                                                                                 NaN   \n\n      Atendida CodigoAssunto  \\\n0            S           100   \n1            N           146   \n2            N           224   \n3            N           224   \n4            S           186   \n...        ...           ...   \n39055        S            54   \n39056        S           106   \n39057        N           101   \n39058        S           186   \n39059        N            63   \n\n                                                           DescricaoAssunto  \\\n0                                                                   Colchão   \n1                                                              Aparelho DVD   \n2         Produto Para Uso Veterinário ( Medicamento / Sabonete / Shampoo )   \n3         Produto Para Uso Veterinário ( Medicamento / Sabonete / Shampoo )   \n4           Telefonia Fixa ( Plano de Expansão / Compra e Venda / Locação )   \n...                                                                     ...   \n39055                                                     Cartão de Crédito   \n39056  Artigo de Leitura ( Formal, Jornal, Revista, Folheto, Livros, Etc. )   \n39057                   Telefone ( Convencional, Celular, Interfone, Etc. )   \n39058       Telefonia Fixa ( Plano de Expansão / Compra e Venda / Locação )   \n39059                                                            Financeira   \n\n      CodigoProblema                         DescricaoProblema SexoConsumidor  \\\n0                105       Produto entregue com danos/defeitos              M   \n1                107  Não entrega/demora na entrega do produto              F   \n2                177    Presença de sujidades/corpos estranhos              F   \n3                177    Presença de sujidades/corpos estranhos              F   \n4                143  Contrato - Rescisão/alteração unilateral              F   \n...              ...                                       ...            ...   \n39055            NaN                                       NaN              F   \n39056            NaN                                       NaN              F   \n39057            NaN                                       NaN              F   \n39058            NaN                                       NaN              F   \n39059            NaN                                       NaN              F   \n\n      FaixaEtariaConsumidor CEPConsumidor  \n0        entre 61 a 70 anos      74680330  \n1        entre 51 a 60 anos      23510240  \n2        entre 21 a 30 anos      74775010  \n3        entre 21 a 30 anos      74775010  \n4        entre 41 a 50 anos      20710270  \n...                     ...           ...  \n39055    entre 61 a 70 anos      35180144  \n39056           até 20 anos      90035030  \n39057    entre 21 a 30 anos      59115110  \n39058    entre 61 a 70 anos      59073101  \n39059    entre 61 a 70 anos      59092390  \n\n[1668061 rows x 23 columns]",
      "text/html": "<div>\n<style scoped>\n    .dataframe tbody tr th:only-of-type {\n        vertical-align: middle;\n    }\n\n    .dataframe tbody tr th {\n        vertical-align: top;\n    }\n\n    .dataframe thead th {\n        text-align: right;\n    }\n</style>\n<table border=\"1\" class=\"dataframe\">\n  <thead>\n    <tr style=\"text-align: right;\">\n      <th></th>\n      <th>AnoCalendario</th>\n      <th>DataArquivamento</th>\n      <th>DataAbertura</th>\n      <th>CodigoRegiao</th>\n      <th>Regiao</th>\n      <th>UF</th>\n      <th>strRazaoSocial</th>\n      <th>strNomeFantasia</th>\n      <th>Tipo</th>\n      <th>NumeroCNPJ</th>\n      <th>RadicalCNPJ</th>\n      <th>RazaoSocialRFB</th>\n      <th>NomeFantasiaRFB</th>\n      <th>CNAEPrincipal</th>\n      <th>DescCNAEPrincipal</th>\n      <th>Atendida</th>\n      <th>CodigoAssunto</th>\n      <th>DescricaoAssunto</th>\n      <th>CodigoProblema</th>\n      <th>DescricaoProblema</th>\n      <th>SexoConsumidor</th>\n      <th>FaixaEtariaConsumidor</th>\n      <th>CEPConsumidor</th>\n    </tr>\n  </thead>\n  <tbody>\n    <tr>\n      <th>0</th>\n      <td>2009</td>\n      <td>2009-01-21 15:29:29.000</td>\n      <td>2005-07-06 08:32:23.000</td>\n      <td>5</td>\n      <td>Centro-oeste</td>\n      <td>GO</td>\n      <td>CBP SUL - COLCHÕES E ESPUMAS INDUSTRIAIS LTDA</td>\n      <td>LIMANSKY</td>\n      <td>1</td>\n      <td>1350934000116</td>\n      <td>1350934</td>\n      <td>CBP SUL - COLCHOES E ESPUMAS INDUSTRIAIS LTDA</td>\n      <td>NaN</td>\n      <td>3104700</td>\n      <td>FABRICAÇÃO DE COLCHÕES</td>\n      <td>S</td>\n      <td>100</td>\n      <td>Colchão</td>\n      <td>105</td>\n      <td>Produto entregue com danos/defeitos</td>\n      <td>M</td>\n      <td>entre 61 a 70 anos</td>\n      <td>74680330</td>\n    </tr>\n    <tr>\n      <th>1</th>\n      <td>2009</td>\n      <td>2009-05-12 12:05:08.000</td>\n      <td>2006-01-17 12:10:53.000</td>\n      <td>3</td>\n      <td>Sudeste</td>\n      <td>RJ</td>\n      <td>GRADIENTE</td>\n      <td>NaN</td>\n      <td>1</td>\n      <td>43185362001936</td>\n      <td>43185362</td>\n      <td>IGB ELETRONICA S.A</td>\n      <td>NaN</td>\n      <td>2640000</td>\n      <td>FABRICAÇÃO DE APARELHOS DE RECEPÇÃO, REPRODUÇÃO, GRAVAÇÃO E AMPLIFICAÇÃO DE ÁUDIO E VÍDEO</td>\n      <td>N</td>\n      <td>146</td>\n      <td>Aparelho DVD</td>\n      <td>107</td>\n      <td>Não entrega/demora na entrega do produto</td>\n      <td>F</td>\n      <td>entre 51 a 60 anos</td>\n      <td>23510240</td>\n    </tr>\n    <tr>\n      <th>2</th>\n      <td>2009</td>\n      <td>2009-04-23 08:52:31.000</td>\n      <td>2005-07-06 11:28:47.000</td>\n      <td>5</td>\n      <td>Centro-oeste</td>\n      <td>GO</td>\n      <td>IGL INDÚSTRIA LTDA</td>\n      <td>ELIDA PONDS INDUSTRIAL LTDA</td>\n      <td>1</td>\n      <td>3085759000102</td>\n      <td>3085759</td>\n      <td>UNILEVER BRASIL HIGIENE PESSOAL E LIMPEZA LTDA</td>\n      <td>ELIDA PONDS INDUSTRIAL LTDA.</td>\n      <td>2063100</td>\n      <td>FABRICAÇÃO DE COSMÉTICOS, PRODUTOS DE PERFUMARIA E DE HIGIENE PESSOAL</td>\n      <td>N</td>\n      <td>224</td>\n      <td>Produto Para Uso Veterinário ( Medicamento / Sabonete / Shampoo )</td>\n      <td>177</td>\n      <td>Presença de sujidades/corpos estranhos</td>\n      <td>F</td>\n      <td>entre 21 a 30 anos</td>\n      <td>74775010</td>\n    </tr>\n    <tr>\n      <th>3</th>\n      <td>2009</td>\n      <td>2009-04-23 08:52:31.000</td>\n      <td>2005-07-06 11:28:47.000</td>\n      <td>5</td>\n      <td>Centro-oeste</td>\n      <td>GO</td>\n      <td>UNILEVER BESTFOODS BRASIL LTDA</td>\n      <td>UNILEVER</td>\n      <td>1</td>\n      <td>1615814002066</td>\n      <td>1615814</td>\n      <td>UNILEVER BRASIL INDUSTRIAL LTDA</td>\n      <td>NaN</td>\n      <td>1031700</td>\n      <td>FABRICAÇÃO DE CONSERVAS DE FRUTAS</td>\n      <td>N</td>\n      <td>224</td>\n      <td>Produto Para Uso Veterinário ( Medicamento / Sabonete / Shampoo )</td>\n      <td>177</td>\n      <td>Presença de sujidades/corpos estranhos</td>\n      <td>F</td>\n      <td>entre 21 a 30 anos</td>\n      <td>74775010</td>\n    </tr>\n    <tr>\n      <th>4</th>\n      <td>2009</td>\n      <td>2009-07-23 11:57:40.000</td>\n      <td>2006-01-18 15:35:29.000</td>\n      <td>3</td>\n      <td>Sudeste</td>\n      <td>RJ</td>\n      <td>EMPRESA BRASILEIRA DE TELECOMUNICAÇÕES S.A</td>\n      <td>EMBRATEL - LIVRE</td>\n      <td>1</td>\n      <td>33530486000129</td>\n      <td>33530486</td>\n      <td>EMPRESA BRASILEIRA DE TELECOMUNICACOES S A EMBRATEL</td>\n      <td>NaN</td>\n      <td>6110899</td>\n      <td>SERVIÇOS DE TELECOMUNICAÇÕES POR FIO NÃO ESPECIFICADOS ANTERIORMENTE</td>\n      <td>S</td>\n      <td>186</td>\n      <td>Telefonia Fixa ( Plano de Expansão / Compra e Venda / Locação )</td>\n      <td>143</td>\n      <td>Contrato - Rescisão/alteração unilateral</td>\n      <td>F</td>\n      <td>entre 41 a 50 anos</td>\n      <td>20710270</td>\n    </tr>\n    <tr>\n      <th>...</th>\n      <td>...</td>\n      <td>...</td>\n      <td>...</td>\n      <td>...</td>\n      <td>...</td>\n      <td>...</td>\n      <td>...</td>\n      <td>...</td>\n      <td>...</td>\n      <td>...</td>\n      <td>...</td>\n      <td>...</td>\n      <td>...</td>\n      <td>...</td>\n      <td>...</td>\n      <td>...</td>\n      <td>...</td>\n      <td>...</td>\n      <td>...</td>\n      <td>...</td>\n      <td>...</td>\n      <td>...</td>\n      <td>...</td>\n    </tr>\n    <tr>\n      <th>39055</th>\n      <td>2018</td>\n      <td>2018-05-29 14:19:32.000</td>\n      <td>2017-01-30 14:46:11.000</td>\n      <td>3</td>\n      <td>Sudeste</td>\n      <td>MG</td>\n      <td>BANCO LOSANGO S.A - BANCO MULTIPLO</td>\n      <td>NaN</td>\n      <td>1</td>\n      <td>33254319000100</td>\n      <td>33254319</td>\n      <td>HSBC FINANCE (BRASIL) S.A. - BANCO MULTIPLO</td>\n      <td>NaN</td>\n      <td>6431000</td>\n      <td>BANCOS MÚLTIPLOS, SEM CARTEIRA COMERCIAL</td>\n      <td>S</td>\n      <td>54</td>\n      <td>Cartão de Crédito</td>\n      <td>NaN</td>\n      <td>NaN</td>\n      <td>F</td>\n      <td>entre 61 a 70 anos</td>\n      <td>35180144</td>\n    </tr>\n    <tr>\n      <th>39056</th>\n      <td>2018</td>\n      <td>2018-06-06 13:38:04.000</td>\n      <td>2018-04-09 08:39:46.000</td>\n      <td>3</td>\n      <td>Sudeste</td>\n      <td>MG</td>\n      <td>MERCADOLIVRE.COM ATIVIDADES DE INTERNET LTDA</td>\n      <td>MERCADO LIVRE</td>\n      <td>1</td>\n      <td>3361252000134</td>\n      <td>3361252</td>\n      <td>MERCADOLIVRE.COM ATIVIDADES DE INTERNET LTDA</td>\n      <td>NaN</td>\n      <td>7490104</td>\n      <td>ATIVIDADES DE INTERMEDIAÇÃO E AGENCIAMENTO DE SERVIÇOS E NEGÓCIOS EM GERAL, EXCETO IMOBILIÁRIOS</td>\n      <td>S</td>\n      <td>106</td>\n      <td>Artigo de Leitura ( Formal, Jornal, Revista, Folheto, Livros, Etc. )</td>\n      <td>NaN</td>\n      <td>NaN</td>\n      <td>F</td>\n      <td>até 20 anos</td>\n      <td>90035030</td>\n    </tr>\n    <tr>\n      <th>39057</th>\n      <td>2018</td>\n      <td>2018-03-23 14:45:20.000</td>\n      <td>2018-02-23 16:37:15.000</td>\n      <td>2</td>\n      <td>Nordeste</td>\n      <td>RN</td>\n      <td>ACBZ IMPORTACAO E COMERCIO LTDA.</td>\n      <td>ASUS NO BRASIL</td>\n      <td>1</td>\n      <td>9509531000189</td>\n      <td>9509531</td>\n      <td>ACBZ IMPORTACAO E COMERCIO LTDA.</td>\n      <td>NaN</td>\n      <td>4651601</td>\n      <td>COMÉRCIO ATACADISTA DE EQUIPAMENTOS DE INFORMÁTICA</td>\n      <td>N</td>\n      <td>101</td>\n      <td>Telefone ( Convencional, Celular, Interfone, Etc. )</td>\n      <td>NaN</td>\n      <td>NaN</td>\n      <td>F</td>\n      <td>entre 21 a 30 anos</td>\n      <td>59115110</td>\n    </tr>\n    <tr>\n      <th>39058</th>\n      <td>2018</td>\n      <td>2018-04-09 11:41:30.000</td>\n      <td>2018-02-27 11:40:27.000</td>\n      <td>2</td>\n      <td>Nordeste</td>\n      <td>RN</td>\n      <td>NET SERVIÇOS DE COMUNICAÇÃO S/A</td>\n      <td>NET</td>\n      <td>1</td>\n      <td>108786018889</td>\n      <td>108786</td>\n      <td>NET SERVICOS DE COMUNICACAO S/A</td>\n      <td>NaN</td>\n      <td>8299799</td>\n      <td>OUTRAS ATIVIDADES DE SERVIÇOS PRESTADOS PRINCIPALMENTE ÀS EMPRESAS NÃO ESPECIFICADAS ANTERIORMENTE</td>\n      <td>S</td>\n      <td>186</td>\n      <td>Telefonia Fixa ( Plano de Expansão / Compra e Venda / Locação )</td>\n      <td>NaN</td>\n      <td>NaN</td>\n      <td>F</td>\n      <td>entre 61 a 70 anos</td>\n      <td>59073101</td>\n    </tr>\n    <tr>\n      <th>39059</th>\n      <td>2018</td>\n      <td>2018-05-24 14:24:46.000</td>\n      <td>2018-03-07 13:17:07.000</td>\n      <td>2</td>\n      <td>Nordeste</td>\n      <td>RN</td>\n      <td>CREFISA S.A. CREDITO FINANCIAMENTO E INVESTIMENTOS</td>\n      <td>CREFISA S/A</td>\n      <td>1</td>\n      <td>NaN</td>\n      <td>NaN</td>\n      <td>NaN</td>\n      <td>NaN</td>\n      <td>NaN</td>\n      <td>NaN</td>\n      <td>N</td>\n      <td>63</td>\n      <td>Financeira</td>\n      <td>NaN</td>\n      <td>NaN</td>\n      <td>F</td>\n      <td>entre 61 a 70 anos</td>\n      <td>59092390</td>\n    </tr>\n  </tbody>\n</table>\n<p>1668061 rows × 23 columns</p>\n</div>"
     },
     "execution_count": 59,
     "metadata": {},
     "output_type": "execute_result"
    }
   ],
   "source": [
    "df"
   ],
   "metadata": {
    "collapsed": false,
    "pycharm": {
     "name": "#%%\n"
    }
   }
  },
  {
   "cell_type": "code",
   "execution_count": 60,
   "outputs": [],
   "source": [
    "def view_df_stats(df):\n",
    "    print(\"Shape of df={}\".format(df.shape))\n",
    "    print(\"Number of index levels:{}\".format(df.index.nlevels))\n",
    "    for i in range(df.index.nlevels):\n",
    "        print(\"For index level {},unique values count={}\".format(i,df.index.get_level_values(i).unique().shape[0]))\n",
    "    print(\"Columns of df={}\".format(df.columns))\n",
    "    print(\"Null count= \\n {}\".format(df.isnull().sum()))\n",
    "    print(df.describe())\n",
    "    "
   ],
   "metadata": {
    "collapsed": false,
    "pycharm": {
     "name": "#%%\n"
    }
   }
  },
  {
   "cell_type": "code",
   "execution_count": 63,
   "outputs": [
    {
     "name": "stdout",
     "output_type": "stream",
     "text": [
      "Shape of df=(1668061, 23)\n",
      "Number of index levels:1\n",
      "For index level 0,unique values count=268096\n",
      "Columns of df=Index(['AnoCalendario', 'DataArquivamento', 'DataAbertura', 'CodigoRegiao',\n",
      "       'Regiao', 'UF', 'strRazaoSocial', 'strNomeFantasia', 'Tipo',\n",
      "       'NumeroCNPJ', 'RadicalCNPJ', 'RazaoSocialRFB', 'NomeFantasiaRFB',\n",
      "       'CNAEPrincipal', 'DescCNAEPrincipal', 'Atendida', 'CodigoAssunto',\n",
      "       'DescricaoAssunto', 'CodigoProblema', 'DescricaoProblema',\n",
      "       'SexoConsumidor', 'FaixaEtariaConsumidor', 'CEPConsumidor'],\n",
      "      dtype='object')\n",
      "Null count= \n",
      " AnoCalendario                 0\n",
      "DataArquivamento             20\n",
      "DataAbertura                  7\n",
      "CodigoRegiao                  0\n",
      "Regiao                        0\n",
      "UF                            0\n",
      "strRazaoSocial               11\n",
      "strNomeFantasia          267963\n",
      "Tipo                          0\n",
      "NumeroCNPJ                71583\n",
      "RadicalCNPJ               73166\n",
      "RazaoSocialRFB            93932\n",
      "NomeFantasiaRFB          912164\n",
      "CNAEPrincipal             97994\n",
      "DescCNAEPrincipal        115687\n",
      "Atendida                      0\n",
      "CodigoAssunto                 0\n",
      "DescricaoAssunto              0\n",
      "CodigoProblema            47929\n",
      "DescricaoProblema         47929\n",
      "SexoConsumidor              986\n",
      "FaixaEtariaConsumidor         0\n",
      "CEPConsumidor            120078\n",
      "dtype: int64\n",
      "       AnoCalendario         DataArquivamento             DataAbertura  \\\n",
      "count        1668061                  1668041                  1668054   \n",
      "unique            10                  1015632                  1323660   \n",
      "top             2013  2015-12-31 00:00:00.000  2015-11-19 00:56:46.000   \n",
      "freq          268096                     1507                      201   \n",
      "\n",
      "       CodigoRegiao   Regiao       UF           strRazaoSocial  \\\n",
      "count       1668061  1668061  1668061                  1668050   \n",
      "unique           10        5       26                   151098   \n",
      "top              02  Sudeste       SP  TELEMAR NORTE LESTE S/A   \n",
      "freq         525088   572020   272245                    23914   \n",
      "\n",
      "       strNomeFantasia     Tipo      NumeroCNPJ RadicalCNPJ  \\\n",
      "count          1400098  1668061         1596478     1594895   \n",
      "unique          105412        2          116153       92366   \n",
      "top                 OI        1  33000118000179    33000118   \n",
      "freq             24673  1663980           22027       37917   \n",
      "\n",
      "                 RazaoSocialRFB NomeFantasiaRFB CNAEPrincipal  \\\n",
      "count                   1574129          755897       1570067   \n",
      "unique                    85103           52969          1016   \n",
      "top     TELEMAR NORTE LESTE S/A              OI       6422100   \n",
      "freq                      37984           75705        157701   \n",
      "\n",
      "                               DescCNAEPrincipal Atendida CodigoAssunto  \\\n",
      "count                                    1552374  1668061       1668061   \n",
      "unique                                       992        2           242   \n",
      "top     BANCOS MÚLTIPLOS, COM CARTEIRA COMERCIAL        S           101   \n",
      "freq                                      157701  1050668        199336   \n",
      "\n",
      "                                           DescricaoAssunto CodigoProblema  \\\n",
      "count                                               1668061        1620132   \n",
      "unique                                                  224           2201   \n",
      "top     Telefone ( Convencional, Celular, Interfone, Etc. )            105   \n",
      "freq                                                 199336         301664   \n",
      "\n",
      "        DescricaoProblema SexoConsumidor FaixaEtariaConsumidor CEPConsumidor  \n",
      "count             1620132        1667075               1668061       1547983  \n",
      "unique                225              3                     9        289599  \n",
      "top     Produto com vício              F    entre 31 a 40 anos      65000000  \n",
      "freq               259909         879662                385119          7734  \n"
     ]
    }
   ],
   "source": [
    "view_df_stats(df)\n"
   ],
   "metadata": {
    "collapsed": false,
    "pycharm": {
     "name": "#%%\n"
    }
   }
  },
  {
   "cell_type": "code",
   "execution_count": 70,
   "outputs": [
    {
     "data": {
      "text/plain": "               DataArquivamento  DataAbertura  CodigoRegiao  Regiao     UF  \\\nAnoCalendario                                                                \n2009                       9824          9824          9824    9824   9824   \n2010                      11725         11725         11725   11725  11725   \n2011                       9162          9162          9162    9162   9162   \n2012                      13906         13906         13906   13906  13906   \n2013                      18667         18667         18667   18667  18667   \n2014                      17936         17936         17936   17936  17936   \n2015                      18211         18211         18211   18211  18211   \n2016                      14086         14086         14086   14086  14086   \n2017                       4696          4696          4702    4702   4702   \n2018                       1858          1858          1859    1859   1859   \n\n               strRazaoSocial  strNomeFantasia   Tipo  NumeroCNPJ  \\\nAnoCalendario                                                       \n2009                     9824             8025   9824        9304   \n2010                    11725             9809  11725       11175   \n2011                     9162             7964   9162        8824   \n2012                    13906            11661  13906       13240   \n2013                    18667            15131  18667       17996   \n2014                    17936            15002  17936       17176   \n2015                    18211            15148  18211       17153   \n2016                    14086            11988  14086       13289   \n2017                     4702             4057   4702        4364   \n2018                     1859             1560   1859        1806   \n\n               RadicalCNPJ  RazaoSocialRFB  NomeFantasiaRFB  CNAEPrincipal  \\\nAnoCalendario                                                                \n2009                  9297            9285             4643           9285   \n2010                 11157           11138             5696          11138   \n2011                  8810            8798             4461           8798   \n2012                 13162           13151             6323          13151   \n2013                 17996           17897             8798          17552   \n2014                 17137           17045             8851          17045   \n2015                 17153           16809             8856          16809   \n2016                 13289           12761             6688          12761   \n2017                  4364            4093             2245           4093   \n2018                  1797            1660              861           1660   \n\n               DescCNAEPrincipal  Atendida  CodigoAssunto  DescricaoAssunto  \\\nAnoCalendario                                                                 \n2009                        9269      9824           9824              9824   \n2010                       10920     11725          11725             11725   \n2011                        8614      9162           9162              9162   \n2012                       12851     13906          13906             13906   \n2013                       17552     18667          18667             18667   \n2014                       16769     17936          17936             17936   \n2015                       16614     18211          18211             18211   \n2016                       12657     14086          14086             14086   \n2017                        4062      4702           4702              4702   \n2018                        1646      1859           1859              1859   \n\n               CodigoProblema  DescricaoProblema  SexoConsumidor  \\\nAnoCalendario                                                      \n2009                     9824               9824            9824   \n2010                    11725              11725           11725   \n2011                     9162               9162            9162   \n2012                    13906              13906           13906   \n2013                    18667              18667           18667   \n2014                    17936              17936           17936   \n2015                    18210              18210           18211   \n2016                    14086              14086           14086   \n2017                     3582               3582            4693   \n2018                        4                  4            1855   \n\n               FaixaEtariaConsumidor  CEPConsumidor  \nAnoCalendario                                        \n2009                            9824              0  \n2010                           11725              0  \n2011                            9162              0  \n2012                           13906              0  \n2013                           18667              0  \n2014                           17936              0  \n2015                           18211              0  \n2016                           14086              0  \n2017                            4702              0  \n2018                            1859              0  ",
      "text/html": "<div>\n<style scoped>\n    .dataframe tbody tr th:only-of-type {\n        vertical-align: middle;\n    }\n\n    .dataframe tbody tr th {\n        vertical-align: top;\n    }\n\n    .dataframe thead th {\n        text-align: right;\n    }\n</style>\n<table border=\"1\" class=\"dataframe\">\n  <thead>\n    <tr style=\"text-align: right;\">\n      <th></th>\n      <th>DataArquivamento</th>\n      <th>DataAbertura</th>\n      <th>CodigoRegiao</th>\n      <th>Regiao</th>\n      <th>UF</th>\n      <th>strRazaoSocial</th>\n      <th>strNomeFantasia</th>\n      <th>Tipo</th>\n      <th>NumeroCNPJ</th>\n      <th>RadicalCNPJ</th>\n      <th>RazaoSocialRFB</th>\n      <th>NomeFantasiaRFB</th>\n      <th>CNAEPrincipal</th>\n      <th>DescCNAEPrincipal</th>\n      <th>Atendida</th>\n      <th>CodigoAssunto</th>\n      <th>DescricaoAssunto</th>\n      <th>CodigoProblema</th>\n      <th>DescricaoProblema</th>\n      <th>SexoConsumidor</th>\n      <th>FaixaEtariaConsumidor</th>\n      <th>CEPConsumidor</th>\n    </tr>\n    <tr>\n      <th>AnoCalendario</th>\n      <th></th>\n      <th></th>\n      <th></th>\n      <th></th>\n      <th></th>\n      <th></th>\n      <th></th>\n      <th></th>\n      <th></th>\n      <th></th>\n      <th></th>\n      <th></th>\n      <th></th>\n      <th></th>\n      <th></th>\n      <th></th>\n      <th></th>\n      <th></th>\n      <th></th>\n      <th></th>\n      <th></th>\n      <th></th>\n    </tr>\n  </thead>\n  <tbody>\n    <tr>\n      <th>2009</th>\n      <td>9824</td>\n      <td>9824</td>\n      <td>9824</td>\n      <td>9824</td>\n      <td>9824</td>\n      <td>9824</td>\n      <td>8025</td>\n      <td>9824</td>\n      <td>9304</td>\n      <td>9297</td>\n      <td>9285</td>\n      <td>4643</td>\n      <td>9285</td>\n      <td>9269</td>\n      <td>9824</td>\n      <td>9824</td>\n      <td>9824</td>\n      <td>9824</td>\n      <td>9824</td>\n      <td>9824</td>\n      <td>9824</td>\n      <td>0</td>\n    </tr>\n    <tr>\n      <th>2010</th>\n      <td>11725</td>\n      <td>11725</td>\n      <td>11725</td>\n      <td>11725</td>\n      <td>11725</td>\n      <td>11725</td>\n      <td>9809</td>\n      <td>11725</td>\n      <td>11175</td>\n      <td>11157</td>\n      <td>11138</td>\n      <td>5696</td>\n      <td>11138</td>\n      <td>10920</td>\n      <td>11725</td>\n      <td>11725</td>\n      <td>11725</td>\n      <td>11725</td>\n      <td>11725</td>\n      <td>11725</td>\n      <td>11725</td>\n      <td>0</td>\n    </tr>\n    <tr>\n      <th>2011</th>\n      <td>9162</td>\n      <td>9162</td>\n      <td>9162</td>\n      <td>9162</td>\n      <td>9162</td>\n      <td>9162</td>\n      <td>7964</td>\n      <td>9162</td>\n      <td>8824</td>\n      <td>8810</td>\n      <td>8798</td>\n      <td>4461</td>\n      <td>8798</td>\n      <td>8614</td>\n      <td>9162</td>\n      <td>9162</td>\n      <td>9162</td>\n      <td>9162</td>\n      <td>9162</td>\n      <td>9162</td>\n      <td>9162</td>\n      <td>0</td>\n    </tr>\n    <tr>\n      <th>2012</th>\n      <td>13906</td>\n      <td>13906</td>\n      <td>13906</td>\n      <td>13906</td>\n      <td>13906</td>\n      <td>13906</td>\n      <td>11661</td>\n      <td>13906</td>\n      <td>13240</td>\n      <td>13162</td>\n      <td>13151</td>\n      <td>6323</td>\n      <td>13151</td>\n      <td>12851</td>\n      <td>13906</td>\n      <td>13906</td>\n      <td>13906</td>\n      <td>13906</td>\n      <td>13906</td>\n      <td>13906</td>\n      <td>13906</td>\n      <td>0</td>\n    </tr>\n    <tr>\n      <th>2013</th>\n      <td>18667</td>\n      <td>18667</td>\n      <td>18667</td>\n      <td>18667</td>\n      <td>18667</td>\n      <td>18667</td>\n      <td>15131</td>\n      <td>18667</td>\n      <td>17996</td>\n      <td>17996</td>\n      <td>17897</td>\n      <td>8798</td>\n      <td>17552</td>\n      <td>17552</td>\n      <td>18667</td>\n      <td>18667</td>\n      <td>18667</td>\n      <td>18667</td>\n      <td>18667</td>\n      <td>18667</td>\n      <td>18667</td>\n      <td>0</td>\n    </tr>\n    <tr>\n      <th>2014</th>\n      <td>17936</td>\n      <td>17936</td>\n      <td>17936</td>\n      <td>17936</td>\n      <td>17936</td>\n      <td>17936</td>\n      <td>15002</td>\n      <td>17936</td>\n      <td>17176</td>\n      <td>17137</td>\n      <td>17045</td>\n      <td>8851</td>\n      <td>17045</td>\n      <td>16769</td>\n      <td>17936</td>\n      <td>17936</td>\n      <td>17936</td>\n      <td>17936</td>\n      <td>17936</td>\n      <td>17936</td>\n      <td>17936</td>\n      <td>0</td>\n    </tr>\n    <tr>\n      <th>2015</th>\n      <td>18211</td>\n      <td>18211</td>\n      <td>18211</td>\n      <td>18211</td>\n      <td>18211</td>\n      <td>18211</td>\n      <td>15148</td>\n      <td>18211</td>\n      <td>17153</td>\n      <td>17153</td>\n      <td>16809</td>\n      <td>8856</td>\n      <td>16809</td>\n      <td>16614</td>\n      <td>18211</td>\n      <td>18211</td>\n      <td>18211</td>\n      <td>18210</td>\n      <td>18210</td>\n      <td>18211</td>\n      <td>18211</td>\n      <td>0</td>\n    </tr>\n    <tr>\n      <th>2016</th>\n      <td>14086</td>\n      <td>14086</td>\n      <td>14086</td>\n      <td>14086</td>\n      <td>14086</td>\n      <td>14086</td>\n      <td>11988</td>\n      <td>14086</td>\n      <td>13289</td>\n      <td>13289</td>\n      <td>12761</td>\n      <td>6688</td>\n      <td>12761</td>\n      <td>12657</td>\n      <td>14086</td>\n      <td>14086</td>\n      <td>14086</td>\n      <td>14086</td>\n      <td>14086</td>\n      <td>14086</td>\n      <td>14086</td>\n      <td>0</td>\n    </tr>\n    <tr>\n      <th>2017</th>\n      <td>4696</td>\n      <td>4696</td>\n      <td>4702</td>\n      <td>4702</td>\n      <td>4702</td>\n      <td>4702</td>\n      <td>4057</td>\n      <td>4702</td>\n      <td>4364</td>\n      <td>4364</td>\n      <td>4093</td>\n      <td>2245</td>\n      <td>4093</td>\n      <td>4062</td>\n      <td>4702</td>\n      <td>4702</td>\n      <td>4702</td>\n      <td>3582</td>\n      <td>3582</td>\n      <td>4693</td>\n      <td>4702</td>\n      <td>0</td>\n    </tr>\n    <tr>\n      <th>2018</th>\n      <td>1858</td>\n      <td>1858</td>\n      <td>1859</td>\n      <td>1859</td>\n      <td>1859</td>\n      <td>1859</td>\n      <td>1560</td>\n      <td>1859</td>\n      <td>1806</td>\n      <td>1797</td>\n      <td>1660</td>\n      <td>861</td>\n      <td>1660</td>\n      <td>1646</td>\n      <td>1859</td>\n      <td>1859</td>\n      <td>1859</td>\n      <td>4</td>\n      <td>4</td>\n      <td>1855</td>\n      <td>1859</td>\n      <td>0</td>\n    </tr>\n  </tbody>\n</table>\n</div>"
     },
     "execution_count": 70,
     "metadata": {},
     "output_type": "execute_result"
    }
   ],
   "source": [
    "df[(df['CEPConsumidor'].isnull())].groupby(\"AnoCalendario\").count()"
   ],
   "metadata": {
    "collapsed": false,
    "pycharm": {
     "name": "#%%\n"
    }
   }
  },
  {
   "cell_type": "markdown",
   "source": [
    "Verificando que o número de CEPs que são vazios é de 120.078 e que isso representa\n",
    " 7,20% da base não é uma perda muito significativa que compromenta o estudo de caso.\n",
    " Dos 7,20%\n",
    "\n",
    " | Ano Calendario | Linhas |\n",
    " |----------------|--------|\n",
    " | 2009           | 9824   |\n",
    " | 2010           | 11725  |\n",
    " | 2011           | 9162   |\n",
    " | 2012           | 13906  |\n",
    " | 2013           | 18667  |\n",
    " | 2014           | 17936  |\n",
    " | 2015           | 18211  |\n",
    " | 2016           | 14086  |\n",
    " | 2017           | 4696   |\n",
    " | 2018           | 1858   |\n"
   ],
   "metadata": {
    "collapsed": false,
    "pycharm": {
     "name": "#%% md\n"
    }
   }
  },
  {
   "cell_type": "code",
   "execution_count": 71,
   "outputs": [],
   "source": [
    "df2 = df.dropna(subset=[\"CEPConsumidor\"])"
   ],
   "metadata": {
    "collapsed": false,
    "pycharm": {
     "name": "#%%\n"
    }
   }
  },
  {
   "cell_type": "code",
   "execution_count": 72,
   "outputs": [
    {
     "name": "stdout",
     "output_type": "stream",
     "text": [
      "Shape of df=(1547983, 23)\n",
      "Number of index levels:1\n",
      "For index level 0,unique values count=268029\n",
      "Columns of df=Index(['AnoCalendario', 'DataArquivamento', 'DataAbertura', 'CodigoRegiao',\n",
      "       'Regiao', 'UF', 'strRazaoSocial', 'strNomeFantasia', 'Tipo',\n",
      "       'NumeroCNPJ', 'RadicalCNPJ', 'RazaoSocialRFB', 'NomeFantasiaRFB',\n",
      "       'CNAEPrincipal', 'DescCNAEPrincipal', 'Atendida', 'CodigoAssunto',\n",
      "       'DescricaoAssunto', 'CodigoProblema', 'DescricaoProblema',\n",
      "       'SexoConsumidor', 'FaixaEtariaConsumidor', 'CEPConsumidor'],\n",
      "      dtype='object')\n",
      "Null count= \n",
      " AnoCalendario                 0\n",
      "DataArquivamento             13\n",
      "DataAbertura                  0\n",
      "CodigoRegiao                  0\n",
      "Regiao                        0\n",
      "UF                            0\n",
      "strRazaoSocial               11\n",
      "strNomeFantasia          248230\n",
      "Tipo                          0\n",
      "NumeroCNPJ                65832\n",
      "RadicalCNPJ               67250\n",
      "RazaoSocialRFB            86491\n",
      "NomeFantasiaRFB          849508\n",
      "CNAEPrincipal             90208\n",
      "DescCNAEPrincipal        106563\n",
      "Atendida                      0\n",
      "CodigoAssunto                 0\n",
      "DescricaoAssunto              0\n",
      "CodigoProblema            44953\n",
      "DescricaoProblema         44953\n",
      "SexoConsumidor              973\n",
      "FaixaEtariaConsumidor         0\n",
      "CEPConsumidor                 0\n",
      "dtype: int64\n",
      "       AnoCalendario         DataArquivamento             DataAbertura  \\\n",
      "count        1547983                  1547970                  1547983   \n",
      "unique            10                   941064                  1232417   \n",
      "top             2014  2015-12-31 00:00:00.000  2015-11-19 00:56:46.000   \n",
      "freq          249828                     1496                      185   \n",
      "\n",
      "       CodigoRegiao   Regiao       UF           strRazaoSocial  \\\n",
      "count       1547983  1547983  1547983                  1547972   \n",
      "unique           10        5       26                   143505   \n",
      "top              03  Sudeste       SP  TELEMAR NORTE LESTE S/A   \n",
      "freq         504076   549039   268530                    22323   \n",
      "\n",
      "       strNomeFantasia     Tipo      NumeroCNPJ RadicalCNPJ  \\\n",
      "count          1299753  1547983         1482151     1480733   \n",
      "unique          100474        2          110707       87816   \n",
      "top                 OI        1  33000118000179    33000118   \n",
      "freq             23094  1544264           20683       35517   \n",
      "\n",
      "                 RazaoSocialRFB NomeFantasiaRFB CNAEPrincipal  \\\n",
      "count                   1461492          698475       1457775   \n",
      "unique                    80995           50377          1007   \n",
      "top     TELEMAR NORTE LESTE S/A              OI       6422100   \n",
      "freq                      35584           70973        146177   \n",
      "\n",
      "                               DescCNAEPrincipal Atendida CodigoAssunto  \\\n",
      "count                                    1441420  1547983       1547983   \n",
      "unique                                       983        2           242   \n",
      "top     BANCOS MÚLTIPLOS, COM CARTEIRA COMERCIAL        S           101   \n",
      "freq                                      146177   969357        183492   \n",
      "\n",
      "                                           DescricaoAssunto CodigoProblema  \\\n",
      "count                                               1547983        1503030   \n",
      "unique                                                  223           2126   \n",
      "top     Telefone ( Convencional, Celular, Interfone, Etc. )            105   \n",
      "freq                                                 183492         280870   \n",
      "\n",
      "        DescricaoProblema SexoConsumidor FaixaEtariaConsumidor CEPConsumidor  \n",
      "count             1503030        1547010               1547983       1547983  \n",
      "unique                225              3                     9        289599  \n",
      "top     Produto com vício              F    entre 31 a 40 anos      65000000  \n",
      "freq               241913         817951                359060          7734  \n"
     ]
    }
   ],
   "source": [
    "view_df_stats(df2)"
   ],
   "metadata": {
    "collapsed": false,
    "pycharm": {
     "name": "#%%\n"
    }
   }
  },
  {
   "cell_type": "markdown",
   "source": [
    "Antes da remoção dos CEPs nulos, o ano que possuia mais reclamações\n",
    "era o de 2013 com 268.096 registros,após a remoção passou a ser o\n",
    "de 2014 o que possui mais reclamações com 249.828 registros"
   ],
   "metadata": {
    "collapsed": false
   }
  },
  {
   "cell_type": "markdown",
   "source": [
    "Plot Faixa etária por quantidade de reclamações.\n",
    "https://pandas.pydata.org/docs/reference/api/pandas.DataFrame.plot.bar.html"
   ],
   "metadata": {
    "collapsed": false,
    "pycharm": {
     "name": "#%% md\n"
    }
   }
  },
  {
   "cell_type": "code",
   "execution_count": null,
   "outputs": [],
   "source": [
    "from collections import Counter\n",
    "age_counter = Counter(df['FaixaEtariaConsumidor'])\n",
    "df = pd.DataFrame.from_dict(age_counter, orient='index')\n",
    "df.plot(kind='bar')\n"
   ],
   "metadata": {
    "collapsed": false,
    "pycharm": {
     "name": "#%%\n"
    }
   }
  },
  {
   "cell_type": "code",
   "execution_count": 77,
   "outputs": [],
   "source": [],
   "metadata": {
    "collapsed": false,
    "pycharm": {
     "name": "#%%\n"
    }
   }
  }
 ],
 "metadata": {
  "kernelspec": {
   "name": "pycharm-578a72",
   "language": "python",
   "display_name": "PyCharm (TCC)"
  },
  "language_info": {
   "codemirror_mode": {
    "name": "ipython",
    "version": 2
   },
   "file_extension": ".py",
   "mimetype": "text/x-python",
   "name": "python",
   "nbconvert_exporter": "python",
   "pygments_lexer": "ipython2",
   "version": "2.7.6"
  }
 },
 "nbformat": 4,
 "nbformat_minor": 0
}