{
 "cells": [
  {
   "cell_type": "code",
   "execution_count": 1,
   "metadata": {
    "collapsed": true,
    "pycharm": {
     "is_executing": false
    }
   },
   "outputs": [],
   "source": [
    "import pandas as pd\n",
    "import numpy as np\n",
    "import matplotlib as plt"
   ]
  },
  {
   "cell_type": "markdown",
   "source": [
    "Necessário excluir as 2 últimas linhas do arquivo para evitar 2 linhas nulas."
   ],
   "metadata": {
    "collapsed": false
   }
  },
  {
   "cell_type": "code",
   "execution_count": 2,
   "outputs": [
    {
     "name": "stderr",
     "text": [
      "/home/fabio/dev/anaconda3/envs/Univali/lib/python3.7/site-packages/IPython/core/interactiveshell.py:3063: DtypeWarning: Columns (22) have mixed types.Specify dtype option on import or set low_memory=False.\n",
      "  interactivity=interactivity, compiler=compiler, result=result)\n"
     ],
     "output_type": "stream"
    }
   ],
   "source": [
    "rec2009 = pd.read_csv(\"../data/reclamacoes-fundamentadas-sindec-2009.csv\",header=0,encoding=\"ISO-8859-9\",delimiter=\";\")"
   ],
   "metadata": {
    "collapsed": false,
    "pycharm": {
     "name": "#%%\n",
     "is_executing": false
    }
   }
  },
  {
   "cell_type": "code",
   "execution_count": 3,
   "outputs": [
    {
     "data": {
      "text/plain": "   anocalendario         DataArquivamento             DataAbertura  \\\n0           2009  2009-01-21 15:29:29.000  2005-07-06 08:32:23.000   \n1           2009  2009-05-12 12:05:08.000  2006-01-17 12:10:53.000   \n2           2009  2009-04-23 08:52:31.000  2005-07-06 11:28:47.000   \n3           2009  2009-04-23 08:52:31.000  2005-07-06 11:28:47.000   \n4           2009  2009-07-23 11:57:40.000  2006-01-18 15:35:29.000   \n\n   codigoregiao        regiao  UF  \\\n0             5  Centro-oeste  GO   \n1             3       Sudeste  RJ   \n2             5  Centro-oeste  GO   \n3             5  Centro-oeste  GO   \n4             3       Sudeste  RJ   \n\n                                  strRazaoSocial              strNomeFantasia  \\\n0  CBP SUL - COLCHÕES E ESPUMAS INDUSTRIAIS LTDA                     LIMANSKY   \n1                                      GRADIENTE                          NaN   \n2                             IGL INDÚSTRIA LTDA  ELIDA PONDS INDUSTRIAL LTDA   \n3                 UNILEVER BESTFOODS BRASIL LTDA                     UNILEVER   \n4     EMPRESA BRASILEIRA DE TELECOMUNICAÇÕES S.A             EMBRATEL - LIVRE   \n\n   Tipo    NumeroCNPJ  ...  CNAEPrincipal  \\\n0     1  1.350934e+12  ...      3104700.0   \n1     1  4.318536e+13  ...      2640000.0   \n2     1  3.085759e+12  ...      2063100.0   \n3     1  1.615814e+12  ...      1031700.0   \n4     1  3.353049e+13  ...      6110899.0   \n\n                                   DescCNAEPrincipal Atendida  CodigoAssunto  \\\n0                             FABRICAÇÃO DE COLCHÕES        S            100   \n1  FABRICAÇÃO DE APARELHOS DE RECEPÇÃO, REPRODUÇÃ...        N            146   \n2  FABRICAÇÃO DE COSMÉTICOS, PRODUTOS DE PERFUMAR...        N            224   \n3                  FABRICAÇÃO DE CONSERVAS DE FRUTAS        N            224   \n4  SERVIÇOS DE TELECOMUNICAÇÕES POR FIO NÃO ESPEC...        S            186   \n\n                                    DescricaoAssunto CodigoProblema  \\\n0                                            Colchão            105   \n1                                       Aparelho DVD            107   \n2  Produto Para Uso Veterinário ( Medicamento / S...            177   \n3  Produto Para Uso Veterinário ( Medicamento / S...            177   \n4  Telefonia Fixa ( Plano de Expansão / Compra e ...            143   \n\n                          DescricaoProblema SexoConsumidor  \\\n0       Produto entregue com danos/defeitos              M   \n1  Não entrega/demora na entrega do produto              F   \n2    Presença de sujidades/corpos estranhos              F   \n3    Presença de sujidades/corpos estranhos              F   \n4  Contrato - Rescisão/alteração unilateral              F   \n\n   FaixaEtariaConsumidor CEPConsumidor  \n0     entre 61 a 70 anos   7.46803e+07  \n1     entre 51 a 60 anos   2.35102e+07  \n2     entre 21 a 30 anos    7.4775e+07  \n3     entre 21 a 30 anos    7.4775e+07  \n4     entre 41 a 50 anos   2.07103e+07  \n\n[5 rows x 23 columns]",
      "text/html": "<div>\n<style scoped>\n    .dataframe tbody tr th:only-of-type {\n        vertical-align: middle;\n    }\n\n    .dataframe tbody tr th {\n        vertical-align: top;\n    }\n\n    .dataframe thead th {\n        text-align: right;\n    }\n</style>\n<table border=\"1\" class=\"dataframe\">\n  <thead>\n    <tr style=\"text-align: right;\">\n      <th></th>\n      <th>anocalendario</th>\n      <th>DataArquivamento</th>\n      <th>DataAbertura</th>\n      <th>codigoregiao</th>\n      <th>regiao</th>\n      <th>UF</th>\n      <th>strRazaoSocial</th>\n      <th>strNomeFantasia</th>\n      <th>Tipo</th>\n      <th>NumeroCNPJ</th>\n      <th>...</th>\n      <th>CNAEPrincipal</th>\n      <th>DescCNAEPrincipal</th>\n      <th>Atendida</th>\n      <th>CodigoAssunto</th>\n      <th>DescricaoAssunto</th>\n      <th>CodigoProblema</th>\n      <th>DescricaoProblema</th>\n      <th>SexoConsumidor</th>\n      <th>FaixaEtariaConsumidor</th>\n      <th>CEPConsumidor</th>\n    </tr>\n  </thead>\n  <tbody>\n    <tr>\n      <th>0</th>\n      <td>2009</td>\n      <td>2009-01-21 15:29:29.000</td>\n      <td>2005-07-06 08:32:23.000</td>\n      <td>5</td>\n      <td>Centro-oeste</td>\n      <td>GO</td>\n      <td>CBP SUL - COLCHÕES E ESPUMAS INDUSTRIAIS LTDA</td>\n      <td>LIMANSKY</td>\n      <td>1</td>\n      <td>1.350934e+12</td>\n      <td>...</td>\n      <td>3104700.0</td>\n      <td>FABRICAÇÃO DE COLCHÕES</td>\n      <td>S</td>\n      <td>100</td>\n      <td>Colchão</td>\n      <td>105</td>\n      <td>Produto entregue com danos/defeitos</td>\n      <td>M</td>\n      <td>entre 61 a 70 anos</td>\n      <td>7.46803e+07</td>\n    </tr>\n    <tr>\n      <th>1</th>\n      <td>2009</td>\n      <td>2009-05-12 12:05:08.000</td>\n      <td>2006-01-17 12:10:53.000</td>\n      <td>3</td>\n      <td>Sudeste</td>\n      <td>RJ</td>\n      <td>GRADIENTE</td>\n      <td>NaN</td>\n      <td>1</td>\n      <td>4.318536e+13</td>\n      <td>...</td>\n      <td>2640000.0</td>\n      <td>FABRICAÇÃO DE APARELHOS DE RECEPÇÃO, REPRODUÇÃ...</td>\n      <td>N</td>\n      <td>146</td>\n      <td>Aparelho DVD</td>\n      <td>107</td>\n      <td>Não entrega/demora na entrega do produto</td>\n      <td>F</td>\n      <td>entre 51 a 60 anos</td>\n      <td>2.35102e+07</td>\n    </tr>\n    <tr>\n      <th>2</th>\n      <td>2009</td>\n      <td>2009-04-23 08:52:31.000</td>\n      <td>2005-07-06 11:28:47.000</td>\n      <td>5</td>\n      <td>Centro-oeste</td>\n      <td>GO</td>\n      <td>IGL INDÚSTRIA LTDA</td>\n      <td>ELIDA PONDS INDUSTRIAL LTDA</td>\n      <td>1</td>\n      <td>3.085759e+12</td>\n      <td>...</td>\n      <td>2063100.0</td>\n      <td>FABRICAÇÃO DE COSMÉTICOS, PRODUTOS DE PERFUMAR...</td>\n      <td>N</td>\n      <td>224</td>\n      <td>Produto Para Uso Veterinário ( Medicamento / S...</td>\n      <td>177</td>\n      <td>Presença de sujidades/corpos estranhos</td>\n      <td>F</td>\n      <td>entre 21 a 30 anos</td>\n      <td>7.4775e+07</td>\n    </tr>\n    <tr>\n      <th>3</th>\n      <td>2009</td>\n      <td>2009-04-23 08:52:31.000</td>\n      <td>2005-07-06 11:28:47.000</td>\n      <td>5</td>\n      <td>Centro-oeste</td>\n      <td>GO</td>\n      <td>UNILEVER BESTFOODS BRASIL LTDA</td>\n      <td>UNILEVER</td>\n      <td>1</td>\n      <td>1.615814e+12</td>\n      <td>...</td>\n      <td>1031700.0</td>\n      <td>FABRICAÇÃO DE CONSERVAS DE FRUTAS</td>\n      <td>N</td>\n      <td>224</td>\n      <td>Produto Para Uso Veterinário ( Medicamento / S...</td>\n      <td>177</td>\n      <td>Presença de sujidades/corpos estranhos</td>\n      <td>F</td>\n      <td>entre 21 a 30 anos</td>\n      <td>7.4775e+07</td>\n    </tr>\n    <tr>\n      <th>4</th>\n      <td>2009</td>\n      <td>2009-07-23 11:57:40.000</td>\n      <td>2006-01-18 15:35:29.000</td>\n      <td>3</td>\n      <td>Sudeste</td>\n      <td>RJ</td>\n      <td>EMPRESA BRASILEIRA DE TELECOMUNICAÇÕES S.A</td>\n      <td>EMBRATEL - LIVRE</td>\n      <td>1</td>\n      <td>3.353049e+13</td>\n      <td>...</td>\n      <td>6110899.0</td>\n      <td>SERVIÇOS DE TELECOMUNICAÇÕES POR FIO NÃO ESPEC...</td>\n      <td>S</td>\n      <td>186</td>\n      <td>Telefonia Fixa ( Plano de Expansão / Compra e ...</td>\n      <td>143</td>\n      <td>Contrato - Rescisão/alteração unilateral</td>\n      <td>F</td>\n      <td>entre 41 a 50 anos</td>\n      <td>2.07103e+07</td>\n    </tr>\n  </tbody>\n</table>\n<p>5 rows × 23 columns</p>\n</div>"
     },
     "metadata": {},
     "output_type": "execute_result",
     "execution_count": 3
    }
   ],
   "source": [
    "rec2009.head()"
   ],
   "metadata": {
    "collapsed": false,
    "pycharm": {
     "name": "#%%\n",
     "is_executing": false
    }
   }
  },
  {
   "cell_type": "code",
   "execution_count": 4,
   "outputs": [],
   "source": [
    "def view_df_stats(df):\n",
    "    print(\"Shape of df={}\".format(df.shape))\n",
    "    print(\"Number of index levels:{}\".format(df.index.nlevels))\n",
    "    for i in range(df.index.nlevels):\n",
    "        print(\"For index level {},unique values count={}\".format(i,df.index.get_level_values(i).unique().shape[0]))\n",
    "    print(\"Columns of df={}\".format(df.columns))\n",
    "    print(\"Null count= \\n {}\".format(df.isnull().sum()))\n",
    "    print(df.describe())\n",
    "    "
   ],
   "metadata": {
    "collapsed": false,
    "pycharm": {
     "name": "#%%\n",
     "is_executing": false
    }
   }
  },
  {
   "cell_type": "code",
   "execution_count": 5,
   "outputs": [
    {
     "name": "stdout",
     "text": [
      "Shape of df=(104867, 23)\n",
      "Number of index levels:1\n",
      "For index level 0,unique values count=104867\n",
      "Columns of df=Index(['anocalendario', 'DataArquivamento', 'DataAbertura', 'codigoregiao',\n",
      "       'regiao', 'UF', 'strRazaoSocial', 'strNomeFantasia', 'Tipo',\n",
      "       'NumeroCNPJ', 'radicalCNPJ', 'RazaoSocialRFB', 'NomeFantasiaRFB',\n",
      "       'CNAEPrincipal', 'DescCNAEPrincipal', 'Atendida', 'CodigoAssunto',\n",
      "       'DescricaoAssunto', 'CodigoProblema', 'DescricaoProblema',\n",
      "       'SexoConsumidor', 'FaixaEtariaConsumidor', 'CEPConsumidor'],\n",
      "      dtype='object')\n",
      "Null count= \n",
      " anocalendario                0\n",
      "DataArquivamento             0\n",
      "DataAbertura                 0\n",
      "codigoregiao                 0\n",
      "regiao                       0\n",
      "UF                           0\n",
      "strRazaoSocial               0\n",
      "strNomeFantasia          14317\n",
      "Tipo                         0\n",
      "NumeroCNPJ                5845\n",
      "radicalCNPJ               5920\n",
      "RazaoSocialRFB            6071\n",
      "NomeFantasiaRFB          56766\n",
      "CNAEPrincipal             6071\n",
      "DescCNAEPrincipal         6212\n",
      "Atendida                     0\n",
      "CodigoAssunto                0\n",
      "DescricaoAssunto             0\n",
      "CodigoProblema               0\n",
      "DescricaoProblema            0\n",
      "SexoConsumidor               0\n",
      "FaixaEtariaConsumidor        0\n",
      "CEPConsumidor             9824\n",
      "dtype: int64\n",
      "       anocalendario   codigoregiao           Tipo    NumeroCNPJ  \\\n",
      "count       104867.0  104867.000000  104867.000000  9.902200e+04   \n",
      "mean          2009.0       2.586724       0.998760  2.294795e+13   \n",
      "std              0.0       1.380550       0.035187  2.570242e+13   \n",
      "min           2009.0       1.000000       0.000000  1.910000e+02   \n",
      "25%           2009.0       2.000000       1.000000  2.895912e+12   \n",
      "50%           2009.0       2.000000       1.000000  7.339386e+12   \n",
      "75%           2009.0       3.000000       1.000000  4.043254e+13   \n",
      "max           2009.0       5.000000       1.000000  9.840807e+13   \n",
      "\n",
      "        radicalCNPJ  CNAEPrincipal  CodigoAssunto  CodigoProblema  \n",
      "count  9.894700e+04   9.879600e+04  104867.000000   104867.000000  \n",
      "mean   2.296531e+07   5.270223e+06     119.739499      102.560329  \n",
      "std    2.570442e+07   1.698628e+06      56.607848       44.527005  \n",
      "min    0.000000e+00   1.334990e+05       1.000000        1.000000  \n",
      "25%    2.930076e+06   4.652400e+06      93.000000      102.000000  \n",
      "50%    7.341401e+06   4.757100e+06     101.000000      105.000000  \n",
      "75%    4.043254e+07   6.422100e+06     146.000000      118.000000  \n",
      "max    9.840807e+07   9.609299e+06     288.000000      255.000000  \n"
     ],
     "output_type": "stream"
    }
   ],
   "source": [
    "view_df_stats(rec2009)"
   ],
   "metadata": {
    "collapsed": false,
    "pycharm": {
     "name": "#%%\n",
     "is_executing": false
    }
   }
  },
  {
   "cell_type": "markdown",
   "source": [
    "Plot Faixa etária por quantidade de reclamações.\n",
    "https://pandas.pydata.org/docs/reference/api/pandas.DataFrame.plot.bar.html"
   ],
   "metadata": {
    "collapsed": false,
    "pycharm": {
     "name": "#%% md\n",
     "is_executing": false
    }
   }
  },
  {
   "cell_type": "code",
   "execution_count": 6,
   "outputs": [
    {
     "data": {
      "text/plain": "<matplotlib.axes._subplots.AxesSubplot at 0x7f4a85e8f350>"
     },
     "metadata": {},
     "output_type": "execute_result",
     "execution_count": 6
    },
    {
     "data": {
      "text/plain": "<Figure size 432x288 with 1 Axes>",
      "image/png": "[encoded data removed]"
     },
     "metadata": {
      "needs_background": "light"
     },
     "output_type": "display_data"
    }
   ],
   "source": [
    "from collections import Counter\n",
    "age_counter = Counter(rec2009['FaixaEtariaConsumidor'])\n",
    "df = pd.DataFrame.from_dict(age_counter, orient='index')\n",
    "df.plot(kind='bar')"
   ],
   "metadata": {
    "collapsed": false,
    "pycharm": {
     "name": "#%%\n",
     "is_executing": false
    }
   }
  },
  {
   "cell_type": "code",
   "execution_count": 6,
   "outputs": [],
   "source": [],
   "metadata": {
    "collapsed": false,
    "pycharm": {
     "name": "#%%\n",
     "is_executing": false
    }
   }
  }
 ],
 "metadata": {
  "kernelspec": {
   "display_name": "Python 3",
   "language": "python",
   "name": "python3"
  },
  "language_info": {
   "codemirror_mode": {
    "name": "ipython",
    "version": 2
   },
   "file_extension": ".py",
   "mimetype": "text/x-python",
   "name": "python",
   "nbconvert_exporter": "python",
   "pygments_lexer": "ipython2",
   "version": "2.7.6"
  },
  "pycharm": {
   "stem_cell": {
    "cell_type": "raw",
    "source": [],
    "metadata": {
     "collapsed": false
    }
   }
  }
 },
 "nbformat": 4,
 "nbformat_minor": 0
}