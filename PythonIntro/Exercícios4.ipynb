{
  "nbformat": 4,
  "nbformat_minor": 0,
  "metadata": {
    "colab": {
      "name": "Exercícios4.ipynb",
      "provenance": [],
      "collapsed_sections": [],
      "include_colab_link": true
    },
    "kernelspec": {
      "name": "python3",
      "display_name": "Python 3"
    }
  },
  "cells": [
    {
      "cell_type": "markdown",
      "metadata": {
        "id": "view-in-github",
        "colab_type": "text"
      },
      "source": [
        "<a href=\"https://colab.research.google.com/github/FabioVCoelho/Univali/blob/master/PythonIntro/Exerc%C3%ADcios4.ipynb\" target=\"_parent\"><img src=\"https://colab.research.google.com/assets/colab-badge.svg\" alt=\"Open In Colab\"/></a>"
      ]
    },
    {
      "cell_type": "markdown",
      "metadata": {
        "id": "UKEhTCw1fmA2",
        "colab_type": "text"
      },
      "source": [
        "1.\tBaixe o arquivo `atividade1.txt`, ele contém uma linha para cada aluno em uma classe imaginária. O nome do aluno é a primeira coisa em cada linha, seguida de algumas notas nos exames. O número de notas pode ser diferente para cada aluno.\n",
        "Usando esse arquivo de texto, escreva um programa que imprima os nomes dos alunos que fizeram 6 ou mais exames.\n"
      ]
    },
    {
      "cell_type": "code",
      "metadata": {
        "id": "LH2wf4p1fk_z",
        "colab_type": "code",
        "colab": {
          "base_uri": "https://localhost:8080/",
          "height": 51
        },
        "outputId": "d92e0fc6-2c75-4c33-85e0-6e4f9166445d"
      },
      "source": [
        "def hasMoreThanSixExames(line):\n",
        "  if len(line.split(\" \")) > 6:\n",
        "    return line\n",
        "\n",
        "with open(\"/content/atividade1.txt\") as file:\n",
        "  for line in file:\n",
        "    student = hasMoreThanSixExames(line.strip())\n",
        "    if student is not None:\n",
        "      print(student)"
      ],
      "execution_count": null,
      "outputs": [
        {
          "output_type": "stream",
          "text": [
            "sue 8 22 17 14 32 17 24 21 2 9 11 17\n",
            "grace 12 28 21 45 26 10\n"
          ],
          "name": "stdout"
        }
      ]
    },
    {
      "cell_type": "markdown",
      "metadata": {
        "id": "XX3tgd9hfmha",
        "colab_type": "text"
      },
      "source": [
        "\n",
        "2.\tBaixe o arquivo `atividade2.txt`, ele contém palavras que são emoções em inglês. Faça um programa que crie uma lista chamada emocoesJ que contenha todas as palavras no arquivo que começem com a letra \"j\".\n",
        "\n"
      ]
    },
    {
      "cell_type": "code",
      "metadata": {
        "id": "PfONcRwKeqsW",
        "colab_type": "code",
        "colab": {
          "base_uri": "https://localhost:8080/",
          "height": 34
        },
        "outputId": "b95d4807-c289-42f6-dc54-35c6aaf5a719"
      },
      "source": [
        "def emocoesJ(line):\n",
        "  list_words = line.strip().split(\" \")\n",
        "  words_on_line = []\n",
        "  for word in list_words:\n",
        "    if word.startswith(\"j\") or word.startswith(\"J\"):\n",
        "      words_on_line.append(word)\n",
        "  return words_on_line\n",
        "\n",
        "with open(\"/content/atividade2.txt\") as file:\n",
        "  list_words = []\n",
        "  for line in file:\n",
        "    list_words = list_words + emocoesJ(line)\n",
        "\n",
        "print(list_words)"
      ],
      "execution_count": null,
      "outputs": [
        {
          "output_type": "stream",
          "text": [
            "['joyous', 'jittery', 'jumpy']\n"
          ],
          "name": "stdout"
        }
      ]
    }
  ]
}