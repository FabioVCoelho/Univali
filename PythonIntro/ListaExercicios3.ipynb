{
  "nbformat": 4,
  "nbformat_minor": 0,
  "metadata": {
    "colab": {
      "name": "ListaExercicios3.ipynb",
      "provenance": [],
      "collapsed_sections": [],
      "include_colab_link": true
    },
    "kernelspec": {
      "name": "python3",
      "display_name": "Python 3"
    }
  },
  "cells": [
    {
      "cell_type": "markdown",
      "metadata": {
        "id": "view-in-github",
        "colab_type": "text"
      },
      "source": [
        "<a href=\"https://colab.research.google.com/github/FabioVCoelho/Univali/blob/master/PythonIntro/ListaExercicios3.ipynb\" target=\"_parent\"><img src=\"https://colab.research.google.com/assets/colab-badge.svg\" alt=\"Open In Colab\"/></a>"
      ]
    },
    {
      "cell_type": "markdown",
      "metadata": {
        "id": "XTacSKaoRHqS",
        "colab_type": "text"
      },
      "source": [
        "Escreva uma função chamada `num_teste` que aceite um número como entrada. Se o número for maior que 10, a função retornará `\"Maior que 10.\"` Se o número for menor que 10, a função retornará `\"Menor que 10.\"` Se o número for igual a 10, a função deve retornar `\"Igual a 10.\"`\n"
      ]
    },
    {
      "cell_type": "code",
      "metadata": {
        "id": "SjWGHzNDRDJa",
        "colab_type": "code",
        "colab": {
          "base_uri": "https://localhost:8080/",
          "height": 85
        },
        "outputId": "3c271d10-a20a-4946-b403-38f41c20b0ae"
      },
      "source": [
        "def num_teste(number):\n",
        "  if type(number) is not int:\n",
        "    print(\"Não é um número\")\n",
        "    return\n",
        "  if number > 10:\n",
        "    print(\"Maior que 10.\")\n",
        "  elif number == 10:\n",
        "    print(\"Igual a 10.\")\n",
        "  elif number < 10:\n",
        "    print(\"Menor que 10.\")\n",
        "\n",
        "num_teste(10)\n",
        "num_teste(11)\n",
        "num_teste(9)\n",
        "num_teste(\"10\")"
      ],
      "execution_count": 3,
      "outputs": [
        {
          "output_type": "stream",
          "text": [
            "Igual a 10.\n",
            "Maior que 10.\n",
            "Menor que 10.\n",
            "Não é um número\n"
          ],
          "name": "stdout"
        }
      ]
    },
    {
      "cell_type": "markdown",
      "metadata": {
        "id": "qLUYbccpRHS0",
        "colab_type": "text"
      },
      "source": [
        "2.   Escreva uma função `soma_quadrados(lista)` que calcule a soma dos quadrados dos números na lista lista. Por exemplo, `som_quadrados([2, 3, 4])` deve retornar `4 + 9 + 16`, que é `29`."
      ]
    },
    {
      "cell_type": "code",
      "metadata": {
        "id": "foxXrFK_RGd4",
        "colab_type": "code",
        "colab": {
          "base_uri": "https://localhost:8080/",
          "height": 34
        },
        "outputId": "5bb1ff65-6b01-4d9a-ad57-b41a48295099"
      },
      "source": [
        "def soma_quadrados(lista):\n",
        "  return sum([number**2 for number in lista])\n",
        "\n",
        "print(soma_quadrados([2, 3, 4]))"
      ],
      "execution_count": 41,
      "outputs": [
        {
          "output_type": "stream",
          "text": [
            "29\n"
          ],
          "name": "stdout"
        }
      ]
    },
    {
      "cell_type": "markdown",
      "metadata": {
        "id": "Si4G3nqcRGtp",
        "colab_type": "text"
      },
      "source": [
        "3.   Escreva uma função que retorna o número de dígitos de um inteiro.\n"
      ]
    },
    {
      "cell_type": "code",
      "metadata": {
        "id": "qbT0b0-uRF9B",
        "colab_type": "code",
        "colab": {
          "base_uri": "https://localhost:8080/",
          "height": 34
        },
        "outputId": "da8ada99-0889-4299-a065-82444458bcd0"
      },
      "source": [
        "def digitos_inteiro(inteiro):\n",
        "  return len([x for x in str(inteiro)])\n",
        "\n",
        "print(digitos_inteiro(12345678901234000))"
      ],
      "execution_count": 22,
      "outputs": [
        {
          "output_type": "stream",
          "text": [
            "17\n"
          ],
          "name": "stdout"
        }
      ]
    },
    {
      "cell_type": "markdown",
      "metadata": {
        "id": "xwWgkx-Ho2n-",
        "colab_type": "text"
      },
      "source": [
        "4.   Faça uma função que receba uma string de texto e, começando com um dicionário vazio, faça com que ele tenha como chave as letras do alfabeto e como valor a quantidade de vezes que ela aparece no texto. Cada letra somente deve ser adicionada ao dicionário a primeira vez que ela aparece no texto."
      ]
    },
    {
      "cell_type": "code",
      "metadata": {
        "id": "sSBJblDeo1-M",
        "colab_type": "code",
        "colab": {
          "base_uri": "https://localhost:8080/",
          "height": 34
        },
        "outputId": "62aec1b0-fd38-4104-89ad-9279c0fce547"
      },
      "source": [
        "def soma_vogais(texto):\n",
        "  letras_quantidade = {}\n",
        "  for letra in texto:\n",
        "    if letra in ['a','e','u','i','o']:\n",
        "      if letra in letras_quantidade:\n",
        "        letras_quantidade[letra] += 1\n",
        "      else:\n",
        "        letras_quantidade[letra] = 1\n",
        "  return letras_quantidade\n",
        "\n",
        "resultado_soma_vogais = soma_vogais(\"Lorem Ipsum is simply dummy\")\n",
        "print(resultado_soma_vogais)"
      ],
      "execution_count": 38,
      "outputs": [
        {
          "output_type": "stream",
          "text": [
            "{'o': 1, 'e': 1, 'u': 2, 'i': 2}\n"
          ],
          "name": "stdout"
        }
      ]
    },
    {
      "cell_type": "markdown",
      "metadata": {
        "id": "7wP3Mh6Ko3Hq",
        "colab_type": "text"
      },
      "source": [
        "5.   Faça uma função que receba o dicionário do problema anterior e adicione as vogais que não apareceram no texto com o valor 0.\n"
      ]
    },
    {
      "cell_type": "code",
      "metadata": {
        "id": "0XZckrfQo1bI",
        "colab_type": "code",
        "colab": {
          "base_uri": "https://localhost:8080/",
          "height": 34
        },
        "outputId": "de146ecb-1ec0-4876-c5e8-5a3105df6bc1"
      },
      "source": [
        "def adiciona_vogais_dict(vogais_dict):\n",
        "  for vogal in ['a','e','u','i','o']:\n",
        "    if vogal not in vogais_dict:\n",
        "      vogais_dict[vogal] = 0\n",
        "  return vogais_dict\n",
        "\n",
        "print(adiciona_vogais_dict(resultado_soma_vogais))"
      ],
      "execution_count": 40,
      "outputs": [
        {
          "output_type": "stream",
          "text": [
            "{'o': 1, 'e': 1, 'u': 2, 'i': 2, 'a': 0}\n"
          ],
          "name": "stdout"
        }
      ]
    }
  ]
}