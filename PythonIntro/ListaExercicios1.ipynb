{
  "nbformat": 4,
  "nbformat_minor": 0,
  "metadata": {
    "colab": {
      "name": "ListaExercicios1.ipynb",
      "provenance": [],
      "include_colab_link": true
    },
    "kernelspec": {
      "name": "python3",
      "display_name": "Python 3"
    }
  },
  "cells": [
    {
      "cell_type": "markdown",
      "metadata": {
        "id": "view-in-github",
        "colab_type": "text"
      },
      "source": [
        "<a href=\"https://colab.research.google.com/github/FabioVCoelho/Univali/blob/master/PythonIntro/ListaExercicios1.ipynb\" target=\"_parent\"><img src=\"https://colab.research.google.com/assets/colab-badge.svg\" alt=\"Open In Colab\"/></a>"
      ]
    },
    {
      "cell_type": "markdown",
      "metadata": {
        "id": "O6-6prtnTZiQ",
        "colab_type": "text"
      },
      "source": [
        "1.\tFaça um código que peça um número e então mostre a mensagem: ***O número informado foi [número]***\n",
        "\n",
        "---\n",
        "\n"
      ]
    },
    {
      "cell_type": "code",
      "metadata": {
        "id": "wkbnWbBsTXEa",
        "colab_type": "code",
        "colab": {
          "base_uri": "https://localhost:8080/",
          "height": 51
        },
        "outputId": "71e475d8-ea37-4eaa-cf98-49a7cd2b2a58"
      },
      "source": [
        "numero = int(input(\"Digite um número:\"))\n",
        "print(\"O número digitado foi\", numero)"
      ],
      "execution_count": null,
      "outputs": [
        {
          "output_type": "stream",
          "text": [
            "Digite um número:5\n",
            "O número digitado foi 5\n"
          ],
          "name": "stdout"
        }
      ]
    },
    {
      "cell_type": "markdown",
      "metadata": {
        "id": "ZP5LX_Z_Tbzz",
        "colab_type": "text"
      },
      "source": [
        "2.\tFaça um código que peça dois números e imprima a soma.\n",
        "\n",
        "---\n",
        "\n"
      ]
    },
    {
      "cell_type": "code",
      "metadata": {
        "id": "c13GIwGGTb_V",
        "colab_type": "code",
        "colab": {
          "base_uri": "https://localhost:8080/",
          "height": 51
        },
        "outputId": "956a81b6-b551-439a-f8b3-4c5ba0767794"
      },
      "source": [
        "result = 0\n",
        "numerosStr = input(\"Digite dois ou mais numeros numeros separados por virgula \")\n",
        "numerosArr = numerosStr.split(\",\")\n",
        "for num in numerosArr:\n",
        "  result += int(num)\n",
        "print(result)"
      ],
      "execution_count": null,
      "outputs": [
        {
          "output_type": "stream",
          "text": [
            "Digite dois ou mais numeros numeros separados por virgula 1,2,3,4,5,6,7\n",
            "28\n"
          ],
          "name": "stdout"
        }
      ]
    },
    {
      "cell_type": "markdown",
      "metadata": {
        "id": "o3IhnWCDTcNG",
        "colab_type": "text"
      },
      "source": [
        "3.\tFaça um código que peça as 4 notas bimestrais e mostre a média.\n",
        "\n",
        "\n",
        "---\n",
        "\n",
        "\n"
      ]
    },
    {
      "cell_type": "code",
      "metadata": {
        "id": "nLgsNDYETcVj",
        "colab_type": "code",
        "colab": {
          "base_uri": "https://localhost:8080/",
          "height": 51
        },
        "outputId": "f369f222-5695-4152-9bb4-d250ba1fe0ea"
      },
      "source": [
        "result = 0\n",
        "numerosStr = input(\"Digite as quatro médias separados por virgula \")\n",
        "numerosArr = numerosStr.split(\",\")\n",
        "for num in numerosArr:\n",
        "  result += float(num)\n",
        "print(result/4)"
      ],
      "execution_count": null,
      "outputs": [
        {
          "output_type": "stream",
          "text": [
            "Digite as quatro médias separados por virgula 5.6,4.3,8.7,9\n",
            "6.8999999999999995\n"
          ],
          "name": "stdout"
        }
      ]
    },
    {
      "cell_type": "markdown",
      "metadata": {
        "id": "DOLgufvtTcfo",
        "colab_type": "text"
      },
      "source": [
        "4.\tFaça um código que peça o raio de um círculo, calcule e mostre sua área.\n",
        "\n",
        "---\n",
        "\n"
      ]
    },
    {
      "cell_type": "code",
      "metadata": {
        "id": "Um8z9tFVTcmn",
        "colab_type": "code",
        "colab": {
          "base_uri": "https://localhost:8080/",
          "height": 51
        },
        "outputId": "299311d7-432d-466d-d24f-5dca09607a3e"
      },
      "source": [
        "import math\n",
        "raioStr = input(\"Digite o raio do circulo \")\n",
        "print(math.pow(float(raioStr),2)*math.pi)"
      ],
      "execution_count": null,
      "outputs": [
        {
          "output_type": "stream",
          "text": [
            "Digite o raio do circulo 3\n",
            "28.274333882308138\n"
          ],
          "name": "stdout"
        }
      ]
    },
    {
      "cell_type": "markdown",
      "metadata": {
        "id": "YpKn0sNKTcuS",
        "colab_type": "text"
      },
      "source": [
        "5.\tFaça um código que calcule a área de um quadrado, em seguida mostre o dobro desta área para o usuário.\n",
        "\n",
        "---\n",
        "\n"
      ]
    },
    {
      "cell_type": "code",
      "metadata": {
        "id": "h1eIo-eWTc1Z",
        "colab_type": "code",
        "colab": {
          "base_uri": "https://localhost:8080/",
          "height": 34
        },
        "outputId": "cca97dba-ba7f-4dd9-8545-a3c6989abb9f"
      },
      "source": [
        "def areaQuadrado(lado):\n",
        "  return lado*lado\n",
        "\n",
        "print(areaQuadrado(14) * 2)"
      ],
      "execution_count": null,
      "outputs": [
        {
          "output_type": "stream",
          "text": [
            "392\n"
          ],
          "name": "stdout"
        }
      ]
    },
    {
      "cell_type": "markdown",
      "metadata": {
        "id": "gT-YUAjGTc9q",
        "colab_type": "text"
      },
      "source": [
        "6.\tFaça um código que peça a temperatura em graus Farenheit, transforme e mostre a temperatura em graus Celsius.\n",
        "\n",
        "---\n",
        "\n"
      ]
    },
    {
      "cell_type": "code",
      "metadata": {
        "id": "nvu4WG1BTdEj",
        "colab_type": "code",
        "colab": {
          "base_uri": "https://localhost:8080/",
          "height": 51
        },
        "outputId": "071c1dd0-8588-4320-cdd9-82845edffd0c"
      },
      "source": [
        "tempFarenheit = input(\"Digite a temperatura em Farenheit\")\n",
        "tempCelsius = (float(tempFarenheit) - 32) * 5/9\n",
        "print(tempCelsius)\n"
      ],
      "execution_count": null,
      "outputs": [
        {
          "output_type": "stream",
          "text": [
            "Digite a temperatura em Farenheit32\n",
            "0.0\n"
          ],
          "name": "stdout"
        }
      ]
    },
    {
      "cell_type": "markdown",
      "metadata": {
        "id": "jxN-0ITKTdMB",
        "colab_type": "text"
      },
      "source": [
        "7.\tFaça um código que peça 2 números inteiros e um número real, calcule e mostre:\n",
        "\n",
        "          a.\tO produto do dobro do primeiro com metade do segundo.\n",
        "          b.\tA soma do triplo do primeiro com o terceiro.\n",
        "          c.\tO terceiro elevado ao cubo.\n",
        "\n",
        "---\n",
        "\n",
        "\n"
      ]
    },
    {
      "cell_type": "code",
      "metadata": {
        "id": "PV-PQar8TdTU",
        "colab_type": "code",
        "colab": {
          "base_uri": "https://localhost:8080/",
          "height": 85
        },
        "outputId": "2a571354-b126-4f98-835e-ce25056984ad"
      },
      "source": [
        "numerosStr = input(\"Digite os 3 número sendo os dois primeiros inteiros e um real separados por virgula \")\n",
        "numerosArr = numerosStr.split(\",\")\n",
        "parte_a = (int(numerosArr[0]) * 2)*(int(numerosArr[1]) / 2)\n",
        "parte_b = (int(numerosArr[0]) * 3)+(float(numerosArr[2]) * 3)\n",
        "parte_c = math.pow(float(numerosArr[2]),3)\n",
        "print(\"a) {}\".format(parte_a))\n",
        "print(\"b) {}\".format(parte_b))\n",
        "print(\"c) {}\".format(parte_c))\n"
      ],
      "execution_count": null,
      "outputs": [
        {
          "output_type": "stream",
          "text": [
            "Digite os 3 número sendo os dois primeiros inteiros e um real separados por virgula 4,3,5.3\n",
            "a) 12.0\n",
            "b) 27.9\n",
            "c) 148.87699999999998\n"
          ],
          "name": "stdout"
        }
      ]
    },
    {
      "cell_type": "markdown",
      "metadata": {
        "id": "67n-Qq1_TdcN",
        "colab_type": "text"
      },
      "source": [
        "8.\tJoão Papo-de-Pescador, homem de bem, comprou um microcomputador para controlar o rendimento diário de seu trabalho. Toda vez que ele traz um peso de peixes maior que o estabelecido pelo regulamento de pesca do estado de São Paulo (50 quilos) deve pagar uma multa de R$ 4,00 por quilo excedente. \n",
        "\n",
        "> João precisa que você faça um programa que leia a variável peso (peso de peixes) e calcule o excesso. Gravar na variável excesso a quantidade de quilos além do limite e na variável multa o valor da multa que João deverá pagar. Imprima os dados do programa com as mensagens adequadas.\n",
        "\n",
        "---\n",
        "\n",
        "\n",
        "\n"
      ]
    },
    {
      "cell_type": "code",
      "metadata": {
        "id": "bkYVwijbTdic",
        "colab_type": "code",
        "colab": {
          "base_uri": "https://localhost:8080/",
          "height": 51
        },
        "outputId": "575fa00c-0dc2-4246-adfd-4bb688c9fb37"
      },
      "source": [
        "def preco_do_excesso_de_peso_dos_peixes(peso):\n",
        "  if (peso > 50):\n",
        "    return (peso-50) * 4\n",
        "  return 0\n",
        "\n",
        "peso_peixe = float(input(\"Digite o peso do peixe \"))\n",
        "preco_do_excesso_de_peso_dos_peixes(peso_peixe)"
      ],
      "execution_count": null,
      "outputs": [
        {
          "output_type": "stream",
          "text": [
            "Digite o peso do peixe60\n"
          ],
          "name": "stdout"
        },
        {
          "output_type": "execute_result",
          "data": {
            "text/plain": [
              "40.0"
            ]
          },
          "metadata": {
            "tags": []
          },
          "execution_count": 26
        }
      ]
    },
    {
      "cell_type": "markdown",
      "metadata": {
        "id": "SoP2Yda5Tdp7",
        "colab_type": "text"
      },
      "source": [
        "9.\tFaça um código que pergunte quanto você ganha por hora e o número de horas trabalhadas no mês. Calcule e mostre o total do seu salário no referido mês, sabendo-se que são descontados 11% para o Imposto de Renda, 8% para o INSS e 5% para o sindicato, faça um programa que nos dê:\n",
        "          a.\tSalário bruto.\n",
        "          b.\tQuanto pagou ao INSS.\n",
        "          c.\tQuanto pagou ao sindicato.\n",
        "          d.\tO salário líquido.\n",
        "        \tCalcule os descontos e o salário líquido, conforme abaixo:\n",
        "\t        (+) Salário Bruto\n",
        "\t        (-) IR (11%)\n",
        "\t        (-) INSS (8%)\n",
        "\t        (-) Sindicato (5%)\n",
        "            (=) Salário Liquido\n",
        "\n",
        "Obs.: Salário Bruto - Descontos = Salário Líquido.\n",
        "\n",
        "---\n",
        "\n",
        "\n"
      ]
    },
    {
      "cell_type": "code",
      "metadata": {
        "id": "Z7g8OSiZTdvh",
        "colab_type": "code",
        "colab": {
          "base_uri": "https://localhost:8080/",
          "height": 34
        },
        "outputId": "ad8a365a-2cb3-489a-a842-0b03cc9c9f30"
      },
      "source": [
        "def calcular_salario(ganho_por_hora, horas_trabalhadas):\n",
        "  salario_bruto = horas_trabalhadas * ganho_por_hora\n",
        "  ir = (salario_bruto * 0.11)\n",
        "  inss = (salario_bruto * 0.08)\n",
        "  sindicato = (salario_bruto * 0.05)\n",
        "  return salario_bruto - ir - inss - sindicato\n",
        "\n",
        "print(calcular_salario(5,10))\n",
        "  "
      ],
      "execution_count": null,
      "outputs": [
        {
          "output_type": "stream",
          "text": [
            "38.0\n"
          ],
          "name": "stdout"
        }
      ]
    },
    {
      "cell_type": "markdown",
      "metadata": {
        "id": "UXHbciQzTd1y",
        "colab_type": "text"
      },
      "source": [
        "10.\tFaça um código para uma loja de tintas. O programa deverá pedir o tamanho em metros quadrados da área a ser pintada. Considere que a cobertura da tinta é de 1 litro para cada 3 metros quadrados e que a tinta é vendida em latas de 18 litros, que custam R$80,00. Informe ao usuário a quantidades de latas de tinta a serem compradas e o preço total.\n",
        "\n",
        "---\n",
        "\n"
      ]
    },
    {
      "cell_type": "code",
      "metadata": {
        "id": "_0i3Ae8rTd7J",
        "colab_type": "code",
        "colab": {
          "base_uri": "https://localhost:8080/",
          "height": 51
        },
        "outputId": "8565e858-7ac9-4bfa-841a-63750794cea2"
      },
      "source": [
        "from math import ceil\n",
        "\n",
        "def latas_e_preco(tamanho_em_metros_quadrados):\n",
        "  uma_lata_de_tinta = 18 * 3\n",
        "  quantidade_de_latas = ceil(tamanho_em_metros_quadrados / uma_lata_de_tinta)\n",
        "  return [quantidade_de_latas, quantidade_de_latas * 80]\n",
        "\n",
        "tamanhoStr = input(\"Digite o tamanho em metros quadrados \")\n",
        "response = latas_e_preco(int(tamanhoStr))\n",
        "print(\"Para pintar {} é necessário {} L de tinta e custará R${} reais\".format(tamanhoStr,response[0],response[1]))"
      ],
      "execution_count": null,
      "outputs": [
        {
          "output_type": "stream",
          "text": [
            "Digite o tamanho em metros quadrados 56\n",
            "Para pintar 56 é necessário 2 L de tinta e custará R$160 reais\n"
          ],
          "name": "stdout"
        }
      ]
    },
    {
      "cell_type": "markdown",
      "metadata": {
        "id": "h2kgN89STmdq",
        "colab_type": "text"
      },
      "source": [
        "11.\tFaça um código para uma loja de tintas. O programa deverá pedir o tamanho em metros quadrados da área a ser pintada. Considere que a cobertura da tinta é de 1 litro para cada 6 metros quadrados e que a tinta é vendida em latas de 18 litros, que custam 80 reais ou em galões de 3,6 litros, que custam 25 reais.\n",
        "\n",
        "Informe ao usuário as quantidades de tinta a serem compradas e os respectivos preços em 3 situações:\n",
        "\n",
        "      Comprar apenas latas de 18 litros;\n",
        "      Comprar apenas galões de 3,6 litros;\n",
        "      Misturar latas e galões, de forma que o preço seja o menor. Acrescente 10% de folga e sempre arredonde os valores para cima, isto é, considere latas cheias\n",
        "\n",
        "---\n",
        "\n",
        "\n"
      ]
    },
    {
      "cell_type": "code",
      "metadata": {
        "id": "EMvE4j8DTml2",
        "colab_type": "code",
        "colab": {
          "base_uri": "https://localhost:8080/",
          "height": 85
        },
        "outputId": "9ca2e5ae-0fa1-4380-812b-21e768005a72"
      },
      "source": [
        "from math import ceil\n",
        "\n",
        "def latas_e_preco(tamanho_em_metros_quadrados):\n",
        "  uma_lata_de_tinta = 18 * 6\n",
        "  quantidade_de_latas = ceil(tamanho_em_metros_quadrados / uma_lata_de_tinta)\n",
        "  return [quantidade_de_latas, quantidade_de_latas * 80]\n",
        "\n",
        "def galoes_e_preco(tamanho_em_metros_quadrados):\n",
        "  um_galao_de_tinta = 3.6 * 6\n",
        "  quantidade_de_galoes = ceil(tamanho_em_metros_quadrados / um_galao_de_tinta)\n",
        "  return [quantidade_de_galoes, quantidade_de_galoes * 25]\n",
        "\n",
        "def latas_e_galoes_e_preco(tamanho_em_metros_quadrados):\n",
        "  uma_lata_de_tinta = 18 * 6\n",
        "  um_galoes_de_tinta = 3.6 * 6\n",
        "  litro_maximo_para_compensar_o_galao = 3.6 * 3 * 6\n",
        "  litros = 0\n",
        "  while (tamanho_em_metros_quadrados > litro_maximo_para_compensar_o_galao):\n",
        "    tamanho_em_metros_quadrados -= 18 * 6\n",
        "    litros = litros + 1\n",
        "  quantidade_de_galoes = abs(ceil(tamanho_em_metros_quadrados / um_galoes_de_tinta))\n",
        "  return [litros, quantidade_de_galoes, litros*80 + quantidade_de_galoes*25]\n",
        "\n",
        "\n",
        "tamanhoStr = input(\"Digite o tamanho em metros quadrados \")\n",
        "response = latas_e_preco(int(tamanhoStr))\n",
        "print(\"Para pintar {} metros quadrados somente com latas é necessário {} L de tinta e custará R${} reais\".format(tamanhoStr,response[0],response[1]))\n",
        "response = galoes_e_preco(int(tamanhoStr))\n",
        "print(\"Para pintar {} metros quadrados somente com galoes é necessário {} L de galoes e custará R${} reais\".format(tamanhoStr,response[0],response[1]))\n",
        "response = latas_e_galoes_e_preco(int(tamanhoStr))\n",
        "print(\"Para pintar {} metros quadrados é necessário {} L de tinta, {} L de galoes e custará R${} reais\".format(tamanhoStr,response[0],response[1],response[2]))"
      ],
      "execution_count": null,
      "outputs": [
        {
          "output_type": "stream",
          "text": [
            "Digite o tamanho em metros quadrados 150\n",
            "Para pintar 150 metros quadrados somente com latas é necessário 2 L de tinta e custará R$160 reais\n",
            "Para pintar 150 metros quadrados somente com galoes é necessário 7 L de galoes e custará R$175 reais\n",
            "Para pintar 150 metros quadrados é necessário 1 L de tinta, 2 L de galoes e custará R$130 reais\n"
          ],
          "name": "stdout"
        }
      ]
    },
    {
      "cell_type": "markdown",
      "metadata": {
        "id": "0cFOZODeTmyC",
        "colab_type": "text"
      },
      "source": [
        "12.\tFaça um código que peça o tamanho de um arquivo para download (em MB) e a velocidade de um link de Internet (em Mbps), calcule e informe o tempo aproximado de download do arquivo usando este link (em minutos).\n",
        "\n",
        "---\n",
        "\n"
      ]
    },
    {
      "cell_type": "code",
      "metadata": {
        "id": "d3LnDotLTm_e",
        "colab_type": "code",
        "colab": {
          "base_uri": "https://localhost:8080/",
          "height": 51
        },
        "outputId": "bf75ad66-50ca-4e45-9b01-c23a4a15f004"
      },
      "source": [
        "#1 byte = 8 bits, which means that if the download speed is 1 Mbit/s then you can download 0,125 MB/s.\n",
        "\n",
        "def tempo_download(tamanho_arquivo, velocidade_internet):\n",
        "  arquivo_download = tamanho_arquivo * 8\n",
        "  velocidade_da_internet = velocidade_internet\n",
        "  return (arquivo_download / velocidade_internet) / 60\n",
        "\n",
        "tamanho_arquivo_e_conexao_internet = input(\"Digite o tamanho do arquivo em MB e a velocidade em Mbit/s separados por virgula\")\n",
        "tamanho_arquivo = int(tamanho_arquivo_e_conexao_internet.split(\",\")[0])\n",
        "conexao_internet = int(tamanho_arquivo_e_conexao_internet.split(\",\")[1])\n",
        "\n",
        "print(\"Vai demorar {} min para fazer o download do arquivo\".format(tempo_download(tamanho_arquivo, conexao_internet)))"
      ],
      "execution_count": null,
      "outputs": [
        {
          "output_type": "stream",
          "text": [
            "Digite o tamanho do arquivo em MB e a velocidade em Mbit/s separados por virgula1,1\n",
            "Vai demorar 0.13333333333333333 min para fazer o download do arquivo\n"
          ],
          "name": "stdout"
        }
      ]
    }
  ]
}