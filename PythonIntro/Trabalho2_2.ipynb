{
  "nbformat": 4,
  "nbformat_minor": 0,
  "metadata": {
    "colab": {
      "name": "Trabalho2.2.ipynb",
      "provenance": []
    },
    "kernelspec": {
      "name": "python3",
      "display_name": "Python 3"
    }
  },
  "cells": [
    {
      "cell_type": "markdown",
      "metadata": {
        "id": "JSJcQYK7nyHP"
      },
      "source": [
        "Nome: FÃ¡bio Volkmann Coelho\n",
        "\n",
        "Disciplina: IntroduÃ§Ã£o a Python"
      ]
    },
    {
      "cell_type": "markdown",
      "metadata": {
        "id": "3elNA2zFnhVS"
      },
      "source": [
        "## Foi utilizado o dataset de jogos do kaggle https://www.kaggle.com/gregorut/videogamesales para o trabalho.\n",
        "\n",
        "SerÃ¡ trabalhado somente com as vendas globais dos jogos.\n",
        "\n",
        "SerÃ¡ trabalho com a empresa 'Square Enix'\n",
        "\n",
        "E tambÃ©m com os jogos da 'Square Enix' do ano de 2016\n",
        "\n",
        "Para o groupBy serÃ¡ utilizado a soma do global_sales juntamento com um count para saber quantos jogos daquele ano foram cadastrados na base, portanto a coluna de agrupamento serÃ¡ o ano.\n",
        "\n",
        "Para os filtros e agrupamentos serÃ¡ feito um grÃ¡fico no matplotlib"
      ]
    },
    {
      "cell_type": "code",
      "metadata": {
        "id": "REdnvcWocrag"
      },
      "source": [
        "import pandas as pd\n",
        "import matplotlib.pyplot as plt "
      ],
      "execution_count": null,
      "outputs": []
    },
    {
      "cell_type": "code",
      "metadata": {
        "id": "uGF1-Y-xVggO",
        "outputId": "d4291146-fa21-4e8b-b3a9-c3d2c660c49f",
        "colab": {
          "base_uri": "https://localhost:8080/",
          "height": 204
        }
      },
      "source": [
        "dataset = pd.read_csv(\"/content/drive/My Drive/Colab Notebooks/IntroPython/vgsales.csv\")\n",
        "dataset = dataset.drop(columns=['JP_Sales','EU_Sales','Other_Sales','NA_Sales'])\n",
        "dataset.head()"
      ],
      "execution_count": null,
      "outputs": [
        {
          "output_type": "execute_result",
          "data": {
            "text/html": [
              "<div>\n",
              "<style scoped>\n",
              "    .dataframe tbody tr th:only-of-type {\n",
              "        vertical-align: middle;\n",
              "    }\n",
              "\n",
              "    .dataframe tbody tr th {\n",
              "        vertical-align: top;\n",
              "    }\n",
              "\n",
              "    .dataframe thead th {\n",
              "        text-align: right;\n",
              "    }\n",
              "</style>\n",
              "<table border=\"1\" class=\"dataframe\">\n",
              "  <thead>\n",
              "    <tr style=\"text-align: right;\">\n",
              "      <th></th>\n",
              "      <th>Rank</th>\n",
              "      <th>Name</th>\n",
              "      <th>Platform</th>\n",
              "      <th>Year</th>\n",
              "      <th>Genre</th>\n",
              "      <th>Publisher</th>\n",
              "      <th>Global_Sales</th>\n",
              "    </tr>\n",
              "  </thead>\n",
              "  <tbody>\n",
              "    <tr>\n",
              "      <th>0</th>\n",
              "      <td>1</td>\n",
              "      <td>Wii Sports</td>\n",
              "      <td>Wii</td>\n",
              "      <td>2006.0</td>\n",
              "      <td>Sports</td>\n",
              "      <td>Nintendo</td>\n",
              "      <td>82.74</td>\n",
              "    </tr>\n",
              "    <tr>\n",
              "      <th>1</th>\n",
              "      <td>2</td>\n",
              "      <td>Super Mario Bros.</td>\n",
              "      <td>NES</td>\n",
              "      <td>1985.0</td>\n",
              "      <td>Platform</td>\n",
              "      <td>Nintendo</td>\n",
              "      <td>40.24</td>\n",
              "    </tr>\n",
              "    <tr>\n",
              "      <th>2</th>\n",
              "      <td>3</td>\n",
              "      <td>Mario Kart Wii</td>\n",
              "      <td>Wii</td>\n",
              "      <td>2008.0</td>\n",
              "      <td>Racing</td>\n",
              "      <td>Nintendo</td>\n",
              "      <td>35.82</td>\n",
              "    </tr>\n",
              "    <tr>\n",
              "      <th>3</th>\n",
              "      <td>4</td>\n",
              "      <td>Wii Sports Resort</td>\n",
              "      <td>Wii</td>\n",
              "      <td>2009.0</td>\n",
              "      <td>Sports</td>\n",
              "      <td>Nintendo</td>\n",
              "      <td>33.00</td>\n",
              "    </tr>\n",
              "    <tr>\n",
              "      <th>4</th>\n",
              "      <td>5</td>\n",
              "      <td>Pokemon Red/Pokemon Blue</td>\n",
              "      <td>GB</td>\n",
              "      <td>1996.0</td>\n",
              "      <td>Role-Playing</td>\n",
              "      <td>Nintendo</td>\n",
              "      <td>31.37</td>\n",
              "    </tr>\n",
              "  </tbody>\n",
              "</table>\n",
              "</div>"
            ],
            "text/plain": [
              "   Rank                      Name  ... Publisher  Global_Sales\n",
              "0     1                Wii Sports  ...  Nintendo         82.74\n",
              "1     2         Super Mario Bros.  ...  Nintendo         40.24\n",
              "2     3            Mario Kart Wii  ...  Nintendo         35.82\n",
              "3     4         Wii Sports Resort  ...  Nintendo         33.00\n",
              "4     5  Pokemon Red/Pokemon Blue  ...  Nintendo         31.37\n",
              "\n",
              "[5 rows x 7 columns]"
            ]
          },
          "metadata": {
            "tags": []
          },
          "execution_count": 5
        }
      ]
    },
    {
      "cell_type": "code",
      "metadata": {
        "id": "mKtntpK7XOBb",
        "outputId": "a489e410-ac0d-4640-ec24-d54c3be1e9d6",
        "colab": {
          "base_uri": "https://localhost:8080/",
          "height": 204
        }
      },
      "source": [
        "square_enix = dataset[dataset.Publisher.eq('Square Enix')]\n",
        "square_enix.head()"
      ],
      "execution_count": null,
      "outputs": [
        {
          "output_type": "execute_result",
          "data": {
            "text/html": [
              "<div>\n",
              "<style scoped>\n",
              "    .dataframe tbody tr th:only-of-type {\n",
              "        vertical-align: middle;\n",
              "    }\n",
              "\n",
              "    .dataframe tbody tr th {\n",
              "        vertical-align: top;\n",
              "    }\n",
              "\n",
              "    .dataframe thead th {\n",
              "        text-align: right;\n",
              "    }\n",
              "</style>\n",
              "<table border=\"1\" class=\"dataframe\">\n",
              "  <thead>\n",
              "    <tr style=\"text-align: right;\">\n",
              "      <th></th>\n",
              "      <th>Rank</th>\n",
              "      <th>Name</th>\n",
              "      <th>Platform</th>\n",
              "      <th>Year</th>\n",
              "      <th>Genre</th>\n",
              "      <th>Publisher</th>\n",
              "      <th>Global_Sales</th>\n",
              "    </tr>\n",
              "  </thead>\n",
              "  <tbody>\n",
              "    <tr>\n",
              "      <th>147</th>\n",
              "      <td>148</td>\n",
              "      <td>Final Fantasy XII</td>\n",
              "      <td>PS2</td>\n",
              "      <td>2006.0</td>\n",
              "      <td>Role-Playing</td>\n",
              "      <td>Square Enix</td>\n",
              "      <td>5.95</td>\n",
              "    </tr>\n",
              "    <tr>\n",
              "      <th>169</th>\n",
              "      <td>170</td>\n",
              "      <td>Final Fantasy XIII</td>\n",
              "      <td>PS3</td>\n",
              "      <td>2009.0</td>\n",
              "      <td>Role-Playing</td>\n",
              "      <td>Square Enix</td>\n",
              "      <td>5.36</td>\n",
              "    </tr>\n",
              "    <tr>\n",
              "      <th>180</th>\n",
              "      <td>181</td>\n",
              "      <td>Dragon Quest VIII: Journey of the Cursed King</td>\n",
              "      <td>PS2</td>\n",
              "      <td>2004.0</td>\n",
              "      <td>Role-Playing</td>\n",
              "      <td>Square Enix</td>\n",
              "      <td>5.21</td>\n",
              "    </tr>\n",
              "    <tr>\n",
              "      <th>255</th>\n",
              "      <td>256</td>\n",
              "      <td>Kingdom Hearts II</td>\n",
              "      <td>PS2</td>\n",
              "      <td>2005.0</td>\n",
              "      <td>Role-Playing</td>\n",
              "      <td>Square Enix</td>\n",
              "      <td>4.33</td>\n",
              "    </tr>\n",
              "    <tr>\n",
              "      <th>424</th>\n",
              "      <td>425</td>\n",
              "      <td>Crisis Core: Final Fantasy VII</td>\n",
              "      <td>PSP</td>\n",
              "      <td>2007.0</td>\n",
              "      <td>Role-Playing</td>\n",
              "      <td>Square Enix</td>\n",
              "      <td>3.19</td>\n",
              "    </tr>\n",
              "  </tbody>\n",
              "</table>\n",
              "</div>"
            ],
            "text/plain": [
              "     Rank  ... Global_Sales\n",
              "147   148  ...         5.95\n",
              "169   170  ...         5.36\n",
              "180   181  ...         5.21\n",
              "255   256  ...         4.33\n",
              "424   425  ...         3.19\n",
              "\n",
              "[5 rows x 7 columns]"
            ]
          },
          "metadata": {
            "tags": []
          },
          "execution_count": 95
        }
      ]
    },
    {
      "cell_type": "code",
      "metadata": {
        "id": "o8w3f5KYYcNW",
        "outputId": "1ae62e28-15bc-4e17-95da-2b6aebe8f4ec",
        "colab": {
          "base_uri": "https://localhost:8080/",
          "height": 204
        }
      },
      "source": [
        "dataset[dataset.Year.eq(2016.0)].head()"
      ],
      "execution_count": null,
      "outputs": [
        {
          "output_type": "execute_result",
          "data": {
            "text/html": [
              "<div>\n",
              "<style scoped>\n",
              "    .dataframe tbody tr th:only-of-type {\n",
              "        vertical-align: middle;\n",
              "    }\n",
              "\n",
              "    .dataframe tbody tr th {\n",
              "        vertical-align: top;\n",
              "    }\n",
              "\n",
              "    .dataframe thead th {\n",
              "        text-align: right;\n",
              "    }\n",
              "</style>\n",
              "<table border=\"1\" class=\"dataframe\">\n",
              "  <thead>\n",
              "    <tr style=\"text-align: right;\">\n",
              "      <th></th>\n",
              "      <th>Rank</th>\n",
              "      <th>Name</th>\n",
              "      <th>Platform</th>\n",
              "      <th>Year</th>\n",
              "      <th>Genre</th>\n",
              "      <th>Publisher</th>\n",
              "      <th>Global_Sales</th>\n",
              "    </tr>\n",
              "  </thead>\n",
              "  <tbody>\n",
              "    <tr>\n",
              "      <th>221</th>\n",
              "      <td>222</td>\n",
              "      <td>FIFA 17</td>\n",
              "      <td>PS4</td>\n",
              "      <td>2016.0</td>\n",
              "      <td>Sports</td>\n",
              "      <td>Electronic Arts</td>\n",
              "      <td>4.77</td>\n",
              "    </tr>\n",
              "    <tr>\n",
              "      <th>271</th>\n",
              "      <td>272</td>\n",
              "      <td>Uncharted 4: A Thief's End</td>\n",
              "      <td>PS4</td>\n",
              "      <td>2016.0</td>\n",
              "      <td>Shooter</td>\n",
              "      <td>Sony Computer Entertainment</td>\n",
              "      <td>4.20</td>\n",
              "    </tr>\n",
              "    <tr>\n",
              "      <th>351</th>\n",
              "      <td>352</td>\n",
              "      <td>Tom Clancy's The Division</td>\n",
              "      <td>PS4</td>\n",
              "      <td>2016.0</td>\n",
              "      <td>Shooter</td>\n",
              "      <td>Ubisoft</td>\n",
              "      <td>3.61</td>\n",
              "    </tr>\n",
              "    <tr>\n",
              "      <th>770</th>\n",
              "      <td>772</td>\n",
              "      <td>Far Cry: Primal</td>\n",
              "      <td>PS4</td>\n",
              "      <td>2016.0</td>\n",
              "      <td>Action</td>\n",
              "      <td>Ubisoft</td>\n",
              "      <td>2.13</td>\n",
              "    </tr>\n",
              "    <tr>\n",
              "      <th>845</th>\n",
              "      <td>847</td>\n",
              "      <td>Tom Clancy's The Division</td>\n",
              "      <td>XOne</td>\n",
              "      <td>2016.0</td>\n",
              "      <td>Shooter</td>\n",
              "      <td>Ubisoft</td>\n",
              "      <td>2.01</td>\n",
              "    </tr>\n",
              "  </tbody>\n",
              "</table>\n",
              "</div>"
            ],
            "text/plain": [
              "     Rank  ... Global_Sales\n",
              "221   222  ...         4.77\n",
              "271   272  ...         4.20\n",
              "351   352  ...         3.61\n",
              "770   772  ...         2.13\n",
              "845   847  ...         2.01\n",
              "\n",
              "[5 rows x 7 columns]"
            ]
          },
          "metadata": {
            "tags": []
          },
          "execution_count": 27
        }
      ]
    },
    {
      "cell_type": "code",
      "metadata": {
        "id": "JtAgijNfYogJ",
        "outputId": "fa0ddc6c-0271-4d18-8c63-d42d1ccc9988",
        "colab": {
          "base_uri": "https://localhost:8080/",
          "height": 204
        }
      },
      "source": [
        "dataset_square_enix_ano = dataset[dataset.Publisher.eq('Square Enix') & dataset.Year.eq(2016.0)]\n",
        "dataset_square_enix_ano.head()"
      ],
      "execution_count": null,
      "outputs": [
        {
          "output_type": "execute_result",
          "data": {
            "text/html": [
              "<div>\n",
              "<style scoped>\n",
              "    .dataframe tbody tr th:only-of-type {\n",
              "        vertical-align: middle;\n",
              "    }\n",
              "\n",
              "    .dataframe tbody tr th {\n",
              "        vertical-align: top;\n",
              "    }\n",
              "\n",
              "    .dataframe thead th {\n",
              "        text-align: right;\n",
              "    }\n",
              "</style>\n",
              "<table border=\"1\" class=\"dataframe\">\n",
              "  <thead>\n",
              "    <tr style=\"text-align: right;\">\n",
              "      <th></th>\n",
              "      <th>Rank</th>\n",
              "      <th>Name</th>\n",
              "      <th>Platform</th>\n",
              "      <th>Year</th>\n",
              "      <th>Genre</th>\n",
              "      <th>Publisher</th>\n",
              "      <th>Global_Sales</th>\n",
              "    </tr>\n",
              "  </thead>\n",
              "  <tbody>\n",
              "    <tr>\n",
              "      <th>3221</th>\n",
              "      <td>3223</td>\n",
              "      <td>Dragon Quest Monsters Joker 3</td>\n",
              "      <td>3DS</td>\n",
              "      <td>2016.0</td>\n",
              "      <td>Role-Playing</td>\n",
              "      <td>Square Enix</td>\n",
              "      <td>0.63</td>\n",
              "    </tr>\n",
              "    <tr>\n",
              "      <th>5096</th>\n",
              "      <td>5098</td>\n",
              "      <td>Life is Strange</td>\n",
              "      <td>PS4</td>\n",
              "      <td>2016.0</td>\n",
              "      <td>Adventure</td>\n",
              "      <td>Square Enix</td>\n",
              "      <td>0.37</td>\n",
              "    </tr>\n",
              "    <tr>\n",
              "      <th>5499</th>\n",
              "      <td>5501</td>\n",
              "      <td>Deus Ex: Mankind Divided</td>\n",
              "      <td>PS4</td>\n",
              "      <td>2016.0</td>\n",
              "      <td>Role-Playing</td>\n",
              "      <td>Square Enix</td>\n",
              "      <td>0.33</td>\n",
              "    </tr>\n",
              "    <tr>\n",
              "      <th>5922</th>\n",
              "      <td>5924</td>\n",
              "      <td>Star Ocean 5: Integrity and Faithlessness</td>\n",
              "      <td>PS4</td>\n",
              "      <td>2016.0</td>\n",
              "      <td>Role-Playing</td>\n",
              "      <td>Square Enix</td>\n",
              "      <td>0.30</td>\n",
              "    </tr>\n",
              "    <tr>\n",
              "      <th>5929</th>\n",
              "      <td>5931</td>\n",
              "      <td>Dragon Quest Builders: Revive Alefgard</td>\n",
              "      <td>PSV</td>\n",
              "      <td>2016.0</td>\n",
              "      <td>Role-Playing</td>\n",
              "      <td>Square Enix</td>\n",
              "      <td>0.30</td>\n",
              "    </tr>\n",
              "  </tbody>\n",
              "</table>\n",
              "</div>"
            ],
            "text/plain": [
              "      Rank  ... Global_Sales\n",
              "3221  3223  ...         0.63\n",
              "5096  5098  ...         0.37\n",
              "5499  5501  ...         0.33\n",
              "5922  5924  ...         0.30\n",
              "5929  5931  ...         0.30\n",
              "\n",
              "[5 rows x 7 columns]"
            ]
          },
          "metadata": {
            "tags": []
          },
          "execution_count": 121
        }
      ]
    },
    {
      "cell_type": "code",
      "metadata": {
        "id": "Spb4ttlZZEd2",
        "outputId": "93c4ed27-84a1-4c34-9d1e-448287de0b59",
        "colab": {
          "base_uri": "https://localhost:8080/",
          "height": 204
        }
      },
      "source": [
        "dataset_grouped_by = dataset.groupby('Year')['Global_Sales'].agg(Sum_Global_Sales='sum',Count_Games='count').sort_values(by=['Year']).reset_index()\n",
        "dataset_grouped_by.head()"
      ],
      "execution_count": null,
      "outputs": [
        {
          "output_type": "execute_result",
          "data": {
            "text/html": [
              "<div>\n",
              "<style scoped>\n",
              "    .dataframe tbody tr th:only-of-type {\n",
              "        vertical-align: middle;\n",
              "    }\n",
              "\n",
              "    .dataframe tbody tr th {\n",
              "        vertical-align: top;\n",
              "    }\n",
              "\n",
              "    .dataframe thead th {\n",
              "        text-align: right;\n",
              "    }\n",
              "</style>\n",
              "<table border=\"1\" class=\"dataframe\">\n",
              "  <thead>\n",
              "    <tr style=\"text-align: right;\">\n",
              "      <th></th>\n",
              "      <th>Year</th>\n",
              "      <th>Sum_Global_Sales</th>\n",
              "      <th>Count_Games</th>\n",
              "    </tr>\n",
              "  </thead>\n",
              "  <tbody>\n",
              "    <tr>\n",
              "      <th>0</th>\n",
              "      <td>1980.0</td>\n",
              "      <td>11.38</td>\n",
              "      <td>9</td>\n",
              "    </tr>\n",
              "    <tr>\n",
              "      <th>1</th>\n",
              "      <td>1981.0</td>\n",
              "      <td>35.77</td>\n",
              "      <td>46</td>\n",
              "    </tr>\n",
              "    <tr>\n",
              "      <th>2</th>\n",
              "      <td>1982.0</td>\n",
              "      <td>28.86</td>\n",
              "      <td>36</td>\n",
              "    </tr>\n",
              "    <tr>\n",
              "      <th>3</th>\n",
              "      <td>1983.0</td>\n",
              "      <td>16.79</td>\n",
              "      <td>17</td>\n",
              "    </tr>\n",
              "    <tr>\n",
              "      <th>4</th>\n",
              "      <td>1984.0</td>\n",
              "      <td>50.36</td>\n",
              "      <td>14</td>\n",
              "    </tr>\n",
              "  </tbody>\n",
              "</table>\n",
              "</div>"
            ],
            "text/plain": [
              "     Year  Sum_Global_Sales  Count_Games\n",
              "0  1980.0             11.38            9\n",
              "1  1981.0             35.77           46\n",
              "2  1982.0             28.86           36\n",
              "3  1983.0             16.79           17\n",
              "4  1984.0             50.36           14"
            ]
          },
          "metadata": {
            "tags": []
          },
          "execution_count": 92
        }
      ]
    },
    {
      "cell_type": "code",
      "metadata": {
        "id": "b4NMmN2eb_FJ",
        "outputId": "4d5bc424-6ef9-46b2-dafb-1bbcc5418617",
        "colab": {
          "base_uri": "https://localhost:8080/",
          "height": 295
        }
      },
      "source": [
        "plt.plot(dataset_grouped_by.Year,dataset_grouped_by.Count_Games, label='Quantidade de Jogos', marker=\"o\")\n",
        "plt.title(\"Quantidade de Jogos por ano\")\n",
        "plt.xlabel(\"Anos\")\n",
        "plt.ylabel(\"Quantidade\")\n",
        "plt.show()"
      ],
      "execution_count": null,
      "outputs": [
        {
          "output_type": "display_data",
          "data": {
            "image/png": "[encoded data removed]",
            "text/plain": [
              "<Figure size 432x288 with 1 Axes>"
            ]
          },
          "metadata": {
            "tags": [],
            "needs_background": "light"
          }
        }
      ]
    },
    {
      "cell_type": "code",
      "metadata": {
        "id": "dQPxClMFhXk_"
      },
      "source": [
        "plt.plot(square_enix.Name,square_enix.Global_Sales,'g', marker=\"o\")\n",
        "plt.title(\"Global Sale dos jogos da Square Enix\")\n",
        "plt.xlabel(\"Nome dos Jogos\")\n",
        "plt.xticks(rotation=90)\n",
        "plt.ylabel(\"Vendas no mundo\")\n",
        "\n",
        "\n",
        "N = 200\n",
        "plt.grid()\n",
        "plt.gca().margins(x=0)\n",
        "plt.gcf().canvas.draw()\n",
        "tl = plt.gca().get_xticklabels()\n",
        "maxsize = max([t.get_window_extent().width for t in tl])\n",
        "m = 0.2 # inch margin\n",
        "s = maxsize/plt.gcf().dpi*N+2*m\n",
        "margin = m/plt.gcf().get_size_inches()[0]\n",
        "plt.gcf().subplots_adjust(left=margin, right=1.-margin)\n",
        "plt.gcf().set_size_inches(s, plt.gcf().get_size_inches()[1])\n",
        "\n",
        "\n",
        "plt.show()"
      ],
      "execution_count": null,
      "outputs": []
    },
    {
      "cell_type": "markdown",
      "metadata": {
        "id": "U_ZCDKyJnPgc"
      },
      "source": [
        "## Como o grÃ¡fico ficou muito grande, separei o mesmo em 3 porÃ§Ãµes para mostrar em 3 grÃ¡ficos diferentes"
      ]
    },
    {
      "cell_type": "code",
      "metadata": {
        "id": "kVN1ozUHnOPN"
      },
      "source": [
        "size_square_enix = len(square_enix)\n",
        "portion = int(size_square_enix/3)\n",
        "first_portion = square_enix[:portion]\n",
        "second_portion = square_enix[portion:portion * 2]\n",
        "third_portion = square_enix[portion * 2: size_square_enix]\n",
        "portions = [first_portion, second_portion, third_portion]"
      ],
      "execution_count": null,
      "outputs": []
    },
    {
      "cell_type": "code",
      "metadata": {
        "id": "l6JetrR0mRDv"
      },
      "source": [
        "for portion in portions:\n",
        "  plt.plot(portion.Name,portion.Global_Sales, marker=\"o\", linestyle = 'None')\n",
        "  plt.title(\"Global Sale dos jogos da Square Enix\")\n",
        "  plt.xlabel(\"Nome dos Jogos\")\n",
        "  plt.xticks(rotation=90)\n",
        "  \n",
        "  plt.ylabel(\"Vendas no mundo\")\n",
        "\n",
        "  N = 80\n",
        "  plt.gca().margins(x=0)\n",
        "  plt.gcf().canvas.draw()\n",
        "  tl = plt.gca().get_xticklabels()\n",
        "  maxsize = max([t.get_window_extent().width for t in tl])\n",
        "  m = 0.2 # inch margin\n",
        "  s = maxsize/plt.gcf().dpi*N+2*m\n",
        "  margin = m/plt.gcf().get_size_inches()[0]\n",
        "  plt.gcf().subplots_adjust(left=margin, right=1.-margin)\n",
        "  plt.gcf().set_size_inches(s, plt.gcf().get_size_inches()[1])\n",
        "  plt.show()\n"
      ],
      "execution_count": null,
      "outputs": []
    },
    {
      "cell_type": "code",
      "metadata": {
        "id": "MlwGkDekoXP9",
        "outputId": "ab19049a-1ca1-4f7d-911d-c5c7cd2f98ae",
        "colab": {
          "base_uri": "https://localhost:8080/",
          "height": 581
        }
      },
      "source": [
        "plt.plot(dataset_square_enix_ano.Name,dataset_square_enix_ano.Global_Sales,'g', marker=\"o\", linestyle = 'None')\n",
        "plt.title(\"Global Sale dos jogos da Square Enix\")\n",
        "plt.xlabel(\"Nome dos Jogos\")\n",
        "plt.xticks(rotation=90)\n",
        "plt.ylabel(\"Vendas no mundo\")\n",
        "plt.show()\n"
      ],
      "execution_count": null,
      "outputs": [
        {
          "output_type": "display_data",
          "data": {
            "image/png": "[encoded data removed]",
            "text/plain": [
              "<Figure size 432x288 with 1 Axes>"
            ]
          },
          "metadata": {
            "tags": [],
            "needs_background": "light"
          }
        }
      ]
    },
    {
      "cell_type": "markdown",
      "metadata": {
        "id": "VlTZLizjpQBr"
      },
      "source": [
        "### Verificando pelo grÃ¡fico, existem diversos valores para o mesmo jogo, analisando pelo dataframe, foi analisado que os valores sÃ£o para plataformas diferentes."
      ]
    },
    {
      "cell_type": "code",
      "metadata": {
        "id": "Z8HLs1EUpdml",
        "outputId": "2b00e8df-43fb-4e26-bfb0-2c0ac957dd7f",
        "colab": {
          "base_uri": "https://localhost:8080/",
          "height": 142
        }
      },
      "source": [
        "dataset_square_enix_ano[dataset_square_enix_ano.Name.eq('Life is Strange')]"
      ],
      "execution_count": null,
      "outputs": [
        {
          "output_type": "execute_result",
          "data": {
            "text/html": [
              "<div>\n",
              "<style scoped>\n",
              "    .dataframe tbody tr th:only-of-type {\n",
              "        vertical-align: middle;\n",
              "    }\n",
              "\n",
              "    .dataframe tbody tr th {\n",
              "        vertical-align: top;\n",
              "    }\n",
              "\n",
              "    .dataframe thead th {\n",
              "        text-align: right;\n",
              "    }\n",
              "</style>\n",
              "<table border=\"1\" class=\"dataframe\">\n",
              "  <thead>\n",
              "    <tr style=\"text-align: right;\">\n",
              "      <th></th>\n",
              "      <th>Rank</th>\n",
              "      <th>Name</th>\n",
              "      <th>Platform</th>\n",
              "      <th>Year</th>\n",
              "      <th>Genre</th>\n",
              "      <th>Publisher</th>\n",
              "      <th>Global_Sales</th>\n",
              "    </tr>\n",
              "  </thead>\n",
              "  <tbody>\n",
              "    <tr>\n",
              "      <th>5096</th>\n",
              "      <td>5098</td>\n",
              "      <td>Life is Strange</td>\n",
              "      <td>PS4</td>\n",
              "      <td>2016.0</td>\n",
              "      <td>Adventure</td>\n",
              "      <td>Square Enix</td>\n",
              "      <td>0.37</td>\n",
              "    </tr>\n",
              "    <tr>\n",
              "      <th>10047</th>\n",
              "      <td>10049</td>\n",
              "      <td>Life is Strange</td>\n",
              "      <td>XOne</td>\n",
              "      <td>2016.0</td>\n",
              "      <td>Adventure</td>\n",
              "      <td>Square Enix</td>\n",
              "      <td>0.11</td>\n",
              "    </tr>\n",
              "    <tr>\n",
              "      <th>13562</th>\n",
              "      <td>13564</td>\n",
              "      <td>Life is Strange</td>\n",
              "      <td>PC</td>\n",
              "      <td>2016.0</td>\n",
              "      <td>Adventure</td>\n",
              "      <td>Square Enix</td>\n",
              "      <td>0.04</td>\n",
              "    </tr>\n",
              "  </tbody>\n",
              "</table>\n",
              "</div>"
            ],
            "text/plain": [
              "        Rank             Name Platform  ...      Genre    Publisher Global_Sales\n",
              "5096    5098  Life is Strange      PS4  ...  Adventure  Square Enix         0.37\n",
              "10047  10049  Life is Strange     XOne  ...  Adventure  Square Enix         0.11\n",
              "13562  13564  Life is Strange       PC  ...  Adventure  Square Enix         0.04\n",
              "\n",
              "[3 rows x 7 columns]"
            ]
          },
          "metadata": {
            "tags": []
          },
          "execution_count": 130
        }
      ]
    },
    {
      "cell_type": "markdown",
      "metadata": {
        "id": "4HYE6RvNpphJ"
      },
      "source": [
        "#### Para analisar melhor as vendas dos jogos independentes da plataforma, serÃ¡ feita um groupBy pelo nome dos jogos e serÃ¡ refeito o grÃ¡fico."
      ]
    },
    {
      "cell_type": "code",
      "metadata": {
        "id": "IZkwkoHpppCO",
        "outputId": "d6d09e4b-576c-4828-8f8d-d6fdf57156d6",
        "colab": {
          "base_uri": "https://localhost:8080/",
          "height": 204
        }
      },
      "source": [
        "dataset_square_enix_ano_grouped = dataset_square_enix_ano.groupby('Name')['Global_Sales'].agg(Sum_Global_Sales='sum').reset_index()\n",
        "dataset_square_enix_ano_grouped.head()"
      ],
      "execution_count": null,
      "outputs": [
        {
          "output_type": "execute_result",
          "data": {
            "text/html": [
              "<div>\n",
              "<style scoped>\n",
              "    .dataframe tbody tr th:only-of-type {\n",
              "        vertical-align: middle;\n",
              "    }\n",
              "\n",
              "    .dataframe tbody tr th {\n",
              "        vertical-align: top;\n",
              "    }\n",
              "\n",
              "    .dataframe thead th {\n",
              "        text-align: right;\n",
              "    }\n",
              "</style>\n",
              "<table border=\"1\" class=\"dataframe\">\n",
              "  <thead>\n",
              "    <tr style=\"text-align: right;\">\n",
              "      <th></th>\n",
              "      <th>Name</th>\n",
              "      <th>Sum_Global_Sales</th>\n",
              "    </tr>\n",
              "  </thead>\n",
              "  <tbody>\n",
              "    <tr>\n",
              "      <th>0</th>\n",
              "      <td>Deus Ex: Mankind Divided</td>\n",
              "      <td>0.50</td>\n",
              "    </tr>\n",
              "    <tr>\n",
              "      <th>1</th>\n",
              "      <td>Dragon Quest Builders: Revive Alefgard</td>\n",
              "      <td>0.64</td>\n",
              "    </tr>\n",
              "    <tr>\n",
              "      <th>2</th>\n",
              "      <td>Dragon Quest Heroes II: Twin Kings and the Pro...</td>\n",
              "      <td>0.64</td>\n",
              "    </tr>\n",
              "    <tr>\n",
              "      <th>3</th>\n",
              "      <td>Dragon Quest Monsters Joker 3</td>\n",
              "      <td>0.63</td>\n",
              "    </tr>\n",
              "    <tr>\n",
              "      <th>4</th>\n",
              "      <td>Hitman (2016)</td>\n",
              "      <td>0.05</td>\n",
              "    </tr>\n",
              "  </tbody>\n",
              "</table>\n",
              "</div>"
            ],
            "text/plain": [
              "                                                Name  Sum_Global_Sales\n",
              "0                           Deus Ex: Mankind Divided              0.50\n",
              "1             Dragon Quest Builders: Revive Alefgard              0.64\n",
              "2  Dragon Quest Heroes II: Twin Kings and the Pro...              0.64\n",
              "3                      Dragon Quest Monsters Joker 3              0.63\n",
              "4                                      Hitman (2016)              0.05"
            ]
          },
          "metadata": {
            "tags": []
          },
          "execution_count": 142
        }
      ]
    },
    {
      "cell_type": "code",
      "metadata": {
        "id": "goO1TNVQq2ht",
        "outputId": "84af3a12-5c32-4425-9f5b-1dbf03f0ae92",
        "colab": {
          "base_uri": "https://localhost:8080/",
          "height": 581
        }
      },
      "source": [
        "plt.plot(dataset_square_enix_ano_grouped.Name,dataset_square_enix_ano_grouped.Sum_Global_Sales,'g', marker=\"o\", linestyle = 'None')\n",
        "plt.title(\"Global Sale dos jogos da Square Enix\")\n",
        "plt.xlabel(\"Nome dos Jogos\")\n",
        "plt.xticks(rotation=90)\n",
        "plt.ylabel(\"Vendas no mundo\")\n",
        "plt.show()"
      ],
      "execution_count": null,
      "outputs": [
        {
          "output_type": "display_data",
          "data": {
            "image/png": "[encoded data removed]",
            "text/plain": [
              "<Figure size 432x288 with 1 Axes>"
            ]
          },
          "metadata": {
            "tags": [],
            "needs_background": "light"
          }
        }
      ]
    },
    {
      "cell_type": "markdown",
      "metadata": {
        "id": "jXqCMrqprQ8N"
      },
      "source": [
        "#### Fazendo o agrupamento por nome e somando os valores do Global_Sale foi verificado que os valores de diversos jogos ficaram mais prÃ³ximos ao 'Dragon Quest Monsters Joker 3' que possuia o maior valor entre os jogos da square enix do ano de 2016"
      ]
    }
  ]
}
