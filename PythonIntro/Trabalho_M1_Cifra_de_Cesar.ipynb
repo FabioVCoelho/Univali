{
  "nbformat": 4,
  "nbformat_minor": 0,
  "metadata": {
    "colab": {
      "name": "Trabalho M1 - Cifra de Cesar.ipynb",
      "provenance": [],
      "collapsed_sections": [],
      "mount_file_id": "1odL9lQ78MmkttV7dwdGP5X8bezMYW5d2",
      "authorship_tag": "ABX9TyPMPKFyNo4HaiqficpvMm4Z",
      "include_colab_link": true
    },
    "kernelspec": {
      "name": "python3",
      "display_name": "Python 3"
    }
  },
  "cells": [
    {
      "cell_type": "markdown",
      "metadata": {
        "id": "view-in-github",
        "colab_type": "text"
      },
      "source": [
        "<a href=\"https://colab.research.google.com/github/FabioVCoelho/Univali/blob/master/PythonIntro/Trabalho_M1_Cifra_de_Cesar.ipynb\" target=\"_parent\"><img src=\"https://colab.research.google.com/assets/colab-badge.svg\" alt=\"Open In Colab\"/></a>"
      ]
    },
    {
      "cell_type": "markdown",
      "metadata": {
        "id": "Cu1EJI_fhcrA",
        "colab_type": "text"
      },
      "source": [
        "# Cifra de César\n",
        "\n",
        "### Descrição\n",
        "\n",
        "Em criptografia, a Cifra de César, também conhecida como cifra de troca, código de César ou troca de César, é uma das mais simples e conhecidas técnicas de criptografia. É um tipo de cifra de substituição na qual cada letra do texto é substituída por outra, que se apresenta no alfabeto abaixo dela um número fixo de vezes. Por exemplo, com uma troca de três posições, A seria substituído por D, B se tornaria E, e assim por diante. O nome do método é em homenagem a Júlio César, que o usou para se comunicar com os seus generais.\n"
      ]
    },
    {
      "cell_type": "code",
      "metadata": {
        "id": "HAJsSkn2SE22",
        "colab_type": "code",
        "colab": {}
      },
      "source": [
        "def get_words_as_list(file):\n",
        "  word_list = []\n",
        "  with open(file) as dic_pt:\n",
        "    words = dic_pt.readlines()\n",
        "    for word in words:\n",
        "      word_list.append(word.strip())\n",
        "  return word_list"
      ],
      "execution_count": null,
      "outputs": []
    },
    {
      "cell_type": "code",
      "metadata": {
        "id": "meLp2AcUSqCw",
        "colab_type": "code",
        "colab": {}
      },
      "source": [
        "def decryptWordCesar(word,range,alphabet):\n",
        "  new_word = \"\"\n",
        "  for letter in word:\n",
        "    if letter in alphabet:\n",
        "      position = alphabet.index(letter) + range\n",
        "      if position > len(alphabet) - 1:\n",
        "        position = position - len(alphabet)\n",
        "      new_word += alphabet[position]\n",
        "    else:\n",
        "      new_word = letter\n",
        "  return new_word\n"
      ],
      "execution_count": null,
      "outputs": []
    },
    {
      "cell_type": "code",
      "metadata": {
        "id": "GB_5Arc6Y6Ds",
        "colab_type": "code",
        "colab": {}
      },
      "source": [
        "def decryptPhraseCesar(filename,dictionary,alphabet):\n",
        "  decrypted = {}\n",
        "  with open(filename) as file:\n",
        "    content = file.read()\n",
        "  for i in range(0,len(alphabet) - 1):\n",
        "    decrypted[i] = {\"words\":[], \"on_dict\":0}\n",
        "    for word in content.strip().replace(\"\\n\", \" \").split(\" \"):\n",
        "      word_decrypted = decryptWordCesar(word,i,alphabet)\n",
        "      decrypted[i][\"words\"].append(word_decrypted)\n",
        "      if word_decrypted in dictionary:\n",
        "        decrypted[i][\"on_dict\"] += 1\n",
        "  return \" \".join(sorted(decrypted.items(), key=lambda x: x[1]['on_dict'], reverse=True)[0][1][\"words\"])\n"
      ],
      "execution_count": null,
      "outputs": []
    },
    {
      "cell_type": "code",
      "metadata": {
        "id": "zxW-NMNqaOEo",
        "colab_type": "code",
        "colab": {
          "base_uri": "https://localhost:8080/",
          "height": 54
        },
        "outputId": "9f517692-6e6c-4e04-f34e-a2457f85746c"
      },
      "source": [
        "alfabeto = ['a','b','c','d','e','f','g','h','i','j','k','l','m','n','o','p','q','r','s','t','u','v','w','x','y','z']\n",
        "dictionary_pt = get_words_as_list(\"/content/drive/My Drive/Colab Notebooks/IntroPython/dicionariopt.txt\")\n",
        "filePath = \"/content/drive/My Drive/Colab Notebooks/IntroPython/lagrimas.txt\"\n",
        "print(decryptPhraseCesar(filePath,dictionary_pt,alfabeto))"
      ],
      "execution_count": null,
      "outputs": [
        {
          "output_type": "stream",
          "text": [
            "eu vi coisas que voces nao imaginariam . naves de ataque em chamas ao largo de orion . eu vi -c brilharem na escuridao proximos ao portal de tannhauser . todos esses momentos se perderao no tempo , como lagrimas na chuva . hora de morrer .\n"
          ],
          "name": "stdout"
        }
      ]
    }
  ]
}